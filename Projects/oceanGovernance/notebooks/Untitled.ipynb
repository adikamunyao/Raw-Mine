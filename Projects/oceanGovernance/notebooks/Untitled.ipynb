{
 "cells": [
  {
   "cell_type": "code",
   "execution_count": 26,
   "id": "3ce6fa80-ea68-469d-9104-bb1bf026bbec",
   "metadata": {},
   "outputs": [],
   "source": [
    "from transformers import pipeline"
   ]
  },
  {
   "cell_type": "code",
   "execution_count": 29,
   "id": "d35d4003-6725-4f31-95ab-3d23177c80f5",
   "metadata": {},
   "outputs": [
    {
     "name": "stderr",
     "output_type": "stream",
     "text": [
      "All PyTorch model weights were used when initializing TFBartForConditionalGeneration.\n",
      "\n",
      "All the weights of TFBartForConditionalGeneration were initialized from the PyTorch model.\n",
      "If your task is similar to the task the model of the checkpoint was trained on, you can already use TFBartForConditionalGeneration for predictions without further training.\n"
     ]
    }
   ],
   "source": [
    "summarizer = pipeline(\"summarization\", model=\"facebook/bart-large-cnn\")"
   ]
  },
  {
   "cell_type": "code",
   "execution_count": 30,
   "id": "27a1b8da-7c53-4f5f-9902-8aa62dbb94da",
   "metadata": {},
   "outputs": [],
   "source": [
    "ARTICLE = \"\"\"\"The OECD's jurisdiction is global, encompassing the economic zones of its 38 member countries \n",
    "( The OECD does not have specific authority over maritime zones or territorial waters, but rather, \n",
    "its influence is primarily on key global issues at national, regional and local levels (\"\n",
    "\"\"\""
   ]
  },
  {
   "cell_type": "code",
   "execution_count": 34,
   "id": "db052127-aa9d-498c-a7e5-bf8cc472dac1",
   "metadata": {},
   "outputs": [
    {
     "name": "stdout",
     "output_type": "stream",
     "text": [
      "[{'summary_text': \"The OECD's jurisdiction is global, encompassing the economic zones of its 38 member countries. The OECD does not have specific authority over maritime zones or territorial waters.\"}]\n"
     ]
    }
   ],
   "source": [
    "print(summarizer(ARTICLE, max_length=50, min_length=30, do_sample=True))"
   ]
  },
  {
   "cell_type": "code",
   "execution_count": 35,
   "id": "b738af32-d544-4930-a7c1-a0622b1030fb",
   "metadata": {},
   "outputs": [
    {
     "data": {
      "application/vnd.jupyter.widget-view+json": {
       "model_id": "0aa879abfcab4d46a48a9bce54d5cf82",
       "version_major": 2,
       "version_minor": 0
      },
      "text/plain": [
       "config.json:   0%|          | 0.00/1.21k [00:00<?, ?B/s]"
      ]
     },
     "metadata": {},
     "output_type": "display_data"
    },
    {
     "data": {
      "application/vnd.jupyter.widget-view+json": {
       "model_id": "ef674c4c81db4c2fba54b2add54ab700",
       "version_major": 2,
       "version_minor": 0
      },
      "text/plain": [
       "model.safetensors:   0%|          | 0.00/2.95G [00:00<?, ?B/s]"
      ]
     },
     "metadata": {},
     "output_type": "display_data"
    },
    {
     "name": "stderr",
     "output_type": "stream",
     "text": [
      "All PyTorch model weights were used when initializing TFT5ForConditionalGeneration.\n",
      "\n",
      "All the weights of TFT5ForConditionalGeneration were initialized from the PyTorch model.\n",
      "If your task is similar to the task the model of the checkpoint was trained on, you can already use TFT5ForConditionalGeneration for predictions without further training.\n"
     ]
    },
    {
     "data": {
      "application/vnd.jupyter.widget-view+json": {
       "model_id": "86b4d261ac064463a3f3d1709ab30708",
       "version_major": 2,
       "version_minor": 0
      },
      "text/plain": [
       "spiece.model:   0%|          | 0.00/792k [00:00<?, ?B/s]"
      ]
     },
     "metadata": {},
     "output_type": "display_data"
    },
    {
     "data": {
      "application/vnd.jupyter.widget-view+json": {
       "model_id": "ae8630c74c0246eea542ef093e1657ba",
       "version_major": 2,
       "version_minor": 0
      },
      "text/plain": [
       "tokenizer.json:   0%|          | 0.00/1.39M [00:00<?, ?B/s]"
      ]
     },
     "metadata": {},
     "output_type": "display_data"
    },
    {
     "name": "stderr",
     "output_type": "stream",
     "text": [
      "Your max_length is set to 150, but your input_length is only 61. Since this is a summarization task, where outputs shorter than the input are typically wanted, you might consider decreasing max_length manually, e.g. summarizer('...', max_length=30)\n",
      "WARNING: All log messages before absl::InitializeLog() is called are written to STDERR\n",
      "I0000 00:00:1732794417.916885   10572 service.cc:148] XLA service 0x56177b486a30 initialized for platform Host (this does not guarantee that XLA will be used). Devices:\n",
      "I0000 00:00:1732794417.918963   10572 service.cc:156]   StreamExecutor device (0): Host, Default Version\n",
      "2024-11-28 14:46:58.051448: I tensorflow/compiler/mlir/tensorflow/utils/dump_mlir_util.cc:268] disabling MLIR crash reproducer, set env var `MLIR_CRASH_REPRODUCER_DIRECTORY` to enable.\n",
      "I0000 00:00:1732794418.461087   10572 device_compiler.h:188] Compiled cluster using XLA!  This line is logged at most once for the lifetime of the process.\n"
     ]
    },
    {
     "name": "stdout",
     "output_type": "stream",
     "text": [
      "\"the OECD's jurisdiction is global, encompassing the economic zones of its 38 member countries . oec does not have specific authority over maritime zones or territorial waters . its influence is primarily on key global issues at national, regional and local levels.\n"
     ]
    }
   ],
   "source": [
    "from transformers import pipeline\n",
    "summarizer = pipeline(\"summarization\", model=\"t5-large\")\n",
    "text = ARTICLE\n",
    "summary = summarizer(text, max_length=150, min_length=50, do_sample=False)\n",
    "print(summary[0]['summary_text'])\n"
   ]
  },
  {
   "cell_type": "code",
   "execution_count": 19,
   "id": "0843b36a-dd38-464a-9700-9c884c72c313",
   "metadata": {},
   "outputs": [],
   "source": [
    "import re\n",
    "\n",
    "# Dictionary with categorized terms\n",
    "standard_terms = {\n",
    "    \"Geographical Areas and Zones\": {\n",
    "        \"exclusive economic zone\": \"EEZ\",\n",
    "        \"territorial sea\": \"Territorial Sea\",\n",
    "        \"inland waters\": \"Inland Waters\",\n",
    "        \"continental shelf\": \"Continental Shelf\",\n",
    "        \"high seas\": \"High Seas\",\n",
    "        \"coastal areas\": \"Coastal Areas\",\n",
    "        \"sea areas\": \"Sea Areas\",\n",
    "        \"wetlands\": \"Wetlands\"\n",
    "    },\n",
    "    \"Jurisdiction and Sovereignty\": {\n",
    "        \"national jurisdiction\": \"National Jurisdiction\",\n",
    "        \"sovereignty\": \"Sovereignty\",\n",
    "        \"jurisdictional limits\": \"Jurisdictional Limits\",\n",
    "        \"maritime boundaries\": \"Maritime Boundaries\",\n",
    "        \"political zones\": \"Political Zones\",\n",
    "        \"territories\": \"Territories\"\n",
    "    },\n",
    "    \"Environmental and Ecological Terms\": {\n",
    "        \"marine environment\": \"Marine Environment\",\n",
    "        \"marine habitats\": \"Marine Habitats\",\n",
    "        \"aquatic species\": \"Aquatic Species\",\n",
    "        \"biodiversity\": \"Biodiversity\",\n",
    "        \"land-based ecosystems\": \"Land-based Ecosystems\",\n",
    "        \"forest and wetland habitats\": \"Forest and Wetland Habitats\",\n",
    "        \"climate zones\": \"Climate Zones\"\n",
    "    },\n",
    "    \"International Law and Agreements\": {\n",
    "        \"international seabed area\": \"International Seabed Area\",\n",
    "        \"transnational boundaries\": \"Transnational Boundaries\",\n",
    "        \"member states\": \"Member States\",\n",
    "        \"scientific research areas\": \"Scientific Research Areas\",\n",
    "        \"space exploration zones\": \"Space Exploration Zones\"\n",
    "    },\n",
    "    \"Economic and Trade Zones\": {\n",
    "        \"economic zones\": \"Economic Zones\",\n",
    "        \"trade zones\": \"Trade Zones\",\n",
    "        \"international trade zones\": \"International Trade Zones\",\n",
    "        \"industrial development areas\": \"Industrial Development Areas\",\n",
    "        \"drought-affected areas\": \"Drought-Affected Areas\",\n",
    "        \"sustainable development areas\": \"Sustainable Development Areas\"\n",
    "    },\n",
    "    \"Disaster and Risk Management\": {\n",
    "        \"disaster risk zones\": \"Disaster Risk Zones\",\n",
    "        \"climate systems\": \"Climate Systems\",\n",
    "        \"high-risk areas\": \"High-Risk Areas\",\n",
    "        \"drought-affected areas\": \"Drought-Affected Areas\"\n",
    "    },\n",
    "    \"Space and Satellite Terms\": {\n",
    "        \"satellite orbits\": \"Satellite Orbits\",\n",
    "        \"telecommunication standards\": \"Telecommunication Standards\"\n",
    "    },\n",
    "    \"Human Settlements and Social Terms\": {\n",
    "        \"small island developing states\": \"SIDS\",\n",
    "        \"human settlements\": \"Human Settlements\",\n",
    "        \"migration routes\": \"Migration Routes\",\n",
    "        \"coastal communities\": \"Coastal Communities\"\n",
    "    },\n",
    "    \"Scientific Research and Environmental Management\": {\n",
    "        \"scientific research areas\": \"Scientific Research Areas\",\n",
    "        \"marine biodiversity\": \"Marine Biodiversity\",\n",
    "        \"climate zones\": \"Climate Zones\"\n",
    "    }\n",
    "}\n",
    "\n",
    "# Standardize the text based on the dictionary\n",
    "def standardize_text(text):\n",
    "    # Iterate through each category in the dictionary\n",
    "    for category, terms in standard_terms.items():\n",
    "        # Iterate through each term in the category\n",
    "        for variant, standard in terms.items():\n",
    "            # Replace all variations of a term with its standardized version (case-insensitive)\n",
    "            text = re.sub(r'\\b' + re.escape(variant) + r'\\b', standard, text, flags=re.IGNORECASE)\n",
    "    return text"
   ]
  },
  {
   "cell_type": "code",
   "execution_count": null,
   "id": "fbc3c7c0-1163-4624-8266-240c3ea6aa5b",
   "metadata": {},
   "outputs": [],
   "source": []
  },
  {
   "cell_type": "code",
   "execution_count": 25,
   "id": "0e374a83-c294-4996-960f-710ceb5ff1ba",
   "metadata": {},
   "outputs": [
    {
     "data": {
      "text/plain": [
       "\"The member states' exclusive economic zones (EEZs), territorial seas, and international waters are part of the global jurisdiction. The EEZs are crucial.\""
      ]
     },
     "execution_count": 25,
     "metadata": {},
     "output_type": "execute_result"
    }
   ],
   "source": [
    "# Show the updated data\n",
    "df['Spatial Jurisdiction Cleaned'][0]\n"
   ]
  },
  {
   "cell_type": "code",
   "execution_count": null,
   "id": "ef1ff98c-d3d6-4f16-92de-df42e968b523",
   "metadata": {},
   "outputs": [],
   "source": []
  }
 ],
 "metadata": {
  "kernelspec": {
   "display_name": ".env",
   "language": "python",
   "name": ".env"
  },
  "language_info": {
   "codemirror_mode": {
    "name": "ipython",
    "version": 3
   },
   "file_extension": ".py",
   "mimetype": "text/x-python",
   "name": "python",
   "nbconvert_exporter": "python",
   "pygments_lexer": "ipython3",
   "version": "3.12.2"
  }
 },
 "nbformat": 4,
 "nbformat_minor": 5
}
