{
 "cells": [
  {
   "cell_type": "code",
   "execution_count": null,
   "metadata": {},
   "outputs": [],
   "source": [
    "# Define the categories for analysis\n",
    "categories = {\n",
    "    \"Strategic Planning and Frameworks\": [\"Strategy\", \"Framework\", \"Action Plan\"],\n",
    "    \"Budgeting and Financial Planning\": [\"Budget\", \"Programme\", \"Financial\"],\n",
    "    \"International Agreements and Conventions\": [\"Convention\", \"Agreement\", \"Protocol\", \"Treaty\"],\n",
    "    \"Programmatic and Operational Planning\": [\"Programme\", \"Operational Plan\", \"Work Program\", \"Action Plan\"],\n",
    "    \"Regional Focus and Coordination\": [\"Regional\", \"Sub-commission\"],\n",
    "    \"Monitoring, Reporting, and Evaluation\": [\"Monitor\", \"Reporting\", \"Registry\", \"Evaluation\"],\n",
    "    \"Health, Environmental, and Social Impact\": [\"Health\", \"Environment\", \"Social\", \"Child\", \"Human Rights\"],\n",
    "    \"Sustainable Development and Global Goals\": [\"SDG\", \"Sustainable Development\", \"2030 Agenda\"],\n",
    "    \"Research, Science, and Innovation\": [\"Science\", \"Innovation\", \"Research\", \"Data\"],\n",
    "    \"Legal and Normative Frameworks\": [\"Human Rights\", \"Legal\", \"Norm\", \"Agreement\"],\n",
    "    \"Operational Standards and Regulations\": [\"Standards\", \"Regulation\", \"Technical\"],\n",
    "    \"Humanitarian Aid and Crisis Response\": [\"Crisis\", \"Aid\", \"Humanitarian\", \"Disaster\"]\n",
    "}\n",
    "\n",
    "# Function to categorize strategies\n",
    "def categorize_organization(organization_strategies, categories):\n",
    "    categorized = {category: [] for category in categories}\n",
    "    \n",
    "    for organization, strategies in organization_strategies.items():\n",
    "        for strategy in strategies:\n",
    "            for category, keywords in categories.items():\n",
    "                if any(keyword.lower() in strategy.lower() for keyword in keywords):\n",
    "                    categorized[category].append((organization, strategy))\n",
    "    \n",
    "    return categorized\n",
    "\n",
    "# Categorize the organizations based on their strategies\n",
    "categorized_organizations = categorize_organization(organization_strategies, categories)\n",
    "\n",
    "# Print the categorized organizations\n",
    "for category, orgs in categorized_organizations.items():\n",
    "    print(f\"\\nCategory: {category}\")\n",
    "    for org, strategy in orgs:\n",
    "        print(f\"  - {org}: {strategy}\")"
   ]
  }
 ],
 "metadata": {
  "kernelspec": {
   "display_name": ".env",
   "language": "python",
   "name": ".env"
  },
  "language_info": {
   "name": "python",
   "version": "3.12.2"
  }
 },
 "nbformat": 4,
 "nbformat_minor": 2
}
