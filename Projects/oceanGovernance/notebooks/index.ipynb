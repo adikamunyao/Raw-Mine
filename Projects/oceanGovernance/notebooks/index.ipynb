{
 "cells": [
  {
   "cell_type": "markdown",
   "id": "7d1529d5-d29f-4998-aaf5-6566f245b7aa",
   "metadata": {},
   "source": [
    "## <center> Ocean Governance"
   ]
  },
  {
   "cell_type": "markdown",
   "id": "0113bea7-1193-42ab-ae15-047263eb74c9",
   "metadata": {},
   "source": [
    "### Releveant Libraries"
   ]
  },
  {
   "cell_type": "code",
   "execution_count": null,
   "id": "7a4144c5-757f-47d0-a036-59284037bf37",
   "metadata": {
    "editable": true,
    "slideshow": {
     "slide_type": ""
    },
    "tags": []
   },
   "outputs": [],
   "source": [
    "# set up and tools\n",
    "import pandas as pd"
   ]
  },
  {
   "cell_type": "markdown",
   "id": "4e4e4228-037b-4ffb-a8bf-138484ce4abf",
   "metadata": {},
   "source": [
    "## 1 Data"
   ]
  },
  {
   "cell_type": "markdown",
   "id": "80a3a8c2-266c-42b3-acd5-1053c4046a8d",
   "metadata": {},
   "source": [
    "### 1.1 Load file to data frame"
   ]
  },
  {
   "cell_type": "code",
   "execution_count": null,
   "id": "a803fa9e-64fe-4eba-86a2-7f3bab980b9b",
   "metadata": {
    "editable": true,
    "slideshow": {
     "slide_type": ""
    },
    "tags": []
   },
   "outputs": [],
   "source": [
    "# File path\n",
    "file_path = \"../raw_data/Ocean Governance and ocean economy governance matrix_IGOs.xlsx\"\n",
    "# Load the dataset\n",
    "df = pd.read_excel(file_path, header=[0,1])\n",
    "\n",
    "\n",
    "# Preview the data to check the structure\n",
    "df.head(3)"
   ]
  },
  {
   "cell_type": "markdown",
   "id": "1d82396c-dc53-419a-bbdc-035df9fa5246",
   "metadata": {},
   "source": [
    "### 1.2 Data Cleaning\n",
    "<p>To automate the process of extracting and summarizing the Spatial Jurisdiction text in Python, the follwing will be done. Natural Language Processing (NLP) techniques will help to systematically extract key information such as the geographic scope, boundaries, jurisdictional limits in nautical miles, and relevant references. Below is a step-by-step guide to creating a Python script for this task:</p>"
   ]
  },
  {
   "cell_type": "markdown",
   "id": "d7779ecc-a791-4333-996e-d667d6a5c852",
   "metadata": {},
   "source": [
    "#### 1.2.1 Renaming Columns"
   ]
  },
  {
   "cell_type": "code",
   "execution_count": null,
   "id": "aa8dc5db-a5fb-4282-bb42-79bbc1181965",
   "metadata": {
    "editable": true,
    "slideshow": {
     "slide_type": ""
    },
    "tags": []
   },
   "outputs": [],
   "source": [
    "# Function to rename columns based on provided mapping\n",
    "def rename_columns(df, column_map):\n",
    "    # Flatten the column names into a single-level\n",
    "    df.columns = [column_map.get(col, col) for col in df.columns]\n",
    "    \n",
    "    return df\n",
    "\n",
    "# Define the column mappings (old name -> new name)\n",
    "column_map = {\n",
    "    ('Institutions', 'Unnamed: 0_level_1'): 'Institution',\n",
    "    ('Year', 'Unnamed: 1_level_1'): 'Year',\n",
    "    ('Scale', 'Unnamed: 2_level_1'): 'Scale',\n",
    "    ('Jurisdictional Scope', 'Spatial Jurisdiction'): 'Spatial Jurisdiction',\n",
    "    ('Jurisdictional Scope', 'Subject Matter Jurisdiction'): 'Subject Matter Jurisdiction',\n",
    "    ('Source of Jurisdiction', 'Unnamed: 5_level_1'): 'Source of Jurisdiction',\n",
    "    ('Defined Objectives', 'Unnamed: 6_level_1'): 'Defined Objectives',\n",
    "    ('Strategies', 'Unnamed: 7_level_1'): 'Strategies',\n",
    "    ('Defined inter-institutional Relationship', 'Unnamed: 8_level_1'): 'Inter-institutional Relationship',\n",
    "    ('Practical- Coordination', 'Vertical'): 'Practical Vertical Coordination',\n",
    "    ('Practical- Coordination', 'Horizontal'): 'Practical Horizontal Coordination',\n",
    "    ('Practical- Coordination', 'Horizontal.1'): 'Horizontal Coordination 1',\n",
    "    ('Practical- Coordination', 'Horizontal.2'): 'Horizontal Coordination 2',\n",
    "    ('Practical- Coordination', 'Horizontal.3'): 'Horizontal Coordination 3',\n",
    "    ('Practical- Coordination', 'Horizontal.4'): 'Horizontal Coordination 4',\n",
    "    ('Practical- Coordination', 'Horizontal.5'): 'Horizontal Coordination 5',\n",
    "    ('Practical- Coordination', 'Horizontal.6'): 'Horizontal Coordination 6',\n",
    "    ('Practical- Coordination', 'Horizontal.7'): 'Horizontal Coordination 7',\n",
    "    ('Practical- Coordination', 'Horizontal.8'): 'Horizontal Coordination 8'\n",
    "}\n",
    "\n",
    "# Apply the renaming function\n",
    "df = rename_columns(df, column_map)"
   ]
  },
  {
   "cell_type": "markdown",
   "id": "745f4e59-166b-4c6e-b62b-6f7943fa1c93",
   "metadata": {},
   "source": [
    "#### 1.2.2 Relevant Column"
   ]
  },
  {
   "cell_type": "code",
   "execution_count": null,
   "id": "b02b32e7-663f-457d-b941-8987d2b7d4cb",
   "metadata": {
    "editable": true,
    "slideshow": {
     "slide_type": ""
    },
    "tags": []
   },
   "outputs": [],
   "source": [
    "# Subseting relevant columns\n",
    "new_df = df.iloc[:, :11]\n",
    "\n",
    "# Drop row 48 in place(used in search)\n",
    "new_df.drop(48, axis=0, inplace=True)\n",
    "\n",
    "new_df.tail(3)"
   ]
  },
  {
   "cell_type": "code",
   "execution_count": null,
   "id": "39c4daf0-8c50-4402-bcf8-129eadf7f437",
   "metadata": {
    "editable": true,
    "slideshow": {
     "slide_type": ""
    },
    "tags": []
   },
   "outputs": [],
   "source": [
    "df = new_df.copy(deep=True)"
   ]
  },
  {
   "cell_type": "code",
   "execution_count": null,
   "id": "94924bc3-91c7-41e3-84a6-942c2a28715b",
   "metadata": {},
   "outputs": [],
   "source": [
    "# SAVE THE NEW SHEET\n",
    "with pd.ExcelWriter(file_path, mode='a') as writer:\n",
    "    df.to_excel(writer, sheet_name='Ocean Governance and ocean economy governance')"
   ]
  },
  {
   "cell_type": "code",
   "execution_count": null,
   "id": "93f0dd49-5bcb-4499-a190-5215a5c11aa8",
   "metadata": {},
   "outputs": [],
   "source": [
    "df.head(3)"
   ]
  },
  {
   "cell_type": "markdown",
   "id": "233373d2-5421-4699-a753-4cb2c9246b53",
   "metadata": {},
   "source": [
    "### NLP"
   ]
  },
  {
   "cell_type": "code",
   "execution_count": null,
   "id": "10d7c48b-2944-4fb4-8514-2cb380c6d6ee",
   "metadata": {
    "editable": true,
    "slideshow": {
     "slide_type": ""
    },
    "tags": []
   },
   "outputs": [],
   "source": [
    "import re\n",
    "import spacy\n",
    "import pandas as pd\n",
    "from spacy.matcher import Matcher\n",
    "nlp = en_core_web_sm.load()\n",
    "\n",
    "# Load SpaCy NLP model (ensure the language model is downloaded before running this)\n",
    "# nlp = spacy.load(\"en_core_web_sm\")\n",
    "\n",
    "# Initialize Matcher for boundary terms\n",
    "matcher = Matcher(nlp.vocab)\n",
    "# Example matcher patterns for boundary detection (can be expanded as needed)\n",
    "boundary_patterns = [\n",
    "    {\"label\": \"EEZ\", \"pattern\": [{\"lower\": \"exclusive\"}, {\"lower\": \"economic\"}, {\"lower\": \"zone\"}]},\n",
    "    {\"label\": \"Territorial Seas\", \"pattern\": [{\"lower\": \"territorial\"}, {\"lower\": \"seas\"}]},\n",
    "    {\"label\": \"International Waters\", \"pattern\": [{\"lower\": \"international\"}, {\"lower\": \"waters\"}]},\n",
    "    {\"label\": \"Coastal Areas\", \"pattern\": [{\"lower\": \"coastal\"}, {\"lower\": \"areas\"}]},\n",
    "    {\"label\": \"Inland Waters\", \"pattern\": [{\"lower\": \"inland\"}, {\"lower\": \"waters\"}]},\n",
    "    {\"label\": \"Oceanic Resources\", \"pattern\": [{\"lower\": \"oceanic\"}, {\"lower\": \"resources\"}]},\n",
    "    {\"label\": \"Maritime Safety and Security\", \"pattern\": [{\"lower\": \"maritime\"}, {\"lower\": \"safety\"}, {\"lower\": \"security\"}]},\n",
    "    {\"label\": \"Environmental Protection\", \"pattern\": [{\"lower\": \"environmental\"}, {\"lower\": \"protection\"}]},\n",
    "    {\"label\": \"High Seas\", \"pattern\": [{\"lower\": \"high\"}, {\"lower\": \"seas\"}]},\n",
    "    {\"label\": \"Outer Limits\", \"pattern\": [{\"lower\": \"outer\"}, {\"lower\": \"limits\"}]},\n",
    "    {\"label\": \"Outer Space\", \"pattern\": [{\"lower\": \"outer\"}, {\"lower\": \"space\"}]},\n",
    "    {\"label\": \"Desertification Regions\", \"pattern\": [{\"lower\": \"desertification\"}]},\n",
    "    {\"label\": \"Ocean Space\", \"pattern\": [{\"lower\": \"ocean\"}, {\"lower\": \"space\"}]}\n",
    "]\n",
    "\n",
    "# Add patterns to the matcher\n",
    "for pattern in boundary_patterns:\n",
    "    matcher.add(pattern[\"label\"], [pattern[\"pattern\"]])\n",
    "\n",
    "def extract_geographic_scope(text):\n",
    "    # Convert text to lowercase to ensure case-insensitive matching\n",
    "    text = text.lower()\n",
    "    \n",
    "    # Define patterns for matching different types of geographic scope\n",
    "    global_patterns = [\n",
    "        \"global\", \"covers all countries\", \"entire\", \"all regions\", \"worldwide\", \n",
    "        \"international\", \"across the world\", \"globally\", \"universal\", \"covering all regions\", \n",
    "        \"world’s oceans\", \"all oceans\"\n",
    "    ]\n",
    "    \n",
    "    regional_patterns = [\n",
    "        \"regional\", \"local\", \"subregion\", \"in the region\", \"within the region\", \n",
    "        \"africa\", \"asia\", \"europe\", \"pacific\", \"mediterranean\", \"caribbean\", \n",
    "        \"latin america\", \"middle east\", \"south america\", \"north america\", \n",
    "        \"southeast asia\", \"sub-saharan africa\", \"oceans\", \"desertification\", \"outer space\", \"populations\", \n",
    "        \"coastal\", \"rural\"\n",
    "    ]\n",
    "    \n",
    "    # Check for global scope\n",
    "    if any(pattern in text for pattern in global_patterns):\n",
    "        return \"Global\"\n",
    "    \n",
    "    # Check for regional/local scope\n",
    "    elif any(pattern in text for pattern in regional_patterns):\n",
    "        return \"Regional/Local\"\n",
    "    \n",
    "    # Check for special scopes like \"outer space\", \"oceans\", or \"land-based\"\n",
    "    elif \"outer space\" in text:\n",
    "        return \"Outer Space\"\n",
    "    elif \"oceans\" in text:\n",
    "        return \"Oceans\"\n",
    "    elif \"land-based\" in text or \"desertification\" in text:\n",
    "        return \"Land-based\"\n",
    "\n",
    "    # If no specific scope is found, return \"No Specific\"\n",
    "    return \"No Specific\"\n",
    "\n",
    "# Function to extract specific boundaries mentioned in the jurisdiction text\n",
    "def extract_boundaries(text):\n",
    "    boundaries = []\n",
    "    \n",
    "    # Use SpaCy NLP to detect custom jurisdictional terms\n",
    "    doc = nlp(text)\n",
    "    matches = matcher(doc)\n",
    "    for match_id, start, end in matches:\n",
    "        span = doc[start:end]\n",
    "        boundaries.append(span.text)\n",
    "    \n",
    "    # Match for boundary terms with regex (EEZ, territorial seas, etc.)\n",
    "    if re.search(r'\\bexclusive economic zones?\\b', text, re.IGNORECASE):\n",
    "        boundaries.append(\"Exclusive Economic Zones (EEZs)\")\n",
    "    if re.search(r'\\bterritorial seas?\\b', text, re.IGNORECASE):\n",
    "        boundaries.append(\"Territorial Seas\")\n",
    "    if re.search(r'\\binternational waters?\\b', text, re.IGNORECASE):\n",
    "        boundaries.append(\"International Waters\")\n",
    "    if re.search(r'\\bcoastal areas?\\b', text, re.IGNORECASE):\n",
    "        boundaries.append(\"Coastal Areas\")\n",
    "    if re.search(r'\\binland waters?\\b', text, re.IGNORECASE):\n",
    "        boundaries.append(\"Inland Waters\")\n",
    "    if re.search(r'\\boceanic resources?\\b', text, re.IGNORECASE):\n",
    "        boundaries.append(\"Oceanic Resources\")\n",
    "    if re.search(r'\\bmaritime safety and security\\b', text, re.IGNORECASE):\n",
    "        boundaries.append(\"Maritime Safety and Security\")\n",
    "    if re.search(r'\\benvironmental protection\\b', text, re.IGNORECASE):\n",
    "        boundaries.append(\"Environmental Protection\")\n",
    "    if re.search(r'\\bhigh seas\\b', text, re.IGNORECASE):\n",
    "        boundaries.append(\"High Seas\")\n",
    "    if re.search(r'\\bouter limits\\b', text, re.IGNORECASE):\n",
    "        boundaries.append(\"Outer Limits of National Jurisdiction\")\n",
    "    if re.search(r'\\bouter space\\b', text, re.IGNORECASE):\n",
    "        boundaries.append(\"Outer Space\")\n",
    "    if re.search(r'\\bdesertification\\b', text, re.IGNORECASE):\n",
    "        boundaries.append(\"Desertification Regions\")\n",
    "\n",
    "    # Match distances (e.g., 200 nautical miles, 500 km)\n",
    "    distance_match = re.search(r'(\\d+)\\s*(nautical miles|kilometers|miles|km)', text, re.IGNORECASE)\n",
    "    if distance_match:\n",
    "        boundaries.append(f\"Jurisdiction defined by {distance_match.group(1)} {distance_match.group(2)}\")\n",
    "    \n",
    "    # Fallback if no specific boundaries were found\n",
    "    if \"global\" in text and not boundaries:\n",
    "        boundaries.append(\"Global Jurisdiction (No specific boundaries)\")\n",
    "    \n",
    "    return ', '.join(boundaries) if boundaries else \"Not Specified\"\n",
    "\n",
    "# Function to extract relevant references (URLs, treaties, legal documents)\n",
    "def extract_references(text):\n",
    "    urls = re.findall(r'https?://[^\\s]+', text)\n",
    "    treaties = re.findall(r'\\b(UNCLOS|Paris Agreement|UN Convention on the Law of the Sea|Sustainable Development Goals|SDGs|Basel Convention|Minamata Convention|CBD|CITES|CMS|Outer Space Treaty|Outer Space Law)\\b', text, re.IGNORECASE)\n",
    "    \n",
    "    references = urls + treaties\n",
    "    return ', '.join(references) if references else \"None\"\n",
    "\n",
    "# Combine all extracted information (geographic scope, boundaries, and references) into a structured summary\n",
    "def summarize_spatial_jurisdiction(text):\n",
    "    geographic_scope = extract_geographic_scope(text)\n",
    "    boundaries = extract_boundaries(text)\n",
    "    references = extract_references(text)\n",
    "    return pd.Series([geographic_scope, boundaries, references], \n",
    "                     index=[\"Geographic Scope\", \"Boundaries\", \"References\"])\n",
    "\n",
    "# Apply the summarization to the Spatial Jurisdiction column\n",
    "df[['Geographic Scope', 'Boundaries', 'References']] = df['Spatial Jurisdiction'].apply(summarize_spatial_jurisdiction)\n"
   ]
  },
  {
   "cell_type": "code",
   "execution_count": null,
   "id": "89347a1d-d7ff-49b2-b276-e3f5f4a6bb48",
   "metadata": {},
   "outputs": [],
   "source": [
    "from spatial import SpatialJurisdictionExtractor"
   ]
  },
  {
   "cell_type": "code",
   "execution_count": null,
   "id": "f2f89724-8ddf-430c-b7ac-ca0e16b2a588",
   "metadata": {},
   "outputs": [],
   "source": [
    "extractor = SpatialJurisdictionExtractor()"
   ]
  },
  {
   "cell_type": "code",
   "execution_count": null,
   "id": "99a2cec3-9b9e-469d-875b-cfa846102b1b",
   "metadata": {},
   "outputs": [],
   "source": [
    "# Apply the summarization to the Spatial Jurisdiction column\n",
    "df[['Geographic Scope', 'Boundaries', 'References']] = df['Spatial Jurisdiction'].apply(SpatialJurisdictionExtractor)\n"
   ]
  },
  {
   "cell_type": "code",
   "execution_count": null,
   "id": "d2daa68b-eff5-4f96-bf45-cf54cb187c0c",
   "metadata": {},
   "outputs": [],
   "source": [
    "# Preview the updated DataFrame\n",
    "spatial_df = df[['Institution', 'Spatial Jurisdiction','Geographic Scope', 'Boundaries', 'References']]"
   ]
  },
  {
   "cell_type": "code",
   "execution_count": null,
   "id": "20789321-406c-4673-b163-e911d6133353",
   "metadata": {},
   "outputs": [],
   "source": [
    "spatial_df.info()"
   ]
  },
  {
   "cell_type": "code",
   "execution_count": null,
   "id": "310cabaa-21ee-47af-8156-2c0b9ba48e28",
   "metadata": {
    "editable": true,
    "slideshow": {
     "slide_type": ""
    },
    "tags": []
   },
   "outputs": [],
   "source": [
    "# # Save Spatial df sheet\n",
    "# with pd.ExcelWriter(file_path, mode='a') as writer:\n",
    "#     spatial_df.to_excel(writer, sheet_name='Spatial Jurisdiction')"
   ]
  },
  {
   "cell_type": "code",
   "execution_count": null,
   "id": "5206a600-6823-41b0-8ca9-05cf29eb394d",
   "metadata": {
    "editable": true,
    "slideshow": {
     "slide_type": ""
    },
    "tags": []
   },
   "outputs": [],
   "source": [
    "df['Indicator Presence'][22]"
   ]
  },
  {
   "cell_type": "markdown",
   "id": "f5ce9060-dba6-4056-901d-f68e4e73413e",
   "metadata": {},
   "source": [
    "## Subject Matter Jurisdiction"
   ]
  },
  {
   "cell_type": "code",
   "execution_count": null,
   "id": "c0cf1e6a-e02f-4d45-9fb7-471b5b506b0e",
   "metadata": {
    "editable": true,
    "slideshow": {
     "slide_type": ""
    },
    "tags": []
   },
   "outputs": [],
   "source": [
    "new_df.columns"
   ]
  },
  {
   "cell_type": "code",
   "execution_count": null,
   "id": "ebb31824-c925-48c9-8480-93ed2ae74ee7",
   "metadata": {},
   "outputs": [],
   "source": []
  }
 ],
 "metadata": {
  "kernelspec": {
   "display_name": "Python 3 (ipykernel)",
   "language": "python",
   "name": "python3"
  },
  "language_info": {
   "codemirror_mode": {
    "name": "ipython",
    "version": 3
   },
   "file_extension": ".py",
   "mimetype": "text/x-python",
   "name": "python",
   "nbconvert_exporter": "python",
   "pygments_lexer": "ipython3",
   "version": "3.12.2"
  }
 },
 "nbformat": 4,
 "nbformat_minor": 5
}
