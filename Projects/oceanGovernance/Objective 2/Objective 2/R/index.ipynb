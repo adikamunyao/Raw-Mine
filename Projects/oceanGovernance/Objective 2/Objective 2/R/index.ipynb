{
 "cells": [
  {
   "cell_type": "code",
   "execution_count": 2,
   "id": "49390b03-197f-40f1-adf5-4e892bf7de80",
   "metadata": {},
   "outputs": [
    {
     "name": "stderr",
     "output_type": "stream",
     "text": [
      "Updating HTML index of packages in '.Library'\n",
      "\n",
      "Making 'packages.html' ...\n",
      " done\n",
      "\n"
     ]
    }
   ],
   "source": [
    "install.packages(\"dplyr\")"
   ]
  },
  {
   "cell_type": "code",
   "execution_count": 3,
   "id": "4463b05d-ab50-4814-840d-39b1e6f7de4a",
   "metadata": {},
   "outputs": [
    {
     "name": "stderr",
     "output_type": "stream",
     "text": [
      "Updating HTML index of packages in '.Library'\n",
      "\n",
      "Making 'packages.html' ...\n",
      " done\n",
      "\n"
     ]
    }
   ],
   "source": [
    "install.packages(\"tidyr\")"
   ]
  },
  {
   "cell_type": "code",
   "execution_count": 4,
   "id": "f6623306-67f3-4aa8-9965-b3f1d11f3676",
   "metadata": {},
   "outputs": [
    {
     "ename": "ERROR",
     "evalue": "Error in data.frame(Institution = c(\"ITU\", \"ICES\", \"ILO\", \"IHO\", \"WBG\", : arguments imply differing number of rows: 48, 38\n",
     "output_type": "error",
     "traceback": [
      "Error in data.frame(Institution = c(\"ITU\", \"ICES\", \"ILO\", \"IHO\", \"WBG\", : arguments imply differing number of rows: 48, 38\nTraceback:\n",
      "1. data.frame(Institution = c(\"ITU\", \"ICES\", \"ILO\", \"IHO\", \"WBG\", \n .     \"IMF\", \"FAO\", \"UNWTO\", \"WMO\", \"IMO Secretariat\", \"WHO\", \"IOM\", \n .     \"UNICEF\", \"IAEA\", \"UNOOSA\", \"IOC\", \"OECD\", \"WFP\", \"UNRISD\", \n .     \"UNCTAD\", \"ITC\", \"UNDP\", \"UNIDO\", \"WIPO\", \"UNFPA\", \"Ramsar\", \n .     \"UNEP\", \"UNU\", \"CITES\", \"IFAD\", \"UN-Habitat\", \"CMS\", \"IPCC\", \n .     \"UN DOALOS\", \"UNFCCC\", \"CBD\", \"OHCHR\", \"ISA\", \"UNOPS\", \"UNCCD\", \n .     \"WTO\", \"UNODC\", \"UNDRR\", \"UN Global Compact\", \"UN-Women\", \n .     \"IPBES\", \"BRS\", \"Minamata\"), Jurisdiction = c(\"No direct jurisdiction\", \n .     \"Territorial Seas, Archipelagic Waters, Contiguous Zone, EEZ, Continental Shelf\", \n .     \"Internal Waters, Territorial Seas, Archipelagic Waters, Contiguous Zone, EEZ, Continental Shelf, High Seas\", \n .     \"Internal Waters, Territorial Seas, Archipelagic Waters, Contiguous Zone, EEZ, Continental Shelf, High Seas\", \n .     \"No direct jurisdiction\", \"No direct jurisdiction\", \"Internal Waters, Territorial Seas, Archipelagic Waters, Contiguous Zone, EEZ, Continental Shelf, High Seas\", \n .     \"No direct jurisdiction\", \"No direct jurisdiction\", \"Internal Waters, Territorial Seas, Archipelagic Waters, Contiguous Zone, EEZ, Continental Shelf, High Seas\", \n .     \"No direct jurisdiction\", \"No direct jurisdiction\", \"No direct jurisdiction\", \n .     \"No direct jurisdiction\", \"No direct jurisdiction\", \"Territorial Seas, Archipelagic Waters, Contiguous Zone, EEZ, Continental Shelf, High Seas, The Area\", \n .     \"No direct jurisdiction\", \"No direct jurisdiction\", \"No direct jurisdiction\", \n .     \"No direct jurisdiction\", \"No direct jurisdiction\", \"Internal Waters, Territorial Seas, Archipelagic Waters, Contiguous Zone, EEZ, Continental Shelf\", \n .     \"No direct jurisdiction\", \"No direct jurisdiction\", \"No direct jurisdiction\", \n .     \"No direct jurisdiction\", \"Territorial Seas, Archipelagic Waters, Contiguous Zone, EEZ, Continental Shelf, High Seas, The Area\", \n .     \"No direct jurisdiction\", \"Internal Waters, Territorial Seas, Archipelagic Waters, Contiguous Zone, EEZ, Continental Shelf, High Seas\", \n .     \"No direct jurisdiction\", \"The Area\", \"No direct jurisdiction\", \n .     \"No direct jurisdiction\", \"No direct jurisdiction\", \"No direct jurisdiction\", \n .     \"No direct jurisdiction\", \"No direct jurisdiction\", \"No direct jurisdiction\"), \n .     stringsAsFactors = FALSE)",
      "2. stop(gettextf(\"arguments imply differing number of rows: %s\", \n .     paste(unique(nrows), collapse = \", \")), domain = NA)"
     ]
    }
   ],
   "source": [
    "# Load necessary libraries\n",
    "library(ggplot2)\n",
    "library(dplyr)\n",
    "library(tidyr)\n",
    "\n",
    "# Data Setup\n",
    "data <- data.frame(\n",
    "  Institution = c(\"ITU\", \"ICES\", \"ILO\", \"IHO\", \"WBG\", \"IMF\", \"FAO\", \"UNWTO\", \"WMO\", \"IMO Secretariat\", \n",
    "                  \"WHO\", \"IOM\", \"UNICEF\", \"IAEA\", \"UNOOSA\", \"IOC\", \"OECD\", \"WFP\", \"UNRISD\", \"UNCTAD\", \n",
    "                  \"ITC\", \"UNDP\", \"UNIDO\", \"WIPO\", \"UNFPA\", \"Ramsar\", \"UNEP\", \"UNU\", \"CITES\", \"IFAD\", \n",
    "                  \"UN-Habitat\", \"CMS\", \"IPCC\", \"UN DOALOS\", \"UNFCCC\", \"CBD\", \"OHCHR\", \"ISA\", \"UNOPS\", \n",
    "                  \"UNCCD\", \"WTO\", \"UNODC\", \"UNDRR\", \"UN Global Compact\", \"UN-Women\", \"IPBES\", \"BRS\", \"Minamata\"),\n",
    "  Jurisdiction = c(\"No direct jurisdiction\", \n",
    "                   \"Territorial Seas, Archipelagic Waters, Contiguous Zone, EEZ, Continental Shelf\", \n",
    "                   \"Internal Waters, Territorial Seas, Archipelagic Waters, Contiguous Zone, EEZ, Continental Shelf, High Seas\",\n",
    "                   \"Internal Waters, Territorial Seas, Archipelagic Waters, Contiguous Zone, EEZ, Continental Shelf, High Seas\",\n",
    "                   \"No direct jurisdiction\", \"No direct jurisdiction\", \n",
    "                   \"Internal Waters, Territorial Seas, Archipelagic Waters, Contiguous Zone, EEZ, Continental Shelf, High Seas\",\n",
    "                   \"No direct jurisdiction\", \"No direct jurisdiction\", \n",
    "                   \"Internal Waters, Territorial Seas, Archipelagic Waters, Contiguous Zone, EEZ, Continental Shelf, High Seas\",\n",
    "                   \"No direct jurisdiction\", \"No direct jurisdiction\", \"No direct jurisdiction\", \n",
    "                   \"No direct jurisdiction\", \"No direct jurisdiction\", \"Territorial Seas, Archipelagic Waters, Contiguous Zone, EEZ, Continental Shelf, High Seas, The Area\",\n",
    "                   \"No direct jurisdiction\", \"No direct jurisdiction\", \"No direct jurisdiction\", \"No direct jurisdiction\", \n",
    "                   \"No direct jurisdiction\", \"Internal Waters, Territorial Seas, Archipelagic Waters, Contiguous Zone, EEZ, Continental Shelf\",\n",
    "                   \"No direct jurisdiction\", \"No direct jurisdiction\", \n",
    "                   \"No direct jurisdiction\", \"No direct jurisdiction\", \"Territorial Seas, Archipelagic Waters, Contiguous Zone, EEZ, Continental Shelf, High Seas, The Area\",\n",
    "                   \"No direct jurisdiction\", \"Internal Waters, Territorial Seas, Archipelagic Waters, Contiguous Zone, EEZ, Continental Shelf, High Seas\",\n",
    "                   \"No direct jurisdiction\", \"The Area\", \"No direct jurisdiction\", \n",
    "                   \"No direct jurisdiction\", \"No direct jurisdiction\", \"No direct jurisdiction\", \n",
    "                   \"No direct jurisdiction\", \"No direct jurisdiction\", \"No direct jurisdiction\"),\n",
    "  stringsAsFactors = FALSE\n",
    ")\n",
    "\n",
    "# Categorize institutions based on jurisdiction\n",
    "data <- data %>%\n",
    "  mutate(\n",
    "    Category = case_when(\n",
    "      grepl(\"The Area\", Jurisdiction) ~ \"Direct Jurisdiction Institutions\",\n",
    "      grepl(\"Internal Waters|Territorial Seas|Archipelagic Waters|Contiguous Zone|EEZ|Continental Shelf|High Seas\", Jurisdiction) ~ \"Broad Jurisdiction Institutions\",\n",
    "      TRUE ~ \"Indirect Influence Institutions\"\n",
    "    )\n",
    "  )\n",
    "\n",
    "# Summarize count of institutions per category\n",
    "summary_data <- data %>%\n",
    "  group_by(Category) %>%\n",
    "  summarise(Count = n()) %>%\n",
    "  ungroup()\n",
    "\n",
    "# Visualizing the distribution of institutions by category\n",
    "ggplot(summary_data, aes(x = Category, y = Count, fill = Category)) +\n",
    "  geom_bar(stat = \"identity\", color = \"black\", show.legend = FALSE) +\n",
    "  theme_minimal() +\n",
    "  labs(title = \"Distribution of Institutions by Spatial Jurisdiction Category\",\n",
    "       x = \"Category of Institutions\",\n",
    "       y = \"Number of Institutions\") +\n",
    "  scale_fill_manual(values = c(\"Direct Jurisdiction Institutions\" = \"skyblue\", \n",
    "                              \"Broad Jurisdiction Institutions\" = \"orange\", \n",
    "                              \"Indirect Influence Institutions\" = \"lightgreen\")) +\n",
    "  theme(axis.text.x = element_text(angle = 45, hjust = 1))\n",
    "\n",
    "# Visualization 2: Heatmap of institutions' jurisdictional overlap\n",
    "data_long <- data %>%\n",
    "  separate_rows(Jurisdiction, sep = \", \") %>%\n",
    "  mutate(Jurisdiction = trimws(Jurisdiction))\n",
    "\n",
    "ggplot(data_long, aes(x = Institution, y = Jurisdiction)) +\n",
    "  geom_tile(aes(fill = \"lightblue\"), color = \"white\") +\n",
    "  theme_minimal() +\n",
    "  theme(axis.text.x = element_text(angle = 90, hjust = 1),\n",
    "        axis.text.y = element_text(size = 7)) +\n",
    "  labs(title = \"Jurisdictional Overlap of Institutions\",\n",
    "       x = \"Institution\", \n",
    "       y = \"Jurisdiction\")\n"
   ]
  },
  {
   "cell_type": "code",
   "execution_count": null,
   "id": "a625c83c-b70f-461a-bc5d-b4818bf822ca",
   "metadata": {},
   "outputs": [],
   "source": []
  }
 ],
 "metadata": {
  "kernelspec": {
   "display_name": "R",
   "language": "R",
   "name": "ir"
  },
  "language_info": {
   "codemirror_mode": "r",
   "file_extension": ".r",
   "mimetype": "text/x-r-source",
   "name": "R",
   "pygments_lexer": "r",
   "version": "4.3.1"
  }
 },
 "nbformat": 4,
 "nbformat_minor": 5
}
