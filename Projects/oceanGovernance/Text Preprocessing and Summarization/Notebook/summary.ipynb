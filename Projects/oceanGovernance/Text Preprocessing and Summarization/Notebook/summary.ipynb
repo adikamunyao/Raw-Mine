{
 "cells": [
  {
   "cell_type": "markdown",
   "id": "a176c829-6fa4-4249-b32a-f9a52257bb01",
   "metadata": {},
   "source": [
    "`Preprocessing Text:`\n",
    "\n",
    "Clean and normalize the text in each cell.\n",
    "Extract key terms using TF-IDF or NER to identify terms related to spatial and subject matter jurisdiction.\n",
    "\n",
    "`Term/Keyword Extraction:`\n",
    "\n",
    "Apply TF-IDF, NER, or other keyword extraction techniques to identify important terms (spatial areas, key objectives, subject areas).\n",
    "\n",
    "`Similarity Analysis:`\n",
    "\n",
    "Build similarity matrices or networks of IGOs based on the extracted keywords.\n",
    "Perform clustering to identify groups of IGOs with similar mandates and jurisdictions.\n",
    "\n",
    "`Visualization:`\n",
    "\n",
    "Create visualizations using network graphs or dimensionality reduction techniques (PCA or t-SNE) to display relationships and clustering of IGOs.\n",
    "\n",
    "`Gap and Overlap Analysis:`\n",
    "\n",
    "Quantify the overlaps and gaps in IGO activities to understand the areas of focus that might need more attention or collaboration."
   ]
  },
  {
   "cell_type": "markdown",
   "id": "8caa044c-b202-4465-a09c-147ea532b617",
   "metadata": {},
   "source": [
    "# Text Preprocessing and Summarization\n",
    "<p>The first step involves cleaning and preprocessing the raw text in the dataset, as discussed earlier. This includes removing irrelevant data, such as URLs, punctuation, and stopwords, and normalizing the text (lowercasing, lemmatization, etc.).</p>\n",
    "\n",
    "<p>The raw text data collected for each IGO contained a variety of non-essential elements, such as URLs, punctuation, and stopwords (commonly used words that do not carry meaningful information). We applied a cleaning process to remove these elements, ensuring that only relevant terms are retained.\n",
    "\n",
    "**Steps Taken:**\n",
    "* $URLs Removal:$ URLs were identified and removed, as they do not contribute to the analysis.\n",
    "* $Punctuation Removal:$ All punctuation marks (e.g., commas, periods, quotation marks) were removed to standardize the text.\n",
    "* $Stopwords Removal:$ Commonly used words, such as \"the\", \"and\", \"is\", \"are\", were removed. These words are frequently encountered in texts but do not add meaningful information to the analysis.\n",
    "* $Lowercasing:$ All text was converted to lowercase to ensure uniformity and avoid differentiating between the same word in different cases (e.g., \"Marine\" vs \"marine\").</p>"
   ]
  },
  {
   "cell_type": "code",
   "execution_count": null,
   "id": "99139505-f87a-4853-b3c7-fdeb02f1f454",
   "metadata": {},
   "outputs": [],
   "source": [
    "# !pip install -U spacy\n",
    "# !python -m spacy download en_core_web_sm\n",
    "# !pip install keybert\n",
    "# !pip install pandas\n",
    "# !pip install flair\n",
    "# !pip install keyphrase-vectorizers"
   ]
  },
  {
   "cell_type": "code",
   "execution_count": 3,
   "id": "886100e6-253f-4dd3-be21-6718b359b66f",
   "metadata": {},
   "outputs": [
    {
     "name": "stderr",
     "output_type": "stream",
     "text": [
      "[nltk_data] Downloading package punkt to /home/milo/nltk_data...\n",
      "[nltk_data]   Package punkt is already up-to-date!\n",
      "[nltk_data] Downloading package stopwords to /home/milo/nltk_data...\n",
      "[nltk_data]   Package stopwords is already up-to-date!\n"
     ]
    },
    {
     "data": {
      "text/plain": [
       "True"
      ]
     },
     "execution_count": 3,
     "metadata": {},
     "output_type": "execute_result"
    }
   ],
   "source": [
    "# import relevant libraries\n",
    "from keybert import KeyBERT\n",
    "import pandas as pd\n",
    "import ast\n",
    "\n",
    "\n",
    "import re\n",
    "import nltk\n",
    "from nltk.corpus import stopwords\n",
    "from nltk.tokenize import word_tokenize\n",
    "# from keyphrase_vectorizers import KeyphraseVectorizer\n",
    "from keyphrase_vectorizers import KeyphraseCountVectorizer\n",
    "import string\n",
    "\n",
    "# Ensure that the necessary NLTK data is downloaded\n",
    "nltk.download('punkt')\n",
    "nltk.download('stopwords')"
   ]
  },
  {
   "cell_type": "code",
   "execution_count": 4,
   "id": "f8c52477-f3f5-437e-892a-66a678b8b9ed",
   "metadata": {},
   "outputs": [
    {
     "data": {
      "text/html": [
       "<div>\n",
       "<style scoped>\n",
       "    .dataframe tbody tr th:only-of-type {\n",
       "        vertical-align: middle;\n",
       "    }\n",
       "\n",
       "    .dataframe tbody tr th {\n",
       "        vertical-align: top;\n",
       "    }\n",
       "\n",
       "    .dataframe thead th {\n",
       "        text-align: right;\n",
       "    }\n",
       "</style>\n",
       "<table border=\"1\" class=\"dataframe\">\n",
       "  <thead>\n",
       "    <tr style=\"text-align: right;\">\n",
       "      <th></th>\n",
       "      <th>Institution</th>\n",
       "      <th>Year</th>\n",
       "      <th>Scale</th>\n",
       "      <th>Spatial Jurisdiction</th>\n",
       "      <th>Subject Matter Jurisdiction</th>\n",
       "      <th>Source of Jurisdiction</th>\n",
       "      <th>Defined Objectives</th>\n",
       "      <th>Strategies</th>\n",
       "      <th>Inter-institutional Relationship</th>\n",
       "      <th>Practical Vertical Coordination</th>\n",
       "      <th>Practical Horizontal Coordination</th>\n",
       "      <th>Horizontal Coordination 1</th>\n",
       "      <th>Horizontal Coordination 2</th>\n",
       "      <th>Horizontal Coordination 3</th>\n",
       "      <th>Horizontal Coordination 4</th>\n",
       "      <th>Horizontal Coordination 5</th>\n",
       "      <th>Horizontal Coordination 6</th>\n",
       "      <th>Horizontal Coordination 7</th>\n",
       "      <th>Horizontal Coordination 8</th>\n",
       "    </tr>\n",
       "  </thead>\n",
       "  <tbody>\n",
       "    <tr>\n",
       "      <th>0</th>\n",
       "      <td>Intergovernmental Oceanographic Commission (IOC)</td>\n",
       "      <td>1960.0</td>\n",
       "      <td>Global</td>\n",
       "      <td>IOC jurisdiction is global delineated by the b...</td>\n",
       "      <td>The IOC's subject matter jurisdiction encompas...</td>\n",
       "      <td>The IOC’s authority is derived from its statut...</td>\n",
       "      <td>The objectives of the Intergovernmental Oceano...</td>\n",
       "      <td>IOC implements its objectives through series o...</td>\n",
       "      <td>IOC collaborates with UN specialized agencies ...</td>\n",
       "      <td>Vertical coordination within the IOC involves ...</td>\n",
       "      <td>Horizontal coordination within the IOC encompa...</td>\n",
       "      <td>NaN</td>\n",
       "      <td>NaN</td>\n",
       "      <td>NaN</td>\n",
       "      <td>NaN</td>\n",
       "      <td>NaN</td>\n",
       "      <td>NaN</td>\n",
       "      <td>NaN</td>\n",
       "      <td>NaN</td>\n",
       "    </tr>\n",
       "    <tr>\n",
       "      <th>1</th>\n",
       "      <td>Food and Agriculture Organization of the Unite...</td>\n",
       "      <td>1945.0</td>\n",
       "      <td>Global</td>\n",
       "      <td>The FAO’s jurisdiction spans a vast array of m...</td>\n",
       "      <td>FAO’s remit includes nutrition, food and agric...</td>\n",
       "      <td>The FAO’s jurisdiction is established through ...</td>\n",
       "      <td>As stated in Article 1 of the Constitution, FA...</td>\n",
       "      <td>The FAO executes its objectives through a ser...</td>\n",
       "      <td>As stated in its constitution, the FAO maintai...</td>\n",
       "      <td>The FAO’s vertical coordination involves colla...</td>\n",
       "      <td>Horizontal coordination within the FAO involve...</td>\n",
       "      <td>https://www.jus.uio.no/english/services/librar...</td>\n",
       "      <td>FAO https://www.fao.org/strategic-framework/en</td>\n",
       "      <td>NaN</td>\n",
       "      <td>NaN</td>\n",
       "      <td>NaN</td>\n",
       "      <td>NaN</td>\n",
       "      <td>NaN</td>\n",
       "      <td>NaN</td>\n",
       "    </tr>\n",
       "    <tr>\n",
       "      <th>2</th>\n",
       "      <td>Convention on the Intergovernmental Maritime C...</td>\n",
       "      <td>1948.0</td>\n",
       "      <td>Global</td>\n",
       "      <td>The IMO’s authority spans a global geographica...</td>\n",
       "      <td>The IMO's jurisdiction encompasses a comprehen...</td>\n",
       "      <td>The IMO's jurisdiction is established by the C...</td>\n",
       "      <td>According to Part I, Article 1 of the Internat...</td>\n",
       "      <td>IMO implements its objectives and mandates thr...</td>\n",
       "      <td>The IMO collaborates with a diverse array of o...</td>\n",
       "      <td>Vertical coordination within IMO involves coll...</td>\n",
       "      <td>Horizontal coordination within the IMO involve...</td>\n",
       "      <td>https://wwwcdn.imo.org/localresources/en/About...</td>\n",
       "      <td>https://wwwcdn.imo.org/localresources/en/Knowl...</td>\n",
       "      <td>https://www.imo.org/en/MediaCentre/HotTopics/P...</td>\n",
       "      <td>NaN</td>\n",
       "      <td>NaN</td>\n",
       "      <td>NaN</td>\n",
       "      <td>NaN</td>\n",
       "      <td>NaN</td>\n",
       "    </tr>\n",
       "    <tr>\n",
       "      <th>3</th>\n",
       "      <td>Division for Ocean Affairs and the Law of the ...</td>\n",
       "      <td>1992.0</td>\n",
       "      <td>Global</td>\n",
       "      <td>UN DALOS does not have authority over any spec...</td>\n",
       "      <td>The UN DOALOS's mandate includes providing inf...</td>\n",
       "      <td>DOALOS derives its mandate from the United Nat...</td>\n",
       "      <td>According to the Secretary-General’s bulletin ...</td>\n",
       "      <td>. DOALOS) executes its objectives through a mu...</td>\n",
       "      <td>DOALOS collaborates with key organizations to ...</td>\n",
       "      <td>DOALOS engages in vertical coordination with v...</td>\n",
       "      <td>Horizontal coordination within DOALOS involves...</td>\n",
       "      <td>https://www.un.org/oceancapacity/projects</td>\n",
       "      <td>https://www.un.org/oceancapacity/tf</td>\n",
       "      <td>https://www.un.org/Depts/los/doalos_publicatio...</td>\n",
       "      <td>https://treaties.un.org/doc/source/docs/A_RES_...</td>\n",
       "      <td>https://documents-dds-ny.un.org/doc/UNDOC/GEN/...</td>\n",
       "      <td>https://documents-dds-ny.un.org/doc/UNDOC/GEN/...</td>\n",
       "      <td>https://www.un.org/depts/los/clcs_new/document...</td>\n",
       "      <td>https://unsceb.org/sites/default/files/2023-11...</td>\n",
       "    </tr>\n",
       "  </tbody>\n",
       "</table>\n",
       "</div>"
      ],
      "text/plain": [
       "                                         Institution    Year   Scale  \\\n",
       "0   Intergovernmental Oceanographic Commission (IOC)  1960.0  Global   \n",
       "1  Food and Agriculture Organization of the Unite...  1945.0  Global   \n",
       "2  Convention on the Intergovernmental Maritime C...  1948.0  Global   \n",
       "3  Division for Ocean Affairs and the Law of the ...  1992.0  Global   \n",
       "\n",
       "                                Spatial Jurisdiction  \\\n",
       "0  IOC jurisdiction is global delineated by the b...   \n",
       "1  The FAO’s jurisdiction spans a vast array of m...   \n",
       "2  The IMO’s authority spans a global geographica...   \n",
       "3  UN DALOS does not have authority over any spec...   \n",
       "\n",
       "                         Subject Matter Jurisdiction  \\\n",
       "0  The IOC's subject matter jurisdiction encompas...   \n",
       "1  FAO’s remit includes nutrition, food and agric...   \n",
       "2  The IMO's jurisdiction encompasses a comprehen...   \n",
       "3  The UN DOALOS's mandate includes providing inf...   \n",
       "\n",
       "                              Source of Jurisdiction  \\\n",
       "0  The IOC’s authority is derived from its statut...   \n",
       "1  The FAO’s jurisdiction is established through ...   \n",
       "2  The IMO's jurisdiction is established by the C...   \n",
       "3  DOALOS derives its mandate from the United Nat...   \n",
       "\n",
       "                                  Defined Objectives  \\\n",
       "0  The objectives of the Intergovernmental Oceano...   \n",
       "1  As stated in Article 1 of the Constitution, FA...   \n",
       "2  According to Part I, Article 1 of the Internat...   \n",
       "3  According to the Secretary-General’s bulletin ...   \n",
       "\n",
       "                                          Strategies  \\\n",
       "0  IOC implements its objectives through series o...   \n",
       "1   The FAO executes its objectives through a ser...   \n",
       "2  IMO implements its objectives and mandates thr...   \n",
       "3  . DOALOS) executes its objectives through a mu...   \n",
       "\n",
       "                    Inter-institutional Relationship  \\\n",
       "0  IOC collaborates with UN specialized agencies ...   \n",
       "1  As stated in its constitution, the FAO maintai...   \n",
       "2  The IMO collaborates with a diverse array of o...   \n",
       "3  DOALOS collaborates with key organizations to ...   \n",
       "\n",
       "                     Practical Vertical Coordination  \\\n",
       "0  Vertical coordination within the IOC involves ...   \n",
       "1  The FAO’s vertical coordination involves colla...   \n",
       "2  Vertical coordination within IMO involves coll...   \n",
       "3  DOALOS engages in vertical coordination with v...   \n",
       "\n",
       "                   Practical Horizontal Coordination  \\\n",
       "0  Horizontal coordination within the IOC encompa...   \n",
       "1  Horizontal coordination within the FAO involve...   \n",
       "2  Horizontal coordination within the IMO involve...   \n",
       "3  Horizontal coordination within DOALOS involves...   \n",
       "\n",
       "                           Horizontal Coordination 1  \\\n",
       "0                                                NaN   \n",
       "1  https://www.jus.uio.no/english/services/librar...   \n",
       "2  https://wwwcdn.imo.org/localresources/en/About...   \n",
       "3          https://www.un.org/oceancapacity/projects   \n",
       "\n",
       "                           Horizontal Coordination 2  \\\n",
       "0                                                NaN   \n",
       "1     FAO https://www.fao.org/strategic-framework/en   \n",
       "2  https://wwwcdn.imo.org/localresources/en/Knowl...   \n",
       "3                https://www.un.org/oceancapacity/tf   \n",
       "\n",
       "                           Horizontal Coordination 3  \\\n",
       "0                                                NaN   \n",
       "1                                                NaN   \n",
       "2  https://www.imo.org/en/MediaCentre/HotTopics/P...   \n",
       "3  https://www.un.org/Depts/los/doalos_publicatio...   \n",
       "\n",
       "                           Horizontal Coordination 4  \\\n",
       "0                                                NaN   \n",
       "1                                                NaN   \n",
       "2                                                NaN   \n",
       "3  https://treaties.un.org/doc/source/docs/A_RES_...   \n",
       "\n",
       "                           Horizontal Coordination 5  \\\n",
       "0                                                NaN   \n",
       "1                                                NaN   \n",
       "2                                                NaN   \n",
       "3  https://documents-dds-ny.un.org/doc/UNDOC/GEN/...   \n",
       "\n",
       "                           Horizontal Coordination 6  \\\n",
       "0                                                NaN   \n",
       "1                                                NaN   \n",
       "2                                                NaN   \n",
       "3  https://documents-dds-ny.un.org/doc/UNDOC/GEN/...   \n",
       "\n",
       "                           Horizontal Coordination 7  \\\n",
       "0                                                NaN   \n",
       "1                                                NaN   \n",
       "2                                                NaN   \n",
       "3  https://www.un.org/depts/los/clcs_new/document...   \n",
       "\n",
       "                           Horizontal Coordination 8  \n",
       "0                                                NaN  \n",
       "1                                                NaN  \n",
       "2                                                NaN  \n",
       "3  https://unsceb.org/sites/default/files/2023-11...  "
      ]
     },
     "execution_count": 4,
     "metadata": {},
     "output_type": "execute_result"
    }
   ],
   "source": [
    "# File path\n",
    "file_path = \"../Data/Ocean Governance and ocean economy governance matrix_IGOs.xlsx\"\n",
    "# Load the dataset\n",
    "df = pd.read_excel(file_path, sheet_name=\"Original Columns Cleaned\")\n",
    "\n",
    "# Preview the df \n",
    "df.head(4)"
   ]
  },
  {
   "cell_type": "markdown",
   "id": "f676bc28-190e-47bb-8877-aad41fce67a2",
   "metadata": {},
   "source": [
    "## Preprocess"
   ]
  },
  {
   "cell_type": "code",
   "execution_count": 5,
   "id": "4ac347b9-8376-4883-b15b-fd7de16c6e36",
   "metadata": {},
   "outputs": [],
   "source": [
    "# Make a copy of the df\n",
    "data = df.copy(deep=True)"
   ]
  },
  {
   "cell_type": "markdown",
   "id": "2597581f-b85f-43d0-9759-06385d72e863",
   "metadata": {},
   "source": [
    "#### Cleaning"
   ]
  },
  {
   "cell_type": "markdown",
   "id": "36a2ac1f-a6ad-4fdb-bd4e-6d7ecc86a05d",
   "metadata": {},
   "source": [
    "    The initial step in this project involved the cleaning of text data extracted from various sources. The cleaning process was essential for ensuring that the subsequent analysis and extraction of keywords and keyphrases would be accurate and relevant. The first stage of the cleaning procedure involved the removal of links, URLs, and any external references within the text. These external elements often introduce noise and irrelevant information that can distort the accuracy of keyword extraction models. Furthermore, special characters, such as symbols and punctuation marks, were eliminated to streamline the text and focus only on the core content. Additionally, all organization names, whether in full or in abbreviation, were stripped from the text. This included entities like the World Health Organization (WHO), Food and Agriculture Organization (FAO), and many others. By removing these organization names, the focus shifted solely to the key concepts and ideas present within the documents, preventing any biases that may arise from the frequent mention of such entities.\n",
    "\n",
    "    Moreover, stop words, which are common words such as \"the,\" \"and,\" \"is,\" \"in,\" and \"on,\" were removed from the text. These words generally do not carry significant meaning in the context of keyword extraction and often act as filler words that may cloud the analysis. The cleaning process ensured that the data was refined and primed for the next step—extraction of meaningful keywords and keyphrases."
   ]
  },
  {
   "cell_type": "code",
   "execution_count": 7,
   "id": "ceb0360a-b9d2-439d-a6a4-5c7b9aa93bdf",
   "metadata": {},
   "outputs": [],
   "source": [
    "# List of organization names (both full and abbreviation)\n",
    "organization_names = [\n",
    "    \"Intergovernmental Oceanographic Commission\", \"IOC\", \n",
    "    \"Food and Agriculture Organization of the United Nations\", \"FAO\", \n",
    "    \"Convention on the Intergovernmental Maritime Consultative Organization\", \"IMO\", \n",
    "    \"Division for Ocean Affairs and the Law of the Sea\", \"UN DOALOS\", \n",
    "    \"Climate Change Secretariat\", \"International Seabed Authority\", \n",
    "    \"United Nations Environment Programme\", \"UNEP\", \"United Nations Development Programme\", \"UNDP\", \n",
    "    \"United Nations Conference on Trade and Development\", \"UNCTAD\", \n",
    "    \"United Nations Industrial Development Organization\", \"UNIDO\", \"International Labour Organization\", \"ILO\", \n",
    "    \"International Telecommunication Union\", \"ITU\", \"United Nations Children’s Fund\", \"UNICEF\", \n",
    "    \"World Health Organization\", \"WHO\", \"Commissioner for Refugees\", \"UNHCR\", \n",
    "    \"Office of the United Nations High Commissioner for Human Rights\", \"OHCHR\", \n",
    "    \"United Nations Office for Disaster Risk Reduction\", \"UNDRR\", \n",
    "    \"UN Global Compact Office\", \"International Atomic Energy Agency\", \"IAEA\", \n",
    "    \"World Meteorological Organization\", \"WMO\", \"Organisation for Economic Co-operation and Development\", \"OECD\", \n",
    "    \"World Bank Group\", \"WBG\", \"International Monetary Fund\", \"IMF\", \n",
    "    \"International Hydrographic Organization\", \"IHO\", \"International Council for the Exploration of the Sea\", \"ICES\", \n",
    "    \"Intergovernmental Science-Policy Platform on Biodiversity and Ecosystem Services\", \"IPBES\", \n",
    "    \"IPCC\", \"World Trade Organization\", \"WTO\", \n",
    "    \"International Organization for Migration\", \"IOM\", \"United Nations Office for Project Services\", \"UNOPS\", \n",
    "    \"UN Entity for Gender Equality and the Empowerment of Women\", \"UN-Women\", \"World Intellectual Property Organisation\", \"WIPO\", \n",
    "    \"UN Population Fund\", \"UNFPA\", \"United Nations Human Settlements Programme\", \"UN-Habitat\", \n",
    "    \"World Food Programme\", \"WFP\", \"World Tourism Organization\", \"UN Tourism\", \"UNWTO\", \n",
    "    \"UN Research Institute for Social Development\", \"UNRISD\", \n",
    "    \"Secretariat of the Basel, Rotterdam and Stockholm Conventions\", \"BRS\", \n",
    "    \"Secretariat of the Convention on Biological Diversity\", \"CBD\", \n",
    "    \"Secretariat of the Convention on International Trade in Endangered Species of Wild Fauna and Flora\", \"CITES\", \n",
    "    \"Secretariat of the Convention on Migratory Species\", \"CMS\", \"International Fund for Agricultural Development\", \"IFAD\", \n",
    "    \"International Trade Centre\", \"ITC\", \"Secretariat of the United Nations Convention to Combat Desertification\", \"UNCCD\", \n",
    "    \"United Nations University\", \"UNU\", \"Ramsar Convention on Wetlands Secretariat\", \"Ramsar\", \n",
    "    \"Minamata Convention on Mercury\", \"Minamata\", \"United Nations Office for Outer Space Affairs\", \"UNOOSA\", \n",
    "    \"United Nations Office on Drugs and Crime\", \"UNODC\", \"unfccc\", \"UNFCC\"\n",
    "]\n",
    "\n",
    "# Function to clean the text\n",
    "def clean_text(text):\n",
    "    # Step 1: Remove URLs\n",
    "    text = re.sub(r'http[s]?://\\S+', '', text)\n",
    "\n",
    "    # Step 2: Remove external references (anything inside parentheses)\n",
    "    text = re.sub(r'\\(.*?\\)', '', text)\n",
    "\n",
    "    # Step 3: Remove organization names (full and abbreviation)\n",
    "    for org in organization_names:\n",
    "        text = re.sub(r'\\b' + re.escape(org) + r'\\b', '', text)\n",
    "\n",
    "    # Step 4: Remove punctuation (except for spaces)\n",
    "    text = text.translate(str.maketrans('', '', string.punctuation))\n",
    "\n",
    "    # Step 5: Tokenize the text into words\n",
    "    words = word_tokenize(text.lower())  # Convert to lowercase\n",
    "\n",
    "    # Step 6: Remove stop words\n",
    "    stop_words = set(stopwords.words('english'))\n",
    "    cleaned_words = [word for word in words if word not in stop_words]\n",
    "\n",
    "    # Step 7: Join words back into a cleaned sentence\n",
    "    cleaned_text = ' '.join(cleaned_words)\n",
    "\n",
    "    return cleaned_text"
   ]
  },
  {
   "cell_type": "markdown",
   "id": "c3e266c5-d56b-4109-b2e7-f05498334410",
   "metadata": {},
   "source": [
    "#### Keyword and Keyphrase Extraction\n",
    "After the text data was thoroughly cleaned, the next step involved the extraction of relevant keywords and keyphrases. Keywords and keyphrases are critical for summarizing the content of the document, identifying core themes, and facilitating better search and categorization. To achieve this, the KeyBERT model was employed, a state-of-the-art tool known for its ability to extract contextually relevant keywords and keyphrases from text.\n",
    "\n",
    "The keyword extraction process focused on identifying single, relevant terms that represent the core topics of the document. Using the cleaned text, a model was applied that extracts unigrams (single words) with a defined n-gram range of (1, 1). The stop_words='english' parameter was applied to filter out common, unimportant words, further enhancing the accuracy of the results. Keywords extracted through this method were considered significant based on their relevance to the content, and these terms help in identifying primary subjects and themes within the document.\n",
    "\n",
    "In parallel, keyphrase extraction was performed to capture multi-word phrases that are indicative of deeper or more complex concepts within the text. The KeyBERT model's n-gram range was adjusted to (2, 3), which allowed the extraction of bigrams and trigrams—pairs and triplets of words—providing a more nuanced understanding of the document’s content. Additionally, Maximum Marginal Relevance (MMR) was utilized to improve the diversity of the extracted keyphrases, ensuring that they covered a broad spectrum of topics without redundancy. By applying these methods, keyphrases were able to highlight important combinations of words that reflect complex ideas, themes, and concepts relevant to the document.\n",
    "\n",
    "Both keyword and keyphrase extraction were designed to be flexible, allowing adjustments to parameters such as the n-gram range, stop words, and relevance scoring. The flexibility in these parameters ensured that the extraction process could be fine-tuned to meet the specific needs of the documents being analyzed, providing more precise results tailored to different contexts."
   ]
  },
  {
   "cell_type": "markdown",
   "id": "094beaab-cd71-436d-bee6-7f3cf9c0f256",
   "metadata": {},
   "source": [
    "* **Keybert**"
   ]
  },
  {
   "cell_type": "markdown",
   "id": "d6a605ff-a9ce-4d64-b951-2971e987cba5",
   "metadata": {},
   "source": [
    "#### KeyBERT: An Overview and Why It Was the Best Choice for This Task\n",
    "KeyBERT is a transformer-based model specifically designed for the extraction of keywords and keyphrases from text documents. It leverages the power of pre-trained BERT (Bidirectional Encoder Representations from Transformers) models to understand the semantic meaning of words in context, allowing it to capture the most relevant terms and phrases within a body of text. KeyBERT stands out due to its ability to perform high-quality keyword and keyphrase extraction, even with minimal configuration, making it highly effective for content summarization and text analysis tasks.\n",
    "\n",
    "$Why KeyBERT Was Chosen for This Task$\n",
    "\n",
    "KeyBERT was selected for this task due to several reasons that align with the objectives of the project. The primary goal was to extract relevant keywords and keyphrases from cleaned text documents, focusing on meaningful terms that reflect the core concepts and ideas. KeyBERT excels in this area for the following reasons:\n",
    "\n",
    "* Contextual Understanding: Unlike traditional methods, which rely on frequency-based algorithms (such as TF-IDF), KeyBERT takes into account the semantic context of each word. This contextual understanding is crucial for extracting keywords that truly represent the content, rather than simply counting occurrences of words. For example, it can differentiate between words with multiple meanings based on the surrounding text, ensuring that the extracted keywords accurately represent the intended subject matter.\n",
    "\n",
    "* BERT-based Model: KeyBERT uses the BERT model, which is pre-trained on vast amounts of text and has a deep understanding of language semantics. BERT's ability to capture contextual relationships between words enables KeyBERT to identify keywords and keyphrases that are not just syntactically relevant but also semantically meaningful within the document. This makes it superior to simpler keyword extraction methods, as it produces more accurate and relevant results.\n",
    "\n",
    "* Flexibility with N-grams: KeyBERT supports the extraction of both single-word keywords (unigrams) and multi-word keyphrases (bigrams and trigrams). This flexibility allows it to adapt to the needs of the analysis—whether a task requires the identification of individual keywords or more complex multi-word phrases that capture nuanced ideas. In this project, the n-gram range was adjusted to extract both unigrams and bigrams/trigrams, ensuring that the extracted terms ranged from simple concepts to more complex expressions, thus providing a more comprehensive summary of the text.\n",
    "\n",
    "* Diversity through Maximum Marginal Relevance (MMR): One of KeyBERT's powerful features is its use of Maximum Marginal Relevance (MMR), which helps reduce redundancy in the extracted keyphrases. MMR ensures that each keyphrase provides unique information, enhancing the diversity of the results. This was particularly important in this project, where a wide range of topics and themes needed to be captured without repetition, ensuring that the keyphrases provided a well-rounded representation of the content.\n",
    "\n",
    "* Speed and Efficiency: KeyBERT is known for its efficiency in performing keyword extraction. It can handle large documents and datasets with relative speed, making it a practical choice for this project, where numerous text documents needed to be processed. The model’s lightweight nature also ensures that the extraction process can be carried out without significant computational overhead, making it accessible for real-time applications or batch processing of large volumes of text.\n",
    "\n",
    "* Minimal Preprocessing: KeyBERT requires minimal preprocessing of the text compared to traditional keyword extraction methods. Once the text is cleaned (removing stop words, organization names, and external references), KeyBERT can directly extract meaningful keywords and keyphrases without requiring elaborate manual adjustments or extensive parameter tuning. This made it ideal for this project, where the focus was on automating the extraction process and reducing the complexity of manual interventions.\n"
   ]
  },
  {
   "cell_type": "code",
   "execution_count": 8,
   "id": "8035688c-f9eb-4ba8-bb20-b24145202292",
   "metadata": {},
   "outputs": [],
   "source": [
    "# Function to extract keywords from a document\n",
    "kw_model = KeyBERT()\n",
    "\n",
    "def keywords_extractor(doc):\n",
    "    keywords = kw_model.extract_keywords(doc, keyphrase_ngram_range=(1, 1), stop_words='english')\n",
    "    return [keyword[0] for keyword in keywords]\n",
    "\n",
    "# Function to extract keyphrases from a document\n",
    "def keyphrases_extractor(doc):\n",
    "    keywords = kw_model.extract_keywords(doc, keyphrase_ngram_range=(2, 3), stop_words='english',\n",
    "                                     use_mmr=True, diversity=0.7)\n",
    "    return [keyword[0] for keyword in keywords]  \n"
   ]
  },
  {
   "cell_type": "markdown",
   "id": "b038d824-616a-4e21-8033-a988ef112549",
   "metadata": {},
   "source": [
    "#### Hightligts"
   ]
  },
  {
   "cell_type": "code",
   "execution_count": 12,
   "id": "3c7884ea-d733-4f3b-b353-4d9fdde0652c",
   "metadata": {
    "jp-MarkdownHeadingCollapsed": true
   },
   "outputs": [],
   "source": [
    "# Function to highlight keyphrases in a document using KeyBERT's highlighting\n",
    "def keywords_highlight(doc):\n",
    "    kw_model = KeyBERT()\n",
    "    \n",
    "    # Extract keywords with highlighting enabled (returns highlighted text)\n",
    "    keywords = kw_model.extract_keywords(doc, highlight=True)\n",
    "    \n",
    "    # The highlighted text is returned directly by KeyBERT, so just return that\n",
    "    highlighted_text = doc  # KeyBERT has already applied the highlighting internally\n",
    "    \n",
    "    # Return the highlighted text and the list of extracted keywords\n",
    "    return highlighted_text"
   ]
  },
  {
   "cell_type": "markdown",
   "id": "758c0e6d-ec30-4200-947b-c0b71d05a37d",
   "metadata": {},
   "source": [
    "#### 1. Spatial Jurisdiction\n",
    "    Spatial jurisdiction delineates geographical areas where an IGO operates (geographic coverage)."
   ]
  },
  {
   "cell_type": "code",
   "execution_count": 13,
   "id": "87e5a5f0-d480-4ae5-a92f-990c3ab66a68",
   "metadata": {},
   "outputs": [
    {
     "data": {
      "text/html": [
       "<pre style=\"white-space:pre;overflow-x:auto;line-height:normal;font-family:Menlo,'DejaVu Sans Mono',consolas,'Courier New',monospace\"><span style=\"color: #000000; text-decoration-color: #000000; background-color: #ffff00\">IOC</span> <span style=\"color: #000000; text-decoration-color: #000000; background-color: #ffff00\">jurisdiction</span> is global delineated by the boundaries of member states exclusive economic <span style=\"color: #000000; text-decoration-color: #000000; background-color: #ffff00\">zones</span> EEZs territorial \n",
       "<span style=\"color: #000000; text-decoration-color: #000000; background-color: #ffff00\">seas</span> and extending to the limits of their recognized <span style=\"color: #000000; text-decoration-color: #000000; background-color: #ffff00\">jurisdiction</span> whether it be 200 nautical miles for EEZs https \n",
       "www <span style=\"color: #000000; text-decoration-color: #000000; background-color: #ffff00\">ioc</span> <span style=\"color: #000000; text-decoration-color: #000000; background-color: #ffff00\">unesco</span> org en\n",
       "</pre>\n"
      ],
      "text/plain": [
       "\u001b[30;48;2;255;255;0mIOC\u001b[0m \u001b[30;48;2;255;255;0mjurisdiction\u001b[0m is global delineated by the boundaries of member states exclusive economic \u001b[30;48;2;255;255;0mzones\u001b[0m EEZs territorial \n",
       "\u001b[30;48;2;255;255;0mseas\u001b[0m and extending to the limits of their recognized \u001b[30;48;2;255;255;0mjurisdiction\u001b[0m whether it be 200 nautical miles for EEZs https \n",
       "www \u001b[30;48;2;255;255;0mioc\u001b[0m \u001b[30;48;2;255;255;0munesco\u001b[0m org en\n"
      ]
     },
     "metadata": {},
     "output_type": "display_data"
    },
    {
     "data": {
      "text/html": [
       "<pre style=\"white-space:pre;overflow-x:auto;line-height:normal;font-family:Menlo,'DejaVu Sans Mono',consolas,'Courier New',monospace\">The FAO jurisdiction spans vast array of marine and <span style=\"color: #000000; text-decoration-color: #000000; background-color: #ffff00\">inland</span> waters delineated by the boundaries of member states \n",
       "exclusive economic zones EEZs territorial <span style=\"color: #000000; text-decoration-color: #000000; background-color: #ffff00\">seas</span> and <span style=\"color: #000000; text-decoration-color: #000000; background-color: #ffff00\">inland</span> waters This includes all ocean spaces and <span style=\"color: #000000; text-decoration-color: #000000; background-color: #ffff00\">maritime</span> zones \n",
       "under the purview of each member state extending to the limits of their recognized jurisdiction whether it be 200 \n",
       "<span style=\"color: #000000; text-decoration-color: #000000; background-color: #ffff00\">nautical</span> miles for EEZs or other specified distances for territorial <span style=\"color: #000000; text-decoration-color: #000000; background-color: #ffff00\">seas</span> and <span style=\"color: #000000; text-decoration-color: #000000; background-color: #ffff00\">inland</span> waters https www fao org cwp \n",
       "on <span style=\"color: #000000; text-decoration-color: #000000; background-color: #ffff00\">fishery</span> statistics handbook general concepts main water areas en\n",
       "</pre>\n"
      ],
      "text/plain": [
       "The FAO jurisdiction spans vast array of marine and \u001b[30;48;2;255;255;0minland\u001b[0m waters delineated by the boundaries of member states \n",
       "exclusive economic zones EEZs territorial \u001b[30;48;2;255;255;0mseas\u001b[0m and \u001b[30;48;2;255;255;0minland\u001b[0m waters This includes all ocean spaces and \u001b[30;48;2;255;255;0mmaritime\u001b[0m zones \n",
       "under the purview of each member state extending to the limits of their recognized jurisdiction whether it be 200 \n",
       "\u001b[30;48;2;255;255;0mnautical\u001b[0m miles for EEZs or other specified distances for territorial \u001b[30;48;2;255;255;0mseas\u001b[0m and \u001b[30;48;2;255;255;0minland\u001b[0m waters https www fao org cwp \n",
       "on \u001b[30;48;2;255;255;0mfishery\u001b[0m statistics handbook general concepts main water areas en\n"
      ]
     },
     "metadata": {},
     "output_type": "display_data"
    },
    {
     "data": {
      "text/html": [
       "<pre style=\"white-space:pre;overflow-x:auto;line-height:normal;font-family:Menlo,'DejaVu Sans Mono',consolas,'Courier New',monospace\">The IMO authority spans global <span style=\"color: #000000; text-decoration-color: #000000; background-color: #ffff00\">geographical</span> area facilitating <span style=\"color: #000000; text-decoration-color: #000000; background-color: #ffff00\">maritime</span> cooperation and development across diverse \n",
       "<span style=\"color: #000000; text-decoration-color: #000000; background-color: #ffff00\">regions</span> Its mandate covers member states <span style=\"color: #000000; text-decoration-color: #000000; background-color: #ffff00\">territorial</span> waters extending to their exclusive economic zones EEZs \n",
       "typically up to 200 <span style=\"color: #000000; text-decoration-color: #000000; background-color: #ffff00\">nautical</span> miles from the baseline https www imo org en OurWork TechnicalCooperation Pages Geo \n",
       "Coverage aspx text Africa Western 20Asia 20and 20Eastern 20Europe\n",
       "</pre>\n"
      ],
      "text/plain": [
       "The IMO authority spans global \u001b[30;48;2;255;255;0mgeographical\u001b[0m area facilitating \u001b[30;48;2;255;255;0mmaritime\u001b[0m cooperation and development across diverse \n",
       "\u001b[30;48;2;255;255;0mregions\u001b[0m Its mandate covers member states \u001b[30;48;2;255;255;0mterritorial\u001b[0m waters extending to their exclusive economic zones EEZs \n",
       "typically up to 200 \u001b[30;48;2;255;255;0mnautical\u001b[0m miles from the baseline https www imo org en OurWork TechnicalCooperation Pages Geo \n",
       "Coverage aspx text Africa Western 20Asia 20and 20Eastern 20Europe\n"
      ]
     },
     "metadata": {},
     "output_type": "display_data"
    },
    {
     "data": {
      "text/html": [
       "<pre style=\"white-space:pre;overflow-x:auto;line-height:normal;font-family:Menlo,'DejaVu Sans Mono',consolas,'Courier New',monospace\">UN DALOS does not have <span style=\"color: #000000; text-decoration-color: #000000; background-color: #ffff00\">authority</span> over any specific <span style=\"color: #000000; text-decoration-color: #000000; background-color: #ffff00\">ocean</span> space Rather it provides legal and technical assistance to\n",
       "States and intergovernmental organizations on matters relating to <span style=\"color: #000000; text-decoration-color: #000000; background-color: #ffff00\">ocean</span> affairs and the law of the <span style=\"color: #000000; text-decoration-color: #000000; background-color: #ffff00\">sea</span> and also \n",
       "supports the Commission on the Limits of the Continental Shelf which examines submissions by <span style=\"color: #000000; text-decoration-color: #000000; background-color: #ffff00\">coastal</span> States on the \n",
       "outer limits of their continental shelf beyond 200 <span style=\"color: #000000; text-decoration-color: #000000; background-color: #ffff00\">nautical</span> miles from the baselines\n",
       "</pre>\n"
      ],
      "text/plain": [
       "UN DALOS does not have \u001b[30;48;2;255;255;0mauthority\u001b[0m over any specific \u001b[30;48;2;255;255;0mocean\u001b[0m space Rather it provides legal and technical assistance to\n",
       "States and intergovernmental organizations on matters relating to \u001b[30;48;2;255;255;0mocean\u001b[0m affairs and the law of the \u001b[30;48;2;255;255;0msea\u001b[0m and also \n",
       "supports the Commission on the Limits of the Continental Shelf which examines submissions by \u001b[30;48;2;255;255;0mcoastal\u001b[0m States on the \n",
       "outer limits of their continental shelf beyond 200 \u001b[30;48;2;255;255;0mnautical\u001b[0m miles from the baselines\n"
      ]
     },
     "metadata": {},
     "output_type": "display_data"
    },
    {
     "data": {
      "text/html": [
       "<pre style=\"white-space:pre;overflow-x:auto;line-height:normal;font-family:Menlo,'DejaVu Sans Mono',consolas,'Courier New',monospace\">The <span style=\"color: #000000; text-decoration-color: #000000; background-color: #ffff00\">UNFCCC</span> <span style=\"color: #000000; text-decoration-color: #000000; background-color: #ffff00\">Secretariat</span> operates <span style=\"color: #000000; text-decoration-color: #000000; background-color: #ffff00\">globally</span> supporting the implementation of the <span style=\"color: #000000; text-decoration-color: #000000; background-color: #ffff00\">UNFCCC</span> and its related agreements \n",
       "across all <span style=\"color: #000000; text-decoration-color: #000000; background-color: #ffff00\">countries</span> Its jurisdiction covers the entire atmosphere as well as the land and ocean surfaces that are \n",
       "affected by or influence <span style=\"color: #000000; text-decoration-color: #000000; background-color: #ffff00\">climate</span> change\n",
       "</pre>\n"
      ],
      "text/plain": [
       "The \u001b[30;48;2;255;255;0mUNFCCC\u001b[0m \u001b[30;48;2;255;255;0mSecretariat\u001b[0m operates \u001b[30;48;2;255;255;0mglobally\u001b[0m supporting the implementation of the \u001b[30;48;2;255;255;0mUNFCCC\u001b[0m and its related agreements \n",
       "across all \u001b[30;48;2;255;255;0mcountries\u001b[0m Its jurisdiction covers the entire atmosphere as well as the land and ocean surfaces that are \n",
       "affected by or influence \u001b[30;48;2;255;255;0mclimate\u001b[0m change\n"
      ]
     },
     "metadata": {},
     "output_type": "display_data"
    },
    {
     "data": {
      "text/html": [
       "<pre style=\"white-space:pre;overflow-x:auto;line-height:normal;font-family:Menlo,'DejaVu Sans Mono',consolas,'Courier New',monospace\">The international <span style=\"color: #000000; text-decoration-color: #000000; background-color: #ffff00\">seabed</span> area the part under ISA jurisdiction is defined as the <span style=\"color: #000000; text-decoration-color: #000000; background-color: #ffff00\">seabed</span> and <span style=\"color: #000000; text-decoration-color: #000000; background-color: #ffff00\">ocean</span> floor and the \n",
       "subsoil thereof beyond the limits of national jurisdiction https www isa org jm exploration contracts exploration \n",
       "areas This includes vast expanse of <span style=\"color: #000000; text-decoration-color: #000000; background-color: #ffff00\">ocean</span> space <span style=\"color: #000000; text-decoration-color: #000000; background-color: #ffff00\">territory</span> and <span style=\"color: #000000; text-decoration-color: #000000; background-color: #ffff00\">maritime</span> zones covering about 50 per cent of the \n",
       "world <span style=\"color: #000000; text-decoration-color: #000000; background-color: #ffff00\">oceans</span> https www un org depts los convention_agreements texts unclos part11 htm\n",
       "</pre>\n"
      ],
      "text/plain": [
       "The international \u001b[30;48;2;255;255;0mseabed\u001b[0m area the part under ISA jurisdiction is defined as the \u001b[30;48;2;255;255;0mseabed\u001b[0m and \u001b[30;48;2;255;255;0mocean\u001b[0m floor and the \n",
       "subsoil thereof beyond the limits of national jurisdiction https www isa org jm exploration contracts exploration \n",
       "areas This includes vast expanse of \u001b[30;48;2;255;255;0mocean\u001b[0m space \u001b[30;48;2;255;255;0mterritory\u001b[0m and \u001b[30;48;2;255;255;0mmaritime\u001b[0m zones covering about 50 per cent of the \n",
       "world \u001b[30;48;2;255;255;0moceans\u001b[0m https www un org depts los convention_agreements texts unclos part11 htm\n"
      ]
     },
     "metadata": {},
     "output_type": "display_data"
    },
    {
     "data": {
      "text/html": [
       "<pre style=\"white-space:pre;overflow-x:auto;line-height:normal;font-family:Menlo,'DejaVu Sans Mono',consolas,'Courier New',monospace\">The <span style=\"color: #000000; text-decoration-color: #000000; background-color: #ffff00\">UNEP</span> <span style=\"color: #000000; text-decoration-color: #000000; background-color: #ffff00\">Secretariat</span> <span style=\"color: #000000; text-decoration-color: #000000; background-color: #ffff00\">authority</span> is <span style=\"color: #000000; text-decoration-color: #000000; background-color: #ffff00\">global</span> covering the <span style=\"color: #000000; text-decoration-color: #000000; background-color: #ffff00\">marine</span> and coastal environment of all regions and subregions \n",
       "of the world http undocs org en res 2997 XXVII\n",
       "</pre>\n"
      ],
      "text/plain": [
       "The \u001b[30;48;2;255;255;0mUNEP\u001b[0m \u001b[30;48;2;255;255;0mSecretariat\u001b[0m \u001b[30;48;2;255;255;0mauthority\u001b[0m is \u001b[30;48;2;255;255;0mglobal\u001b[0m covering the \u001b[30;48;2;255;255;0mmarine\u001b[0m and coastal environment of all regions and subregions \n",
       "of the world http undocs org en res 2997 XXVII\n"
      ]
     },
     "metadata": {},
     "output_type": "display_data"
    },
    {
     "data": {
      "text/html": [
       "<pre style=\"white-space:pre;overflow-x:auto;line-height:normal;font-family:Menlo,'DejaVu Sans Mono',consolas,'Courier New',monospace\"><span style=\"color: #000000; text-decoration-color: #000000; background-color: #ffff00\">UNDP</span> <span style=\"color: #000000; text-decoration-color: #000000; background-color: #ffff00\">jurisdiction</span> is global operating in more than 170 countries and <span style=\"color: #000000; text-decoration-color: #000000; background-color: #ffff00\">territories</span> that cut across diverse political \n",
       "and economic zones with particular focus on low income and middle income <span style=\"color: #000000; text-decoration-color: #000000; background-color: #ffff00\">nations</span> and regions within Africa Asia \n",
       "Europe Latin America and the Caribbean https www <span style=\"color: #000000; text-decoration-color: #000000; background-color: #ffff00\">undp</span> org However the <span style=\"color: #000000; text-decoration-color: #000000; background-color: #ffff00\">UNDP</span> does not have specific <span style=\"color: #000000; text-decoration-color: #000000; background-color: #ffff00\">jurisdiction</span> over\n",
       "oceans maritime zones or <span style=\"color: #000000; text-decoration-color: #000000; background-color: #ffff00\">territorial</span> waters Its authority is not limited to exclusive economic or political zones \n",
       "contiguous zones <span style=\"color: #000000; text-decoration-color: #000000; background-color: #ffff00\">territorial</span> seas or inland waters within state waters Instead its focus is on sustainable \n",
       "development across all <span style=\"color: #000000; text-decoration-color: #000000; background-color: #ffff00\">territories</span> of its member states\n",
       "</pre>\n"
      ],
      "text/plain": [
       "\u001b[30;48;2;255;255;0mUNDP\u001b[0m \u001b[30;48;2;255;255;0mjurisdiction\u001b[0m is global operating in more than 170 countries and \u001b[30;48;2;255;255;0mterritories\u001b[0m that cut across diverse political \n",
       "and economic zones with particular focus on low income and middle income \u001b[30;48;2;255;255;0mnations\u001b[0m and regions within Africa Asia \n",
       "Europe Latin America and the Caribbean https www \u001b[30;48;2;255;255;0mundp\u001b[0m org However the \u001b[30;48;2;255;255;0mUNDP\u001b[0m does not have specific \u001b[30;48;2;255;255;0mjurisdiction\u001b[0m over\n",
       "oceans maritime zones or \u001b[30;48;2;255;255;0mterritorial\u001b[0m waters Its authority is not limited to exclusive economic or political zones \n",
       "contiguous zones \u001b[30;48;2;255;255;0mterritorial\u001b[0m seas or inland waters within state waters Instead its focus is on sustainable \n",
       "development across all \u001b[30;48;2;255;255;0mterritories\u001b[0m of its member states\n"
      ]
     },
     "metadata": {},
     "output_type": "display_data"
    },
    {
     "data": {
      "text/html": [
       "<pre style=\"white-space:pre;overflow-x:auto;line-height:normal;font-family:Menlo,'DejaVu Sans Mono',consolas,'Courier New',monospace\">The <span style=\"color: #000000; text-decoration-color: #000000; background-color: #ffff00\">UNCTAD</span> <span style=\"color: #000000; text-decoration-color: #000000; background-color: #ffff00\">Secretariat</span> <span style=\"color: #000000; text-decoration-color: #000000; background-color: #ffff00\">authority</span> is not limited to specific <span style=\"color: #000000; text-decoration-color: #000000; background-color: #ffff00\">geographical</span> area but rather covers the entire field of\n",
       "trade and related problems of economic development as stated in paragraph of the <span style=\"color: #000000; text-decoration-color: #000000; background-color: #ffff00\">UNGA</span> Resolution RES 1995 XIX https\n",
       "digitallibrary un org record 203700 files A_RES_1995 28XIX 29 ES pdf ln en\n",
       "</pre>\n"
      ],
      "text/plain": [
       "The \u001b[30;48;2;255;255;0mUNCTAD\u001b[0m \u001b[30;48;2;255;255;0mSecretariat\u001b[0m \u001b[30;48;2;255;255;0mauthority\u001b[0m is not limited to specific \u001b[30;48;2;255;255;0mgeographical\u001b[0m area but rather covers the entire field of\n",
       "trade and related problems of economic development as stated in paragraph of the \u001b[30;48;2;255;255;0mUNGA\u001b[0m Resolution RES 1995 XIX https\n",
       "digitallibrary un org record 203700 files A_RES_1995 28XIX 29 ES pdf ln en\n"
      ]
     },
     "metadata": {},
     "output_type": "display_data"
    },
    {
     "data": {
      "text/html": [
       "<pre style=\"white-space:pre;overflow-x:auto;line-height:normal;font-family:Menlo,'DejaVu Sans Mono',consolas,'Courier New',monospace\"><span style=\"color: #000000; text-decoration-color: #000000; background-color: #ffff00\">UNIDO</span> <span style=\"color: #000000; text-decoration-color: #000000; background-color: #ffff00\">jurisdiction</span> is <span style=\"color: #000000; text-decoration-color: #000000; background-color: #ffff00\">global</span> encompassing the industrial development of its member states and regions This includes\n",
       "focus on developing <span style=\"color: #000000; text-decoration-color: #000000; background-color: #ffff00\">countries</span> and <span style=\"color: #000000; text-decoration-color: #000000; background-color: #ffff00\">countries</span> with <span style=\"color: #000000; text-decoration-color: #000000; background-color: #ffff00\">economies</span> in transition with authority extending to the promotion \n",
       "and acceleration of industrial cooperation among these states covering key sectors and technologies https www <span style=\"color: #000000; text-decoration-color: #000000; background-color: #ffff00\">unido</span>\n",
       "org sites default files files 2020 11 19 12162_UNIDO_Constitution_ebook pdf\n",
       "</pre>\n"
      ],
      "text/plain": [
       "\u001b[30;48;2;255;255;0mUNIDO\u001b[0m \u001b[30;48;2;255;255;0mjurisdiction\u001b[0m is \u001b[30;48;2;255;255;0mglobal\u001b[0m encompassing the industrial development of its member states and regions This includes\n",
       "focus on developing \u001b[30;48;2;255;255;0mcountries\u001b[0m and \u001b[30;48;2;255;255;0mcountries\u001b[0m with \u001b[30;48;2;255;255;0meconomies\u001b[0m in transition with authority extending to the promotion \n",
       "and acceleration of industrial cooperation among these states covering key sectors and technologies https www \u001b[30;48;2;255;255;0munido\u001b[0m\n",
       "org sites default files files 2020 11 19 12162_UNIDO_Constitution_ebook pdf\n"
      ]
     },
     "metadata": {},
     "output_type": "display_data"
    },
    {
     "data": {
      "text/html": [
       "<pre style=\"white-space:pre;overflow-x:auto;line-height:normal;font-family:Menlo,'DejaVu Sans Mono',consolas,'Courier New',monospace\"><span style=\"color: #000000; text-decoration-color: #000000; background-color: #ffff00\">ILO</span> <span style=\"color: #000000; text-decoration-color: #000000; background-color: #ffff00\">authority</span> is global covering the labour standards and rights of its member states This includes focus on \n",
       "<span style=\"color: #000000; text-decoration-color: #000000; background-color: #ffff00\">countries</span> territories and areas within the UN system with <span style=\"color: #000000; text-decoration-color: #000000; background-color: #ffff00\">authority</span> reaching up to the national laws and policies \n",
       "of these states respecting their <span style=\"color: #000000; text-decoration-color: #000000; background-color: #ffff00\">sovereignty</span> and diversity The <span style=\"color: #000000; text-decoration-color: #000000; background-color: #ffff00\">ILO</span> also cooperates with regional and subregional \n",
       "<span style=\"color: #000000; text-decoration-color: #000000; background-color: #ffff00\">organizations</span> to promote decent work and social justice https www <span style=\"color: #000000; text-decoration-color: #000000; background-color: #ffff00\">ilo</span> org wcmsp5 groups public asia ro bangkok <span style=\"color: #000000; text-decoration-color: #000000; background-color: #ffff00\">ilo</span> \n",
       "hanoi documents publication wcms_818973 pdf\n",
       "</pre>\n"
      ],
      "text/plain": [
       "\u001b[30;48;2;255;255;0mILO\u001b[0m \u001b[30;48;2;255;255;0mauthority\u001b[0m is global covering the labour standards and rights of its member states This includes focus on \n",
       "\u001b[30;48;2;255;255;0mcountries\u001b[0m territories and areas within the UN system with \u001b[30;48;2;255;255;0mauthority\u001b[0m reaching up to the national laws and policies \n",
       "of these states respecting their \u001b[30;48;2;255;255;0msovereignty\u001b[0m and diversity The \u001b[30;48;2;255;255;0mILO\u001b[0m also cooperates with regional and subregional \n",
       "\u001b[30;48;2;255;255;0morganizations\u001b[0m to promote decent work and social justice https www \u001b[30;48;2;255;255;0milo\u001b[0m org wcmsp5 groups public asia ro bangkok \u001b[30;48;2;255;255;0milo\u001b[0m \n",
       "hanoi documents publication wcms_818973 pdf\n"
      ]
     },
     "metadata": {},
     "output_type": "display_data"
    },
    {
     "data": {
      "text/html": [
       "<pre style=\"white-space:pre;overflow-x:auto;line-height:normal;font-family:Menlo,'DejaVu Sans Mono',consolas,'Courier New',monospace\"><span style=\"color: #000000; text-decoration-color: #000000; background-color: #ffff00\">ITU</span> <span style=\"color: #000000; text-decoration-color: #000000; background-color: #ffff00\">geographical</span> area is not confined to specific <span style=\"color: #000000; text-decoration-color: #000000; background-color: #ffff00\">ocean</span> or <span style=\"color: #000000; text-decoration-color: #000000; background-color: #ffff00\">region</span> but rather covers the whole world This includes \n",
       "coordinating the global use of the radio spectrum satellite orbits and telecommunication standards based on the \n",
       "international <span style=\"color: #000000; text-decoration-color: #000000; background-color: #ffff00\">treaties</span> and agreements that its member states have ratified as well as the <span style=\"color: #000000; text-decoration-color: #000000; background-color: #ffff00\">ITU</span> Constitution and \n",
       "Convention https www <span style=\"color: #000000; text-decoration-color: #000000; background-color: #ffff00\">itu</span> int en council Documents basic texts Constitution pdf\n",
       "</pre>\n"
      ],
      "text/plain": [
       "\u001b[30;48;2;255;255;0mITU\u001b[0m \u001b[30;48;2;255;255;0mgeographical\u001b[0m area is not confined to specific \u001b[30;48;2;255;255;0mocean\u001b[0m or \u001b[30;48;2;255;255;0mregion\u001b[0m but rather covers the whole world This includes \n",
       "coordinating the global use of the radio spectrum satellite orbits and telecommunication standards based on the \n",
       "international \u001b[30;48;2;255;255;0mtreaties\u001b[0m and agreements that its member states have ratified as well as the \u001b[30;48;2;255;255;0mITU\u001b[0m Constitution and \n",
       "Convention https www \u001b[30;48;2;255;255;0mitu\u001b[0m int en council Documents basic texts Constitution pdf\n"
      ]
     },
     "metadata": {},
     "output_type": "display_data"
    },
    {
     "data": {
      "text/html": [
       "<pre style=\"white-space:pre;overflow-x:auto;line-height:normal;font-family:Menlo,'DejaVu Sans Mono',consolas,'Courier New',monospace\"><span style=\"color: #000000; text-decoration-color: #000000; background-color: #ffff00\">UNICEF</span> authority is <span style=\"color: #000000; text-decoration-color: #000000; background-color: #ffff00\">global</span> covering over 190 <span style=\"color: #000000; text-decoration-color: #000000; background-color: #ffff00\">countries</span> and territories across all continents and oceans to uphold \n",
       "the rights of every child regardless of their location nationality or situation <span style=\"color: #000000; text-decoration-color: #000000; background-color: #ffff00\">UNICEF</span> has no specific distance or \n",
       "boundary within its <span style=\"color: #000000; text-decoration-color: #000000; background-color: #ffff00\">jurisdiction</span> as it operates in accordance with the United <span style=\"color: #000000; text-decoration-color: #000000; background-color: #ffff00\">Nations</span> Charter and the Convention on\n",
       "the Rights of the Child https www <span style=\"color: #000000; text-decoration-color: #000000; background-color: #ffff00\">unicef</span> org media 52626 file\n",
       "</pre>\n"
      ],
      "text/plain": [
       "\u001b[30;48;2;255;255;0mUNICEF\u001b[0m authority is \u001b[30;48;2;255;255;0mglobal\u001b[0m covering over 190 \u001b[30;48;2;255;255;0mcountries\u001b[0m and territories across all continents and oceans to uphold \n",
       "the rights of every child regardless of their location nationality or situation \u001b[30;48;2;255;255;0mUNICEF\u001b[0m has no specific distance or \n",
       "boundary within its \u001b[30;48;2;255;255;0mjurisdiction\u001b[0m as it operates in accordance with the United \u001b[30;48;2;255;255;0mNations\u001b[0m Charter and the Convention on\n",
       "the Rights of the Child https www \u001b[30;48;2;255;255;0municef\u001b[0m org media 52626 file\n"
      ]
     },
     "metadata": {},
     "output_type": "display_data"
    },
    {
     "data": {
      "text/html": [
       "<pre style=\"white-space:pre;overflow-x:auto;line-height:normal;font-family:Menlo,'DejaVu Sans Mono',consolas,'Courier New',monospace\">WHO <span style=\"color: #000000; text-decoration-color: #000000; background-color: #ffff00\">jurisdiction</span> is global encompassing the land and sea areas of its member <span style=\"color: #000000; text-decoration-color: #000000; background-color: #ffff00\">states</span> This includes focus on \n",
       "<span style=\"color: #000000; text-decoration-color: #000000; background-color: #ffff00\">countries</span> and regions within the six WHO regions with <span style=\"color: #000000; text-decoration-color: #000000; background-color: #ffff00\">authority</span> extending to the whole <span style=\"color: #000000; text-decoration-color: #000000; background-color: #ffff00\">territory</span> of these <span style=\"color: #000000; text-decoration-color: #000000; background-color: #ffff00\">states</span> \n",
       "covering key health issues and challenges https www who int about who we are regional offices\n",
       "</pre>\n"
      ],
      "text/plain": [
       "WHO \u001b[30;48;2;255;255;0mjurisdiction\u001b[0m is global encompassing the land and sea areas of its member \u001b[30;48;2;255;255;0mstates\u001b[0m This includes focus on \n",
       "\u001b[30;48;2;255;255;0mcountries\u001b[0m and regions within the six WHO regions with \u001b[30;48;2;255;255;0mauthority\u001b[0m extending to the whole \u001b[30;48;2;255;255;0mterritory\u001b[0m of these \u001b[30;48;2;255;255;0mstates\u001b[0m \n",
       "covering key health issues and challenges https www who int about who we are regional offices\n"
      ]
     },
     "metadata": {},
     "output_type": "display_data"
    },
    {
     "data": {
      "text/html": [
       "<pre style=\"white-space:pre;overflow-x:auto;line-height:normal;font-family:Menlo,'DejaVu Sans Mono',consolas,'Courier New',monospace\"><span style=\"color: #000000; text-decoration-color: #000000; background-color: #ffff00\">Parr</span>\n",
       "</pre>\n"
      ],
      "text/plain": [
       "\u001b[30;48;2;255;255;0mParr\u001b[0m\n"
      ]
     },
     "metadata": {},
     "output_type": "display_data"
    },
    {
     "data": {
      "text/html": [
       "<pre style=\"white-space:pre;overflow-x:auto;line-height:normal;font-family:Menlo,'DejaVu Sans Mono',consolas,'Courier New',monospace\"><span style=\"color: #000000; text-decoration-color: #000000; background-color: #ffff00\">UNDRR</span> <span style=\"color: #000000; text-decoration-color: #000000; background-color: #ffff00\">jurisdiction</span> is global covering all <span style=\"color: #000000; text-decoration-color: #000000; background-color: #ffff00\">regions</span> and <span style=\"color: #000000; text-decoration-color: #000000; background-color: #ffff00\">countries</span> that are exposed to disaster risk and losses https \n",
       "www <span style=\"color: #000000; text-decoration-color: #000000; background-color: #ffff00\">undrr</span> org about <span style=\"color: #000000; text-decoration-color: #000000; background-color: #ffff00\">undrr</span> where we work This includes focus on least developed <span style=\"color: #000000; text-decoration-color: #000000; background-color: #ffff00\">countries</span> and small island \n",
       "developing states with authority reaching up to the low water mark of these states covering key coastal and <span style=\"color: #000000; text-decoration-color: #000000; background-color: #ffff00\">inland</span> \n",
       "areas and communities https www <span style=\"color: #000000; text-decoration-color: #000000; background-color: #ffff00\">undrr</span> org disaster risk reduction least developed <span style=\"color: #000000; text-decoration-color: #000000; background-color: #ffff00\">countries</span>\n",
       "</pre>\n"
      ],
      "text/plain": [
       "\u001b[30;48;2;255;255;0mUNDRR\u001b[0m \u001b[30;48;2;255;255;0mjurisdiction\u001b[0m is global covering all \u001b[30;48;2;255;255;0mregions\u001b[0m and \u001b[30;48;2;255;255;0mcountries\u001b[0m that are exposed to disaster risk and losses https \n",
       "www \u001b[30;48;2;255;255;0mundrr\u001b[0m org about \u001b[30;48;2;255;255;0mundrr\u001b[0m where we work This includes focus on least developed \u001b[30;48;2;255;255;0mcountries\u001b[0m and small island \n",
       "developing states with authority reaching up to the low water mark of these states covering key coastal and \u001b[30;48;2;255;255;0minland\u001b[0m \n",
       "areas and communities https www \u001b[30;48;2;255;255;0mundrr\u001b[0m org disaster risk reduction least developed \u001b[30;48;2;255;255;0mcountries\u001b[0m\n"
      ]
     },
     "metadata": {},
     "output_type": "display_data"
    },
    {
     "data": {
      "text/html": [
       "<pre style=\"white-space:pre;overflow-x:auto;line-height:normal;font-family:Menlo,'DejaVu Sans Mono',consolas,'Courier New',monospace\">The UN <span style=\"color: #000000; text-decoration-color: #000000; background-color: #ffff00\">Global</span> <span style=\"color: #000000; text-decoration-color: #000000; background-color: #ffff00\">Compact</span> <span style=\"color: #000000; text-decoration-color: #000000; background-color: #ffff00\">authority</span> is <span style=\"color: #000000; text-decoration-color: #000000; background-color: #ffff00\">global</span> covering all <span style=\"color: #000000; text-decoration-color: #000000; background-color: #ffff00\">ocean</span> spaces and <span style=\"color: #000000; text-decoration-color: #000000; background-color: #ffff00\">maritime</span> zones as well as the adjacent \n",
       "coastal areas and inland waters of its signatory states https documents dds ny un org doc UNDOC GEN N18 463 65 PDF \n",
       "N1846365 pdf OpenElement\n",
       "</pre>\n"
      ],
      "text/plain": [
       "The UN \u001b[30;48;2;255;255;0mGlobal\u001b[0m \u001b[30;48;2;255;255;0mCompact\u001b[0m \u001b[30;48;2;255;255;0mauthority\u001b[0m is \u001b[30;48;2;255;255;0mglobal\u001b[0m covering all \u001b[30;48;2;255;255;0mocean\u001b[0m spaces and \u001b[30;48;2;255;255;0mmaritime\u001b[0m zones as well as the adjacent \n",
       "coastal areas and inland waters of its signatory states https documents dds ny un org doc UNDOC GEN N18 463 65 PDF \n",
       "N1846365 pdf OpenElement\n"
      ]
     },
     "metadata": {},
     "output_type": "display_data"
    },
    {
     "data": {
      "text/html": [
       "<pre style=\"white-space:pre;overflow-x:auto;line-height:normal;font-family:Menlo,'DejaVu Sans Mono',consolas,'Courier New',monospace\">The <span style=\"color: #000000; text-decoration-color: #000000; background-color: #ffff00\">IAEA</span> <span style=\"color: #000000; text-decoration-color: #000000; background-color: #ffff00\">authority</span> is global encompassing the <span style=\"color: #000000; text-decoration-color: #000000; background-color: #ffff00\">nuclear</span> activities and facilities of its member states https www <span style=\"color: #000000; text-decoration-color: #000000; background-color: #ffff00\">iaea</span>\n",
       "org about governance list of member states This includes focus on states that have signed the <span style=\"color: #000000; text-decoration-color: #000000; background-color: #ffff00\">Treaty</span> on the Non \n",
       "Proliferation of <span style=\"color: #000000; text-decoration-color: #000000; background-color: #ffff00\">Nuclear</span> Weapons NPT with <span style=\"color: #000000; text-decoration-color: #000000; background-color: #ffff00\">authority</span> extending to all peaceful and military <span style=\"color: #000000; text-decoration-color: #000000; background-color: #ffff00\">nuclear</span> activities \n",
       "materials and equipment within these states covering key <span style=\"color: #000000; text-decoration-color: #000000; background-color: #ffff00\">nuclear</span> safety and security issues https <span style=\"color: #000000; text-decoration-color: #000000; background-color: #ffff00\">treaties</span> unoda \n",
       "org npt participants\n",
       "</pre>\n"
      ],
      "text/plain": [
       "The \u001b[30;48;2;255;255;0mIAEA\u001b[0m \u001b[30;48;2;255;255;0mauthority\u001b[0m is global encompassing the \u001b[30;48;2;255;255;0mnuclear\u001b[0m activities and facilities of its member states https www \u001b[30;48;2;255;255;0miaea\u001b[0m\n",
       "org about governance list of member states This includes focus on states that have signed the \u001b[30;48;2;255;255;0mTreaty\u001b[0m on the Non \n",
       "Proliferation of \u001b[30;48;2;255;255;0mNuclear\u001b[0m Weapons NPT with \u001b[30;48;2;255;255;0mauthority\u001b[0m extending to all peaceful and military \u001b[30;48;2;255;255;0mnuclear\u001b[0m activities \n",
       "materials and equipment within these states covering key \u001b[30;48;2;255;255;0mnuclear\u001b[0m safety and security issues https \u001b[30;48;2;255;255;0mtreaties\u001b[0m unoda \n",
       "org npt participants\n"
      ]
     },
     "metadata": {},
     "output_type": "display_data"
    },
    {
     "data": {
      "text/html": [
       "<pre style=\"white-space:pre;overflow-x:auto;line-height:normal;font-family:Menlo,'DejaVu Sans Mono',consolas,'Courier New',monospace\"><span style=\"color: #000000; text-decoration-color: #000000; background-color: #ffff00\">WMO</span> <span style=\"color: #000000; text-decoration-color: #000000; background-color: #ffff00\">jurisdiction</span> is <span style=\"color: #000000; text-decoration-color: #000000; background-color: #ffff00\">global</span> encompassing the weather <span style=\"color: #000000; text-decoration-color: #000000; background-color: #ffff00\">climate</span> and water resources of its member states and \n",
       "territories <span style=\"color: #000000; text-decoration-color: #000000; background-color: #ffff00\">WMO</span> <span style=\"color: #000000; text-decoration-color: #000000; background-color: #ffff00\">authority</span> covers the atmospheric oceanic and terrestrial domains as well as the interfaces between \n",
       "them with the aim of providing scientific information and services to protect life and property https <span style=\"color: #000000; text-decoration-color: #000000; background-color: #ffff00\">wmo</span> int about\n",
       "<span style=\"color: #000000; text-decoration-color: #000000; background-color: #ffff00\">wmo</span> overview\n",
       "</pre>\n"
      ],
      "text/plain": [
       "\u001b[30;48;2;255;255;0mWMO\u001b[0m \u001b[30;48;2;255;255;0mjurisdiction\u001b[0m is \u001b[30;48;2;255;255;0mglobal\u001b[0m encompassing the weather \u001b[30;48;2;255;255;0mclimate\u001b[0m and water resources of its member states and \n",
       "territories \u001b[30;48;2;255;255;0mWMO\u001b[0m \u001b[30;48;2;255;255;0mauthority\u001b[0m covers the atmospheric oceanic and terrestrial domains as well as the interfaces between \n",
       "them with the aim of providing scientific information and services to protect life and property https \u001b[30;48;2;255;255;0mwmo\u001b[0m int about\n",
       "\u001b[30;48;2;255;255;0mwmo\u001b[0m overview\n"
      ]
     },
     "metadata": {},
     "output_type": "display_data"
    },
    {
     "data": {
      "text/html": [
       "<pre style=\"white-space:pre;overflow-x:auto;line-height:normal;font-family:Menlo,'DejaVu Sans Mono',consolas,'Courier New',monospace\">The <span style=\"color: #000000; text-decoration-color: #000000; background-color: #ffff00\">OECD</span> <span style=\"color: #000000; text-decoration-color: #000000; background-color: #ffff00\">jurisdiction</span> is global encompassing the economic zones of its 38 member <span style=\"color: #000000; text-decoration-color: #000000; background-color: #ffff00\">countries</span> https www <span style=\"color: #000000; text-decoration-color: #000000; background-color: #ffff00\">oecd</span> org \n",
       "newsroom <span style=\"color: #000000; text-decoration-color: #000000; background-color: #ffff00\">oecd</span> welcomes costa <span style=\"color: #000000; text-decoration-color: #000000; background-color: #ffff00\">rica</span> as its 38th member htm text The 20OECD 2038 20members 20are Norway 2C 20Poland 2C\n",
       "20Portugal 2C 20Slovak The <span style=\"color: #000000; text-decoration-color: #000000; background-color: #ffff00\">OECD</span> does not have specific authority over <span style=\"color: #000000; text-decoration-color: #000000; background-color: #ffff00\">maritime</span> zones or territorial waters but \n",
       "rather its influence is primarily on key global issues at national regional and local levels https www <span style=\"color: #000000; text-decoration-color: #000000; background-color: #ffff00\">oecd</span> org \n",
       "about members and partners\n",
       "</pre>\n"
      ],
      "text/plain": [
       "The \u001b[30;48;2;255;255;0mOECD\u001b[0m \u001b[30;48;2;255;255;0mjurisdiction\u001b[0m is global encompassing the economic zones of its 38 member \u001b[30;48;2;255;255;0mcountries\u001b[0m https www \u001b[30;48;2;255;255;0moecd\u001b[0m org \n",
       "newsroom \u001b[30;48;2;255;255;0moecd\u001b[0m welcomes costa \u001b[30;48;2;255;255;0mrica\u001b[0m as its 38th member htm text The 20OECD 2038 20members 20are Norway 2C 20Poland 2C\n",
       "20Portugal 2C 20Slovak The \u001b[30;48;2;255;255;0mOECD\u001b[0m does not have specific authority over \u001b[30;48;2;255;255;0mmaritime\u001b[0m zones or territorial waters but \n",
       "rather its influence is primarily on key global issues at national regional and local levels https www \u001b[30;48;2;255;255;0moecd\u001b[0m org \n",
       "about members and partners\n"
      ]
     },
     "metadata": {},
     "output_type": "display_data"
    },
    {
     "data": {
      "text/html": [
       "<pre style=\"white-space:pre;overflow-x:auto;line-height:normal;font-family:Menlo,'DejaVu Sans Mono',consolas,'Courier New',monospace\">The <span style=\"color: #000000; text-decoration-color: #000000; background-color: #ffff00\">WBG</span> does not have specific authority over <span style=\"color: #000000; text-decoration-color: #000000; background-color: #ffff00\">maritime</span> zones or territorial waters but rather covers economic and \n",
       "political <span style=\"color: #000000; text-decoration-color: #000000; background-color: #ffff00\">regions</span> such as Africa East Asia and Pacific Europe and Central Asia Latin America and the Caribbean \n",
       "Middle East and North Africa and South Asia with activities and presence in more than 189 member <span style=\"color: #000000; text-decoration-color: #000000; background-color: #ffff00\">countries</span> https \n",
       "www <span style=\"color: #000000; text-decoration-color: #000000; background-color: #ffff00\">worldbank</span> org en where we work The <span style=\"color: #000000; text-decoration-color: #000000; background-color: #ffff00\">WBG</span> regional presence is determined by its borrowing and non borrowing \n",
       "member <span style=\"color: #000000; text-decoration-color: #000000; background-color: #ffff00\">countries</span> and by its strategic priorities for development in each region and sector https documents1 \n",
       "<span style=\"color: #000000; text-decoration-color: #000000; background-color: #ffff00\">worldbank</span> org curated en 896931468189267370 pdf The World Bank Group to 2016 pdf\n",
       "</pre>\n"
      ],
      "text/plain": [
       "The \u001b[30;48;2;255;255;0mWBG\u001b[0m does not have specific authority over \u001b[30;48;2;255;255;0mmaritime\u001b[0m zones or territorial waters but rather covers economic and \n",
       "political \u001b[30;48;2;255;255;0mregions\u001b[0m such as Africa East Asia and Pacific Europe and Central Asia Latin America and the Caribbean \n",
       "Middle East and North Africa and South Asia with activities and presence in more than 189 member \u001b[30;48;2;255;255;0mcountries\u001b[0m https \n",
       "www \u001b[30;48;2;255;255;0mworldbank\u001b[0m org en where we work The \u001b[30;48;2;255;255;0mWBG\u001b[0m regional presence is determined by its borrowing and non borrowing \n",
       "member \u001b[30;48;2;255;255;0mcountries\u001b[0m and by its strategic priorities for development in each region and sector https documents1 \n",
       "\u001b[30;48;2;255;255;0mworldbank\u001b[0m org curated en 896931468189267370 pdf The World Bank Group to 2016 pdf\n"
      ]
     },
     "metadata": {},
     "output_type": "display_data"
    },
    {
     "data": {
      "text/html": [
       "<pre style=\"white-space:pre;overflow-x:auto;line-height:normal;font-family:Menlo,'DejaVu Sans Mono',consolas,'Courier New',monospace\">The <span style=\"color: #000000; text-decoration-color: #000000; background-color: #ffff00\">IMF</span> does not have specific authority over <span style=\"color: #000000; text-decoration-color: #000000; background-color: #ffff00\">maritime</span> zones or <span style=\"color: #000000; text-decoration-color: #000000; background-color: #ffff00\">territorial</span> waters but rather covers global \n",
       "economic and political zones with 190 member <span style=\"color: #000000; text-decoration-color: #000000; background-color: #ffff00\">countries</span> and six regional offices through which it coordinates its \n",
       "activities https www <span style=\"color: #000000; text-decoration-color: #000000; background-color: #ffff00\">imf</span> org en About Regional coverage of <span style=\"color: #000000; text-decoration-color: #000000; background-color: #ffff00\">IMF</span> activities is guided by economic outlook reports \n",
       "which discuss recent economic developments and prospects for <span style=\"color: #000000; text-decoration-color: #000000; background-color: #ffff00\">countries</span> in different <span style=\"color: #000000; text-decoration-color: #000000; background-color: #ffff00\">regions</span> as well as policy \n",
       "challenges and recommendations https www <span style=\"color: #000000; text-decoration-color: #000000; background-color: #ffff00\">imf</span> org en publications reo\n",
       "</pre>\n"
      ],
      "text/plain": [
       "The \u001b[30;48;2;255;255;0mIMF\u001b[0m does not have specific authority over \u001b[30;48;2;255;255;0mmaritime\u001b[0m zones or \u001b[30;48;2;255;255;0mterritorial\u001b[0m waters but rather covers global \n",
       "economic and political zones with 190 member \u001b[30;48;2;255;255;0mcountries\u001b[0m and six regional offices through which it coordinates its \n",
       "activities https www \u001b[30;48;2;255;255;0mimf\u001b[0m org en About Regional coverage of \u001b[30;48;2;255;255;0mIMF\u001b[0m activities is guided by economic outlook reports \n",
       "which discuss recent economic developments and prospects for \u001b[30;48;2;255;255;0mcountries\u001b[0m in different \u001b[30;48;2;255;255;0mregions\u001b[0m as well as policy \n",
       "challenges and recommendations https www \u001b[30;48;2;255;255;0mimf\u001b[0m org en publications reo\n"
      ]
     },
     "metadata": {},
     "output_type": "display_data"
    },
    {
     "data": {
      "text/html": [
       "<pre style=\"white-space:pre;overflow-x:auto;line-height:normal;font-family:Menlo,'DejaVu Sans Mono',consolas,'Courier New',monospace\">IHO global <span style=\"color: #000000; text-decoration-color: #000000; background-color: #ffff00\">jurisdiction</span> represents the hydrographic interests of its 99 member states IHO authority covers all the \n",
       "world <span style=\"color: #000000; text-decoration-color: #000000; background-color: #ffff00\">seas</span> <span style=\"color: #000000; text-decoration-color: #000000; background-color: #ffff00\">oceans</span> and navigable <span style=\"color: #000000; text-decoration-color: #000000; background-color: #ffff00\">waters</span> including the exclusive economic zones EEZs territorial <span style=\"color: #000000; text-decoration-color: #000000; background-color: #ffff00\">seas</span> continental \n",
       "shelves and inland <span style=\"color: #000000; text-decoration-color: #000000; background-color: #ffff00\">waters</span> of its members as well as the <span style=\"color: #000000; text-decoration-color: #000000; background-color: #ffff00\">international</span> boundaries and limits of these zones IHO \n",
       "<span style=\"color: #000000; text-decoration-color: #000000; background-color: #ffff00\">jurisdiction</span> extends from the coastlines low water mark to the marine environment outermost reaches https iho int \n",
       "uploads user pubs misc M1_Separatedocs Convention_new_EN pdf\n",
       "</pre>\n"
      ],
      "text/plain": [
       "IHO global \u001b[30;48;2;255;255;0mjurisdiction\u001b[0m represents the hydrographic interests of its 99 member states IHO authority covers all the \n",
       "world \u001b[30;48;2;255;255;0mseas\u001b[0m \u001b[30;48;2;255;255;0moceans\u001b[0m and navigable \u001b[30;48;2;255;255;0mwaters\u001b[0m including the exclusive economic zones EEZs territorial \u001b[30;48;2;255;255;0mseas\u001b[0m continental \n",
       "shelves and inland \u001b[30;48;2;255;255;0mwaters\u001b[0m of its members as well as the \u001b[30;48;2;255;255;0minternational\u001b[0m boundaries and limits of these zones IHO \n",
       "\u001b[30;48;2;255;255;0mjurisdiction\u001b[0m extends from the coastlines low water mark to the marine environment outermost reaches https iho int \n",
       "uploads user pubs misc M1_Separatedocs Convention_new_EN pdf\n"
      ]
     },
     "metadata": {},
     "output_type": "display_data"
    },
    {
     "data": {
      "text/html": [
       "<pre style=\"white-space:pre;overflow-x:auto;line-height:normal;font-family:Menlo,'DejaVu Sans Mono',consolas,'Courier New',monospace\">The International Council for the Exploration of the <span style=\"color: #000000; text-decoration-color: #000000; background-color: #ffff00\">Sea</span> <span style=\"color: #000000; text-decoration-color: #000000; background-color: #ffff00\">ICES</span> has broad area of competence primarily focusing on \n",
       "the <span style=\"color: #000000; text-decoration-color: #000000; background-color: #ffff00\">Atlantic</span> Ocean and its adjacent <span style=\"color: #000000; text-decoration-color: #000000; background-color: #ffff00\">seas</span> with an emphasis on the North <span style=\"color: #000000; text-decoration-color: #000000; background-color: #ffff00\">Atlantic</span> https www <span style=\"color: #000000; text-decoration-color: #000000; background-color: #ffff00\">ices</span> dk about <span style=\"color: #000000; text-decoration-color: #000000; background-color: #ffff00\">ICES</span> who we\n",
       "are Documents ICES_Convention_1964 pdf While the exact delimitation of this area is not precisely defined <span style=\"color: #000000; text-decoration-color: #000000; background-color: #ffff00\">ICES</span> work\n",
       "has great relevance to all <span style=\"color: #000000; text-decoration-color: #000000; background-color: #ffff00\">oceans</span> including areas beyond national jurisdiction ABNJ https www un org bbnj sites www\n",
       "un org bbnj files ices3 pdf This suggests that <span style=\"color: #000000; text-decoration-color: #000000; background-color: #ffff00\">ICES</span> authority may extend to the exclusive economic zones EEZs and \n",
       "territorial waters of its 20 member countries https meetings pices int Publications Presentations PICES 2021 <span style=\"color: #000000; text-decoration-color: #000000; background-color: #ffff00\">ICES</span> \n",
       "2021 pdf covering key marine habitats and migratory routes\n",
       "</pre>\n"
      ],
      "text/plain": [
       "The International Council for the Exploration of the \u001b[30;48;2;255;255;0mSea\u001b[0m \u001b[30;48;2;255;255;0mICES\u001b[0m has broad area of competence primarily focusing on \n",
       "the \u001b[30;48;2;255;255;0mAtlantic\u001b[0m Ocean and its adjacent \u001b[30;48;2;255;255;0mseas\u001b[0m with an emphasis on the North \u001b[30;48;2;255;255;0mAtlantic\u001b[0m https www \u001b[30;48;2;255;255;0mices\u001b[0m dk about \u001b[30;48;2;255;255;0mICES\u001b[0m who we\n",
       "are Documents ICES_Convention_1964 pdf While the exact delimitation of this area is not precisely defined \u001b[30;48;2;255;255;0mICES\u001b[0m work\n",
       "has great relevance to all \u001b[30;48;2;255;255;0moceans\u001b[0m including areas beyond national jurisdiction ABNJ https www un org bbnj sites www\n",
       "un org bbnj files ices3 pdf This suggests that \u001b[30;48;2;255;255;0mICES\u001b[0m authority may extend to the exclusive economic zones EEZs and \n",
       "territorial waters of its 20 member countries https meetings pices int Publications Presentations PICES 2021 \u001b[30;48;2;255;255;0mICES\u001b[0m \n",
       "2021 pdf covering key marine habitats and migratory routes\n"
      ]
     },
     "metadata": {},
     "output_type": "display_data"
    },
    {
     "data": {
      "text/html": [
       "<pre style=\"white-space:pre;overflow-x:auto;line-height:normal;font-family:Menlo,'DejaVu Sans Mono',consolas,'Courier New',monospace\">Although no specific spatial coverage stated the jurisdiction of <span style=\"color: #000000; text-decoration-color: #000000; background-color: #ffff00\">IPBES</span> covers global terrestrial freshwater coastal\n",
       "and marine <span style=\"color: #000000; text-decoration-color: #000000; background-color: #ffff00\">biodiversity</span> <span style=\"color: #000000; text-decoration-color: #000000; background-color: #ffff00\">ecosystem</span> functions and <span style=\"color: #000000; text-decoration-color: #000000; background-color: #ffff00\">ecosystem</span> services through its periodic assessments of the state of\n",
       "<span style=\"color: #000000; text-decoration-color: #000000; background-color: #ffff00\">biodiversity</span> and <span style=\"color: #000000; text-decoration-color: #000000; background-color: #ffff00\">ecosystem</span> services worldwide https www <span style=\"color: #000000; text-decoration-color: #000000; background-color: #ffff00\">ipbes</span> net <span style=\"color: #000000; text-decoration-color: #000000; background-color: #ffff00\">regional</span> assessments performing regular and \n",
       "timely assessments at <span style=\"color: #000000; text-decoration-color: #000000; background-color: #ffff00\">regional</span> and <span style=\"color: #000000; text-decoration-color: #000000; background-color: #ffff00\">subregional</span> levels In 2015 <span style=\"color: #000000; text-decoration-color: #000000; background-color: #ffff00\">IPBES</span> launched four <span style=\"color: #000000; text-decoration-color: #000000; background-color: #ffff00\">regional</span> assessments for Africa \n",
       "the Americas Asia Pacific and Europe and Central Asia https www <span style=\"color: #000000; text-decoration-color: #000000; background-color: #ffff00\">ipbes</span> net <span style=\"color: #000000; text-decoration-color: #000000; background-color: #ffff00\">regional</span> assessments\n",
       "</pre>\n"
      ],
      "text/plain": [
       "Although no specific spatial coverage stated the jurisdiction of \u001b[30;48;2;255;255;0mIPBES\u001b[0m covers global terrestrial freshwater coastal\n",
       "and marine \u001b[30;48;2;255;255;0mbiodiversity\u001b[0m \u001b[30;48;2;255;255;0mecosystem\u001b[0m functions and \u001b[30;48;2;255;255;0mecosystem\u001b[0m services through its periodic assessments of the state of\n",
       "\u001b[30;48;2;255;255;0mbiodiversity\u001b[0m and \u001b[30;48;2;255;255;0mecosystem\u001b[0m services worldwide https www \u001b[30;48;2;255;255;0mipbes\u001b[0m net \u001b[30;48;2;255;255;0mregional\u001b[0m assessments performing regular and \n",
       "timely assessments at \u001b[30;48;2;255;255;0mregional\u001b[0m and \u001b[30;48;2;255;255;0msubregional\u001b[0m levels In 2015 \u001b[30;48;2;255;255;0mIPBES\u001b[0m launched four \u001b[30;48;2;255;255;0mregional\u001b[0m assessments for Africa \n",
       "the Americas Asia Pacific and Europe and Central Asia https www \u001b[30;48;2;255;255;0mipbes\u001b[0m net \u001b[30;48;2;255;255;0mregional\u001b[0m assessments\n"
      ]
     },
     "metadata": {},
     "output_type": "display_data"
    },
    {
     "data": {
      "text/html": [
       "<pre style=\"white-space:pre;overflow-x:auto;line-height:normal;font-family:Menlo,'DejaVu Sans Mono',consolas,'Courier New',monospace\">The <span style=\"color: #000000; text-decoration-color: #000000; background-color: #ffff00\">IPCC</span> authority is global covering all <span style=\"color: #000000; text-decoration-color: #000000; background-color: #ffff00\">regions</span> of the world and their <span style=\"color: #000000; text-decoration-color: #000000; background-color: #ffff00\">climate</span> systems https www <span style=\"color: #000000; text-decoration-color: #000000; background-color: #ffff00\">ipcc</span> ch about \n",
       "This includes the atmosphere the oceans the cryosphere the land surface and the biosphere The <span style=\"color: #000000; text-decoration-color: #000000; background-color: #ffff00\">IPCC</span> does not have \n",
       "any legal or political jurisdiction over any specific area but rather provides scientific assessments and guidance \n",
       "for governments and other stakeholders The <span style=\"color: #000000; text-decoration-color: #000000; background-color: #ffff00\">IPCC</span> divides the world into 10 <span style=\"color: #000000; text-decoration-color: #000000; background-color: #ffff00\">regions</span> for its interactive atlas https \n",
       "interactive atlas <span style=\"color: #000000; text-decoration-color: #000000; background-color: #ffff00\">ipcc</span> ch <span style=\"color: #000000; text-decoration-color: #000000; background-color: #ffff00\">regional</span> information guidance which shows the projected changes and impacts of <span style=\"color: #000000; text-decoration-color: #000000; background-color: #ffff00\">climate</span> \n",
       "change for each <span style=\"color: #000000; text-decoration-color: #000000; background-color: #ffff00\">region</span> based on different scenarios and models The <span style=\"color: #000000; text-decoration-color: #000000; background-color: #ffff00\">regions</span> are Africa Asia Australasia Central and \n",
       "South America Europe Mountains North and Central America Polar <span style=\"color: #000000; text-decoration-color: #000000; background-color: #ffff00\">Regions</span> Small Islands and Oceans\n",
       "</pre>\n"
      ],
      "text/plain": [
       "The \u001b[30;48;2;255;255;0mIPCC\u001b[0m authority is global covering all \u001b[30;48;2;255;255;0mregions\u001b[0m of the world and their \u001b[30;48;2;255;255;0mclimate\u001b[0m systems https www \u001b[30;48;2;255;255;0mipcc\u001b[0m ch about \n",
       "This includes the atmosphere the oceans the cryosphere the land surface and the biosphere The \u001b[30;48;2;255;255;0mIPCC\u001b[0m does not have \n",
       "any legal or political jurisdiction over any specific area but rather provides scientific assessments and guidance \n",
       "for governments and other stakeholders The \u001b[30;48;2;255;255;0mIPCC\u001b[0m divides the world into 10 \u001b[30;48;2;255;255;0mregions\u001b[0m for its interactive atlas https \n",
       "interactive atlas \u001b[30;48;2;255;255;0mipcc\u001b[0m ch \u001b[30;48;2;255;255;0mregional\u001b[0m information guidance which shows the projected changes and impacts of \u001b[30;48;2;255;255;0mclimate\u001b[0m \n",
       "change for each \u001b[30;48;2;255;255;0mregion\u001b[0m based on different scenarios and models The \u001b[30;48;2;255;255;0mregions\u001b[0m are Africa Asia Australasia Central and \n",
       "South America Europe Mountains North and Central America Polar \u001b[30;48;2;255;255;0mRegions\u001b[0m Small Islands and Oceans\n"
      ]
     },
     "metadata": {},
     "output_type": "display_data"
    },
    {
     "data": {
      "text/html": [
       "<pre style=\"white-space:pre;overflow-x:auto;line-height:normal;font-family:Menlo,'DejaVu Sans Mono',consolas,'Courier New',monospace\">The World Trade Organization <span style=\"color: #000000; text-decoration-color: #000000; background-color: #ffff00\">WTO</span> <span style=\"color: #000000; text-decoration-color: #000000; background-color: #ffff00\">jurisdiction</span> is not limited to specific geographical area ocean space <span style=\"color: #000000; text-decoration-color: #000000; background-color: #ffff00\">territory</span> or\n",
       "maritime zones Instead as an intergovernmental organization that regulates and facilitates international trade it \n",
       "has global reach with 164 member <span style=\"color: #000000; text-decoration-color: #000000; background-color: #ffff00\">states</span> representing over 98 of global trade and global GDP https www <span style=\"color: #000000; text-decoration-color: #000000; background-color: #ffff00\">wto</span> org \n",
       "english thewto_e whatis_e tif_e org6_e htm The <span style=\"color: #000000; text-decoration-color: #000000; background-color: #ffff00\">WTO</span> authority extends to the trade practices within these member \n",
       "<span style=\"color: #000000; text-decoration-color: #000000; background-color: #ffff00\">states</span> irrespective of their location or the extent of their territorial waters and exclusive economic zones It \n",
       "does not exercise <span style=\"color: #000000; text-decoration-color: #000000; background-color: #ffff00\">jurisdiction</span> in the same way state does as its main purpose is to reduce <span style=\"color: #000000; text-decoration-color: #000000; background-color: #ffff00\">tariffs</span> and other \n",
       "barriers to trade\n",
       "</pre>\n"
      ],
      "text/plain": [
       "The World Trade Organization \u001b[30;48;2;255;255;0mWTO\u001b[0m \u001b[30;48;2;255;255;0mjurisdiction\u001b[0m is not limited to specific geographical area ocean space \u001b[30;48;2;255;255;0mterritory\u001b[0m or\n",
       "maritime zones Instead as an intergovernmental organization that regulates and facilitates international trade it \n",
       "has global reach with 164 member \u001b[30;48;2;255;255;0mstates\u001b[0m representing over 98 of global trade and global GDP https www \u001b[30;48;2;255;255;0mwto\u001b[0m org \n",
       "english thewto_e whatis_e tif_e org6_e htm The \u001b[30;48;2;255;255;0mWTO\u001b[0m authority extends to the trade practices within these member \n",
       "\u001b[30;48;2;255;255;0mstates\u001b[0m irrespective of their location or the extent of their territorial waters and exclusive economic zones It \n",
       "does not exercise \u001b[30;48;2;255;255;0mjurisdiction\u001b[0m in the same way state does as its main purpose is to reduce \u001b[30;48;2;255;255;0mtariffs\u001b[0m and other \n",
       "barriers to trade\n"
      ]
     },
     "metadata": {},
     "output_type": "display_data"
    },
    {
     "data": {
      "text/html": [
       "<pre style=\"white-space:pre;overflow-x:auto;line-height:normal;font-family:Menlo,'DejaVu Sans Mono',consolas,'Courier New',monospace\"><span style=\"color: #000000; text-decoration-color: #000000; background-color: #ffff00\">IOM</span> <span style=\"color: #000000; text-decoration-color: #000000; background-color: #ffff00\">jurisdiction</span> is global covering all the regions and countries where it operates and provides services and \n",
       "advice to governments and migrants This includes presence in over 100 countries with 175 member states and observer\n",
       "states https www <span style=\"color: #000000; text-decoration-color: #000000; background-color: #ffff00\">iom</span> int member states <span style=\"color: #000000; text-decoration-color: #000000; background-color: #ffff00\">IOM</span> does not have specific authority on <span style=\"color: #000000; text-decoration-color: #000000; background-color: #ffff00\">oceans</span> and <span style=\"color: #000000; text-decoration-color: #000000; background-color: #ffff00\">maritime</span> zones but it \n",
       "works closely with other UN agencies and partners to address the challenges and opportunities of migration by <span style=\"color: #000000; text-decoration-color: #000000; background-color: #ffff00\">sea</span> \n",
       "such as rescue operations human trafficking environmental issues and regional cooperation https governingbodies <span style=\"color: #000000; text-decoration-color: #000000; background-color: #ffff00\">iom</span>\n",
       "int <span style=\"color: #000000; text-decoration-color: #000000; background-color: #ffff00\">iom</span> governing bodies\n",
       "</pre>\n"
      ],
      "text/plain": [
       "\u001b[30;48;2;255;255;0mIOM\u001b[0m \u001b[30;48;2;255;255;0mjurisdiction\u001b[0m is global covering all the regions and countries where it operates and provides services and \n",
       "advice to governments and migrants This includes presence in over 100 countries with 175 member states and observer\n",
       "states https www \u001b[30;48;2;255;255;0miom\u001b[0m int member states \u001b[30;48;2;255;255;0mIOM\u001b[0m does not have specific authority on \u001b[30;48;2;255;255;0moceans\u001b[0m and \u001b[30;48;2;255;255;0mmaritime\u001b[0m zones but it \n",
       "works closely with other UN agencies and partners to address the challenges and opportunities of migration by \u001b[30;48;2;255;255;0msea\u001b[0m \n",
       "such as rescue operations human trafficking environmental issues and regional cooperation https governingbodies \u001b[30;48;2;255;255;0miom\u001b[0m\n",
       "int \u001b[30;48;2;255;255;0miom\u001b[0m governing bodies\n"
      ]
     },
     "metadata": {},
     "output_type": "display_data"
    },
    {
     "data": {
      "text/html": [
       "<pre style=\"white-space:pre;overflow-x:auto;line-height:normal;font-family:Menlo,'DejaVu Sans Mono',consolas,'Courier New',monospace\"><span style=\"color: #000000; text-decoration-color: #000000; background-color: #ffff00\">UNOPS</span> <span style=\"color: #000000; text-decoration-color: #000000; background-color: #ffff00\">jurisdiction</span> is global covering all regions and countries where it implements infrastructure and procurement \n",
       "projects for the United <span style=\"color: #000000; text-decoration-color: #000000; background-color: #ffff00\">Nations</span> System <span style=\"color: #000000; text-decoration-color: #000000; background-color: #ffff00\">international</span> financial institutions governments and other partners https \n",
       "www <span style=\"color: #000000; text-decoration-color: #000000; background-color: #ffff00\">unops</span> org project locations <span style=\"color: #000000; text-decoration-color: #000000; background-color: #ffff00\">UNOPS</span> does not have specific authority on oceans and <span style=\"color: #000000; text-decoration-color: #000000; background-color: #ffff00\">maritime</span> zones but it supports\n",
       "the efforts of its partners to protect the environment and enhance the resilience of communities to climate change\n",
       "</pre>\n"
      ],
      "text/plain": [
       "\u001b[30;48;2;255;255;0mUNOPS\u001b[0m \u001b[30;48;2;255;255;0mjurisdiction\u001b[0m is global covering all regions and countries where it implements infrastructure and procurement \n",
       "projects for the United \u001b[30;48;2;255;255;0mNations\u001b[0m System \u001b[30;48;2;255;255;0minternational\u001b[0m financial institutions governments and other partners https \n",
       "www \u001b[30;48;2;255;255;0munops\u001b[0m org project locations \u001b[30;48;2;255;255;0mUNOPS\u001b[0m does not have specific authority on oceans and \u001b[30;48;2;255;255;0mmaritime\u001b[0m zones but it supports\n",
       "the efforts of its partners to protect the environment and enhance the resilience of communities to climate change\n"
      ]
     },
     "metadata": {},
     "output_type": "display_data"
    },
    {
     "data": {
      "text/html": [
       "<pre style=\"white-space:pre;overflow-x:auto;line-height:normal;font-family:Menlo,'DejaVu Sans Mono',consolas,'Courier New',monospace\">UN <span style=\"color: #000000; text-decoration-color: #000000; background-color: #ffff00\">Women</span> jurisdiction is global encompassing all regions and countries where the United <span style=\"color: #000000; text-decoration-color: #000000; background-color: #ffff00\">Nations</span> operates This \n",
       "includes focus on conflict affected and fragile states where <span style=\"color: #000000; text-decoration-color: #000000; background-color: #ffff00\">women</span> rights and participation are often most at risk \n",
       "UN <span style=\"color: #000000; text-decoration-color: #000000; background-color: #ffff00\">Women</span> does not have specific authority over ocean space <span style=\"color: #000000; text-decoration-color: #000000; background-color: #ffff00\">territory</span> or maritime zones but rather works with \n",
       "governments civil society and other UN entities to promote <span style=\"color: #000000; text-decoration-color: #000000; background-color: #ffff00\">gender</span> equality and <span style=\"color: #000000; text-decoration-color: #000000; background-color: #ffff00\">women</span> empowerment in all spheres of \n",
       "life https www <span style=\"color: #000000; text-decoration-color: #000000; background-color: #ffff00\">unwomen</span> org en about us about un <span style=\"color: #000000; text-decoration-color: #000000; background-color: #ffff00\">women</span>\n",
       "</pre>\n"
      ],
      "text/plain": [
       "UN \u001b[30;48;2;255;255;0mWomen\u001b[0m jurisdiction is global encompassing all regions and countries where the United \u001b[30;48;2;255;255;0mNations\u001b[0m operates This \n",
       "includes focus on conflict affected and fragile states where \u001b[30;48;2;255;255;0mwomen\u001b[0m rights and participation are often most at risk \n",
       "UN \u001b[30;48;2;255;255;0mWomen\u001b[0m does not have specific authority over ocean space \u001b[30;48;2;255;255;0mterritory\u001b[0m or maritime zones but rather works with \n",
       "governments civil society and other UN entities to promote \u001b[30;48;2;255;255;0mgender\u001b[0m equality and \u001b[30;48;2;255;255;0mwomen\u001b[0m empowerment in all spheres of \n",
       "life https www \u001b[30;48;2;255;255;0munwomen\u001b[0m org en about us about un \u001b[30;48;2;255;255;0mwomen\u001b[0m\n"
      ]
     },
     "metadata": {},
     "output_type": "display_data"
    },
    {
     "data": {
      "text/html": [
       "<pre style=\"white-space:pre;overflow-x:auto;line-height:normal;font-family:Menlo,'DejaVu Sans Mono',consolas,'Courier New',monospace\"><span style=\"color: #000000; text-decoration-color: #000000; background-color: #ffff00\">WIPO</span> does not have specific authority over oceans and <span style=\"color: #000000; text-decoration-color: #000000; background-color: #ffff00\">maritime</span> zones although its <span style=\"color: #000000; text-decoration-color: #000000; background-color: #ffff00\">jurisdiction</span> is global \n",
       "encompassing its 193 member states that span all continents and <span style=\"color: #000000; text-decoration-color: #000000; background-color: #ffff00\">regions</span> https www <span style=\"color: #000000; text-decoration-color: #000000; background-color: #ffff00\">wipo</span> int members en This includes\n",
       "focus on developing <span style=\"color: #000000; text-decoration-color: #000000; background-color: #ffff00\">countries</span> and least developed <span style=\"color: #000000; text-decoration-color: #000000; background-color: #ffff00\">countries</span> with assistance in building their Intellectual Property\n",
       "IP capacity and infrastructure\n",
       "</pre>\n"
      ],
      "text/plain": [
       "\u001b[30;48;2;255;255;0mWIPO\u001b[0m does not have specific authority over oceans and \u001b[30;48;2;255;255;0mmaritime\u001b[0m zones although its \u001b[30;48;2;255;255;0mjurisdiction\u001b[0m is global \n",
       "encompassing its 193 member states that span all continents and \u001b[30;48;2;255;255;0mregions\u001b[0m https www \u001b[30;48;2;255;255;0mwipo\u001b[0m int members en This includes\n",
       "focus on developing \u001b[30;48;2;255;255;0mcountries\u001b[0m and least developed \u001b[30;48;2;255;255;0mcountries\u001b[0m with assistance in building their Intellectual Property\n",
       "IP capacity and infrastructure\n"
      ]
     },
     "metadata": {},
     "output_type": "display_data"
    },
    {
     "data": {
      "text/html": [
       "<pre style=\"white-space:pre;overflow-x:auto;line-height:normal;font-family:Menlo,'DejaVu Sans Mono',consolas,'Courier New',monospace\">The <span style=\"color: #000000; text-decoration-color: #000000; background-color: #ffff00\">UNFPA</span> does not have <span style=\"color: #000000; text-decoration-color: #000000; background-color: #ffff00\">jurisdiction</span> over specific <span style=\"color: #000000; text-decoration-color: #000000; background-color: #ffff00\">geographical</span> areas oceans or maritime zones Instead its mandate \n",
       "is to address population and development issues worldwide operating within political <span style=\"color: #000000; text-decoration-color: #000000; background-color: #ffff00\">regions</span> such as Arab States \n",
       "Asia the Pacific East Southern <span style=\"color: #000000; text-decoration-color: #000000; background-color: #ffff00\">Africa</span> Eastern Europe Central Asia Latin America the Caribbean and West Central \n",
       "<span style=\"color: #000000; text-decoration-color: #000000; background-color: #ffff00\">Africa</span> https www <span style=\"color: #000000; text-decoration-color: #000000; background-color: #ffff00\">unfpa</span> org worldwide\n",
       "</pre>\n"
      ],
      "text/plain": [
       "The \u001b[30;48;2;255;255;0mUNFPA\u001b[0m does not have \u001b[30;48;2;255;255;0mjurisdiction\u001b[0m over specific \u001b[30;48;2;255;255;0mgeographical\u001b[0m areas oceans or maritime zones Instead its mandate \n",
       "is to address population and development issues worldwide operating within political \u001b[30;48;2;255;255;0mregions\u001b[0m such as Arab States \n",
       "Asia the Pacific East Southern \u001b[30;48;2;255;255;0mAfrica\u001b[0m Eastern Europe Central Asia Latin America the Caribbean and West Central \n",
       "\u001b[30;48;2;255;255;0mAfrica\u001b[0m https www \u001b[30;48;2;255;255;0munfpa\u001b[0m org worldwide\n"
      ]
     },
     "metadata": {},
     "output_type": "display_data"
    },
    {
     "data": {
      "text/html": [
       "<pre style=\"white-space:pre;overflow-x:auto;line-height:normal;font-family:Menlo,'DejaVu Sans Mono',consolas,'Courier New',monospace\">UN <span style=\"color: #000000; text-decoration-color: #000000; background-color: #ffff00\">Habitat</span> <span style=\"color: #000000; text-decoration-color: #000000; background-color: #ffff00\">jurisdiction</span> is not limited to any specific <span style=\"color: #000000; text-decoration-color: #000000; background-color: #ffff00\">geographical</span> area but rather covers all human <span style=\"color: #000000; text-decoration-color: #000000; background-color: #ffff00\">settlements</span> \n",
       "and sustainable urban development issues worldwide with presence in more than 90 countries in five <span style=\"color: #000000; text-decoration-color: #000000; background-color: #ffff00\">continents</span> and \n",
       "focus on cities and towns as well as rural and peri urban areas https unhabitat org about us UN <span style=\"color: #000000; text-decoration-color: #000000; background-color: #ffff00\">Habitat</span> does not \n",
       "have direct <span style=\"color: #000000; text-decoration-color: #000000; background-color: #ffff00\">jurisdiction</span> on oceans and maritime zones but supports the implementation of the SDGs and other \n",
       "international agendas that relate to urbanization and human <span style=\"color: #000000; text-decoration-color: #000000; background-color: #ffff00\">settlements</span>\n",
       "</pre>\n"
      ],
      "text/plain": [
       "UN \u001b[30;48;2;255;255;0mHabitat\u001b[0m \u001b[30;48;2;255;255;0mjurisdiction\u001b[0m is not limited to any specific \u001b[30;48;2;255;255;0mgeographical\u001b[0m area but rather covers all human \u001b[30;48;2;255;255;0msettlements\u001b[0m \n",
       "and sustainable urban development issues worldwide with presence in more than 90 countries in five \u001b[30;48;2;255;255;0mcontinents\u001b[0m and \n",
       "focus on cities and towns as well as rural and peri urban areas https unhabitat org about us UN \u001b[30;48;2;255;255;0mHabitat\u001b[0m does not \n",
       "have direct \u001b[30;48;2;255;255;0mjurisdiction\u001b[0m on oceans and maritime zones but supports the implementation of the SDGs and other \n",
       "international agendas that relate to urbanization and human \u001b[30;48;2;255;255;0msettlements\u001b[0m\n"
      ]
     },
     "metadata": {},
     "output_type": "display_data"
    },
    {
     "data": {
      "text/html": [
       "<pre style=\"white-space:pre;overflow-x:auto;line-height:normal;font-family:Menlo,'DejaVu Sans Mono',consolas,'Courier New',monospace\">The <span style=\"color: #000000; text-decoration-color: #000000; background-color: #ffff00\">World</span> Food Programme <span style=\"color: #000000; text-decoration-color: #000000; background-color: #ffff00\">WFP</span> is <span style=\"color: #000000; text-decoration-color: #000000; background-color: #ffff00\">global</span> organization that operates in over 120 countries and territories However it \n",
       "doesn have jurisdiction over specific geographical areas such as oceans or maritime zones but rather operates \n",
       "wherever there is need to provide food assistance in emergencies and support sustainable <span style=\"color: #000000; text-decoration-color: #000000; background-color: #ffff00\">livelihoods</span> to achieve \n",
       "zero <span style=\"color: #000000; text-decoration-color: #000000; background-color: #ffff00\">hunger</span> irrespective of political or economic zones https www <span style=\"color: #000000; text-decoration-color: #000000; background-color: #ffff00\">wfp</span> org who we are\n",
       "</pre>\n"
      ],
      "text/plain": [
       "The \u001b[30;48;2;255;255;0mWorld\u001b[0m Food Programme \u001b[30;48;2;255;255;0mWFP\u001b[0m is \u001b[30;48;2;255;255;0mglobal\u001b[0m organization that operates in over 120 countries and territories However it \n",
       "doesn have jurisdiction over specific geographical areas such as oceans or maritime zones but rather operates \n",
       "wherever there is need to provide food assistance in emergencies and support sustainable \u001b[30;48;2;255;255;0mlivelihoods\u001b[0m to achieve \n",
       "zero \u001b[30;48;2;255;255;0mhunger\u001b[0m irrespective of political or economic zones https www \u001b[30;48;2;255;255;0mwfp\u001b[0m org who we are\n"
      ]
     },
     "metadata": {},
     "output_type": "display_data"
    },
    {
     "data": {
      "text/html": [
       "<pre style=\"white-space:pre;overflow-x:auto;line-height:normal;font-family:Menlo,'DejaVu Sans Mono',consolas,'Courier New',monospace\"><span style=\"color: #000000; text-decoration-color: #000000; background-color: #ffff00\">UNWTO</span> <span style=\"color: #000000; text-decoration-color: #000000; background-color: #ffff00\">jurisdiction</span> is global encompassing its 160 member states and six associate members from all regions of the \n",
       "world This includes focus on developing countries and small island developing states SIDS within the oceans with \n",
       "authority to promote sustainable <span style=\"color: #000000; text-decoration-color: #000000; background-color: #ffff00\">tourism</span> practices and policies https www <span style=\"color: #000000; text-decoration-color: #000000; background-color: #ffff00\">unwto</span> org about us text Members 3A 20An \n",
       "20intergovernmental 20organization 2C 20UN supreme 20organ 20of 20the 20Organization However UN <span style=\"color: #000000; text-decoration-color: #000000; background-color: #ffff00\">Tourism</span> does not \n",
       "have direct control over the <span style=\"color: #000000; text-decoration-color: #000000; background-color: #ffff00\">maritime</span> zones or ocean space of its members as these are subject to national \n",
       "<span style=\"color: #000000; text-decoration-color: #000000; background-color: #ffff00\">sovereignty</span> and international law\n",
       "</pre>\n"
      ],
      "text/plain": [
       "\u001b[30;48;2;255;255;0mUNWTO\u001b[0m \u001b[30;48;2;255;255;0mjurisdiction\u001b[0m is global encompassing its 160 member states and six associate members from all regions of the \n",
       "world This includes focus on developing countries and small island developing states SIDS within the oceans with \n",
       "authority to promote sustainable \u001b[30;48;2;255;255;0mtourism\u001b[0m practices and policies https www \u001b[30;48;2;255;255;0munwto\u001b[0m org about us text Members 3A 20An \n",
       "20intergovernmental 20organization 2C 20UN supreme 20organ 20of 20the 20Organization However UN \u001b[30;48;2;255;255;0mTourism\u001b[0m does not \n",
       "have direct control over the \u001b[30;48;2;255;255;0mmaritime\u001b[0m zones or ocean space of its members as these are subject to national \n",
       "\u001b[30;48;2;255;255;0msovereignty\u001b[0m and international law\n"
      ]
     },
     "metadata": {},
     "output_type": "display_data"
    },
    {
     "data": {
      "text/html": [
       "<pre style=\"white-space:pre;overflow-x:auto;line-height:normal;font-family:Menlo,'DejaVu Sans Mono',consolas,'Courier New',monospace\"><span style=\"color: #000000; text-decoration-color: #000000; background-color: #ffff00\">UNRISD</span> work is <span style=\"color: #000000; text-decoration-color: #000000; background-color: #ffff00\">global</span> in nature as an autonomous research <span style=\"color: #000000; text-decoration-color: #000000; background-color: #ffff00\">institute</span> within the United <span style=\"color: #000000; text-decoration-color: #000000; background-color: #ffff00\">Nations</span> focusing primarily on\n",
       "the developing world although not limited to exclusive economic or political zones https www <span style=\"color: #000000; text-decoration-color: #000000; background-color: #ffff00\">unrisd</span> org en about It\n",
       "does not have jurisdiction over any specific <span style=\"color: #000000; text-decoration-color: #000000; background-color: #ffff00\">geographical</span> area ocean space territory or maritime zones\n",
       "</pre>\n"
      ],
      "text/plain": [
       "\u001b[30;48;2;255;255;0mUNRISD\u001b[0m work is \u001b[30;48;2;255;255;0mglobal\u001b[0m in nature as an autonomous research \u001b[30;48;2;255;255;0minstitute\u001b[0m within the United \u001b[30;48;2;255;255;0mNations\u001b[0m focusing primarily on\n",
       "the developing world although not limited to exclusive economic or political zones https www \u001b[30;48;2;255;255;0munrisd\u001b[0m org en about It\n",
       "does not have jurisdiction over any specific \u001b[30;48;2;255;255;0mgeographical\u001b[0m area ocean space territory or maritime zones\n"
      ]
     },
     "metadata": {},
     "output_type": "display_data"
    },
    {
     "data": {
      "text/html": [
       "<pre style=\"white-space:pre;overflow-x:auto;line-height:normal;font-family:Menlo,'DejaVu Sans Mono',consolas,'Courier New',monospace\">The <span style=\"color: #000000; text-decoration-color: #000000; background-color: #ffff00\">BRS</span> Secretariat <span style=\"color: #000000; text-decoration-color: #000000; background-color: #ffff00\">jurisdiction</span> is global covering all parties to the Basel Rotterdam and Stockholm <span style=\"color: #000000; text-decoration-color: #000000; background-color: #ffff00\">conventions</span> \n",
       "https www <span style=\"color: #000000; text-decoration-color: #000000; background-color: #ffff00\">brsmeas</span> org Decisionmaking Overview AboutSynergies tabid 2614 language en US Default aspx This includes \n",
       "all ocean space territory and maritime zones of the parties as well as areas beyond national <span style=\"color: #000000; text-decoration-color: #000000; background-color: #ffff00\">jurisdiction</span> where the\n",
       "<span style=\"color: #000000; text-decoration-color: #000000; background-color: #ffff00\">conventions</span> apply such as the high seas and the <span style=\"color: #000000; text-decoration-color: #000000; background-color: #ffff00\">Antarctic</span> <span style=\"color: #000000; text-decoration-color: #000000; background-color: #ffff00\">BRS</span> Secretariat does not have specific distance limit \n",
       "within its <span style=\"color: #000000; text-decoration-color: #000000; background-color: #ffff00\">jurisdiction</span> but rather follows the principles and rules of international law and the <span style=\"color: #000000; text-decoration-color: #000000; background-color: #ffff00\">conventions</span> \n",
       "themselves\n",
       "</pre>\n"
      ],
      "text/plain": [
       "The \u001b[30;48;2;255;255;0mBRS\u001b[0m Secretariat \u001b[30;48;2;255;255;0mjurisdiction\u001b[0m is global covering all parties to the Basel Rotterdam and Stockholm \u001b[30;48;2;255;255;0mconventions\u001b[0m \n",
       "https www \u001b[30;48;2;255;255;0mbrsmeas\u001b[0m org Decisionmaking Overview AboutSynergies tabid 2614 language en US Default aspx This includes \n",
       "all ocean space territory and maritime zones of the parties as well as areas beyond national \u001b[30;48;2;255;255;0mjurisdiction\u001b[0m where the\n",
       "\u001b[30;48;2;255;255;0mconventions\u001b[0m apply such as the high seas and the \u001b[30;48;2;255;255;0mAntarctic\u001b[0m \u001b[30;48;2;255;255;0mBRS\u001b[0m Secretariat does not have specific distance limit \n",
       "within its \u001b[30;48;2;255;255;0mjurisdiction\u001b[0m but rather follows the principles and rules of international law and the \u001b[30;48;2;255;255;0mconventions\u001b[0m \n",
       "themselves\n"
      ]
     },
     "metadata": {},
     "output_type": "display_data"
    },
    {
     "data": {
      "text/html": [
       "<pre style=\"white-space:pre;overflow-x:auto;line-height:normal;font-family:Menlo,'DejaVu Sans Mono',consolas,'Courier New',monospace\">The <span style=\"color: #000000; text-decoration-color: #000000; background-color: #ffff00\">CBD</span> <span style=\"color: #000000; text-decoration-color: #000000; background-color: #ffff00\">jurisdiction</span> is based on the principle of national <span style=\"color: #000000; text-decoration-color: #000000; background-color: #ffff00\">sovereignty</span> over biological diversity meaning that the \n",
       "<span style=\"color: #000000; text-decoration-color: #000000; background-color: #ffff00\">CBD</span> applies to the components of biological diversity in areas within the limits of each Contracting Party national\n",
       "<span style=\"color: #000000; text-decoration-color: #000000; background-color: #ffff00\">jurisdiction</span> and to the processes and activities carried out under its <span style=\"color: #000000; text-decoration-color: #000000; background-color: #ffff00\">jurisdiction</span> or control regardless of where \n",
       "their effects occur https www <span style=\"color: #000000; text-decoration-color: #000000; background-color: #ffff00\">cbd</span> int doc legal <span style=\"color: #000000; text-decoration-color: #000000; background-color: #ffff00\">cbd</span> en pdf The <span style=\"color: #000000; text-decoration-color: #000000; background-color: #ffff00\">CBD</span> does not have authority over oceans and maritime\n",
       "<span style=\"color: #000000; text-decoration-color: #000000; background-color: #ffff00\">zones</span> beyond the limits of national <span style=\"color: #000000; text-decoration-color: #000000; background-color: #ffff00\">jurisdiction</span> except for the responsibility to prevent or minimize damage to the\n",
       "environment of other States or of areas beyond the limits of national <span style=\"color: #000000; text-decoration-color: #000000; background-color: #ffff00\">jurisdiction</span> https www <span style=\"color: #000000; text-decoration-color: #000000; background-color: #ffff00\">cbd</span> int doc legal <span style=\"color: #000000; text-decoration-color: #000000; background-color: #ffff00\">cbd</span> \n",
       "en pdf Therefore the <span style=\"color: #000000; text-decoration-color: #000000; background-color: #ffff00\">CBD</span> <span style=\"color: #000000; text-decoration-color: #000000; background-color: #ffff00\">jurisdiction</span> varies depending on the extent of each Contracting Party national \n",
       "<span style=\"color: #000000; text-decoration-color: #000000; background-color: #ffff00\">jurisdiction</span> which may include exclusive economic <span style=\"color: #000000; text-decoration-color: #000000; background-color: #ffff00\">zones</span> EEZs <span style=\"color: #000000; text-decoration-color: #000000; background-color: #ffff00\">territorial</span> waters contiguous <span style=\"color: #000000; text-decoration-color: #000000; background-color: #ffff00\">zones</span> inland waters and \n",
       "coastal areas\n",
       "</pre>\n"
      ],
      "text/plain": [
       "The \u001b[30;48;2;255;255;0mCBD\u001b[0m \u001b[30;48;2;255;255;0mjurisdiction\u001b[0m is based on the principle of national \u001b[30;48;2;255;255;0msovereignty\u001b[0m over biological diversity meaning that the \n",
       "\u001b[30;48;2;255;255;0mCBD\u001b[0m applies to the components of biological diversity in areas within the limits of each Contracting Party national\n",
       "\u001b[30;48;2;255;255;0mjurisdiction\u001b[0m and to the processes and activities carried out under its \u001b[30;48;2;255;255;0mjurisdiction\u001b[0m or control regardless of where \n",
       "their effects occur https www \u001b[30;48;2;255;255;0mcbd\u001b[0m int doc legal \u001b[30;48;2;255;255;0mcbd\u001b[0m en pdf The \u001b[30;48;2;255;255;0mCBD\u001b[0m does not have authority over oceans and maritime\n",
       "\u001b[30;48;2;255;255;0mzones\u001b[0m beyond the limits of national \u001b[30;48;2;255;255;0mjurisdiction\u001b[0m except for the responsibility to prevent or minimize damage to the\n",
       "environment of other States or of areas beyond the limits of national \u001b[30;48;2;255;255;0mjurisdiction\u001b[0m https www \u001b[30;48;2;255;255;0mcbd\u001b[0m int doc legal \u001b[30;48;2;255;255;0mcbd\u001b[0m \n",
       "en pdf Therefore the \u001b[30;48;2;255;255;0mCBD\u001b[0m \u001b[30;48;2;255;255;0mjurisdiction\u001b[0m varies depending on the extent of each Contracting Party national \n",
       "\u001b[30;48;2;255;255;0mjurisdiction\u001b[0m which may include exclusive economic \u001b[30;48;2;255;255;0mzones\u001b[0m EEZs \u001b[30;48;2;255;255;0mterritorial\u001b[0m waters contiguous \u001b[30;48;2;255;255;0mzones\u001b[0m inland waters and \n",
       "coastal areas\n"
      ]
     },
     "metadata": {},
     "output_type": "display_data"
    },
    {
     "data": {
      "text/html": [
       "<pre style=\"white-space:pre;overflow-x:auto;line-height:normal;font-family:Menlo,'DejaVu Sans Mono',consolas,'Courier New',monospace\">CITES <span style=\"color: #000000; text-decoration-color: #000000; background-color: #ffff00\">Secretariat</span> operates globally with its authority extending to the <span style=\"color: #000000; text-decoration-color: #000000; background-color: #ffff00\">territories</span> of its member states However it\n",
       "does not specify <span style=\"color: #000000; text-decoration-color: #000000; background-color: #ffff00\">jurisdiction</span> over particular <span style=\"color: #000000; text-decoration-color: #000000; background-color: #ffff00\">maritime</span> zones or distances from <span style=\"color: #000000; text-decoration-color: #000000; background-color: #ffff00\">coastlines</span> Instead its mandate \n",
       "covers the regulation of trade in specimens of species included in its appendices https cites org eng prog \n",
       "Permit_system Therefore its <span style=\"color: #000000; text-decoration-color: #000000; background-color: #ffff00\">jurisdiction</span> is not limited to specific ocean spaces <span style=\"color: #000000; text-decoration-color: #000000; background-color: #ffff00\">territories</span> or <span style=\"color: #000000; text-decoration-color: #000000; background-color: #ffff00\">maritime</span> zones but \n",
       "rather focused on the trade of endangered species within its member states\n",
       "</pre>\n"
      ],
      "text/plain": [
       "CITES \u001b[30;48;2;255;255;0mSecretariat\u001b[0m operates globally with its authority extending to the \u001b[30;48;2;255;255;0mterritories\u001b[0m of its member states However it\n",
       "does not specify \u001b[30;48;2;255;255;0mjurisdiction\u001b[0m over particular \u001b[30;48;2;255;255;0mmaritime\u001b[0m zones or distances from \u001b[30;48;2;255;255;0mcoastlines\u001b[0m Instead its mandate \n",
       "covers the regulation of trade in specimens of species included in its appendices https cites org eng prog \n",
       "Permit_system Therefore its \u001b[30;48;2;255;255;0mjurisdiction\u001b[0m is not limited to specific ocean spaces \u001b[30;48;2;255;255;0mterritories\u001b[0m or \u001b[30;48;2;255;255;0mmaritime\u001b[0m zones but \n",
       "rather focused on the trade of endangered species within its member states\n"
      ]
     },
     "metadata": {},
     "output_type": "display_data"
    },
    {
     "data": {
      "text/html": [
       "<pre style=\"white-space:pre;overflow-x:auto;line-height:normal;font-family:Menlo,'DejaVu Sans Mono',consolas,'Courier New',monospace\">The CMS <span style=\"color: #000000; text-decoration-color: #000000; background-color: #ffff00\">Secretariat</span> <span style=\"color: #000000; text-decoration-color: #000000; background-color: #ffff00\">jurisdiction</span> is global covering all the regions and <span style=\"color: #000000; text-decoration-color: #000000; background-color: #ffff00\">habitats</span> where migratory species of wild \n",
       "animals occur This includes terrestrial aquatic and avian species that cross national boundaries or move between \n",
       "areas of <span style=\"color: #000000; text-decoration-color: #000000; background-color: #ffff00\">jurisdiction</span> The CMS <span style=\"color: #000000; text-decoration-color: #000000; background-color: #ffff00\">Secretariat</span> does not have authority over specific ocean spaces <span style=\"color: #000000; text-decoration-color: #000000; background-color: #ffff00\">territories</span> or \n",
       "maritime zones but rather facilitates cooperation and coordination among the Parties to the Convention which are \n",
       "currently 133 <span style=\"color: #000000; text-decoration-color: #000000; background-color: #ffff00\">countries</span> https www cms int en parties range states\n",
       "</pre>\n"
      ],
      "text/plain": [
       "The CMS \u001b[30;48;2;255;255;0mSecretariat\u001b[0m \u001b[30;48;2;255;255;0mjurisdiction\u001b[0m is global covering all the regions and \u001b[30;48;2;255;255;0mhabitats\u001b[0m where migratory species of wild \n",
       "animals occur This includes terrestrial aquatic and avian species that cross national boundaries or move between \n",
       "areas of \u001b[30;48;2;255;255;0mjurisdiction\u001b[0m The CMS \u001b[30;48;2;255;255;0mSecretariat\u001b[0m does not have authority over specific ocean spaces \u001b[30;48;2;255;255;0mterritories\u001b[0m or \n",
       "maritime zones but rather facilitates cooperation and coordination among the Parties to the Convention which are \n",
       "currently 133 \u001b[30;48;2;255;255;0mcountries\u001b[0m https www cms int en parties range states\n"
      ]
     },
     "metadata": {},
     "output_type": "display_data"
    },
    {
     "data": {
      "text/html": [
       "<pre style=\"white-space:pre;overflow-x:auto;line-height:normal;font-family:Menlo,'DejaVu Sans Mono',consolas,'Courier New',monospace\"><span style=\"color: #000000; text-decoration-color: #000000; background-color: #ffff00\">IFAD</span> <span style=\"color: #000000; text-decoration-color: #000000; background-color: #ffff00\">jurisdiction</span> is not limited to any specific geographical or political or economic <span style=\"color: #000000; text-decoration-color: #000000; background-color: #ffff00\">zones</span> but rather covers the \n",
       "rural areas of its 177 member states which include developing middle and high income countries from all <span style=\"color: #000000; text-decoration-color: #000000; background-color: #ffff00\">regions</span> of \n",
       "the world https www <span style=\"color: #000000; text-decoration-color: #000000; background-color: #ffff00\">ifad</span> org en web operations <span style=\"color: #000000; text-decoration-color: #000000; background-color: #ffff00\">regions</span> <span style=\"color: #000000; text-decoration-color: #000000; background-color: #ffff00\">IFAD</span> does not have specific mandate or <span style=\"color: #000000; text-decoration-color: #000000; background-color: #ffff00\">jurisdiction</span> on \n",
       "oceans and maritime <span style=\"color: #000000; text-decoration-color: #000000; background-color: #ffff00\">zones</span> but it does support projects that involve coastal communities <span style=\"color: #000000; text-decoration-color: #000000; background-color: #ffff00\">fisheries</span> and aquaculture \n",
       "in some countries\n",
       "</pre>\n"
      ],
      "text/plain": [
       "\u001b[30;48;2;255;255;0mIFAD\u001b[0m \u001b[30;48;2;255;255;0mjurisdiction\u001b[0m is not limited to any specific geographical or political or economic \u001b[30;48;2;255;255;0mzones\u001b[0m but rather covers the \n",
       "rural areas of its 177 member states which include developing middle and high income countries from all \u001b[30;48;2;255;255;0mregions\u001b[0m of \n",
       "the world https www \u001b[30;48;2;255;255;0mifad\u001b[0m org en web operations \u001b[30;48;2;255;255;0mregions\u001b[0m \u001b[30;48;2;255;255;0mIFAD\u001b[0m does not have specific mandate or \u001b[30;48;2;255;255;0mjurisdiction\u001b[0m on \n",
       "oceans and maritime \u001b[30;48;2;255;255;0mzones\u001b[0m but it does support projects that involve coastal communities \u001b[30;48;2;255;255;0mfisheries\u001b[0m and aquaculture \n",
       "in some countries\n"
      ]
     },
     "metadata": {},
     "output_type": "display_data"
    },
    {
     "data": {
      "text/html": [
       "<pre style=\"white-space:pre;overflow-x:auto;line-height:normal;font-family:Menlo,'DejaVu Sans Mono',consolas,'Courier New',monospace\"><span style=\"color: #000000; text-decoration-color: #000000; background-color: #ffff00\">ITC</span> <span style=\"color: #000000; text-decoration-color: #000000; background-color: #ffff00\">jurisdiction</span> is global covering all <span style=\"color: #000000; text-decoration-color: #000000; background-color: #ffff00\">regions</span> and countries that are members of the World Trade Organization WTO \n",
       "or the United <span style=\"color: #000000; text-decoration-color: #000000; background-color: #ffff00\">Nations</span> UN Nevertheless it prioritizes project implementation in Least Developed Countries Landlocked\n",
       "Developing Countries Small Island Developing States Sub Saharan Africa and post conflict and fragile states which \n",
       "correspond to wide range of ocean spaces <span style=\"color: #000000; text-decoration-color: #000000; background-color: #ffff00\">territories</span> and maritime zones depending on the specific trade agreements \n",
       "and policies of each country https intracen org our work <span style=\"color: #000000; text-decoration-color: #000000; background-color: #ffff00\">regions</span> and countries <span style=\"color: #000000; text-decoration-color: #000000; background-color: #ffff00\">ITC</span> does not have fixed spatial \n",
       "coverage but rather adapts to the needs and preferences of its clients and partners\n",
       "</pre>\n"
      ],
      "text/plain": [
       "\u001b[30;48;2;255;255;0mITC\u001b[0m \u001b[30;48;2;255;255;0mjurisdiction\u001b[0m is global covering all \u001b[30;48;2;255;255;0mregions\u001b[0m and countries that are members of the World Trade Organization WTO \n",
       "or the United \u001b[30;48;2;255;255;0mNations\u001b[0m UN Nevertheless it prioritizes project implementation in Least Developed Countries Landlocked\n",
       "Developing Countries Small Island Developing States Sub Saharan Africa and post conflict and fragile states which \n",
       "correspond to wide range of ocean spaces \u001b[30;48;2;255;255;0mterritories\u001b[0m and maritime zones depending on the specific trade agreements \n",
       "and policies of each country https intracen org our work \u001b[30;48;2;255;255;0mregions\u001b[0m and countries \u001b[30;48;2;255;255;0mITC\u001b[0m does not have fixed spatial \n",
       "coverage but rather adapts to the needs and preferences of its clients and partners\n"
      ]
     },
     "metadata": {},
     "output_type": "display_data"
    },
    {
     "data": {
      "text/html": [
       "<pre style=\"white-space:pre;overflow-x:auto;line-height:normal;font-family:Menlo,'DejaVu Sans Mono',consolas,'Courier New',monospace\">The UNCCD Secretariat jurisdiction is focused on dry and semi <span style=\"color: #000000; text-decoration-color: #000000; background-color: #ffff00\">arid</span> lands <span style=\"color: #000000; text-decoration-color: #000000; background-color: #ffff00\">regions</span> where <span style=\"color: #000000; text-decoration-color: #000000; background-color: #ffff00\">desertification</span> and <span style=\"color: #000000; text-decoration-color: #000000; background-color: #ffff00\">drought</span> \n",
       "are prevalent This includes range of political and economic zones as represented by <span style=\"color: #000000; text-decoration-color: #000000; background-color: #ffff00\">countries</span> in Africa Asia Latin \n",
       "America and the Caribbean Central and Eastern Europe and the Northern Mediterranean https www unccd int convention \n",
       "<span style=\"color: #000000; text-decoration-color: #000000; background-color: #ffff00\">regions</span> The Secretariat does not have authority over oceans and maritime zones as its mandate is to combat land \n",
       "degradation and mitigate the effects of <span style=\"color: #000000; text-decoration-color: #000000; background-color: #ffff00\">drought</span> on land based ecosystems and populations\n",
       "</pre>\n"
      ],
      "text/plain": [
       "The UNCCD Secretariat jurisdiction is focused on dry and semi \u001b[30;48;2;255;255;0marid\u001b[0m lands \u001b[30;48;2;255;255;0mregions\u001b[0m where \u001b[30;48;2;255;255;0mdesertification\u001b[0m and \u001b[30;48;2;255;255;0mdrought\u001b[0m \n",
       "are prevalent This includes range of political and economic zones as represented by \u001b[30;48;2;255;255;0mcountries\u001b[0m in Africa Asia Latin \n",
       "America and the Caribbean Central and Eastern Europe and the Northern Mediterranean https www unccd int convention \n",
       "\u001b[30;48;2;255;255;0mregions\u001b[0m The Secretariat does not have authority over oceans and maritime zones as its mandate is to combat land \n",
       "degradation and mitigate the effects of \u001b[30;48;2;255;255;0mdrought\u001b[0m on land based ecosystems and populations\n"
      ]
     },
     "metadata": {},
     "output_type": "display_data"
    },
    {
     "data": {
      "text/html": [
       "<pre style=\"white-space:pre;overflow-x:auto;line-height:normal;font-family:Menlo,'DejaVu Sans Mono',consolas,'Courier New',monospace\"><span style=\"color: #000000; text-decoration-color: #000000; background-color: #ffff00\">UNU</span> <span style=\"color: #000000; text-decoration-color: #000000; background-color: #ffff00\">jurisdiction</span> is not limited to any specific geographical area but rather covers the entire world as global \n",
       "academic institution and think tank of the United <span style=\"color: #000000; text-decoration-color: #000000; background-color: #ffff00\">Nations</span> This includes network of campuses programmes and \n",
       "affiliated institutes spanning 12 countries as well as partnerships with other academic <span style=\"color: #000000; text-decoration-color: #000000; background-color: #ffff00\">institutions</span> and \n",
       "policymakers around the world https <span style=\"color: #000000; text-decoration-color: #000000; background-color: #ffff00\">unu</span> <span style=\"color: #000000; text-decoration-color: #000000; background-color: #ffff00\">edu</span> <span style=\"color: #000000; text-decoration-color: #000000; background-color: #ffff00\">UNU</span> does not have any authority over oceans and maritime zones as it is\n",
       "not State or an intergovernmental organization but rather an organ of the United <span style=\"color: #000000; text-decoration-color: #000000; background-color: #ffff00\">Nations</span> General Assembly\n",
       "</pre>\n"
      ],
      "text/plain": [
       "\u001b[30;48;2;255;255;0mUNU\u001b[0m \u001b[30;48;2;255;255;0mjurisdiction\u001b[0m is not limited to any specific geographical area but rather covers the entire world as global \n",
       "academic institution and think tank of the United \u001b[30;48;2;255;255;0mNations\u001b[0m This includes network of campuses programmes and \n",
       "affiliated institutes spanning 12 countries as well as partnerships with other academic \u001b[30;48;2;255;255;0minstitutions\u001b[0m and \n",
       "policymakers around the world https \u001b[30;48;2;255;255;0munu\u001b[0m \u001b[30;48;2;255;255;0medu\u001b[0m \u001b[30;48;2;255;255;0mUNU\u001b[0m does not have any authority over oceans and maritime zones as it is\n",
       "not State or an intergovernmental organization but rather an organ of the United \u001b[30;48;2;255;255;0mNations\u001b[0m General Assembly\n"
      ]
     },
     "metadata": {},
     "output_type": "display_data"
    },
    {
     "data": {
      "text/html": [
       "<pre style=\"white-space:pre;overflow-x:auto;line-height:normal;font-family:Menlo,'DejaVu Sans Mono',consolas,'Courier New',monospace\">The Ramsar Secretariat jurisdiction is based on the Convention on <span style=\"color: #000000; text-decoration-color: #000000; background-color: #ffff00\">Wetlands</span> which applies to all <span style=\"color: #000000; text-decoration-color: #000000; background-color: #ffff00\">wetlands</span> within the\n",
       "territories of its 163 Contracting Parties https www ramsar org about bodies secretariat and includes wide variety \n",
       "of <span style=\"color: #000000; text-decoration-color: #000000; background-color: #ffff00\">habitats</span> such as <span style=\"color: #000000; text-decoration-color: #000000; background-color: #ffff00\">marshes</span> peatlands floodplains rivers and lakes and coastal areas such as saltmarshes <span style=\"color: #000000; text-decoration-color: #000000; background-color: #ffff00\">mangroves</span> \n",
       "and seagrass beds but also coral reefs and other marine areas no deeper than six metres at low tide as well as \n",
       "human made <span style=\"color: #000000; text-decoration-color: #000000; background-color: #ffff00\">wetlands</span> such as waste water treatment <span style=\"color: #000000; text-decoration-color: #000000; background-color: #ffff00\">ponds</span> and reservoirs https leap unep org sites default files 2020\n",
       "09 manual6 2013 pdf The Secretariat has authority over the conservation and wise use of these <span style=\"color: #000000; text-decoration-color: #000000; background-color: #ffff00\">wetlands</span> as well as \n",
       "their designation for inclusion in the Ramsar List of <span style=\"color: #000000; text-decoration-color: #000000; background-color: #ffff00\">Wetlands</span> of International Importance https leap unep org \n",
       "sites default files 2020 09 manual6 2013 pdf The Secretariat does not have jurisdiction over the entire ocean space\n",
       "or maritime zones of its Contracting Parties but only over the <span style=\"color: #000000; text-decoration-color: #000000; background-color: #ffff00\">wetlands</span> that fall within the definition of the \n",
       "Convention\n",
       "</pre>\n"
      ],
      "text/plain": [
       "The Ramsar Secretariat jurisdiction is based on the Convention on \u001b[30;48;2;255;255;0mWetlands\u001b[0m which applies to all \u001b[30;48;2;255;255;0mwetlands\u001b[0m within the\n",
       "territories of its 163 Contracting Parties https www ramsar org about bodies secretariat and includes wide variety \n",
       "of \u001b[30;48;2;255;255;0mhabitats\u001b[0m such as \u001b[30;48;2;255;255;0mmarshes\u001b[0m peatlands floodplains rivers and lakes and coastal areas such as saltmarshes \u001b[30;48;2;255;255;0mmangroves\u001b[0m \n",
       "and seagrass beds but also coral reefs and other marine areas no deeper than six metres at low tide as well as \n",
       "human made \u001b[30;48;2;255;255;0mwetlands\u001b[0m such as waste water treatment \u001b[30;48;2;255;255;0mponds\u001b[0m and reservoirs https leap unep org sites default files 2020\n",
       "09 manual6 2013 pdf The Secretariat has authority over the conservation and wise use of these \u001b[30;48;2;255;255;0mwetlands\u001b[0m as well as \n",
       "their designation for inclusion in the Ramsar List of \u001b[30;48;2;255;255;0mWetlands\u001b[0m of International Importance https leap unep org \n",
       "sites default files 2020 09 manual6 2013 pdf The Secretariat does not have jurisdiction over the entire ocean space\n",
       "or maritime zones of its Contracting Parties but only over the \u001b[30;48;2;255;255;0mwetlands\u001b[0m that fall within the definition of the \n",
       "Convention\n"
      ]
     },
     "metadata": {},
     "output_type": "display_data"
    },
    {
     "data": {
      "text/html": [
       "<pre style=\"white-space:pre;overflow-x:auto;line-height:normal;font-family:Menlo,'DejaVu Sans Mono',consolas,'Courier New',monospace\">The <span style=\"color: #000000; text-decoration-color: #000000; background-color: #ffff00\">Minamata</span> Convention <span style=\"color: #000000; text-decoration-color: #000000; background-color: #ffff00\">jurisdiction</span> is global covering all 147 signatory states https <span style=\"color: #000000; text-decoration-color: #000000; background-color: #ffff00\">minamataconvention</span> org en \n",
       "about It however doesn specify authority over ocean spaces particular <span style=\"color: #000000; text-decoration-color: #000000; background-color: #ffff00\">maritime</span> zones or distances from <span style=\"color: #000000; text-decoration-color: #000000; background-color: #ffff00\">coastlines</span>\n",
       "</pre>\n"
      ],
      "text/plain": [
       "The \u001b[30;48;2;255;255;0mMinamata\u001b[0m Convention \u001b[30;48;2;255;255;0mjurisdiction\u001b[0m is global covering all 147 signatory states https \u001b[30;48;2;255;255;0mminamataconvention\u001b[0m org en \n",
       "about It however doesn specify authority over ocean spaces particular \u001b[30;48;2;255;255;0mmaritime\u001b[0m zones or distances from \u001b[30;48;2;255;255;0mcoastlines\u001b[0m\n"
      ]
     },
     "metadata": {},
     "output_type": "display_data"
    },
    {
     "data": {
      "text/html": [
       "<pre style=\"white-space:pre;overflow-x:auto;line-height:normal;font-family:Menlo,'DejaVu Sans Mono',consolas,'Courier New',monospace\"><span style=\"color: #000000; text-decoration-color: #000000; background-color: #ffff00\">UNOOSA</span> <span style=\"color: #000000; text-decoration-color: #000000; background-color: #ffff00\">jurisdiction</span> is focused on the exploration and use of outer space including the moon and other celestial \n",
       "bodies for peaceful purposes This covers all activities of states parties to the Outer Space Treaty whether carried\n",
       "out by governmental or non governmental entities within the framework of international law https www <span style=\"color: #000000; text-decoration-color: #000000; background-color: #ffff00\">unoosa</span> org \n",
       "<span style=\"color: #000000; text-decoration-color: #000000; background-color: #ffff00\">oosa</span> en ourwork spacelaw <span style=\"color: #000000; text-decoration-color: #000000; background-color: #ffff00\">treaties</span> outerspacetreaty html <span style=\"color: #000000; text-decoration-color: #000000; background-color: #ffff00\">UNOOSA</span> does not have any authority over the <span style=\"color: #000000; text-decoration-color: #000000; background-color: #ffff00\">oceans</span> and \n",
       "maritime zones of the Earth as these are governed by other <span style=\"color: #000000; text-decoration-color: #000000; background-color: #ffff00\">treaties</span> and principles\n",
       "</pre>\n"
      ],
      "text/plain": [
       "\u001b[30;48;2;255;255;0mUNOOSA\u001b[0m \u001b[30;48;2;255;255;0mjurisdiction\u001b[0m is focused on the exploration and use of outer space including the moon and other celestial \n",
       "bodies for peaceful purposes This covers all activities of states parties to the Outer Space Treaty whether carried\n",
       "out by governmental or non governmental entities within the framework of international law https www \u001b[30;48;2;255;255;0munoosa\u001b[0m org \n",
       "\u001b[30;48;2;255;255;0moosa\u001b[0m en ourwork spacelaw \u001b[30;48;2;255;255;0mtreaties\u001b[0m outerspacetreaty html \u001b[30;48;2;255;255;0mUNOOSA\u001b[0m does not have any authority over the \u001b[30;48;2;255;255;0moceans\u001b[0m and \n",
       "maritime zones of the Earth as these are governed by other \u001b[30;48;2;255;255;0mtreaties\u001b[0m and principles\n"
      ]
     },
     "metadata": {},
     "output_type": "display_data"
    },
    {
     "data": {
      "text/html": [
       "<pre style=\"white-space:pre;overflow-x:auto;line-height:normal;font-family:Menlo,'DejaVu Sans Mono',consolas,'Courier New',monospace\"><span style=\"color: #000000; text-decoration-color: #000000; background-color: #ffff00\">UNODC</span> <span style=\"color: #000000; text-decoration-color: #000000; background-color: #ffff00\">jurisdiction</span> is not limited to specific geographical area but rather to the offences established in \n",
       "accordance with the Organized Crime Convention and other relevant treaties This means that <span style=\"color: #000000; text-decoration-color: #000000; background-color: #ffff00\">UNODC</span> can assist states \n",
       "in preventing and combating transnational organized crime corruption terrorism drug trafficking money laundering \n",
       "cybercrime and other related issues regardless of where they occur https www <span style=\"color: #000000; text-decoration-color: #000000; background-color: #ffff00\">unodc</span> org e4j en organized crime \n",
       "module key issues <span style=\"color: #000000; text-decoration-color: #000000; background-color: #ffff00\">jurisdictions</span> html However <span style=\"color: #000000; text-decoration-color: #000000; background-color: #ffff00\">UNODC</span> respects the sovereignty and <span style=\"color: #000000; text-decoration-color: #000000; background-color: #ffff00\">jurisdiction</span> of each state party \n",
       "and encourages cooperation and coordination among states to avoid <span style=\"color: #000000; text-decoration-color: #000000; background-color: #ffff00\">jurisdictional</span> gaps or conflicts https www <span style=\"color: #000000; text-decoration-color: #000000; background-color: #ffff00\">unodc</span> \n",
       "org e4j en cybercrime module key issues sovereignty and <span style=\"color: #000000; text-decoration-color: #000000; background-color: #ffff00\">jurisdiction</span> html <span style=\"color: #000000; text-decoration-color: #000000; background-color: #ffff00\">UNODC</span> also has field offices in various \n",
       "regions and countries which provide technical assistance and support to the local authorities https www <span style=\"color: #000000; text-decoration-color: #000000; background-color: #ffff00\">unodc</span> org \n",
       "<span style=\"color: #000000; text-decoration-color: #000000; background-color: #ffff00\">unodc</span> en corruption country profile index html <span style=\"color: #000000; text-decoration-color: #000000; background-color: #ffff00\">UNODC</span> does not have specific <span style=\"color: #000000; text-decoration-color: #000000; background-color: #ffff00\">jurisdiction</span> over ocean spaces and \n",
       "maritime zones but rather works with states and other international organizations to address various crimes and \n",
       "threats that occur at sea in accordance with the United <span style=\"color: #000000; text-decoration-color: #000000; background-color: #ffff00\">Nations</span> Convention on the Law of the Sea³ and other \n",
       "relevant treaties https www un org Depts los general_assembly contributions_2019 <span style=\"color: #000000; text-decoration-color: #000000; background-color: #ffff00\">UNODC</span> pdf\n",
       "</pre>\n"
      ],
      "text/plain": [
       "\u001b[30;48;2;255;255;0mUNODC\u001b[0m \u001b[30;48;2;255;255;0mjurisdiction\u001b[0m is not limited to specific geographical area but rather to the offences established in \n",
       "accordance with the Organized Crime Convention and other relevant treaties This means that \u001b[30;48;2;255;255;0mUNODC\u001b[0m can assist states \n",
       "in preventing and combating transnational organized crime corruption terrorism drug trafficking money laundering \n",
       "cybercrime and other related issues regardless of where they occur https www \u001b[30;48;2;255;255;0munodc\u001b[0m org e4j en organized crime \n",
       "module key issues \u001b[30;48;2;255;255;0mjurisdictions\u001b[0m html However \u001b[30;48;2;255;255;0mUNODC\u001b[0m respects the sovereignty and \u001b[30;48;2;255;255;0mjurisdiction\u001b[0m of each state party \n",
       "and encourages cooperation and coordination among states to avoid \u001b[30;48;2;255;255;0mjurisdictional\u001b[0m gaps or conflicts https www \u001b[30;48;2;255;255;0munodc\u001b[0m \n",
       "org e4j en cybercrime module key issues sovereignty and \u001b[30;48;2;255;255;0mjurisdiction\u001b[0m html \u001b[30;48;2;255;255;0mUNODC\u001b[0m also has field offices in various \n",
       "regions and countries which provide technical assistance and support to the local authorities https www \u001b[30;48;2;255;255;0munodc\u001b[0m org \n",
       "\u001b[30;48;2;255;255;0munodc\u001b[0m en corruption country profile index html \u001b[30;48;2;255;255;0mUNODC\u001b[0m does not have specific \u001b[30;48;2;255;255;0mjurisdiction\u001b[0m over ocean spaces and \n",
       "maritime zones but rather works with states and other international organizations to address various crimes and \n",
       "threats that occur at sea in accordance with the United \u001b[30;48;2;255;255;0mNations\u001b[0m Convention on the Law of the Sea³ and other \n",
       "relevant treaties https www un org Depts los general_assembly contributions_2019 \u001b[30;48;2;255;255;0mUNODC\u001b[0m pdf\n"
      ]
     },
     "metadata": {},
     "output_type": "display_data"
    },
    {
     "data": {
      "text/html": [
       "<pre style=\"white-space:pre;overflow-x:auto;line-height:normal;font-family:Menlo,'DejaVu Sans Mono',consolas,'Courier New',monospace\">Global <span style=\"color: #000000; text-decoration-color: #000000; background-color: #ffff00\">geographical</span> scope Exclusive economic <span style=\"color: #000000; text-decoration-color: #000000; background-color: #ffff00\">zones</span> <span style=\"color: #000000; text-decoration-color: #000000; background-color: #ffff00\">EEZs</span> Territorial waters Member states authority <span style=\"color: #000000; text-decoration-color: #000000; background-color: #ffff00\">Maritime</span> <span style=\"color: #000000; text-decoration-color: #000000; background-color: #ffff00\">regions</span>\n",
       "International waters Coastal areas Oceanic resources Inland waters <span style=\"color: #000000; text-decoration-color: #000000; background-color: #ffff00\">Maritime</span> safety and security Environmental \n",
       "protection\n",
       "</pre>\n"
      ],
      "text/plain": [
       "Global \u001b[30;48;2;255;255;0mgeographical\u001b[0m scope Exclusive economic \u001b[30;48;2;255;255;0mzones\u001b[0m \u001b[30;48;2;255;255;0mEEZs\u001b[0m Territorial waters Member states authority \u001b[30;48;2;255;255;0mMaritime\u001b[0m \u001b[30;48;2;255;255;0mregions\u001b[0m\n",
       "International waters Coastal areas Oceanic resources Inland waters \u001b[30;48;2;255;255;0mMaritime\u001b[0m safety and security Environmental \n",
       "protection\n"
      ]
     },
     "metadata": {},
     "output_type": "display_data"
    }
   ],
   "source": [
    "# Clean\n",
    "data['Spatial Jurisdiction Cleaned'] = data['Spatial Jurisdiction'].apply(clean_text)\n",
    "# Apply the function to each document and create a new column 'keywords'\n",
    "data['Spatial Jurisdiction_keywords'] = data['Spatial Jurisdiction Cleaned'].apply(keywords_extractor)\n",
    "data['Spatial Jurisdiction_keyphrases'] = data['Spatial Jurisdiction Cleaned'].apply(keyphrases_extractor)\n",
    "df['Spatial Jurisdiction_highlights'] = df['Spatial Jurisdiction'].apply(keywords_highlight)"
   ]
  },
  {
   "cell_type": "markdown",
   "id": "e4c0a4ea-36fa-4c9c-b833-769bb877b64f",
   "metadata": {},
   "source": [
    "#### 2. Subject Matter Jurisdiction\n",
    "    Subject matter jurisdiction defines thematic areas of focu, influence, and impact."
   ]
  },
  {
   "cell_type": "code",
   "execution_count": null,
   "id": "f901fed4-e602-4327-8a77-af78a3a5ed0a",
   "metadata": {},
   "outputs": [],
   "source": [
    "# Initialize the KeyBERT model\n",
    "kw_model = KeyBERT()\n",
    "\n",
    "# Custom stop words list (Add any words/phrases you want to exclude)\n",
    "custom_stop_words = [\n",
    "    \"jurisdiction\", \"subject matter jurisdiction\", \"subject\", \"mandate\", \"encompasses\",\n",
    "    \"responsible\", \"space2030 agenda 2030\", \"facilitating\", \"unfccc\", \"isa\",\n",
    "    \"womens\", \"girls\", \"rotterdam stockholm conventions\", \" 2030 agenda\"\n",
    "]\n",
    "\n",
    "# Function to extract keywords from a document, excluding custom stop words\n",
    "def keywords_extractor(doc):\n",
    "    # Extract keywords using KeyBERT\n",
    "    keywords = kw_model.extract_keywords(doc, keyphrase_ngram_range=(1, 1), stop_words='english')\n",
    "\n",
    "    # Filter out keywords that are in the custom stop words list\n",
    "    filtered_keywords = [keyword[0] for keyword in keywords if keyword[0].lower() not in custom_stop_words]\n",
    "\n",
    "    return filtered_keywords\n",
    "\n",
    "# Function to extract keyphrases from a document, excluding custom stop words\n",
    "def keyphrases_extractor(doc):\n",
    "    # Extract keyphrases using KeyBERT\n",
    "    keyphrases = kw_model.extract_keywords(doc, keyphrase_ngram_range=(2, 3), stop_words='english',\n",
    "                                           use_mmr=True, diversity=0.7)\n",
    "\n",
    "    # Filter out keyphrases that are in the custom stop words list\n",
    "    filtered_keyphrases = [keyword[0] for keyword in keyphrases if keyword[0].lower() not in custom_stop_words]\n",
    "\n",
    "    return filtered_keyphrases\n"
   ]
  },
  {
   "cell_type": "code",
   "execution_count": null,
   "id": "5d6b941e-576b-47c7-8215-f9108864228a",
   "metadata": {},
   "outputs": [],
   "source": [
    "# Clean\n",
    "data['Subject Matter Jurisdiction Cleaned'] = data['Subject Matter Jurisdiction'].apply(clean_text)\n",
    "# Apply the function to each document and create a new column 'keywords'\n",
    "data['Subject Matter Jurisdiction_keywords'] = data['Subject Matter Jurisdiction Cleaned'].apply(keywords_extractor)\n",
    "data['Subject Matter Jurisdiction_keyphrases'] = data['Subject Matter Jurisdiction Cleaned'].apply(keyphrases_extractor)\n",
    "# df['Spatial Jurisdiction_highlights'] = df['Spatial Jurisdiction'].apply(keywords_highlight)"
   ]
  },
  {
   "cell_type": "markdown",
   "id": "7d15ad39-a3c6-4910-b653-6e941f77e8b9",
   "metadata": {},
   "source": [
    "#### 3. Source of Jurisdiction\n",
    "    Indicates an IGO’s legal basis and authority, reflecting on compliance and enforcement"
   ]
  },
  {
   "cell_type": "code",
   "execution_count": null,
   "id": "39906f8f-774a-4202-a842-418ba150f2a9",
   "metadata": {},
   "outputs": [],
   "source": [
    "# Initialize the KeyBERT model\n",
    "kw_model = KeyBERT()\n",
    "\n",
    "# Custom stop words list\n",
    "custom_stop_words = [\n",
    "    \"jurisdiction\", \"authority\", \"organization\", \"organizations\", \"authority\", \"organizational\", \"nations\", \"oceans\",\n",
    "    \"establishment\", \"development\", \"provides\", \"purpose\", \"outline\", \"ocean\", \"mandate\", \"doalos\"\n",
    "]\n",
    "\n",
    "# Function to extract keywords from a document, excluding custom stop words\n",
    "def keywords_extractor(doc):\n",
    "    # Extract keywords using KeyBERT\n",
    "    keywords = kw_model.extract_keywords(doc, vectorizer=KeyphraseCountVectorizer(), stop_words='english')\n",
    "\n",
    "    # Filter out keywords that are in the custom stop words list\n",
    "    filtered_keywords = [keyword[0] for keyword in keywords if keyword[0].lower() not in custom_stop_words]\n",
    "\n",
    "    return filtered_keywords\n",
    "\n",
    "\n",
    "# Function to extract keyphrases from a document, excluding custom stop words\n",
    "def keyphrases_extractor(doc):\n",
    "    # Extract keyphrases using KeyBERT\n",
    "    keywords = kw_model.extract_keywords(doc, keyphrase_ngram_range=(1, 3), stop_words='english',\n",
    "                              use_maxsum=True, nr_candidates=15, top_n=10, highlight=True)\n",
    "\n",
    "    # Extract keywords\n",
    "    filtered_keyphrases = [keyword[0] for keyword in keywords if keyword[0].lower() not in custom_stop_words]\n",
    "\n",
    "    return filtered_keyphrases"
   ]
  },
  {
   "cell_type": "code",
   "execution_count": null,
   "id": "22ca0bbe-7f09-43b4-ac41-f803a3fc3c08",
   "metadata": {},
   "outputs": [],
   "source": [
    "# from keybert import KeyBERT\n",
    "\n",
    "# # Initialize KeyBERT\n",
    "# kw_model = KeyBERT()\n",
    "\n",
    "# # Sample document\n",
    "# doc = data['Source of Jurisdiction Cleaned'][0]\n",
    "\n",
    "# # Extract keywords\n",
    "# keywords = kw_model.extract_keywords(doc, top_n=20)\n",
    "# filtered_keywords = [keyword[0] for keyword in keywords if keyword[0].lower() not in custom_stop_words]\n",
    "\n",
    "# # Print the keywords\n",
    "# filtered_keywords"
   ]
  },
  {
   "cell_type": "code",
   "execution_count": null,
   "id": "d420d463-2369-4701-b02c-4cab44456410",
   "metadata": {},
   "outputs": [],
   "source": [
    "# Clean\n",
    "data['Source of Jurisdiction Cleaned'] = data['Source of Jurisdiction'].apply(clean_text)\n",
    "# Apply the function to eachorganizations document and create a new column 'keywords'\n",
    "data['Source of Jurisdiction Keywords'] = data['Source of Jurisdiction Cleaned'].apply(keywords_extractor)\n",
    "data['Source of Jurisdiction Keyphrases'] = data['Source of Jurisdiction Cleaned'].apply(keyphrases_extractor)\n",
    "# df['Spatial Jurisdiction_highlights'] = df['Spatial Jurisdiction'].apply(keywords_highlight)"
   ]
  },
  {
   "cell_type": "code",
   "execution_count": null,
   "id": "92665ac8-0854-40e2-a061-69e8d084795e",
   "metadata": {},
   "outputs": [],
   "source": [
    "df.head()"
   ]
  },
  {
   "cell_type": "markdown",
   "id": "ccd91df3-f04a-49ea-845f-0dde95086e8a",
   "metadata": {},
   "source": [
    "#### 4. Defined Objectives\n",
    "`Indicates an IGO’s mission, vision, expected outcomes, and impacts.`"
   ]
  },
  {
   "cell_type": "code",
   "execution_count": 6,
   "id": "2044ec71-b522-4b7b-9963-6422e072cff3",
   "metadata": {},
   "outputs": [],
   "source": [
    "# from transformers import pipeline\n",
    "# summarizer = pipeline(\"summarization\", model=\"facebook/bart-large-cnn\")\n",
    "# summary = summarizer(doc, max_length=200, min_length=150, do_sample=False)\n",
    "# print(summary)\n"
   ]
  },
  {
   "cell_type": "code",
   "execution_count": null,
   "id": "03eeb6c5-ca63-4819-82a9-45f3e6da22c8",
   "metadata": {},
   "outputs": [],
   "source": [
    "# from transformers import pipeline\n",
    "# summarizer = pipeline(\"summarization\", model=\"google/pegasus-xsum\")\n",
    "# summary = summarizer(doc, max_length=100, min_length=50, do_sample=False)\n",
    "# print(summary)\n"
   ]
  },
  {
   "cell_type": "code",
   "execution_count": null,
   "id": "ae7c5d11-cc81-43c4-8021-559117acbe3a",
   "metadata": {},
   "outputs": [],
   "source": [
    "# from transformers import T5Tokenizer, T5ForConditionalGeneration\n",
    "\n",
    "# model = T5ForConditionalGeneration.from_pretrained(\"t5-small\")\n",
    "# tokenizer = T5Tokenizer.from_pretrained(\"t5-small\")\n",
    "\n",
    "# input_text = data['Defined Objectives'][0]\n",
    "# inputs = tokenizer(input_text, return_tensors=\"pt\", max_length=512, truncation=True)\n",
    "# summary_ids = model.generate(inputs['input_ids'], max_length=100, min_length=50, length_penalty=2.0, num_beams=4, early_stopping=True)\n",
    "# summary = tokenizer.decode(summary_ids[0], skip_special_tokens=True)\n",
    "# print(summary)\n"
   ]
  },
  {
   "cell_type": "code",
   "execution_count": 7,
   "id": "50431acd-59d9-4ff4-8dd8-91387b562546",
   "metadata": {},
   "outputs": [],
   "source": [
    "# Initialize the KeyBERT model\n",
    "kw_model = KeyBERT()\n",
    "\n",
    "# Custom stop words list\n",
    "custom_stop_words = [\"secretariats\", \"statutes\", \"include\", \"duties\", \" convention\", \"objectives\"\n",
    "]\n",
    "\n",
    "# Function to extract keywords from a document, excluding custom stop words\n",
    "def keywords_extractor(doc):\n",
    "    # Extract keywords using KeyBERT\n",
    "    keywords = kw_model.extract_keywords(doc, vectorizer=KeyphraseCountVectorizer(), stop_words='english')\n",
    "\n",
    "    # Filter out keywords that are in the custom stop words list\n",
    "    filtered_keywords = [keyword[0] for keyword in keywords if keyword[0].lower() not in custom_stop_words]\n",
    "\n",
    "    return filtered_keywords\n",
    "\n",
    "\n",
    "# Function to extract keyphrases from a document, excluding custom stop words\n",
    "def keyphrases_extractor(doc):\n",
    "    # Extract keyphrases using KeyBERT\n",
    "    keywords = kw_model.extract_keywords(doc, keyphrase_ngram_range=(2, 4), stop_words='english',\n",
    "                              use_maxsum=True, nr_candidates=25, top_n=25, highlight=True)\n",
    "        \n",
    "    # Extract keywords\n",
    "    filtered_keyphrases = [keyword[0] for keyword in keywords if keyword[0].lower() not in custom_stop_words]\n",
    "\n",
    "    return filtered_keyphrases\n",
    "\n",
    "\n",
    "from transformers import pipeline\n",
    "# Initialize the BART summarization model\n",
    "summarizer = pipeline(\"summarization\", model=\"facebook/bart-large-cnn\")\n",
    "\n",
    "def summarize_text(text):\n",
    "    summary = summarizer(text, max_length=150, min_length=50, do_sample=False)\n",
    "    return summary[0]['summary_text']"
   ]
  },
  {
   "cell_type": "code",
   "execution_count": 8,
   "id": "c3661f4b-a324-4c7f-9b07-8525b8d77a04",
   "metadata": {},
   "outputs": [
    {
     "data": {
      "text/html": [
       "<pre style=\"white-space:pre;overflow-x:auto;line-height:normal;font-family:Menlo,'DejaVu Sans Mono',consolas,'Courier New',monospace\">objectives per articles statutes include advance scientific <span style=\"color: #000000; text-decoration-color: #000000; background-color: #ffff00\">understanding nature resources oceans</span> <span style=\"color: #000000; text-decoration-color: #000000; background-color: #ffff00\">effectiveness </span>\n",
       "<span style=\"color: #000000; text-decoration-color: #000000; background-color: #ffff00\">oceanographic methodologies</span> techniques promote <span style=\"color: #000000; text-decoration-color: #000000; background-color: #ffff00\">facilitate international study ocean</span> purposes encourage assist \n",
       "establishment expansion <span style=\"color: #000000; text-decoration-color: #000000; background-color: #ffff00\">international cooperation marine scientific</span> <span style=\"color: #000000; text-decoration-color: #000000; background-color: #ffff00\">promote facilitate exchange oceanographic</span> \n",
       "information promote <span style=\"color: #000000; text-decoration-color: #000000; background-color: #ffff00\">facilitate dissemination results oceanographic</span> transfer knowledge resulting promote facilitate \n",
       "development <span style=\"color: #000000; text-decoration-color: #000000; background-color: #ffff00\">necessary infrastructure marine scientific</span> promote facilitate training education scientists technical \n",
       "personnel field oceanography\n",
       "</pre>\n"
      ],
      "text/plain": [
       "objectives per articles statutes include advance scientific \u001b[30;48;2;255;255;0munderstanding nature resources oceans\u001b[0m \u001b[30;48;2;255;255;0meffectiveness \u001b[0m\n",
       "\u001b[30;48;2;255;255;0moceanographic methodologies\u001b[0m techniques promote \u001b[30;48;2;255;255;0mfacilitate international study ocean\u001b[0m purposes encourage assist \n",
       "establishment expansion \u001b[30;48;2;255;255;0minternational cooperation marine scientific\u001b[0m \u001b[30;48;2;255;255;0mpromote facilitate exchange oceanographic\u001b[0m \n",
       "information promote \u001b[30;48;2;255;255;0mfacilitate dissemination results oceanographic\u001b[0m transfer knowledge resulting promote facilitate \n",
       "development \u001b[30;48;2;255;255;0mnecessary infrastructure marine scientific\u001b[0m promote facilitate training education scientists technical \n",
       "personnel field oceanography\n"
      ]
     },
     "metadata": {},
     "output_type": "display_data"
    },
    {
     "data": {
      "text/html": [
       "<pre style=\"white-space:pre;overflow-x:auto;line-height:normal;font-family:Menlo,'DejaVu Sans Mono',consolas,'Courier New',monospace\"><span style=\"color: #000000; text-decoration-color: #000000; background-color: #ffff00\">stated article constitution objectives</span> collecting analyzing interpreting <span style=\"color: #000000; text-decoration-color: #000000; background-color: #ffff00\">disseminating information related </span>\n",
       "<span style=\"color: #000000; text-decoration-color: #000000; background-color: #ffff00\">nutrition</span> agriculture promoting recommending national international action scientific technological social economic\n",
       "research <span style=\"color: #000000; text-decoration-color: #000000; background-color: #ffff00\">related nutrition food agriculture</span> education administration fields conserving natural resources improving \n",
       "methods agricultural production processing marketing distribution food agricultural <span style=\"color: #000000; text-decoration-color: #000000; background-color: #ffff00\">products adopting policies </span>\n",
       "<span style=\"color: #000000; text-decoration-color: #000000; background-color: #ffff00\">agricultural</span> commodity arrangements providing technical assistance organizing missions assist governments taking \n",
       "necessary actions <span style=\"color: #000000; text-decoration-color: #000000; background-color: #ffff00\">implement purposes organization set</span> preamble\n",
       "</pre>\n"
      ],
      "text/plain": [
       "\u001b[30;48;2;255;255;0mstated article constitution objectives\u001b[0m collecting analyzing interpreting \u001b[30;48;2;255;255;0mdisseminating information related \u001b[0m\n",
       "\u001b[30;48;2;255;255;0mnutrition\u001b[0m agriculture promoting recommending national international action scientific technological social economic\n",
       "research \u001b[30;48;2;255;255;0mrelated nutrition food agriculture\u001b[0m education administration fields conserving natural resources improving \n",
       "methods agricultural production processing marketing distribution food agricultural \u001b[30;48;2;255;255;0mproducts adopting policies \u001b[0m\n",
       "\u001b[30;48;2;255;255;0magricultural\u001b[0m commodity arrangements providing technical assistance organizing missions assist governments taking \n",
       "necessary actions \u001b[30;48;2;255;255;0mimplement purposes organization set\u001b[0m preamble\n"
      ]
     },
     "metadata": {},
     "output_type": "display_data"
    },
    {
     "data": {
      "text/html": [
       "<pre style=\"white-space:pre;overflow-x:auto;line-height:normal;font-family:Menlo,'DejaVu Sans Mono',consolas,'Courier New',monospace\">according part <span style=\"color: #000000; text-decoration-color: #000000; background-color: #ffff00\">article international maritime organization</span> objectives include several key objectives providing \n",
       "machinery cooperation among governments field governmental regulation practices relating technical matters kinds \n",
       "affecting <span style=\"color: #000000; text-decoration-color: #000000; background-color: #ffff00\">shipping engaged international trade</span> removal discriminatory action unnecessary <span style=\"color: #000000; text-decoration-color: #000000; background-color: #ffff00\">restrictions governments </span>\n",
       "<span style=\"color: #000000; text-decoration-color: #000000; background-color: #ffff00\">affecting shipping</span> international trade considering matters concerning unfair <span style=\"color: #000000; text-decoration-color: #000000; background-color: #ffff00\">restrictive practices shipping </span>\n",
       "<span style=\"color: #000000; text-decoration-color: #000000; background-color: #ffff00\">concerns</span> matters concerning shipping <span style=\"color: #000000; text-decoration-color: #000000; background-color: #ffff00\">effect shipping marine environment</span> referred organ specialized agency united \n",
       "nations providing exchange information among governments matters consideration organization consideration matters \n",
       "may <span style=\"color: #000000; text-decoration-color: #000000; background-color: #ffff00\">affect freedom shipping</span> flags take part international trade consideration matters concerning shipping <span style=\"color: #000000; text-decoration-color: #000000; background-color: #ffff00\">effect </span>\n",
       "<span style=\"color: #000000; text-decoration-color: #000000; background-color: #ffff00\">shipping marine environment</span>\n",
       "</pre>\n"
      ],
      "text/plain": [
       "according part \u001b[30;48;2;255;255;0marticle international maritime organization\u001b[0m objectives include several key objectives providing \n",
       "machinery cooperation among governments field governmental regulation practices relating technical matters kinds \n",
       "affecting \u001b[30;48;2;255;255;0mshipping engaged international trade\u001b[0m removal discriminatory action unnecessary \u001b[30;48;2;255;255;0mrestrictions governments \u001b[0m\n",
       "\u001b[30;48;2;255;255;0maffecting shipping\u001b[0m international trade considering matters concerning unfair \u001b[30;48;2;255;255;0mrestrictive practices shipping \u001b[0m\n",
       "\u001b[30;48;2;255;255;0mconcerns\u001b[0m matters concerning shipping \u001b[30;48;2;255;255;0meffect shipping marine environment\u001b[0m referred organ specialized agency united \n",
       "nations providing exchange information among governments matters consideration organization consideration matters \n",
       "may \u001b[30;48;2;255;255;0maffect freedom shipping\u001b[0m flags take part international trade consideration matters concerning shipping \u001b[30;48;2;255;255;0meffect \u001b[0m\n",
       "\u001b[30;48;2;255;255;0mshipping marine environment\u001b[0m\n"
      ]
     },
     "metadata": {},
     "output_type": "display_data"
    },
    {
     "data": {
      "text/html": [
       "<pre style=\"white-space:pre;overflow-x:auto;line-height:normal;font-family:Menlo,'DejaVu Sans Mono',consolas,'Courier New',monospace\">according secretarygeneral bulletin <span style=\"color: #000000; text-decoration-color: #000000; background-color: #ffff00\">stsgb20153 doaloss objectives encompass</span> key functions promoting <span style=\"color: #000000; text-decoration-color: #000000; background-color: #ffff00\">understanding </span>\n",
       "<span style=\"color: #000000; text-decoration-color: #000000; background-color: #ffff00\">unclos related agreements</span> aiding uniform application providing extensive support meetings concerning convention \n",
       "focusing sustainable management <span style=\"color: #000000; text-decoration-color: #000000; background-color: #ffff00\">marine resources dispute resolution</span> commission limits continental shelf technical \n",
       "aid delineating continental shelf boundaries supporting <span style=\"color: #000000; text-decoration-color: #000000; background-color: #ffff00\">general assembly matters ocean</span> law including policy \n",
       "guidance reporting developments additionally doalos offers substantial support <span style=\"color: #000000; text-decoration-color: #000000; background-color: #ffff00\">review conference unfsa </span>\n",
       "<span style=\"color: #000000; text-decoration-color: #000000; background-color: #ffff00\">consultations</span> parties agreement provides policy recommendations support general <span style=\"color: #000000; text-decoration-color: #000000; background-color: #ffff00\">assembly resolutions ocean affairs</span> \n",
       "<span style=\"color: #000000; text-decoration-color: #000000; background-color: #ffff00\">fisheries multifaceted role ensures</span> implementation legal <span style=\"color: #000000; text-decoration-color: #000000; background-color: #ffff00\">frameworks pertaining ocean governance</span>\n",
       "</pre>\n"
      ],
      "text/plain": [
       "according secretarygeneral bulletin \u001b[30;48;2;255;255;0mstsgb20153 doaloss objectives encompass\u001b[0m key functions promoting \u001b[30;48;2;255;255;0munderstanding \u001b[0m\n",
       "\u001b[30;48;2;255;255;0munclos related agreements\u001b[0m aiding uniform application providing extensive support meetings concerning convention \n",
       "focusing sustainable management \u001b[30;48;2;255;255;0mmarine resources dispute resolution\u001b[0m commission limits continental shelf technical \n",
       "aid delineating continental shelf boundaries supporting \u001b[30;48;2;255;255;0mgeneral assembly matters ocean\u001b[0m law including policy \n",
       "guidance reporting developments additionally doalos offers substantial support \u001b[30;48;2;255;255;0mreview conference unfsa \u001b[0m\n",
       "\u001b[30;48;2;255;255;0mconsultations\u001b[0m parties agreement provides policy recommendations support general \u001b[30;48;2;255;255;0massembly resolutions ocean affairs\u001b[0m \n",
       "\u001b[30;48;2;255;255;0mfisheries multifaceted role ensures\u001b[0m implementation legal \u001b[30;48;2;255;255;0mframeworks pertaining ocean governance\u001b[0m\n"
      ]
     },
     "metadata": {},
     "output_type": "display_data"
    },
    {
     "data": {
      "text/html": [
       "<pre style=\"white-space:pre;overflow-x:auto;line-height:normal;font-family:Menlo,'DejaVu Sans Mono',consolas,'Courier New',monospace\"><span style=\"color: #000000; text-decoration-color: #000000; background-color: #ffff00\">secretariats duties convention include</span> servicing sessions conference parties subsidiary bodies compiling \n",
       "transmitting reports parties sources supporting technical financial assistance parties particularly developing \n",
       "<span style=\"color: #000000; text-decoration-color: #000000; background-color: #ffff00\">countries convention compliance preparing</span> activity reports conference parties coordinating relevant international \n",
       "organizations handling administrative contractual arrangements directed conference parties effective functioning \n",
       "<span style=\"color: #000000; text-decoration-color: #000000; background-color: #ffff00\">executing specified secretariat roles</span> protocols tasks <span style=\"color: #000000; text-decoration-color: #000000; background-color: #ffff00\">assigned conference parties responsibilities</span> ensuring \n",
       "effective implementation coordination within conventions framework\n",
       "</pre>\n"
      ],
      "text/plain": [
       "\u001b[30;48;2;255;255;0msecretariats duties convention include\u001b[0m servicing sessions conference parties subsidiary bodies compiling \n",
       "transmitting reports parties sources supporting technical financial assistance parties particularly developing \n",
       "\u001b[30;48;2;255;255;0mcountries convention compliance preparing\u001b[0m activity reports conference parties coordinating relevant international \n",
       "organizations handling administrative contractual arrangements directed conference parties effective functioning \n",
       "\u001b[30;48;2;255;255;0mexecuting specified secretariat roles\u001b[0m protocols tasks \u001b[30;48;2;255;255;0massigned conference parties responsibilities\u001b[0m ensuring \n",
       "effective implementation coordination within conventions framework\n"
      ]
     },
     "metadata": {},
     "output_type": "display_data"
    },
    {
     "data": {
      "text/html": [
       "<pre style=\"white-space:pre;overflow-x:auto;line-height:normal;font-family:Menlo,'DejaVu Sans Mono',consolas,'Courier New',monospace\">according part xi <span style=\"color: #000000; text-decoration-color: #000000; background-color: #ffff00\">section united nations convention</span> <span style=\"color: #000000; text-decoration-color: #000000; background-color: #ffff00\">sea objectives encompass</span> several key functions organizing \n",
       "controlling activities area particularly view administering resources <span style=\"color: #000000; text-decoration-color: #000000; background-color: #ffff00\">area establishing specific policies</span> \n",
       "conformity convention general policies established assembly adopting applying provisionally <span style=\"color: #000000; text-decoration-color: #000000; background-color: #ffff00\">rules regulations </span>\n",
       "<span style=\"color: #000000; text-decoration-color: #000000; background-color: #ffff00\">procedures authority</span> prospecting exploration exploitation area well financial management internal administration \n",
       "authority supervising coordinating implementation provisions part xi inviting attention assembly cases \n",
       "noncompliance exercising <span style=\"color: #000000; text-decoration-color: #000000; background-color: #ffff00\">control activities area accordance</span> 153 paragraph <span style=\"color: #000000; text-decoration-color: #000000; background-color: #ffff00\">rules regulations procedures authority</span> \n",
       "equitable sharing financial economic benefits derived activities area taking account interests needs developing \n",
       "states peoples attained full independence selfgoverning status functions enable <span style=\"color: #000000; text-decoration-color: #000000; background-color: #ffff00\">authority fulfil role organization</span> \n",
       "parties shall carry rights obligations convention respect activities area\n",
       "</pre>\n"
      ],
      "text/plain": [
       "according part xi \u001b[30;48;2;255;255;0msection united nations convention\u001b[0m \u001b[30;48;2;255;255;0msea objectives encompass\u001b[0m several key functions organizing \n",
       "controlling activities area particularly view administering resources \u001b[30;48;2;255;255;0marea establishing specific policies\u001b[0m \n",
       "conformity convention general policies established assembly adopting applying provisionally \u001b[30;48;2;255;255;0mrules regulations \u001b[0m\n",
       "\u001b[30;48;2;255;255;0mprocedures authority\u001b[0m prospecting exploration exploitation area well financial management internal administration \n",
       "authority supervising coordinating implementation provisions part xi inviting attention assembly cases \n",
       "noncompliance exercising \u001b[30;48;2;255;255;0mcontrol activities area accordance\u001b[0m 153 paragraph \u001b[30;48;2;255;255;0mrules regulations procedures authority\u001b[0m \n",
       "equitable sharing financial economic benefits derived activities area taking account interests needs developing \n",
       "states peoples attained full independence selfgoverning status functions enable \u001b[30;48;2;255;255;0mauthority fulfil role organization\u001b[0m \n",
       "parties shall carry rights obligations convention respect activities area\n"
      ]
     },
     "metadata": {},
     "output_type": "display_data"
    },
    {
     "data": {
      "text/html": [
       "<pre style=\"white-space:pre;overflow-x:auto;line-height:normal;font-family:Menlo,'DejaVu Sans Mono',consolas,'Courier New',monospace\">according governing council decision 21 15 june 1972 objectives encompass several key functions providing general \n",
       "policy guidance <span style=\"color: #000000; text-decoration-color: #000000; background-color: #ffff00\">direction coordination environmental programmes</span> united nations system keeping review world \n",
       "environmental situation order <span style=\"color: #000000; text-decoration-color: #000000; background-color: #ffff00\">ensure emerging environmental problems</span> international significance receive appropriate\n",
       "adequate consideration governments promoting international cooperation field environment recommending appropriate \n",
       "policies end providing assistance developing <span style=\"color: #000000; text-decoration-color: #000000; background-color: #ffff00\">countries regions implementation environmental</span> policies initiating \n",
       "coordinating scientific research technological development field <span style=\"color: #000000; text-decoration-color: #000000; background-color: #ffff00\">environment additionally responsible disseminating</span>\n",
       "raising public <span style=\"color: #000000; text-decoration-color: #000000; background-color: #ffff00\">awareness environmental issues facilitating</span> information experience among countries providing \n",
       "advisory services technical assistance <span style=\"color: #000000; text-decoration-color: #000000; background-color: #ffff00\">governments intergovernmental bodies environmental</span> functions enable fulfil \n",
       "role leading <span style=\"color: #000000; text-decoration-color: #000000; background-color: #ffff00\">global authority environment principal</span> environmental action within united nations system\n",
       "</pre>\n"
      ],
      "text/plain": [
       "according governing council decision 21 15 june 1972 objectives encompass several key functions providing general \n",
       "policy guidance \u001b[30;48;2;255;255;0mdirection coordination environmental programmes\u001b[0m united nations system keeping review world \n",
       "environmental situation order \u001b[30;48;2;255;255;0mensure emerging environmental problems\u001b[0m international significance receive appropriate\n",
       "adequate consideration governments promoting international cooperation field environment recommending appropriate \n",
       "policies end providing assistance developing \u001b[30;48;2;255;255;0mcountries regions implementation environmental\u001b[0m policies initiating \n",
       "coordinating scientific research technological development field \u001b[30;48;2;255;255;0menvironment additionally responsible disseminating\u001b[0m\n",
       "raising public \u001b[30;48;2;255;255;0mawareness environmental issues facilitating\u001b[0m information experience among countries providing \n",
       "advisory services technical assistance \u001b[30;48;2;255;255;0mgovernments intergovernmental bodies environmental\u001b[0m functions enable fulfil \n",
       "role leading \u001b[30;48;2;255;255;0mglobal authority environment principal\u001b[0m environmental action within united nations system\n"
      ]
     },
     "metadata": {},
     "output_type": "display_data"
    },
    {
     "data": {
      "text/html": [
       "<pre style=\"white-space:pre;overflow-x:auto;line-height:normal;font-family:Menlo,'DejaVu Sans Mono',consolas,'Courier New',monospace\"><span style=\"color: #000000; text-decoration-color: #000000; background-color: #ffff00\">objectives defined include help</span> <span style=\"color: #000000; text-decoration-color: #000000; background-color: #ffff00\">achieve simultaneous eradication poverty</span> reduction inequalities exclusion \n",
       "<span style=\"color: #000000; text-decoration-color: #000000; background-color: #ffff00\">internationally agreed development goals</span> technical support capacity development advocacy promote coordination \n",
       "efficiency effectiveness un development system country level un resident coordinator system delivering one approach\n",
       "un partnership framework un development group <span style=\"color: #000000; text-decoration-color: #000000; background-color: #ffff00\">report human development provide</span> analysis <span style=\"color: #000000; text-decoration-color: #000000; background-color: #ffff00\">policy recommendations </span>\n",
       "<span style=\"color: #000000; text-decoration-color: #000000; background-color: #ffff00\">human development</span> publications advocate development goodwill ambassadors partnerships governments civil society \n",
       "private sector stakeholders\n",
       "</pre>\n"
      ],
      "text/plain": [
       "\u001b[30;48;2;255;255;0mobjectives defined include help\u001b[0m \u001b[30;48;2;255;255;0machieve simultaneous eradication poverty\u001b[0m reduction inequalities exclusion \n",
       "\u001b[30;48;2;255;255;0minternationally agreed development goals\u001b[0m technical support capacity development advocacy promote coordination \n",
       "efficiency effectiveness un development system country level un resident coordinator system delivering one approach\n",
       "un partnership framework un development group \u001b[30;48;2;255;255;0mreport human development provide\u001b[0m analysis \u001b[30;48;2;255;255;0mpolicy recommendations \u001b[0m\n",
       "\u001b[30;48;2;255;255;0mhuman development\u001b[0m publications advocate development goodwill ambassadors partnerships governments civil society \n",
       "private sector stakeholders\n"
      ]
     },
     "metadata": {},
     "output_type": "display_data"
    },
    {
     "data": {
      "text/html": [
       "<pre style=\"white-space:pre;overflow-x:auto;line-height:normal;font-family:Menlo,'DejaVu Sans Mono',consolas,'Courier New',monospace\">per <span style=\"color: #000000; text-decoration-color: #000000; background-color: #ffff00\">general assembly resolution 1995</span> december 1964 <span style=\"color: #000000; text-decoration-color: #000000; background-color: #ffff00\">formulates principles policies international</span> economic \n",
       "development proposes effective implementation strategies considering economic system diversity development stages \n",
       "reviews coordinates united nations system <span style=\"color: #000000; text-decoration-color: #000000; background-color: #ffff00\">activities international trade economic</span> <span style=\"color: #000000; text-decoration-color: #000000; background-color: #ffff00\">collaborating general assembly </span>\n",
       "<span style=\"color: #000000; text-decoration-color: #000000; background-color: #ffff00\">economic</span> council initiates <span style=\"color: #000000; text-decoration-color: #000000; background-color: #ffff00\">actions negotiating adopting multilateral</span> legal instruments <span style=\"color: #000000; text-decoration-color: #000000; background-color: #ffff00\">harmonizes trade development</span>\n",
       "<span style=\"color: #000000; text-decoration-color: #000000; background-color: #ffff00\">policies</span> regional groups addresses relevant matters additionally evaluates recommends institutional arrangement \n",
       "improvements including comprehensive organization establishment within un system functions <span style=\"color: #000000; text-decoration-color: #000000; background-color: #ffff00\">establish general </span>\n",
       "<span style=\"color: #000000; text-decoration-color: #000000; background-color: #ffff00\">assemblys</span> principal organ trade development\n",
       "</pre>\n"
      ],
      "text/plain": [
       "per \u001b[30;48;2;255;255;0mgeneral assembly resolution 1995\u001b[0m december 1964 \u001b[30;48;2;255;255;0mformulates principles policies international\u001b[0m economic \n",
       "development proposes effective implementation strategies considering economic system diversity development stages \n",
       "reviews coordinates united nations system \u001b[30;48;2;255;255;0mactivities international trade economic\u001b[0m \u001b[30;48;2;255;255;0mcollaborating general assembly \u001b[0m\n",
       "\u001b[30;48;2;255;255;0meconomic\u001b[0m council initiates \u001b[30;48;2;255;255;0mactions negotiating adopting multilateral\u001b[0m legal instruments \u001b[30;48;2;255;255;0mharmonizes trade development\u001b[0m\n",
       "\u001b[30;48;2;255;255;0mpolicies\u001b[0m regional groups addresses relevant matters additionally evaluates recommends institutional arrangement \n",
       "improvements including comprehensive organization establishment within un system functions \u001b[30;48;2;255;255;0mestablish general \u001b[0m\n",
       "\u001b[30;48;2;255;255;0massemblys\u001b[0m principal organ trade development\n"
      ]
     },
     "metadata": {},
     "output_type": "display_data"
    },
    {
     "data": {
      "text/html": [
       "<pre style=\"white-space:pre;overflow-x:auto;line-height:normal;font-family:Menlo,'DejaVu Sans Mono',consolas,'Courier New',monospace\">according <span style=\"color: #000000; text-decoration-color: #000000; background-color: #ffff00\">chapter constitution organizations objectives</span> accelerate <span style=\"color: #000000; text-decoration-color: #000000; background-color: #ffff00\">industrial development developing countries</span> \n",
       "assisting establishment new international economic <span style=\"color: #000000; text-decoration-color: #000000; background-color: #ffff00\">order promote industrial development</span> global regional national \n",
       "well sectoral levels <span style=\"color: #000000; text-decoration-color: #000000; background-color: #ffff00\">fulfil objectives organization shall</span> various functions encouraging <span style=\"color: #000000; text-decoration-color: #000000; background-color: #ffff00\">assisting developing </span>\n",
       "<span style=\"color: #000000; text-decoration-color: #000000; background-color: #ffff00\">countries industrialization</span> initiating coordinating activities united nations system field industrial development \n",
       "creating developing new concepts <span style=\"color: #000000; text-decoration-color: #000000; background-color: #ffff00\">approaches industrial development providing</span> instrument international cooperation \n",
       "dialogue industrial matters serving clearinghouse industrial information promoting encouraging development transfer\n",
       "use industrial technology <span style=\"color: #000000; text-decoration-color: #000000; background-color: #ffff00\">organizing supporting industrial</span> training programmes assisting exploitation conservation \n",
       "transformation natural resources developing special measures leastdeveloped disadvantaged <span style=\"color: #000000; text-decoration-color: #000000; background-color: #ffff00\">developing countries </span>\n",
       "<span style=\"color: #000000; text-decoration-color: #000000; background-color: #ffff00\">assisting</span> obtaining external financing industrial projects functions enable organization play central role \n",
       "responsible reviewing promoting <span style=\"color: #000000; text-decoration-color: #000000; background-color: #ffff00\">coordination activities united nations</span> field <span style=\"color: #000000; text-decoration-color: #000000; background-color: #ffff00\">industrial development conformity </span>\n",
       "<span style=\"color: #000000; text-decoration-color: #000000; background-color: #ffff00\">responsibilities</span> social council charter united nations applicable relationship agreements\n",
       "</pre>\n"
      ],
      "text/plain": [
       "according \u001b[30;48;2;255;255;0mchapter constitution organizations objectives\u001b[0m accelerate \u001b[30;48;2;255;255;0mindustrial development developing countries\u001b[0m \n",
       "assisting establishment new international economic \u001b[30;48;2;255;255;0morder promote industrial development\u001b[0m global regional national \n",
       "well sectoral levels \u001b[30;48;2;255;255;0mfulfil objectives organization shall\u001b[0m various functions encouraging \u001b[30;48;2;255;255;0massisting developing \u001b[0m\n",
       "\u001b[30;48;2;255;255;0mcountries industrialization\u001b[0m initiating coordinating activities united nations system field industrial development \n",
       "creating developing new concepts \u001b[30;48;2;255;255;0mapproaches industrial development providing\u001b[0m instrument international cooperation \n",
       "dialogue industrial matters serving clearinghouse industrial information promoting encouraging development transfer\n",
       "use industrial technology \u001b[30;48;2;255;255;0morganizing supporting industrial\u001b[0m training programmes assisting exploitation conservation \n",
       "transformation natural resources developing special measures leastdeveloped disadvantaged \u001b[30;48;2;255;255;0mdeveloping countries \u001b[0m\n",
       "\u001b[30;48;2;255;255;0massisting\u001b[0m obtaining external financing industrial projects functions enable organization play central role \n",
       "responsible reviewing promoting \u001b[30;48;2;255;255;0mcoordination activities united nations\u001b[0m field \u001b[30;48;2;255;255;0mindustrial development conformity \u001b[0m\n",
       "\u001b[30;48;2;255;255;0mresponsibilities\u001b[0m social council charter united nations applicable relationship agreements\n"
      ]
     },
     "metadata": {},
     "output_type": "display_data"
    },
    {
     "data": {
      "text/html": [
       "<pre style=\"white-space:pre;overflow-x:auto;line-height:normal;font-family:Menlo,'DejaVu Sans Mono',consolas,'Courier New',monospace\">according <span style=\"color: #000000; text-decoration-color: #000000; background-color: #ffff00\">preamble chapter constitution objectives</span> several key <span style=\"color: #000000; text-decoration-color: #000000; background-color: #ffff00\">principles promoting social justice</span> <span style=\"color: #000000; text-decoration-color: #000000; background-color: #ffff00\">recognized human</span>\n",
       "<span style=\"color: #000000; text-decoration-color: #000000; background-color: #ffff00\">labour rights</span> declaration philadelphia declaration <span style=\"color: #000000; text-decoration-color: #000000; background-color: #ffff00\">fundamental principles rights work</span> <span style=\"color: #000000; text-decoration-color: #000000; background-color: #ffff00\">adopting international labour</span>\n",
       "<span style=\"color: #000000; text-decoration-color: #000000; background-color: #ffff00\">standards</span> conventions recommendations ensuring effective observance members fostering cooperation among members \n",
       "international organizations especially united nations fields industry employment providing technical assistance \n",
       "information publications various aspects industrial <span style=\"color: #000000; text-decoration-color: #000000; background-color: #ffff00\">life labour principles enable</span> fulfil role specialized agency \n",
       "united nations devoted promoting rights work creating greater opportunities women men decent employment income \n",
       "enhancing coverage effectiveness social protection strengthen tripartism social dialogue\n",
       "</pre>\n"
      ],
      "text/plain": [
       "according \u001b[30;48;2;255;255;0mpreamble chapter constitution objectives\u001b[0m several key \u001b[30;48;2;255;255;0mprinciples promoting social justice\u001b[0m \u001b[30;48;2;255;255;0mrecognized human\u001b[0m\n",
       "\u001b[30;48;2;255;255;0mlabour rights\u001b[0m declaration philadelphia declaration \u001b[30;48;2;255;255;0mfundamental principles rights work\u001b[0m \u001b[30;48;2;255;255;0madopting international labour\u001b[0m\n",
       "\u001b[30;48;2;255;255;0mstandards\u001b[0m conventions recommendations ensuring effective observance members fostering cooperation among members \n",
       "international organizations especially united nations fields industry employment providing technical assistance \n",
       "information publications various aspects industrial \u001b[30;48;2;255;255;0mlife labour principles enable\u001b[0m fulfil role specialized agency \n",
       "united nations devoted promoting rights work creating greater opportunities women men decent employment income \n",
       "enhancing coverage effectiveness social protection strengthen tripartism social dialogue\n"
      ]
     },
     "metadata": {},
     "output_type": "display_data"
    },
    {
     "data": {
      "text/html": [
       "<pre style=\"white-space:pre;overflow-x:auto;line-height:normal;font-family:Menlo,'DejaVu Sans Mono',consolas,'Courier New',monospace\">per <span style=\"color: #000000; text-decoration-color: #000000; background-color: #ffff00\">constitution pursues objectives enhance</span> globally include <span style=\"color: #000000; text-decoration-color: #000000; background-color: #ffff00\">maintaining international cooperation </span>\n",
       "<span style=\"color: #000000; text-decoration-color: #000000; background-color: #ffff00\">telecommunication</span> enhancing participation fostering partnerships entities member states offering technical \n",
       "assistance developing countries mobilizing resources telecommunications developing technical facilities efficient \n",
       "telecommunication services extending new <span style=\"color: #000000; text-decoration-color: #000000; background-color: #ffff00\">telecommunication technologies worldwide using</span> facilitate peaceful \n",
       "relations harmonizing member states actions promoting cooperation adopting broader <span style=\"color: #000000; text-decoration-color: #000000; background-color: #ffff00\">approach telecommunication </span>\n",
       "<span style=\"color: #000000; text-decoration-color: #000000; background-color: #ffff00\">issues cooperation</span> objectives establish uns specialized agency <span style=\"color: #000000; text-decoration-color: #000000; background-color: #ffff00\">telecommunications contributing global information</span> \n",
       "development\n",
       "</pre>\n"
      ],
      "text/plain": [
       "per \u001b[30;48;2;255;255;0mconstitution pursues objectives enhance\u001b[0m globally include \u001b[30;48;2;255;255;0mmaintaining international cooperation \u001b[0m\n",
       "\u001b[30;48;2;255;255;0mtelecommunication\u001b[0m enhancing participation fostering partnerships entities member states offering technical \n",
       "assistance developing countries mobilizing resources telecommunications developing technical facilities efficient \n",
       "telecommunication services extending new \u001b[30;48;2;255;255;0mtelecommunication technologies worldwide using\u001b[0m facilitate peaceful \n",
       "relations harmonizing member states actions promoting cooperation adopting broader \u001b[30;48;2;255;255;0mapproach telecommunication \u001b[0m\n",
       "\u001b[30;48;2;255;255;0missues cooperation\u001b[0m objectives establish uns specialized agency \u001b[30;48;2;255;255;0mtelecommunications contributing global information\u001b[0m \n",
       "development\n"
      ]
     },
     "metadata": {},
     "output_type": "display_data"
    },
    {
     "data": {
      "text/html": [
       "<pre style=\"white-space:pre;overflow-x:auto;line-height:normal;font-family:Menlo,'DejaVu Sans Mono',consolas,'Courier New',monospace\">according preamble part <span style=\"color: #000000; text-decoration-color: #000000; background-color: #ffff00\">convention rights child objectives</span> fulfil specified document include several key functions \n",
       "promoting protecting rights every <span style=\"color: #000000; text-decoration-color: #000000; background-color: #ffff00\">child accordance principles proclaimed</span> united nations universal declaration <span style=\"color: #000000; text-decoration-color: #000000; background-color: #ffff00\">human</span>\n",
       "<span style=\"color: #000000; text-decoration-color: #000000; background-color: #ffff00\">rights ensuring child</span> full decent life conditions ensure dignity promote selfreliance facilitate childs active \n",
       "participation community providing appropriate assistance protection children living exceptionally difficult \n",
       "conditions affected armed conflict disability displacement exploitation abuse neglect respecting <span style=\"color: #000000; text-decoration-color: #000000; background-color: #ffff00\">responsibilities </span>\n",
       "<span style=\"color: #000000; text-decoration-color: #000000; background-color: #ffff00\">rights duties parents</span> legally responsible child providing <span style=\"color: #000000; text-decoration-color: #000000; background-color: #ffff00\">necessary support childs wellbeing</span> fostering \n",
       "international cooperation improving living conditions children every country particular developing countries \n",
       "functions enable fulfil <span style=\"color: #000000; text-decoration-color: #000000; background-color: #ffff00\">role united nations childrens</span> responsible providing <span style=\"color: #000000; text-decoration-color: #000000; background-color: #ffff00\">humanitarian developmental aid children</span>\n",
       "</pre>\n"
      ],
      "text/plain": [
       "according preamble part \u001b[30;48;2;255;255;0mconvention rights child objectives\u001b[0m fulfil specified document include several key functions \n",
       "promoting protecting rights every \u001b[30;48;2;255;255;0mchild accordance principles proclaimed\u001b[0m united nations universal declaration \u001b[30;48;2;255;255;0mhuman\u001b[0m\n",
       "\u001b[30;48;2;255;255;0mrights ensuring child\u001b[0m full decent life conditions ensure dignity promote selfreliance facilitate childs active \n",
       "participation community providing appropriate assistance protection children living exceptionally difficult \n",
       "conditions affected armed conflict disability displacement exploitation abuse neglect respecting \u001b[30;48;2;255;255;0mresponsibilities \u001b[0m\n",
       "\u001b[30;48;2;255;255;0mrights duties parents\u001b[0m legally responsible child providing \u001b[30;48;2;255;255;0mnecessary support childs wellbeing\u001b[0m fostering \n",
       "international cooperation improving living conditions children every country particular developing countries \n",
       "functions enable fulfil \u001b[30;48;2;255;255;0mrole united nations childrens\u001b[0m responsible providing \u001b[30;48;2;255;255;0mhumanitarian developmental aid children\u001b[0m\n"
      ]
     },
     "metadata": {},
     "output_type": "display_data"
    },
    {
     "data": {
      "text/html": [
       "<pre style=\"white-space:pre;overflow-x:auto;line-height:normal;font-family:Menlo,'DejaVu Sans Mono',consolas,'Courier New',monospace\">objective per constitution <span style=\"color: #000000; text-decoration-color: #000000; background-color: #ffff00\">attainment highest possible health</span> peoples functions include <span style=\"color: #000000; text-decoration-color: #000000; background-color: #ffff00\">acting authority </span>\n",
       "<span style=\"color: #000000; text-decoration-color: #000000; background-color: #ffff00\">international health</span> establishing collaboration un <span style=\"color: #000000; text-decoration-color: #000000; background-color: #ffff00\">specialized agencies health administrations</span> <span style=\"color: #000000; text-decoration-color: #000000; background-color: #ffff00\">governments </span>\n",
       "<span style=\"color: #000000; text-decoration-color: #000000; background-color: #ffff00\">strengthening health services</span> health research establishing standards improving teaching training <span style=\"color: #000000; text-decoration-color: #000000; background-color: #ffff00\">standards </span>\n",
       "<span style=\"color: #000000; text-decoration-color: #000000; background-color: #ffff00\">healthrelated professions</span> studying reporting public health techniques providing health information assistance \n",
       "proposing healthrelated conventions recommendations taking actions objectives roles position specialized agency \n",
       "within united nations system <span style=\"color: #000000; text-decoration-color: #000000; background-color: #ffff00\">primarily responsible international health</span> public health\n",
       "</pre>\n"
      ],
      "text/plain": [
       "objective per constitution \u001b[30;48;2;255;255;0mattainment highest possible health\u001b[0m peoples functions include \u001b[30;48;2;255;255;0macting authority \u001b[0m\n",
       "\u001b[30;48;2;255;255;0minternational health\u001b[0m establishing collaboration un \u001b[30;48;2;255;255;0mspecialized agencies health administrations\u001b[0m \u001b[30;48;2;255;255;0mgovernments \u001b[0m\n",
       "\u001b[30;48;2;255;255;0mstrengthening health services\u001b[0m health research establishing standards improving teaching training \u001b[30;48;2;255;255;0mstandards \u001b[0m\n",
       "\u001b[30;48;2;255;255;0mhealthrelated professions\u001b[0m studying reporting public health techniques providing health information assistance \n",
       "proposing healthrelated conventions recommendations taking actions objectives roles position specialized agency \n",
       "within united nations system \u001b[30;48;2;255;255;0mprimarily responsible international health\u001b[0m public health\n"
      ]
     },
     "metadata": {},
     "output_type": "display_data"
    },
    {
     "data": {
      "text/html": [
       "<pre style=\"white-space:pre;overflow-x:auto;line-height:normal;font-family:Menlo,'DejaVu Sans Mono',consolas,'Courier New',monospace\"><span style=\"color: #000000; text-decoration-color: #000000; background-color: #ffff00\">mandated general assembly resolution</span> aims promote <span style=\"color: #000000; text-decoration-color: #000000; background-color: #ffff00\">protect human rights objectives</span> promoting civil cultural economic\n",
       "political social rights carrying tasks assigned un bodies human rights making recommendations promoting right \n",
       "development enhancing support un bodies providing advisory services technical financial assistance <span style=\"color: #000000; text-decoration-color: #000000; background-color: #ffff00\">support human </span>\n",
       "<span style=\"color: #000000; text-decoration-color: #000000; background-color: #ffff00\">rights actions</span> coordinating un education public information programmes human rights actively working remove \n",
       "obstacles prevent human rights violations engaging dialogue <span style=\"color: #000000; text-decoration-color: #000000; background-color: #ffff00\">governments human rights implementation</span> <span style=\"color: #000000; text-decoration-color: #000000; background-color: #ffff00\">international </span>\n",
       "<span style=\"color: #000000; text-decoration-color: #000000; background-color: #ffff00\">cooperation human rights</span> <span style=\"color: #000000; text-decoration-color: #000000; background-color: #ffff00\">protection coordinating human rights</span> across un system streamlining un human rights \n",
       "machinery improved efficiency overseeing centre <span style=\"color: #000000; text-decoration-color: #000000; background-color: #ffff00\">human rights roles establish</span> un <span style=\"color: #000000; text-decoration-color: #000000; background-color: #ffff00\">entity responsible human rights</span> \n",
       "secretarygenerals direction\n",
       "</pre>\n"
      ],
      "text/plain": [
       "\u001b[30;48;2;255;255;0mmandated general assembly resolution\u001b[0m aims promote \u001b[30;48;2;255;255;0mprotect human rights objectives\u001b[0m promoting civil cultural economic\n",
       "political social rights carrying tasks assigned un bodies human rights making recommendations promoting right \n",
       "development enhancing support un bodies providing advisory services technical financial assistance \u001b[30;48;2;255;255;0msupport human \u001b[0m\n",
       "\u001b[30;48;2;255;255;0mrights actions\u001b[0m coordinating un education public information programmes human rights actively working remove \n",
       "obstacles prevent human rights violations engaging dialogue \u001b[30;48;2;255;255;0mgovernments human rights implementation\u001b[0m \u001b[30;48;2;255;255;0minternational \u001b[0m\n",
       "\u001b[30;48;2;255;255;0mcooperation human rights\u001b[0m \u001b[30;48;2;255;255;0mprotection coordinating human rights\u001b[0m across un system streamlining un human rights \n",
       "machinery improved efficiency overseeing centre \u001b[30;48;2;255;255;0mhuman rights roles establish\u001b[0m un \u001b[30;48;2;255;255;0mentity responsible human rights\u001b[0m \n",
       "secretarygenerals direction\n"
      ]
     },
     "metadata": {},
     "output_type": "display_data"
    },
    {
     "data": {
      "text/html": [
       "<pre style=\"white-space:pre;overflow-x:auto;line-height:normal;font-family:Menlo,'DejaVu Sans Mono',consolas,'Courier New',monospace\">according sendai <span style=\"color: #000000; text-decoration-color: #000000; background-color: #ffff00\">framework disaster risk reduction</span> mandated fulfil several <span style=\"color: #000000; text-decoration-color: #000000; background-color: #ffff00\">objectives supporting coordination </span>\n",
       "<span style=\"color: #000000; text-decoration-color: #000000; background-color: #ffff00\">disaster</span> reduction united nations system supporting <span style=\"color: #000000; text-decoration-color: #000000; background-color: #ffff00\">coherence disaster risk reduction</span> change agendas convening \n",
       "global platform <span style=\"color: #000000; text-decoration-color: #000000; background-color: #ffff00\">disaster risk reduction supporting</span> regional <span style=\"color: #000000; text-decoration-color: #000000; background-color: #ffff00\">platforms disaster risk reduction</span> <span style=\"color: #000000; text-decoration-color: #000000; background-color: #ffff00\">development national </span>\n",
       "<span style=\"color: #000000; text-decoration-color: #000000; background-color: #ffff00\">local disaster</span> reduction strategies plans facilitating integration relevant development sectoral plans policies \n",
       "supporting development strengthening national local mechanisms capacities monitoring reviewing progress levels \n",
       "implementation framework supporting development <span style=\"color: #000000; text-decoration-color: #000000; background-color: #ffff00\">indicators methodologies assessment disaster</span> <span style=\"color: #000000; text-decoration-color: #000000; background-color: #ffff00\">disaster risk </span>\n",
       "<span style=\"color: #000000; text-decoration-color: #000000; background-color: #ffff00\">reduction objectives</span> fulfil role focal point united nations system <span style=\"color: #000000; text-decoration-color: #000000; background-color: #ffff00\">coordination disaster risk reduction</span> framework\n",
       "</pre>\n"
      ],
      "text/plain": [
       "according sendai \u001b[30;48;2;255;255;0mframework disaster risk reduction\u001b[0m mandated fulfil several \u001b[30;48;2;255;255;0mobjectives supporting coordination \u001b[0m\n",
       "\u001b[30;48;2;255;255;0mdisaster\u001b[0m reduction united nations system supporting \u001b[30;48;2;255;255;0mcoherence disaster risk reduction\u001b[0m change agendas convening \n",
       "global platform \u001b[30;48;2;255;255;0mdisaster risk reduction supporting\u001b[0m regional \u001b[30;48;2;255;255;0mplatforms disaster risk reduction\u001b[0m \u001b[30;48;2;255;255;0mdevelopment national \u001b[0m\n",
       "\u001b[30;48;2;255;255;0mlocal disaster\u001b[0m reduction strategies plans facilitating integration relevant development sectoral plans policies \n",
       "supporting development strengthening national local mechanisms capacities monitoring reviewing progress levels \n",
       "implementation framework supporting development \u001b[30;48;2;255;255;0mindicators methodologies assessment disaster\u001b[0m \u001b[30;48;2;255;255;0mdisaster risk \u001b[0m\n",
       "\u001b[30;48;2;255;255;0mreduction objectives\u001b[0m fulfil role focal point united nations system \u001b[30;48;2;255;255;0mcoordination disaster risk reduction\u001b[0m framework\n"
      ]
     },
     "metadata": {},
     "output_type": "display_data"
    },
    {
     "data": {
      "text/html": [
       "<pre style=\"white-space:pre;overflow-x:auto;line-height:normal;font-family:Menlo,'DejaVu Sans Mono',consolas,'Courier New',monospace\">according general assembly resolution 73254 entitled towards <span style=\"color: #000000; text-decoration-color: #000000; background-color: #ffff00\">global partnerships principlebased approach</span> \n",
       "<span style=\"color: #000000; text-decoration-color: #000000; background-color: #ffff00\">cooperation united nations relevant</span> facilitating stimulating innovation implementation 2030 agenda sustainable \n",
       "development particular leveraging private sector competencies technologies enhancing involvement private sector \n",
       "combating climate change supporting leadership climate action promoting women empowerment principles creating \n",
       "awareness ways business advance gender equality supporting participating multistakeholder <span style=\"color: #000000; text-decoration-color: #000000; background-color: #ffff00\">partnerships contribute </span>\n",
       "<span style=\"color: #000000; text-decoration-color: #000000; background-color: #ffff00\">realization 2030</span> sustainable development objectives enable un global compact fulfil role strategic <span style=\"color: #000000; text-decoration-color: #000000; background-color: #ffff00\">operational </span>\n",
       "<span style=\"color: #000000; text-decoration-color: #000000; background-color: #ffff00\">framework united nations</span> private sector accordance mandate general <span style=\"color: #000000; text-decoration-color: #000000; background-color: #ffff00\">assembly advance united nations</span> responsible \n",
       "business practices within united nations system among global business community\n",
       "</pre>\n"
      ],
      "text/plain": [
       "according general assembly resolution 73254 entitled towards \u001b[30;48;2;255;255;0mglobal partnerships principlebased approach\u001b[0m \n",
       "\u001b[30;48;2;255;255;0mcooperation united nations relevant\u001b[0m facilitating stimulating innovation implementation 2030 agenda sustainable \n",
       "development particular leveraging private sector competencies technologies enhancing involvement private sector \n",
       "combating climate change supporting leadership climate action promoting women empowerment principles creating \n",
       "awareness ways business advance gender equality supporting participating multistakeholder \u001b[30;48;2;255;255;0mpartnerships contribute \u001b[0m\n",
       "\u001b[30;48;2;255;255;0mrealization 2030\u001b[0m sustainable development objectives enable un global compact fulfil role strategic \u001b[30;48;2;255;255;0moperational \u001b[0m\n",
       "\u001b[30;48;2;255;255;0mframework united nations\u001b[0m private sector accordance mandate general \u001b[30;48;2;255;255;0massembly advance united nations\u001b[0m responsible \n",
       "business practices within united nations system among global business community\n"
      ]
     },
     "metadata": {},
     "output_type": "display_data"
    },
    {
     "data": {
      "text/html": [
       "<pre style=\"white-space:pre;overflow-x:auto;line-height:normal;font-family:Menlo,'DejaVu Sans Mono',consolas,'Courier New',monospace\">stated article ii statute providing <span style=\"color: #000000; text-decoration-color: #000000; background-color: #ffff00\">materials services facilities atomic</span> development application focusing \n",
       "underdeveloped areas fostering exchange scientific <span style=\"color: #000000; text-decoration-color: #000000; background-color: #ffff00\">information training peaceful atomic</span> <span style=\"color: #000000; text-decoration-color: #000000; background-color: #ffff00\">uses establishing </span>\n",
       "<span style=\"color: #000000; text-decoration-color: #000000; background-color: #ffff00\">safeguards atomic</span> use military purposes setting safety standards health protection danger minimization acquiring \n",
       "facilities carrying functions roles establish key international <span style=\"color: #000000; text-decoration-color: #000000; background-color: #ffff00\">organization promoting peaceful nuclear</span> use \n",
       "preventing militarization\n",
       "</pre>\n"
      ],
      "text/plain": [
       "stated article ii statute providing \u001b[30;48;2;255;255;0mmaterials services facilities atomic\u001b[0m development application focusing \n",
       "underdeveloped areas fostering exchange scientific \u001b[30;48;2;255;255;0minformation training peaceful atomic\u001b[0m \u001b[30;48;2;255;255;0muses establishing \u001b[0m\n",
       "\u001b[30;48;2;255;255;0msafeguards atomic\u001b[0m use military purposes setting safety standards health protection danger minimization acquiring \n",
       "facilities carrying functions roles establish key international \u001b[30;48;2;255;255;0morganization promoting peaceful nuclear\u001b[0m use \n",
       "preventing militarization\n"
      ]
     },
     "metadata": {},
     "output_type": "display_data"
    },
    {
     "data": {
      "text/html": [
       "<pre style=\"white-space:pre;overflow-x:auto;line-height:normal;font-family:Menlo,'DejaVu Sans Mono',consolas,'Courier New',monospace\">according part ii article convention promoting establishment maintenance systems rapid <span style=\"color: #000000; text-decoration-color: #000000; background-color: #ffff00\">exchange meteorological </span>\n",
       "<span style=\"color: #000000; text-decoration-color: #000000; background-color: #ffff00\">related information</span> <span style=\"color: #000000; text-decoration-color: #000000; background-color: #ffff00\">standardization meteorological related observations</span> uniform publication observations statistics\n",
       "furthering application meteorology aviation shipping water problems agriculture human activities <span style=\"color: #000000; text-decoration-color: #000000; background-color: #ffff00\">promoting </span>\n",
       "<span style=\"color: #000000; text-decoration-color: #000000; background-color: #ffff00\">activities operational hydrology</span> <span style=\"color: #000000; text-decoration-color: #000000; background-color: #ffff00\">close cooperation meteorological hydrological</span> encouraging research <span style=\"color: #000000; text-decoration-color: #000000; background-color: #ffff00\">training </span>\n",
       "<span style=\"color: #000000; text-decoration-color: #000000; background-color: #ffff00\">meteorology appropriate related</span> assisting coordinating international aspects research training purposes enable \n",
       "fulfil role specialized <span style=\"color: #000000; text-decoration-color: #000000; background-color: #ffff00\">agency united nations meteorology</span> hydrology related geophysical sciences\n",
       "</pre>\n"
      ],
      "text/plain": [
       "according part ii article convention promoting establishment maintenance systems rapid \u001b[30;48;2;255;255;0mexchange meteorological \u001b[0m\n",
       "\u001b[30;48;2;255;255;0mrelated information\u001b[0m \u001b[30;48;2;255;255;0mstandardization meteorological related observations\u001b[0m uniform publication observations statistics\n",
       "furthering application meteorology aviation shipping water problems agriculture human activities \u001b[30;48;2;255;255;0mpromoting \u001b[0m\n",
       "\u001b[30;48;2;255;255;0mactivities operational hydrology\u001b[0m \u001b[30;48;2;255;255;0mclose cooperation meteorological hydrological\u001b[0m encouraging research \u001b[30;48;2;255;255;0mtraining \u001b[0m\n",
       "\u001b[30;48;2;255;255;0mmeteorology appropriate related\u001b[0m assisting coordinating international aspects research training purposes enable \n",
       "fulfil role specialized \u001b[30;48;2;255;255;0magency united nations meteorology\u001b[0m hydrology related geophysical sciences\n"
      ]
     },
     "metadata": {},
     "output_type": "display_data"
    },
    {
     "data": {
      "text/html": [
       "<pre style=\"white-space:pre;overflow-x:auto;line-height:normal;font-family:Menlo,'DejaVu Sans Mono',consolas,'Courier New',monospace\"><span style=\"color: #000000; text-decoration-color: #000000; background-color: #ffff00\">according article convention objectives</span> several key aims achieving highest sustainable economic growth employment \n",
       "rising <span style=\"color: #000000; text-decoration-color: #000000; background-color: #ffff00\">standard living member countries</span> financial stability thus contributing development world economy \n",
       "contributing sound economic expansion member well nonmember countries process economic development contributing \n",
       "expansion world trade multilateral nondiscriminatory <span style=\"color: #000000; text-decoration-color: #000000; background-color: #ffff00\">basis accordance international obligations</span> enable <span style=\"color: #000000; text-decoration-color: #000000; background-color: #ffff00\">fulfil role </span>\n",
       "<span style=\"color: #000000; text-decoration-color: #000000; background-color: #ffff00\">intergovernmental organisation</span> build better policies better lives providing platform compare policy experiences \n",
       "seek answers common problems identify good <span style=\"color: #000000; text-decoration-color: #000000; background-color: #ffff00\">practices coordinate domestic international</span> members\n",
       "</pre>\n"
      ],
      "text/plain": [
       "\u001b[30;48;2;255;255;0maccording article convention objectives\u001b[0m several key aims achieving highest sustainable economic growth employment \n",
       "rising \u001b[30;48;2;255;255;0mstandard living member countries\u001b[0m financial stability thus contributing development world economy \n",
       "contributing sound economic expansion member well nonmember countries process economic development contributing \n",
       "expansion world trade multilateral nondiscriminatory \u001b[30;48;2;255;255;0mbasis accordance international obligations\u001b[0m enable \u001b[30;48;2;255;255;0mfulfil role \u001b[0m\n",
       "\u001b[30;48;2;255;255;0mintergovernmental organisation\u001b[0m build better policies better lives providing platform compare policy experiences \n",
       "seek answers common problems identify good \u001b[30;48;2;255;255;0mpractices coordinate domestic international\u001b[0m members\n"
      ]
     },
     "metadata": {},
     "output_type": "display_data"
    },
    {
     "data": {
      "text/html": [
       "<pre style=\"white-space:pre;overflow-x:auto;line-height:normal;font-family:Menlo,'DejaVu Sans Mono',consolas,'Courier New',monospace\"><span style=\"color: #000000; text-decoration-color: #000000; background-color: #ffff00\">objectives established articles agreement</span> constituent <span style=\"color: #000000; text-decoration-color: #000000; background-color: #ffff00\">institutions specified ida articles</span> <span style=\"color: #000000; text-decoration-color: #000000; background-color: #ffff00\">ifc articles agreement </span>\n",
       "<span style=\"color: #000000; text-decoration-color: #000000; background-color: #ffff00\">according</span> <span style=\"color: #000000; text-decoration-color: #000000; background-color: #ffff00\">convention lastly icsid convention</span>\n",
       "</pre>\n"
      ],
      "text/plain": [
       "\u001b[30;48;2;255;255;0mobjectives established articles agreement\u001b[0m constituent \u001b[30;48;2;255;255;0minstitutions specified ida articles\u001b[0m \u001b[30;48;2;255;255;0mifc articles agreement \u001b[0m\n",
       "\u001b[30;48;2;255;255;0maccording\u001b[0m \u001b[30;48;2;255;255;0mconvention lastly icsid convention\u001b[0m\n"
      ]
     },
     "metadata": {},
     "output_type": "display_data"
    },
    {
     "data": {
      "text/html": [
       "<pre style=\"white-space:pre;overflow-x:auto;line-height:normal;font-family:Menlo,'DejaVu Sans Mono',consolas,'Courier New',monospace\">according article articles agreement facilitating <span style=\"color: #000000; text-decoration-color: #000000; background-color: #ffff00\">expansion balanced growth international</span> contributing thereby \n",
       "promotion maintenance high levels employment real income development productive resources members primary \n",
       "objectives <span style=\"color: #000000; text-decoration-color: #000000; background-color: #ffff00\">economic policy promoting exchange</span> maintaining orderly exchange arrangements among members avoiding \n",
       "competitive exchange depreciation assisting establishment multilateral system payments respect current transactions\n",
       "members elimination foreign exchange restrictions hamper <span style=\"color: #000000; text-decoration-color: #000000; background-color: #ffff00\">growth world trade</span> giving confidence members making \n",
       "general resources fund temporarily available adequate safeguards thus providing opportunity correct maladjustments \n",
       "balance payments without resorting measures destructive <span style=\"color: #000000; text-decoration-color: #000000; background-color: #ffff00\">national international prosperity accordance</span> duration \n",
       "lessening degree <span style=\"color: #000000; text-decoration-color: #000000; background-color: #ffff00\">disequilibrium international balances payments</span>\n",
       "</pre>\n"
      ],
      "text/plain": [
       "according article articles agreement facilitating \u001b[30;48;2;255;255;0mexpansion balanced growth international\u001b[0m contributing thereby \n",
       "promotion maintenance high levels employment real income development productive resources members primary \n",
       "objectives \u001b[30;48;2;255;255;0meconomic policy promoting exchange\u001b[0m maintaining orderly exchange arrangements among members avoiding \n",
       "competitive exchange depreciation assisting establishment multilateral system payments respect current transactions\n",
       "members elimination foreign exchange restrictions hamper \u001b[30;48;2;255;255;0mgrowth world trade\u001b[0m giving confidence members making \n",
       "general resources fund temporarily available adequate safeguards thus providing opportunity correct maladjustments \n",
       "balance payments without resorting measures destructive \u001b[30;48;2;255;255;0mnational international prosperity accordance\u001b[0m duration \n",
       "lessening degree \u001b[30;48;2;255;255;0mdisequilibrium international balances payments\u001b[0m\n"
      ]
     },
     "metadata": {},
     "output_type": "display_data"
    },
    {
     "data": {
      "text/html": [
       "<pre style=\"white-space:pre;overflow-x:auto;line-height:normal;font-family:Menlo,'DejaVu Sans Mono',consolas,'Courier New',monospace\">according article ii convention improving global coverage availability <span style=\"color: #000000; text-decoration-color: #000000; background-color: #ffff00\">quality hydrographic data information</span> \n",
       "services facilitating access data information products <span style=\"color: #000000; text-decoration-color: #000000; background-color: #ffff00\">services improving global hydrographic</span> capacity training \n",
       "science techniques establishing enhancing <span style=\"color: #000000; text-decoration-color: #000000; background-color: #ffff00\">development international standards hydrographic</span> information products \n",
       "services techniques achieving greatest possible uniformity use standards giving <span style=\"color: #000000; text-decoration-color: #000000; background-color: #ffff00\">authoritative timely guidance </span>\n",
       "<span style=\"color: #000000; text-decoration-color: #000000; background-color: #ffff00\">hydrographic</span> states international <span style=\"color: #000000; text-decoration-color: #000000; background-color: #ffff00\">organizations facilitating coordination hydrographic</span> among member <span style=\"color: #000000; text-decoration-color: #000000; background-color: #ffff00\">states </span>\n",
       "<span style=\"color: #000000; text-decoration-color: #000000; background-color: #ffff00\">enhancing cooperation hydrographic</span> among states regional basis objectives enable organization fulfil <span style=\"color: #000000; text-decoration-color: #000000; background-color: #ffff00\">vision </span>\n",
       "<span style=\"color: #000000; text-decoration-color: #000000; background-color: #ffff00\">authoritative worldwide hydrographic</span> actively engages coastal interested states advance maritime safety efficiency \n",
       "supports protection sustainable use marine environment\n",
       "</pre>\n"
      ],
      "text/plain": [
       "according article ii convention improving global coverage availability \u001b[30;48;2;255;255;0mquality hydrographic data information\u001b[0m \n",
       "services facilitating access data information products \u001b[30;48;2;255;255;0mservices improving global hydrographic\u001b[0m capacity training \n",
       "science techniques establishing enhancing \u001b[30;48;2;255;255;0mdevelopment international standards hydrographic\u001b[0m information products \n",
       "services techniques achieving greatest possible uniformity use standards giving \u001b[30;48;2;255;255;0mauthoritative timely guidance \u001b[0m\n",
       "\u001b[30;48;2;255;255;0mhydrographic\u001b[0m states international \u001b[30;48;2;255;255;0morganizations facilitating coordination hydrographic\u001b[0m among member \u001b[30;48;2;255;255;0mstates \u001b[0m\n",
       "\u001b[30;48;2;255;255;0menhancing cooperation hydrographic\u001b[0m among states regional basis objectives enable organization fulfil \u001b[30;48;2;255;255;0mvision \u001b[0m\n",
       "\u001b[30;48;2;255;255;0mauthoritative worldwide hydrographic\u001b[0m actively engages coastal interested states advance maritime safety efficiency \n",
       "supports protection sustainable use marine environment\n"
      ]
     },
     "metadata": {},
     "output_type": "display_data"
    },
    {
     "data": {
      "text/html": [
       "<pre style=\"white-space:pre;overflow-x:auto;line-height:normal;font-family:Menlo,'DejaVu Sans Mono',consolas,'Courier New',monospace\">according convention drawing <span style=\"color: #000000; text-decoration-color: #000000; background-color: #ffff00\">programmes required purpose organising</span> <span style=\"color: #000000; text-decoration-color: #000000; background-color: #ffff00\">contracting parties research investigation</span> \n",
       "appear necessary publishing otherwise disseminating results <span style=\"color: #000000; text-decoration-color: #000000; background-color: #ffff00\">research investigations carried auspices</span> publication \n",
       "thereof duties enable council fulfil role organisation responsible <span style=\"color: #000000; text-decoration-color: #000000; background-color: #ffff00\">carrying programme international investigation</span> \n",
       "especially atlantic ocean adjacent seas primarily north atlantic\n",
       "</pre>\n"
      ],
      "text/plain": [
       "according convention drawing \u001b[30;48;2;255;255;0mprogrammes required purpose organising\u001b[0m \u001b[30;48;2;255;255;0mcontracting parties research investigation\u001b[0m \n",
       "appear necessary publishing otherwise disseminating results \u001b[30;48;2;255;255;0mresearch investigations carried auspices\u001b[0m publication \n",
       "thereof duties enable council fulfil role organisation responsible \u001b[30;48;2;255;255;0mcarrying programme international investigation\u001b[0m \n",
       "especially atlantic ocean adjacent seas primarily north atlantic\n"
      ]
     },
     "metadata": {},
     "output_type": "display_data"
    },
    {
     "data": {
      "text/html": [
       "<pre style=\"white-space:pre;overflow-x:auto;line-height:normal;font-family:Menlo,'DejaVu Sans Mono',consolas,'Courier New',monospace\">according resolution second <span style=\"color: #000000; text-decoration-color: #000000; background-color: #ffff00\">session plenary 2012 functions</span> <span style=\"color: #000000; text-decoration-color: #000000; background-color: #ffff00\">resolution include responding requests</span> <span style=\"color: #000000; text-decoration-color: #000000; background-color: #ffff00\">stakeholders </span>\n",
       "<span style=\"color: #000000; text-decoration-color: #000000; background-color: #ffff00\">biodiversity ecosystem services</span> identifying prioritizing key scientific information <span style=\"color: #000000; text-decoration-color: #000000; background-color: #ffff00\">needed policymakers catalysing </span>\n",
       "<span style=\"color: #000000; text-decoration-color: #000000; background-color: #ffff00\">efforts</span> new knowledge performing regular <span style=\"color: #000000; text-decoration-color: #000000; background-color: #ffff00\">timely assessments knowledge biodiversity</span> services interlinkages \n",
       "supporting policy formulation implementation <span style=\"color: #000000; text-decoration-color: #000000; background-color: #ffff00\">identifying policyrelevant tools methodologies</span> providing \n",
       "capacitybuilding sciencepolicy interface\n",
       "</pre>\n"
      ],
      "text/plain": [
       "according resolution second \u001b[30;48;2;255;255;0msession plenary 2012 functions\u001b[0m \u001b[30;48;2;255;255;0mresolution include responding requests\u001b[0m \u001b[30;48;2;255;255;0mstakeholders \u001b[0m\n",
       "\u001b[30;48;2;255;255;0mbiodiversity ecosystem services\u001b[0m identifying prioritizing key scientific information \u001b[30;48;2;255;255;0mneeded policymakers catalysing \u001b[0m\n",
       "\u001b[30;48;2;255;255;0mefforts\u001b[0m new knowledge performing regular \u001b[30;48;2;255;255;0mtimely assessments knowledge biodiversity\u001b[0m services interlinkages \n",
       "supporting policy formulation implementation \u001b[30;48;2;255;255;0midentifying policyrelevant tools methodologies\u001b[0m providing \n",
       "capacitybuilding sciencepolicy interface\n"
      ]
     },
     "metadata": {},
     "output_type": "display_data"
    },
    {
     "data": {
      "text/html": [
       "<pre style=\"white-space:pre;overflow-x:auto;line-height:normal;font-family:Menlo,'DejaVu Sans Mono',consolas,'Courier New',monospace\"><span style=\"color: #000000; text-decoration-color: #000000; background-color: #ffff00\">defined paragraph resolution executive</span> objectives include following main tasks assessing scientific information \n",
       "related <span style=\"color: #000000; text-decoration-color: #000000; background-color: #ffff00\">various components climate change</span> emissions major greenhouse gases modification earths radiation balance \n",
       "resulting therefrom environmental socioeconomic consequences climate change formulating realistic response \n",
       "<span style=\"color: #000000; text-decoration-color: #000000; background-color: #ffff00\">strategies management climate change</span> providing scientific socioeconomic information advice initially development \n",
       "negotiations un <span style=\"color: #000000; text-decoration-color: #000000; background-color: #ffff00\">framework convention climate change</span> force continue work closely unfccc provide scientific technical\n",
       "socioeconomic information advice reporting activities governing bodies communicating results assessments broadly \n",
       "tasks enable fulfil <span style=\"color: #000000; text-decoration-color: #000000; background-color: #ffff00\">role intergovernmental panel climate</span> provides authoritative comprehensive assessments current \n",
       "state knowledge <span style=\"color: #000000; text-decoration-color: #000000; background-color: #ffff00\">climate change potential impacts</span>\n",
       "</pre>\n"
      ],
      "text/plain": [
       "\u001b[30;48;2;255;255;0mdefined paragraph resolution executive\u001b[0m objectives include following main tasks assessing scientific information \n",
       "related \u001b[30;48;2;255;255;0mvarious components climate change\u001b[0m emissions major greenhouse gases modification earths radiation balance \n",
       "resulting therefrom environmental socioeconomic consequences climate change formulating realistic response \n",
       "\u001b[30;48;2;255;255;0mstrategies management climate change\u001b[0m providing scientific socioeconomic information advice initially development \n",
       "negotiations un \u001b[30;48;2;255;255;0mframework convention climate change\u001b[0m force continue work closely unfccc provide scientific technical\n",
       "socioeconomic information advice reporting activities governing bodies communicating results assessments broadly \n",
       "tasks enable fulfil \u001b[30;48;2;255;255;0mrole intergovernmental panel climate\u001b[0m provides authoritative comprehensive assessments current \n",
       "state knowledge \u001b[30;48;2;255;255;0mclimate change potential impacts\u001b[0m\n"
      ]
     },
     "metadata": {},
     "output_type": "display_data"
    },
    {
     "data": {
      "text/html": [
       "<pre style=\"white-space:pre;overflow-x:auto;line-height:normal;font-family:Menlo,'DejaVu Sans Mono',consolas,'Courier New',monospace\">according <span style=\"color: #000000; text-decoration-color: #000000; background-color: #ffff00\">article iii marrakesh agreement</span> providing <span style=\"color: #000000; text-decoration-color: #000000; background-color: #ffff00\">forum trade negotiations framework</span> administering dispute \n",
       "settlement mechanism ensuring prompt <span style=\"color: #000000; text-decoration-color: #000000; background-color: #ffff00\">effective resolution trade disputes</span> trade policy review mechanism enhancing \n",
       "transparency <span style=\"color: #000000; text-decoration-color: #000000; background-color: #ffff00\">trade policies cooperating international</span> ensuring greater coherence global economic policymaking \n",
       "helping developing countries especially leastdeveloped ones <span style=\"color: #000000; text-decoration-color: #000000; background-color: #ffff00\">benefit multilateral trading</span> system achieve trade \n",
       "development objectives functions enable fulfil role common <span style=\"color: #000000; text-decoration-color: #000000; background-color: #ffff00\">institutional framework conduct trade</span> among members \n",
       "matters related agreements\n",
       "</pre>\n"
      ],
      "text/plain": [
       "according \u001b[30;48;2;255;255;0marticle iii marrakesh agreement\u001b[0m providing \u001b[30;48;2;255;255;0mforum trade negotiations framework\u001b[0m administering dispute \n",
       "settlement mechanism ensuring prompt \u001b[30;48;2;255;255;0meffective resolution trade disputes\u001b[0m trade policy review mechanism enhancing \n",
       "transparency \u001b[30;48;2;255;255;0mtrade policies cooperating international\u001b[0m ensuring greater coherence global economic policymaking \n",
       "helping developing countries especially leastdeveloped ones \u001b[30;48;2;255;255;0mbenefit multilateral trading\u001b[0m system achieve trade \n",
       "development objectives functions enable fulfil role common \u001b[30;48;2;255;255;0minstitutional framework conduct trade\u001b[0m among members \n",
       "matters related agreements\n"
      ]
     },
     "metadata": {},
     "output_type": "display_data"
    },
    {
     "data": {
      "text/html": [
       "<pre style=\"white-space:pre;overflow-x:auto;line-height:normal;font-family:Menlo,'DejaVu Sans Mono',consolas,'Courier New',monospace\">according chapter <span style=\"color: #000000; text-decoration-color: #000000; background-color: #ffff00\">constitution arrange transfer migrants</span> special assistance lack adequate facilities move countries\n",
       "offering opportunities orderly <span style=\"color: #000000; text-decoration-color: #000000; background-color: #ffff00\">migration provide</span> migration services services recruitment selection processing \n",
       "language training orientation medical examination placement integration return <span style=\"color: #000000; text-decoration-color: #000000; background-color: #ffff00\">migration request agreement states</span> \n",
       "provide forum <span style=\"color: #000000; text-decoration-color: #000000; background-color: #ffff00\">cooperation coordination international migration</span> including studies research consultation among states\n",
       "relevant actors international organizations civil society cooperate closely <span style=\"color: #000000; text-decoration-color: #000000; background-color: #ffff00\">international organizations concerned </span>\n",
       "<span style=\"color: #000000; text-decoration-color: #000000; background-color: #ffff00\">migration</span> human resources order facilitate harmonization international activities fields recognize linkages \n",
       "migration areas economic social cultural development human rights humanitarian assistance environmental \n",
       "sustainability\n",
       "</pre>\n"
      ],
      "text/plain": [
       "according chapter \u001b[30;48;2;255;255;0mconstitution arrange transfer migrants\u001b[0m special assistance lack adequate facilities move countries\n",
       "offering opportunities orderly \u001b[30;48;2;255;255;0mmigration provide\u001b[0m migration services services recruitment selection processing \n",
       "language training orientation medical examination placement integration return \u001b[30;48;2;255;255;0mmigration request agreement states\u001b[0m \n",
       "provide forum \u001b[30;48;2;255;255;0mcooperation coordination international migration\u001b[0m including studies research consultation among states\n",
       "relevant actors international organizations civil society cooperate closely \u001b[30;48;2;255;255;0minternational organizations concerned \u001b[0m\n",
       "\u001b[30;48;2;255;255;0mmigration\u001b[0m human resources order facilitate harmonization international activities fields recognize linkages \n",
       "migration areas economic social cultural development human rights humanitarian assistance environmental \n",
       "sustainability\n"
      ]
     },
     "metadata": {},
     "output_type": "display_data"
    },
    {
     "data": {
      "text/html": [
       "<pre style=\"white-space:pre;overflow-x:auto;line-height:normal;font-family:Menlo,'DejaVu Sans Mono',consolas,'Courier New',monospace\"><span style=\"color: #000000; text-decoration-color: #000000; background-color: #ffff00\">according strategic plan 20222025</span> countries developing capacity resource <span style=\"color: #000000; text-decoration-color: #000000; background-color: #ffff00\">base sustainable development goals</span> \n",
       "technical expertise <span style=\"color: #000000; text-decoration-color: #000000; background-color: #ffff00\">quality infrastructure public procurement</span> <span style=\"color: #000000; text-decoration-color: #000000; background-color: #ffff00\">investments infrastructure innovation help</span> need \n",
       "effective specialized expertise grounded international norms <span style=\"color: #000000; text-decoration-color: #000000; background-color: #ffff00\">standards embedding sustainable resilient</span> \n",
       "implementation approaches learning operational experience enable partners less efficient project services delivered\n",
       "locally global shared services offering flexible modular service lines integrated service offerings specialized \n",
       "delivery modalities pursuing quality organizational excellence\n",
       "</pre>\n"
      ],
      "text/plain": [
       "\u001b[30;48;2;255;255;0maccording strategic plan 20222025\u001b[0m countries developing capacity resource \u001b[30;48;2;255;255;0mbase sustainable development goals\u001b[0m \n",
       "technical expertise \u001b[30;48;2;255;255;0mquality infrastructure public procurement\u001b[0m \u001b[30;48;2;255;255;0minvestments infrastructure innovation help\u001b[0m need \n",
       "effective specialized expertise grounded international norms \u001b[30;48;2;255;255;0mstandards embedding sustainable resilient\u001b[0m \n",
       "implementation approaches learning operational experience enable partners less efficient project services delivered\n",
       "locally global shared services offering flexible modular service lines integrated service offerings specialized \n",
       "delivery modalities pursuing quality organizational excellence\n"
      ]
     },
     "metadata": {},
     "output_type": "display_data"
    },
    {
     "data": {
      "text/html": [
       "<pre style=\"white-space:pre;overflow-x:auto;line-height:normal;font-family:Menlo,'DejaVu Sans Mono',consolas,'Courier New',monospace\">according report secretarygeneral a64588 comprehensive <span style=\"color: #000000; text-decoration-color: #000000; background-color: #ffff00\">proposal composite entity gender</span> <span style=\"color: #000000; text-decoration-color: #000000; background-color: #ffff00\">empowerment women work</span> \n",
       "elimination discrimination women girls <span style=\"color: #000000; text-decoration-color: #000000; background-color: #ffff00\">empowerment women achievement equality</span> men partners beneficiaries \n",
       "development human rights humanitarian action peace security lead coordinate united nations system <span style=\"color: #000000; text-decoration-color: #000000; background-color: #ffff00\">efforts ensure </span>\n",
       "<span style=\"color: #000000; text-decoration-color: #000000; background-color: #ffff00\">commitments gender</span> gender mainstreaming translate action throughout world provide strong coherent leadership \n",
       "support member states priorities efforts building effective partnerships civil society relevant actors perform \n",
       "eight functions outlined deputy secretarygeneral papers august 2007 july 2008 include <span style=\"color: #000000; text-decoration-color: #000000; background-color: #ffff00\">providing substantive support</span>\n",
       "<span style=\"color: #000000; text-decoration-color: #000000; background-color: #ffff00\">intergovernmental</span> supporting national efforts innovative catalytic programming undertaking advocacy critical issues\n",
       "supporting member states implementing monitoring intergovernmental agreements undertaking research analytical work \n",
       "leading coordinating united nations system strategies actions strengthening accountability united nations system \n",
       "monitoring reporting systemwide compliance gender balance add value providing capacity meet need strong voice women\n",
       "girls global regional local levels better support member states enhance normative policy environment accelerating \n",
       "progress towards full <span style=\"color: #000000; text-decoration-color: #000000; background-color: #ffff00\">equality women girls assistance</span> partners respond critical gaps challenges enhanced united \n",
       "nations response <span style=\"color: #000000; text-decoration-color: #000000; background-color: #ffff00\">countrydefined needs priorities women</span>\n",
       "</pre>\n"
      ],
      "text/plain": [
       "according report secretarygeneral a64588 comprehensive \u001b[30;48;2;255;255;0mproposal composite entity gender\u001b[0m \u001b[30;48;2;255;255;0mempowerment women work\u001b[0m \n",
       "elimination discrimination women girls \u001b[30;48;2;255;255;0mempowerment women achievement equality\u001b[0m men partners beneficiaries \n",
       "development human rights humanitarian action peace security lead coordinate united nations system \u001b[30;48;2;255;255;0mefforts ensure \u001b[0m\n",
       "\u001b[30;48;2;255;255;0mcommitments gender\u001b[0m gender mainstreaming translate action throughout world provide strong coherent leadership \n",
       "support member states priorities efforts building effective partnerships civil society relevant actors perform \n",
       "eight functions outlined deputy secretarygeneral papers august 2007 july 2008 include \u001b[30;48;2;255;255;0mproviding substantive support\u001b[0m\n",
       "\u001b[30;48;2;255;255;0mintergovernmental\u001b[0m supporting national efforts innovative catalytic programming undertaking advocacy critical issues\n",
       "supporting member states implementing monitoring intergovernmental agreements undertaking research analytical work \n",
       "leading coordinating united nations system strategies actions strengthening accountability united nations system \n",
       "monitoring reporting systemwide compliance gender balance add value providing capacity meet need strong voice women\n",
       "girls global regional local levels better support member states enhance normative policy environment accelerating \n",
       "progress towards full \u001b[30;48;2;255;255;0mequality women girls assistance\u001b[0m partners respond critical gaps challenges enhanced united \n",
       "nations response \u001b[30;48;2;255;255;0mcountrydefined needs priorities women\u001b[0m\n"
      ]
     },
     "metadata": {},
     "output_type": "display_data"
    },
    {
     "data": {
      "text/html": [
       "<pre style=\"white-space:pre;overflow-x:auto;line-height:normal;font-family:Menlo,'DejaVu Sans Mono',consolas,'Courier New',monospace\">according <span style=\"color: #000000; text-decoration-color: #000000; background-color: #ffff00\">convention establishing world intellectual</span> <span style=\"color: #000000; text-decoration-color: #000000; background-color: #ffff00\">organization ensuring administrative cooperation</span> unions \n",
       "achieve objectives organization appropriate organs several functions developing measures facilitate efficient \n",
       "<span style=\"color: #000000; text-decoration-color: #000000; background-color: #ffff00\">protection intellectual property harmonize</span> legislation field performing administrative tasks paris union berne \n",
       "union <span style=\"color: #000000; text-decoration-color: #000000; background-color: #ffff00\">international agreements related intellectual</span> encouraging conclusion <span style=\"color: #000000; text-decoration-color: #000000; background-color: #ffff00\">international agreements promote </span>\n",
       "<span style=\"color: #000000; text-decoration-color: #000000; background-color: #ffff00\">protection</span> property offering legaltechnical assistance states requesting assembling disseminating information \n",
       "<span style=\"color: #000000; text-decoration-color: #000000; background-color: #ffff00\">concerning protection intellectual property</span> services <span style=\"color: #000000; text-decoration-color: #000000; background-color: #ffff00\">facilitating international protection intellectual</span> taking \n",
       "appropriate action relation stated objectives objectives functions enable contribute better understanding \n",
       "cooperation among states mutual benefit basis respect sovereignty equality encourage creative activity industrial \n",
       "scientific literary artistic fields\n",
       "</pre>\n"
      ],
      "text/plain": [
       "according \u001b[30;48;2;255;255;0mconvention establishing world intellectual\u001b[0m \u001b[30;48;2;255;255;0morganization ensuring administrative cooperation\u001b[0m unions \n",
       "achieve objectives organization appropriate organs several functions developing measures facilitate efficient \n",
       "\u001b[30;48;2;255;255;0mprotection intellectual property harmonize\u001b[0m legislation field performing administrative tasks paris union berne \n",
       "union \u001b[30;48;2;255;255;0minternational agreements related intellectual\u001b[0m encouraging conclusion \u001b[30;48;2;255;255;0minternational agreements promote \u001b[0m\n",
       "\u001b[30;48;2;255;255;0mprotection\u001b[0m property offering legaltechnical assistance states requesting assembling disseminating information \n",
       "\u001b[30;48;2;255;255;0mconcerning protection intellectual property\u001b[0m services \u001b[30;48;2;255;255;0mfacilitating international protection intellectual\u001b[0m taking \n",
       "appropriate action relation stated objectives objectives functions enable contribute better understanding \n",
       "cooperation among states mutual benefit basis respect sovereignty equality encourage creative activity industrial \n",
       "scientific literary artistic fields\n"
      ]
     },
     "metadata": {},
     "output_type": "display_data"
    },
    {
     "data": {
      "text/html": [
       "<pre style=\"white-space:pre;overflow-x:auto;line-height:normal;font-family:Menlo,'DejaVu Sans Mono',consolas,'Courier New',monospace\"><span style=\"color: #000000; text-decoration-color: #000000; background-color: #ffff00\">objectives defined programme action</span> 1994 international conference population development achieve universal access \n",
       "sexual reproductive <span style=\"color: #000000; text-decoration-color: #000000; background-color: #ffff00\">health realize reproductive rights</span> women young people reduce maternal mortality improve lives \n",
       "women adolescents youth enabled population dynamics human <span style=\"color: #000000; text-decoration-color: #000000; background-color: #ffff00\">rights gender equality contribute</span> <span style=\"color: #000000; text-decoration-color: #000000; background-color: #ffff00\">2030 agenda sustainable</span>\n",
       "<span style=\"color: #000000; text-decoration-color: #000000; background-color: #ffff00\">development</span> <span style=\"color: #000000; text-decoration-color: #000000; background-color: #ffff00\">sustainable development goals</span>\n",
       "</pre>\n"
      ],
      "text/plain": [
       "\u001b[30;48;2;255;255;0mobjectives defined programme action\u001b[0m 1994 international conference population development achieve universal access \n",
       "sexual reproductive \u001b[30;48;2;255;255;0mhealth realize reproductive rights\u001b[0m women young people reduce maternal mortality improve lives \n",
       "women adolescents youth enabled population dynamics human \u001b[30;48;2;255;255;0mrights gender equality contribute\u001b[0m \u001b[30;48;2;255;255;0m2030 agenda sustainable\u001b[0m\n",
       "\u001b[30;48;2;255;255;0mdevelopment\u001b[0m \u001b[30;48;2;255;255;0msustainable development goals\u001b[0m\n"
      ]
     },
     "metadata": {},
     "output_type": "display_data"
    },
    {
     "data": {
      "text/html": [
       "<pre style=\"white-space:pre;overflow-x:auto;line-height:normal;font-family:Menlo,'DejaVu Sans Mono',consolas,'Courier New',monospace\">according annex un general assembly rsolution 3327 <span style=\"color: #000000; text-decoration-color: #000000; background-color: #ffff00\">assisting strengthening national environmental</span> <span style=\"color: #000000; text-decoration-color: #000000; background-color: #ffff00\">relating human </span>\n",
       "<span style=\"color: #000000; text-decoration-color: #000000; background-color: #ffff00\">settlements particularly</span> countries provision seed capital extension necessary technical financial assistance permit\n",
       "effective mobilization domestic resources human habitat environmental design <span style=\"color: #000000; text-decoration-color: #000000; background-color: #ffff00\">improvement human settlements </span>\n",
       "<span style=\"color: #000000; text-decoration-color: #000000; background-color: #ffff00\">stimulating</span> approaches preinvestment preproject <span style=\"color: #000000; text-decoration-color: #000000; background-color: #ffff00\">financing strategies human settlements</span> drawing accumulated \n",
       "practical experience public private sectors mobilization financial resources human <span style=\"color: #000000; text-decoration-color: #000000; background-color: #ffff00\">habitat human settlements </span>\n",
       "<span style=\"color: #000000; text-decoration-color: #000000; background-color: #ffff00\">projects</span> technical <span style=\"color: #000000; text-decoration-color: #000000; background-color: #ffff00\">assistance services human settlements</span> habitat management including training <span style=\"color: #000000; text-decoration-color: #000000; background-color: #ffff00\">facilities human </span>\n",
       "<span style=\"color: #000000; text-decoration-color: #000000; background-color: #ffff00\">habitat projects</span> adaptation transfer appropriate scientific technical <span style=\"color: #000000; text-decoration-color: #000000; background-color: #ffff00\">knowledge human settlements projects</span>\n",
       "</pre>\n"
      ],
      "text/plain": [
       "according annex un general assembly rsolution 3327 \u001b[30;48;2;255;255;0massisting strengthening national environmental\u001b[0m \u001b[30;48;2;255;255;0mrelating human \u001b[0m\n",
       "\u001b[30;48;2;255;255;0msettlements particularly\u001b[0m countries provision seed capital extension necessary technical financial assistance permit\n",
       "effective mobilization domestic resources human habitat environmental design \u001b[30;48;2;255;255;0mimprovement human settlements \u001b[0m\n",
       "\u001b[30;48;2;255;255;0mstimulating\u001b[0m approaches preinvestment preproject \u001b[30;48;2;255;255;0mfinancing strategies human settlements\u001b[0m drawing accumulated \n",
       "practical experience public private sectors mobilization financial resources human \u001b[30;48;2;255;255;0mhabitat human settlements \u001b[0m\n",
       "\u001b[30;48;2;255;255;0mprojects\u001b[0m technical \u001b[30;48;2;255;255;0massistance services human settlements\u001b[0m habitat management including training \u001b[30;48;2;255;255;0mfacilities human \u001b[0m\n",
       "\u001b[30;48;2;255;255;0mhabitat projects\u001b[0m adaptation transfer appropriate scientific technical \u001b[30;48;2;255;255;0mknowledge human settlements projects\u001b[0m\n"
      ]
     },
     "metadata": {},
     "output_type": "display_data"
    },
    {
     "data": {
      "text/html": [
       "<pre style=\"white-space:pre;overflow-x:auto;line-height:normal;font-family:Menlo,'DejaVu Sans Mono',consolas,'Courier New',monospace\">according article ii <span style=\"color: #000000; text-decoration-color: #000000; background-color: #ffff00\">general regulations meeting refugee</span> <span style=\"color: #000000; text-decoration-color: #000000; background-color: #ffff00\">protracted relief food needs</span> assistance extent possible \n",
       "serve relief development purposes <span style=\"color: #000000; text-decoration-color: #000000; background-color: #ffff00\">promoting world food security</span> recommendations united nations providing services \n",
       "bilateral donors united nations agencies nongovernmental organizations operations consistent purposes complement \n",
       "<span style=\"color: #000000; text-decoration-color: #000000; background-color: #ffff00\">operations implementing food aid</span> projects activities request cooperation coordination united nations relevant \n",
       "agencies organizations\n",
       "</pre>\n"
      ],
      "text/plain": [
       "according article ii \u001b[30;48;2;255;255;0mgeneral regulations meeting refugee\u001b[0m \u001b[30;48;2;255;255;0mprotracted relief food needs\u001b[0m assistance extent possible \n",
       "serve relief development purposes \u001b[30;48;2;255;255;0mpromoting world food security\u001b[0m recommendations united nations providing services \n",
       "bilateral donors united nations agencies nongovernmental organizations operations consistent purposes complement \n",
       "\u001b[30;48;2;255;255;0moperations implementing food aid\u001b[0m projects activities request cooperation coordination united nations relevant \n",
       "agencies organizations\n"
      ]
     },
     "metadata": {},
     "output_type": "display_data"
    },
    {
     "data": {
      "text/html": [
       "<pre style=\"white-space:pre;overflow-x:auto;line-height:normal;font-family:Menlo,'DejaVu Sans Mono',consolas,'Courier New',monospace\">according article statutes objectives <span style=\"color: #000000; text-decoration-color: #000000; background-color: #ffff00\">defined promote develop tourism</span> means fostering international peace \n",
       "understanding economic development international trade pay particular attention interests <span style=\"color: #000000; text-decoration-color: #000000; background-color: #ffff00\">developing countries </span>\n",
       "<span style=\"color: #000000; text-decoration-color: #000000; background-color: #ffff00\">field tourism</span> maintain effective collaboration appropriate organs united nations specialized agencies important \n",
       "aims include provide leadership <span style=\"color: #000000; text-decoration-color: #000000; background-color: #ffff00\">support tourism sector advancing</span> <span style=\"color: #000000; text-decoration-color: #000000; background-color: #ffff00\">tourism policies worldwide encourage</span> global code \n",
       "<span style=\"color: #000000; text-decoration-color: #000000; background-color: #ffff00\">ethics tourism maximize tourisms</span> contribution minimizing possible negative impacts prepare recommend international \n",
       "agreements question falls within <span style=\"color: #000000; text-decoration-color: #000000; background-color: #ffff00\">competence organization make tourism</span> tool development technical assistance \n",
       "projects 100 countries around world\n",
       "</pre>\n"
      ],
      "text/plain": [
       "according article statutes objectives \u001b[30;48;2;255;255;0mdefined promote develop tourism\u001b[0m means fostering international peace \n",
       "understanding economic development international trade pay particular attention interests \u001b[30;48;2;255;255;0mdeveloping countries \u001b[0m\n",
       "\u001b[30;48;2;255;255;0mfield tourism\u001b[0m maintain effective collaboration appropriate organs united nations specialized agencies important \n",
       "aims include provide leadership \u001b[30;48;2;255;255;0msupport tourism sector advancing\u001b[0m \u001b[30;48;2;255;255;0mtourism policies worldwide encourage\u001b[0m global code \n",
       "\u001b[30;48;2;255;255;0methics tourism maximize tourisms\u001b[0m contribution minimizing possible negative impacts prepare recommend international \n",
       "agreements question falls within \u001b[30;48;2;255;255;0mcompetence organization make tourism\u001b[0m tool development technical assistance \n",
       "projects 100 countries around world\n"
      ]
     },
     "metadata": {},
     "output_type": "display_data"
    },
    {
     "data": {
      "text/html": [
       "<pre style=\"white-space:pre;overflow-x:auto;line-height:normal;font-family:Menlo,'DejaVu Sans Mono',consolas,'Courier New',monospace\">according <span style=\"color: #000000; text-decoration-color: #000000; background-color: #ffff00\">statutes carrying research studies</span> <span style=\"color: #000000; text-decoration-color: #000000; background-color: #ffff00\">important work united nations</span> <span style=\"color: #000000; text-decoration-color: #000000; background-color: #ffff00\">regional national planning institutes</span> \n",
       "agencies field social <span style=\"color: #000000; text-decoration-color: #000000; background-color: #ffff00\">policy social development planning</span> economic social <span style=\"color: #000000; text-decoration-color: #000000; background-color: #ffff00\">development coordinating work united</span> \n",
       "<span style=\"color: #000000; text-decoration-color: #000000; background-color: #ffff00\">secretariat regional national planning</span> specialized agencies relevant bodies making results available\n",
       "</pre>\n"
      ],
      "text/plain": [
       "according \u001b[30;48;2;255;255;0mstatutes carrying research studies\u001b[0m \u001b[30;48;2;255;255;0mimportant work united nations\u001b[0m \u001b[30;48;2;255;255;0mregional national planning institutes\u001b[0m \n",
       "agencies field social \u001b[30;48;2;255;255;0mpolicy social development planning\u001b[0m economic social \u001b[30;48;2;255;255;0mdevelopment coordinating work united\u001b[0m \n",
       "\u001b[30;48;2;255;255;0msecretariat regional national planning\u001b[0m specialized agencies relevant bodies making results available\n"
      ]
     },
     "metadata": {},
     "output_type": "display_data"
    },
    {
     "data": {
      "text/html": [
       "<pre style=\"white-space:pre;overflow-x:auto;line-height:normal;font-family:Menlo,'DejaVu Sans Mono',consolas,'Courier New',monospace\"><span style=\"color: #000000; text-decoration-color: #000000; background-color: #ffff00\">secretariats objectives encompass</span> several key tasks mobilizing resources <span style=\"color: #000000; text-decoration-color: #000000; background-color: #ffff00\">support implementation conventions </span>\n",
       "<span style=\"color: #000000; text-decoration-color: #000000; background-color: #ffff00\">programmes</span> including private <span style=\"color: #000000; text-decoration-color: #000000; background-color: #ffff00\">sector relevant stakeholders strengthening</span> cooperation international bodies un system \n",
       "sound management hazardous chemicals wastes within context <span style=\"color: #000000; text-decoration-color: #000000; background-color: #ffff00\">global development agenda enhancing</span> action information \n",
       "sharing <span style=\"color: #000000; text-decoration-color: #000000; background-color: #ffff00\">implementation conventions global regional</span> <span style=\"color: #000000; text-decoration-color: #000000; background-color: #ffff00\">levels developing managing</span> technical assistance programme \n",
       "conventions based needs assessment capacitybuilding activities parties managing development <span style=\"color: #000000; text-decoration-color: #000000; background-color: #ffff00\">technical documents </span>\n",
       "<span style=\"color: #000000; text-decoration-color: #000000; background-color: #ffff00\">including guidelines</span> facilitating work scientific technical subsidiary bodies conventions managing coordinating \n",
       "meetings conferences parties subsidiary bodies providing legal <span style=\"color: #000000; text-decoration-color: #000000; background-color: #ffff00\">governance support including compliance</span> issues \n",
       "partnerships\n",
       "</pre>\n"
      ],
      "text/plain": [
       "\u001b[30;48;2;255;255;0msecretariats objectives encompass\u001b[0m several key tasks mobilizing resources \u001b[30;48;2;255;255;0msupport implementation conventions \u001b[0m\n",
       "\u001b[30;48;2;255;255;0mprogrammes\u001b[0m including private \u001b[30;48;2;255;255;0msector relevant stakeholders strengthening\u001b[0m cooperation international bodies un system \n",
       "sound management hazardous chemicals wastes within context \u001b[30;48;2;255;255;0mglobal development agenda enhancing\u001b[0m action information \n",
       "sharing \u001b[30;48;2;255;255;0mimplementation conventions global regional\u001b[0m \u001b[30;48;2;255;255;0mlevels developing managing\u001b[0m technical assistance programme \n",
       "conventions based needs assessment capacitybuilding activities parties managing development \u001b[30;48;2;255;255;0mtechnical documents \u001b[0m\n",
       "\u001b[30;48;2;255;255;0mincluding guidelines\u001b[0m facilitating work scientific technical subsidiary bodies conventions managing coordinating \n",
       "meetings conferences parties subsidiary bodies providing legal \u001b[30;48;2;255;255;0mgovernance support including compliance\u001b[0m issues \n",
       "partnerships\n"
      ]
     },
     "metadata": {},
     "output_type": "display_data"
    },
    {
     "data": {
      "text/html": [
       "<pre style=\"white-space:pre;overflow-x:auto;line-height:normal;font-family:Menlo,'DejaVu Sans Mono',consolas,'Courier New',monospace\"><span style=\"color: #000000; text-decoration-color: #000000; background-color: #ffff00\">according convention biological diversity</span> <span style=\"color: #000000; text-decoration-color: #000000; background-color: #ffff00\">biological diversity protect maintain</span> among living organisms ecological \n",
       "systems form well intrinsic instrumental values humanity sustainable use components <span style=\"color: #000000; text-decoration-color: #000000; background-color: #ffff00\">use components biological </span>\n",
       "<span style=\"color: #000000; text-decoration-color: #000000; background-color: #ffff00\">diversity</span> resources species ecosystems way rate lead longterm decline thereby maintaining potential meet needs \n",
       "aspirations present future generations fair equitable sharing benefits arising utilization genetic resources ensure\n",
       "benefits derived access exploitation genetic resources scientific technological economic social benefits shared \n",
       "fair equitable way countries communities provide resources well holders traditional knowledge innovations practices\n",
       "relevant conservation <span style=\"color: #000000; text-decoration-color: #000000; background-color: #ffff00\">sustainable use biological diversity</span> also includes provision appropriate access genetic \n",
       "resources transfer relevant technologies taking account rights resources technologies\n",
       "</pre>\n"
      ],
      "text/plain": [
       "\u001b[30;48;2;255;255;0maccording convention biological diversity\u001b[0m \u001b[30;48;2;255;255;0mbiological diversity protect maintain\u001b[0m among living organisms ecological \n",
       "systems form well intrinsic instrumental values humanity sustainable use components \u001b[30;48;2;255;255;0muse components biological \u001b[0m\n",
       "\u001b[30;48;2;255;255;0mdiversity\u001b[0m resources species ecosystems way rate lead longterm decline thereby maintaining potential meet needs \n",
       "aspirations present future generations fair equitable sharing benefits arising utilization genetic resources ensure\n",
       "benefits derived access exploitation genetic resources scientific technological economic social benefits shared \n",
       "fair equitable way countries communities provide resources well holders traditional knowledge innovations practices\n",
       "relevant conservation \u001b[30;48;2;255;255;0msustainable use biological diversity\u001b[0m also includes provision appropriate access genetic \n",
       "resources transfer relevant technologies taking account rights resources technologies\n"
      ]
     },
     "metadata": {},
     "output_type": "display_data"
    },
    {
     "data": {
      "text/html": [
       "<pre style=\"white-space:pre;overflow-x:auto;line-height:normal;font-family:Menlo,'DejaVu Sans Mono',consolas,'Courier New',monospace\">according article xii convention international trade endangered species wild <span style=\"color: #000000; text-decoration-color: #000000; background-color: #ffff00\">fauna flora arrange service</span> parties \n",
       "perform <span style=\"color: #000000; text-decoration-color: #000000; background-color: #ffff00\">functions entrusted provisions articles</span> xvi <span style=\"color: #000000; text-decoration-color: #000000; background-color: #ffff00\">convention relate amendments appendices</span> appendix iii amendments\n",
       "thereto undertake scientific technical studies <span style=\"color: #000000; text-decoration-color: #000000; background-color: #ffff00\">accordance programmes authorized conference</span> contribute \n",
       "<span style=\"color: #000000; text-decoration-color: #000000; background-color: #ffff00\">implementation convention including studies</span> standards appropriate preparation shipment living specimens means \n",
       "identifying <span style=\"color: #000000; text-decoration-color: #000000; background-color: #ffff00\">specimens study reports parties</span> parties information respect thereto deems necessary <span style=\"color: #000000; text-decoration-color: #000000; background-color: #ffff00\">ensure </span>\n",
       "<span style=\"color: #000000; text-decoration-color: #000000; background-color: #ffff00\">implementation convention invite</span> parties matter pertaining aims convention publish distribute parties current \n",
       "editions appendices ii iii together information facilitate identification <span style=\"color: #000000; text-decoration-color: #000000; background-color: #ffff00\">specimens species included appendices</span> \n",
       "annual reports parties work <span style=\"color: #000000; text-decoration-color: #000000; background-color: #ffff00\">implementation convention reports meetings</span> may request make recommendations \n",
       "<span style=\"color: #000000; text-decoration-color: #000000; background-color: #ffff00\">implementation aims provisions convention</span> exchange information scientific technical nature perform function may \n",
       "entrusted parties\n",
       "</pre>\n"
      ],
      "text/plain": [
       "according article xii convention international trade endangered species wild \u001b[30;48;2;255;255;0mfauna flora arrange service\u001b[0m parties \n",
       "perform \u001b[30;48;2;255;255;0mfunctions entrusted provisions articles\u001b[0m xvi \u001b[30;48;2;255;255;0mconvention relate amendments appendices\u001b[0m appendix iii amendments\n",
       "thereto undertake scientific technical studies \u001b[30;48;2;255;255;0maccordance programmes authorized conference\u001b[0m contribute \n",
       "\u001b[30;48;2;255;255;0mimplementation convention including studies\u001b[0m standards appropriate preparation shipment living specimens means \n",
       "identifying \u001b[30;48;2;255;255;0mspecimens study reports parties\u001b[0m parties information respect thereto deems necessary \u001b[30;48;2;255;255;0mensure \u001b[0m\n",
       "\u001b[30;48;2;255;255;0mimplementation convention invite\u001b[0m parties matter pertaining aims convention publish distribute parties current \n",
       "editions appendices ii iii together information facilitate identification \u001b[30;48;2;255;255;0mspecimens species included appendices\u001b[0m \n",
       "annual reports parties work \u001b[30;48;2;255;255;0mimplementation convention reports meetings\u001b[0m may request make recommendations \n",
       "\u001b[30;48;2;255;255;0mimplementation aims provisions convention\u001b[0m exchange information scientific technical nature perform function may \n",
       "entrusted parties\n"
      ]
     },
     "metadata": {},
     "output_type": "display_data"
    },
    {
     "data": {
      "text/html": [
       "<pre style=\"white-space:pre;overflow-x:auto;line-height:normal;font-family:Menlo,'DejaVu Sans Mono',consolas,'Courier New',monospace\">according article <span style=\"color: #000000; text-decoration-color: #000000; background-color: #ffff00\">ix convention conservation migratory</span> <span style=\"color: #000000; text-decoration-color: #000000; background-color: #ffff00\">wild animals maintaining liaison</span> liaison parties standing \n",
       "bodies set agreements international <span style=\"color: #000000; text-decoration-color: #000000; background-color: #ffff00\">organizations concerned migratory species</span> appropriate source reports \n",
       "information objectives implementation <span style=\"color: #000000; text-decoration-color: #000000; background-color: #ffff00\">convention arranging appropriate dissemination</span> inviting attention conference \n",
       "parties matter <span style=\"color: #000000; text-decoration-color: #000000; background-color: #ffff00\">pertaining objectives convention preparing</span> parties reports work <span style=\"color: #000000; text-decoration-color: #000000; background-color: #ffff00\">secretariat implementation </span>\n",
       "<span style=\"color: #000000; text-decoration-color: #000000; background-color: #ffff00\">convention maintaining</span> list range states <span style=\"color: #000000; text-decoration-color: #000000; background-color: #ffff00\">migratory species included appendices</span> promoting direction conference \n",
       "parties conclusion agreements maintaining making available parties list agreements required conference parties \n",
       "providing information agreements maintaining publishing list recommendations made conference parties pursuant \n",
       "subparagraphs paragraph article vii decisions made pursuant subparagraph paragraph providing general public \n",
       "information concerning convention objectives performing function <span style=\"color: #000000; text-decoration-color: #000000; background-color: #ffff00\">entrusted convention conference</span> parties functions \n",
       "enable <span style=\"color: #000000; text-decoration-color: #000000; background-color: #ffff00\">secretariat fulfil role conventions</span> body\n",
       "</pre>\n"
      ],
      "text/plain": [
       "according article \u001b[30;48;2;255;255;0mix convention conservation migratory\u001b[0m \u001b[30;48;2;255;255;0mwild animals maintaining liaison\u001b[0m liaison parties standing \n",
       "bodies set agreements international \u001b[30;48;2;255;255;0morganizations concerned migratory species\u001b[0m appropriate source reports \n",
       "information objectives implementation \u001b[30;48;2;255;255;0mconvention arranging appropriate dissemination\u001b[0m inviting attention conference \n",
       "parties matter \u001b[30;48;2;255;255;0mpertaining objectives convention preparing\u001b[0m parties reports work \u001b[30;48;2;255;255;0msecretariat implementation \u001b[0m\n",
       "\u001b[30;48;2;255;255;0mconvention maintaining\u001b[0m list range states \u001b[30;48;2;255;255;0mmigratory species included appendices\u001b[0m promoting direction conference \n",
       "parties conclusion agreements maintaining making available parties list agreements required conference parties \n",
       "providing information agreements maintaining publishing list recommendations made conference parties pursuant \n",
       "subparagraphs paragraph article vii decisions made pursuant subparagraph paragraph providing general public \n",
       "information concerning convention objectives performing function \u001b[30;48;2;255;255;0mentrusted convention conference\u001b[0m parties functions \n",
       "enable \u001b[30;48;2;255;255;0msecretariat fulfil role conventions\u001b[0m body\n"
      ]
     },
     "metadata": {},
     "output_type": "display_data"
    },
    {
     "data": {
      "text/html": [
       "<pre style=\"white-space:pre;overflow-x:auto;line-height:normal;font-family:Menlo,'DejaVu Sans Mono',consolas,'Courier New',monospace\">according article <span style=\"color: #000000; text-decoration-color: #000000; background-color: #ffff00\">agreement establishing providing financing</span> projects programmes specifically designed introduce \n",
       "<span style=\"color: #000000; text-decoration-color: #000000; background-color: #ffff00\">expand improve food production</span> strengthen related policies institutions within framework national priorities \n",
       "strategies furnishing technical assistance policy advice well facilitating access developing member states \n",
       "technology information support abovementioned activities <span style=\"color: #000000; text-decoration-color: #000000; background-color: #ffff00\">promoting facilitating participation rural</span> particularly \n",
       "women youth decisions activities affecting living conditions wellbeing functions enable fund fulfil role \n",
       "international financial institution specialized agency united <span style=\"color: #000000; text-decoration-color: #000000; background-color: #ffff00\">nations dedicated eradicating rural</span> developing \n",
       "countries\n",
       "</pre>\n"
      ],
      "text/plain": [
       "according article \u001b[30;48;2;255;255;0magreement establishing providing financing\u001b[0m projects programmes specifically designed introduce \n",
       "\u001b[30;48;2;255;255;0mexpand improve food production\u001b[0m strengthen related policies institutions within framework national priorities \n",
       "strategies furnishing technical assistance policy advice well facilitating access developing member states \n",
       "technology information support abovementioned activities \u001b[30;48;2;255;255;0mpromoting facilitating participation rural\u001b[0m particularly \n",
       "women youth decisions activities affecting living conditions wellbeing functions enable fund fulfil role \n",
       "international financial institution specialized agency united \u001b[30;48;2;255;255;0mnations dedicated eradicating rural\u001b[0m developing \n",
       "countries\n"
      ]
     },
     "metadata": {},
     "output_type": "display_data"
    },
    {
     "data": {
      "text/html": [
       "<pre style=\"white-space:pre;overflow-x:auto;line-height:normal;font-family:Menlo,'DejaVu Sans Mono',consolas,'Courier New',monospace\">according paragraph resolution 2297 un general assembly adopted first plenary enpdf <span style=\"color: #000000; text-decoration-color: #000000; background-color: #ffff00\">specific defined objectives itc</span>\n",
       "<span style=\"color: #000000; text-decoration-color: #000000; background-color: #ffff00\">help developing countries marketing</span> exports especially fields <span style=\"color: #000000; text-decoration-color: #000000; background-color: #ffff00\">primary commodities manufactured goods</span> <span style=\"color: #000000; text-decoration-color: #000000; background-color: #ffff00\">assist </span>\n",
       "<span style=\"color: #000000; text-decoration-color: #000000; background-color: #ffff00\">developing countries organizing</span> trade fairs <span style=\"color: #000000; text-decoration-color: #000000; background-color: #ffff00\">exhibitions national international levels</span> showcasing products \n",
       "establishing business contacts facilitate access developing countries adequate appropriate sources trade financing \n",
       "shortterm longterm encourage development trade financing institutions <span style=\"color: #000000; text-decoration-color: #000000; background-color: #ffff00\">mechanisms developing countries</span>\n",
       "</pre>\n"
      ],
      "text/plain": [
       "according paragraph resolution 2297 un general assembly adopted first plenary enpdf \u001b[30;48;2;255;255;0mspecific defined objectives itc\u001b[0m\n",
       "\u001b[30;48;2;255;255;0mhelp developing countries marketing\u001b[0m exports especially fields \u001b[30;48;2;255;255;0mprimary commodities manufactured goods\u001b[0m \u001b[30;48;2;255;255;0massist \u001b[0m\n",
       "\u001b[30;48;2;255;255;0mdeveloping countries organizing\u001b[0m trade fairs \u001b[30;48;2;255;255;0mexhibitions national international levels\u001b[0m showcasing products \n",
       "establishing business contacts facilitate access developing countries adequate appropriate sources trade financing \n",
       "shortterm longterm encourage development trade financing institutions \u001b[30;48;2;255;255;0mmechanisms developing countries\u001b[0m\n"
      ]
     },
     "metadata": {},
     "output_type": "display_data"
    },
    {
     "data": {
      "text/html": [
       "<pre style=\"white-space:pre;overflow-x:auto;line-height:normal;font-family:Menlo,'DejaVu Sans Mono',consolas,'Courier New',monospace\">according article 23 <span style=\"color: #000000; text-decoration-color: #000000; background-color: #ffff00\">convention subsidiary bodies established</span> providing services required compiling transmitting \n",
       "reports submitted facilitating assistance affected <span style=\"color: #000000; text-decoration-color: #000000; background-color: #ffff00\">developing country parties request</span> africa compilation \n",
       "communication information <span style=\"color: #000000; text-decoration-color: #000000; background-color: #ffff00\">required convention coordinating activities</span> relevant international bodies conventions \n",
       "additionally according <span style=\"color: #000000; text-decoration-color: #000000; background-color: #ffff00\">20182030 strategic framework secretariats</span> also include acting advocate land ensuring \n",
       "landrelated issues put front center development agenda championing healthy productive accessible land around world \n",
       "supporting countries achieving land degradation neutrality integrating strategies poverty eradication promoting \n",
       "cooperation among affected country parties providing access latest data knowledge ensuring best practices shared \n",
       "opportunities capacitybuilding increased functions enable secretariat fulfil role <span style=\"color: #000000; text-decoration-color: #000000; background-color: #ffff00\">main facilitator implementation </span>\n",
       "<span style=\"color: #000000; text-decoration-color: #000000; background-color: #ffff00\">convention</span> framework\n",
       "</pre>\n"
      ],
      "text/plain": [
       "according article 23 \u001b[30;48;2;255;255;0mconvention subsidiary bodies established\u001b[0m providing services required compiling transmitting \n",
       "reports submitted facilitating assistance affected \u001b[30;48;2;255;255;0mdeveloping country parties request\u001b[0m africa compilation \n",
       "communication information \u001b[30;48;2;255;255;0mrequired convention coordinating activities\u001b[0m relevant international bodies conventions \n",
       "additionally according \u001b[30;48;2;255;255;0m20182030 strategic framework secretariats\u001b[0m also include acting advocate land ensuring \n",
       "landrelated issues put front center development agenda championing healthy productive accessible land around world \n",
       "supporting countries achieving land degradation neutrality integrating strategies poverty eradication promoting \n",
       "cooperation among affected country parties providing access latest data knowledge ensuring best practices shared \n",
       "opportunities capacitybuilding increased functions enable secretariat fulfil role \u001b[30;48;2;255;255;0mmain facilitator implementation \u001b[0m\n",
       "\u001b[30;48;2;255;255;0mconvention\u001b[0m framework\n"
      ]
     },
     "metadata": {},
     "output_type": "display_data"
    },
    {
     "data": {
      "text/html": [
       "<pre style=\"white-space:pre;overflow-x:auto;line-height:normal;font-family:Menlo,'DejaVu Sans Mono',consolas,'Courier New',monospace\"><span style=\"color: #000000; text-decoration-color: #000000; background-color: #ffff00\">according charter contribute collaborative</span> education efforts resolve pressing global problems human survival \n",
       "development welfare concern united nations peoples member states disseminate knowledge gained activities <span style=\"color: #000000; text-decoration-color: #000000; background-color: #ffff00\">united </span>\n",
       "<span style=\"color: #000000; text-decoration-color: #000000; background-color: #ffff00\">nations agencies scholars</span> order increase dynamic interaction <span style=\"color: #000000; text-decoration-color: #000000; background-color: #ffff00\">worldwide community learning research</span> development \n",
       "vigorous academic scientific communities everywhere particularly developing countries devoted vital needs fields \n",
       "learning research within framework aims assigned centres <span style=\"color: #000000; text-decoration-color: #000000; background-color: #ffff00\">programmes present charter grant</span> master degrees doctorates\n",
       "diplomas certificates academic distinctions conditions laid purpose statutes council university objectives reflect \n",
       "universitys <span style=\"color: #000000; text-decoration-color: #000000; background-color: #ffff00\">mission international community scholars</span> <span style=\"color: #000000; text-decoration-color: #000000; background-color: #ffff00\">research postgraduate training dissemination</span> furtherance \n",
       "purposes <span style=\"color: #000000; text-decoration-color: #000000; background-color: #ffff00\">principles charter united nations</span>\n",
       "</pre>\n"
      ],
      "text/plain": [
       "\u001b[30;48;2;255;255;0maccording charter contribute collaborative\u001b[0m education efforts resolve pressing global problems human survival \n",
       "development welfare concern united nations peoples member states disseminate knowledge gained activities \u001b[30;48;2;255;255;0munited \u001b[0m\n",
       "\u001b[30;48;2;255;255;0mnations agencies scholars\u001b[0m order increase dynamic interaction \u001b[30;48;2;255;255;0mworldwide community learning research\u001b[0m development \n",
       "vigorous academic scientific communities everywhere particularly developing countries devoted vital needs fields \n",
       "learning research within framework aims assigned centres \u001b[30;48;2;255;255;0mprogrammes present charter grant\u001b[0m master degrees doctorates\n",
       "diplomas certificates academic distinctions conditions laid purpose statutes council university objectives reflect \n",
       "universitys \u001b[30;48;2;255;255;0mmission international community scholars\u001b[0m \u001b[30;48;2;255;255;0mresearch postgraduate training dissemination\u001b[0m furtherance \n",
       "purposes \u001b[30;48;2;255;255;0mprinciples charter united nations\u001b[0m\n"
      ]
     },
     "metadata": {},
     "output_type": "display_data"
    },
    {
     "data": {
      "text/html": [
       "<pre style=\"white-space:pre;overflow-x:auto;line-height:normal;font-family:Menlo,'DejaVu Sans Mono',consolas,'Courier New',monospace\">according convention encouraging <span style=\"color: #000000; text-decoration-color: #000000; background-color: #ffff00\">countries identify designate wetlands</span> importance represent best examples <span style=\"color: #000000; text-decoration-color: #000000; background-color: #ffff00\">wetland </span>\n",
       "<span style=\"color: #000000; text-decoration-color: #000000; background-color: #ffff00\">ecosystems global significance</span> <span style=\"color: #000000; text-decoration-color: #000000; background-color: #ffff00\">international cooperation wetland conservation</span> <span style=\"color: #000000; text-decoration-color: #000000; background-color: #ffff00\">recognizing conservation wetlands </span>\n",
       "<span style=\"color: #000000; text-decoration-color: #000000; background-color: #ffff00\">resources</span> concern requires coordinated efforts equiring regular monitoring <span style=\"color: #000000; text-decoration-color: #000000; background-color: #ffff00\">reporting status wetlands resources</span> \n",
       "taken conservation sustainable use effectiveness measures promoting public <span style=\"color: #000000; text-decoration-color: #000000; background-color: #ffff00\">awareness education importance wetlands</span> \n",
       "recognizing public support <span style=\"color: #000000; text-decoration-color: #000000; background-color: #ffff00\">involvement essential success wetland</span> efforts\n",
       "</pre>\n"
      ],
      "text/plain": [
       "according convention encouraging \u001b[30;48;2;255;255;0mcountries identify designate wetlands\u001b[0m importance represent best examples \u001b[30;48;2;255;255;0mwetland \u001b[0m\n",
       "\u001b[30;48;2;255;255;0mecosystems global significance\u001b[0m \u001b[30;48;2;255;255;0minternational cooperation wetland conservation\u001b[0m \u001b[30;48;2;255;255;0mrecognizing conservation wetlands \u001b[0m\n",
       "\u001b[30;48;2;255;255;0mresources\u001b[0m concern requires coordinated efforts equiring regular monitoring \u001b[30;48;2;255;255;0mreporting status wetlands resources\u001b[0m \n",
       "taken conservation sustainable use effectiveness measures promoting public \u001b[30;48;2;255;255;0mawareness education importance wetlands\u001b[0m \n",
       "recognizing public support \u001b[30;48;2;255;255;0minvolvement essential success wetland\u001b[0m efforts\n"
      ]
     },
     "metadata": {},
     "output_type": "display_data"
    },
    {
     "data": {
      "text/html": [
       "<pre style=\"white-space:pre;overflow-x:auto;line-height:normal;font-family:Menlo,'DejaVu Sans Mono',consolas,'Courier New',monospace\"><span style=\"color: #000000; text-decoration-color: #000000; background-color: #ffff00\">according article furthermore convention</span> <span style=\"color: #000000; text-decoration-color: #000000; background-color: #ffff00\">mechanism monitoring reporting reviewing</span> <span style=\"color: #000000; text-decoration-color: #000000; background-color: #ffff00\">effectiveness provisions</span>\n",
       "</pre>\n"
      ],
      "text/plain": [
       "\u001b[30;48;2;255;255;0maccording article furthermore convention\u001b[0m \u001b[30;48;2;255;255;0mmechanism monitoring reporting reviewing\u001b[0m \u001b[30;48;2;255;255;0meffectiveness provisions\u001b[0m\n"
      ]
     },
     "metadata": {},
     "output_type": "display_data"
    },
    {
     "data": {
      "text/html": [
       "<pre style=\"white-space:pre;overflow-x:auto;line-height:normal;font-family:Menlo,'DejaVu Sans Mono',consolas,'Courier New',monospace\">according part section iii working <span style=\"color: #000000; text-decoration-color: #000000; background-color: #ffff00\">document space2030 agenda</span> space driver sustainable development harness potential\n",
       "space solve everyday challenges leverage spacerelated innovation improve quality life improve access <span style=\"color: #000000; text-decoration-color: #000000; background-color: #ffff00\">space ensure </span>\n",
       "<span style=\"color: #000000; text-decoration-color: #000000; background-color: #ffff00\">countries benefit</span> space science technology applications spacebased data information products thereby supporting \n",
       "achievement sustainable development goals build partnerships strengthen international cooperation peaceful uses \n",
       "<span style=\"color: #000000; text-decoration-color: #000000; background-color: #ffff00\">outer space global governance</span> <span style=\"color: #000000; text-decoration-color: #000000; background-color: #ffff00\">space activities objectives structured</span> four pillars <span style=\"color: #000000; text-decoration-color: #000000; background-color: #ffff00\">space economy space society</span> \n",
       "accessibility space diplomacy complemented four core objectives outline specific actions taken member <span style=\"color: #000000; text-decoration-color: #000000; background-color: #ffff00\">states </span>\n",
       "<span style=\"color: #000000; text-decoration-color: #000000; background-color: #ffff00\">stakeholders implement space2030</span>\n",
       "</pre>\n"
      ],
      "text/plain": [
       "according part section iii working \u001b[30;48;2;255;255;0mdocument space2030 agenda\u001b[0m space driver sustainable development harness potential\n",
       "space solve everyday challenges leverage spacerelated innovation improve quality life improve access \u001b[30;48;2;255;255;0mspace ensure \u001b[0m\n",
       "\u001b[30;48;2;255;255;0mcountries benefit\u001b[0m space science technology applications spacebased data information products thereby supporting \n",
       "achievement sustainable development goals build partnerships strengthen international cooperation peaceful uses \n",
       "\u001b[30;48;2;255;255;0mouter space global governance\u001b[0m \u001b[30;48;2;255;255;0mspace activities objectives structured\u001b[0m four pillars \u001b[30;48;2;255;255;0mspace economy space society\u001b[0m \n",
       "accessibility space diplomacy complemented four core objectives outline specific actions taken member \u001b[30;48;2;255;255;0mstates \u001b[0m\n",
       "\u001b[30;48;2;255;255;0mstakeholders implement space2030\u001b[0m\n"
      ]
     },
     "metadata": {},
     "output_type": "display_data"
    },
    {
     "data": {
      "text/html": [
       "<pre style=\"white-space:pre;overflow-x:auto;line-height:normal;font-family:Menlo,'DejaVu Sans Mono',consolas,'Courier New',monospace\"><span style=\"color: #000000; text-decoration-color: #000000; background-color: #ffff00\">according secretarygenerals bulletin stsgb20046</span> central <span style=\"color: #000000; text-decoration-color: #000000; background-color: #ffff00\">drug control entity</span> exclusive responsibility coordinating \n",
       "providing effective <span style=\"color: #000000; text-decoration-color: #000000; background-color: #ffff00\">leadership united nations drug</span> activities serving repository technical <span style=\"color: #000000; text-decoration-color: #000000; background-color: #ffff00\">expertise international </span>\n",
       "<span style=\"color: #000000; text-decoration-color: #000000; background-color: #ffff00\">drug control</span> united nations including regional commissions united nations organs well member states acting behalf \n",
       "<span style=\"color: #000000; text-decoration-color: #000000; background-color: #ffff00\">secretarygeneral fulfilling responsibilities</span> terms international treaties resolutions united nations organs \n",
       "<span style=\"color: #000000; text-decoration-color: #000000; background-color: #ffff00\">relating international drug control</span> substantive services general assembly economic social council <span style=\"color: #000000; text-decoration-color: #000000; background-color: #ffff00\">committees </span>\n",
       "<span style=\"color: #000000; text-decoration-color: #000000; background-color: #ffff00\">conferences dealing drug</span> matters carrying activities field international crime prevention control strengthening \n",
       "regional international cooperation preventing combating transnational crime particular organized economic crime \n",
       "moneylaundering illicit trafficking women children financial crimes terrorism forms promoting effective fair \n",
       "administration justice due respect rights affected crime involved criminal justice system promoting adherence \n",
       "<span style=\"color: #000000; text-decoration-color: #000000; background-color: #ffff00\">international treaties drug control</span> prevention terrorism effective implementation states providing assistance \n",
       "member states implementation relevant general assembly resolutions declarations related action terrorism\n",
       "</pre>\n"
      ],
      "text/plain": [
       "\u001b[30;48;2;255;255;0maccording secretarygenerals bulletin stsgb20046\u001b[0m central \u001b[30;48;2;255;255;0mdrug control entity\u001b[0m exclusive responsibility coordinating \n",
       "providing effective \u001b[30;48;2;255;255;0mleadership united nations drug\u001b[0m activities serving repository technical \u001b[30;48;2;255;255;0mexpertise international \u001b[0m\n",
       "\u001b[30;48;2;255;255;0mdrug control\u001b[0m united nations including regional commissions united nations organs well member states acting behalf \n",
       "\u001b[30;48;2;255;255;0msecretarygeneral fulfilling responsibilities\u001b[0m terms international treaties resolutions united nations organs \n",
       "\u001b[30;48;2;255;255;0mrelating international drug control\u001b[0m substantive services general assembly economic social council \u001b[30;48;2;255;255;0mcommittees \u001b[0m\n",
       "\u001b[30;48;2;255;255;0mconferences dealing drug\u001b[0m matters carrying activities field international crime prevention control strengthening \n",
       "regional international cooperation preventing combating transnational crime particular organized economic crime \n",
       "moneylaundering illicit trafficking women children financial crimes terrorism forms promoting effective fair \n",
       "administration justice due respect rights affected crime involved criminal justice system promoting adherence \n",
       "\u001b[30;48;2;255;255;0minternational treaties drug control\u001b[0m prevention terrorism effective implementation states providing assistance \n",
       "member states implementation relevant general assembly resolutions declarations related action terrorism\n"
      ]
     },
     "metadata": {},
     "output_type": "display_data"
    },
    {
     "data": {
      "text/html": [
       "<pre style=\"white-space:pre;overflow-x:auto;line-height:normal;font-family:Menlo,'DejaVu Sans Mono',consolas,'Courier New',monospace\"><span style=\"color: #000000; text-decoration-color: #000000; background-color: #ffff00\">promote marine science technology</span> enhance global <span style=\"color: #000000; text-decoration-color: #000000; background-color: #ffff00\">food security ensure maritime</span> environmental protection support \n",
       "legal <span style=\"color: #000000; text-decoration-color: #000000; background-color: #ffff00\">frameworks ocean governance facilitate</span> change mitigation adaptation <span style=\"color: #000000; text-decoration-color: #000000; background-color: #ffff00\">regulate seabed resources sustainable</span> \n",
       "coordinate environmental policies global monitoring advance sustainable development goals <span style=\"color: #000000; text-decoration-color: #000000; background-color: #ffff00\">promote economic </span>\n",
       "<span style=\"color: #000000; text-decoration-color: #000000; background-color: #ffff00\">development maritime</span> <span style=\"color: #000000; text-decoration-color: #000000; background-color: #ffff00\">conserve marine biodiversity ecosystems</span>\n",
       "</pre>\n"
      ],
      "text/plain": [
       "\u001b[30;48;2;255;255;0mpromote marine science technology\u001b[0m enhance global \u001b[30;48;2;255;255;0mfood security ensure maritime\u001b[0m environmental protection support \n",
       "legal \u001b[30;48;2;255;255;0mframeworks ocean governance facilitate\u001b[0m change mitigation adaptation \u001b[30;48;2;255;255;0mregulate seabed resources sustainable\u001b[0m \n",
       "coordinate environmental policies global monitoring advance sustainable development goals \u001b[30;48;2;255;255;0mpromote economic \u001b[0m\n",
       "\u001b[30;48;2;255;255;0mdevelopment maritime\u001b[0m \u001b[30;48;2;255;255;0mconserve marine biodiversity ecosystems\u001b[0m\n"
      ]
     },
     "metadata": {},
     "output_type": "display_data"
    },
    {
     "name": "stderr",
     "output_type": "stream",
     "text": [
      "Your max_length is set to 150, but your input_length is only 73. Since this is a summarization task, where outputs shorter than the input are typically wanted, you might consider decreasing max_length manually, e.g. summarizer('...', max_length=36)\n",
      "Your max_length is set to 150, but your input_length is only 76. Since this is a summarization task, where outputs shorter than the input are typically wanted, you might consider decreasing max_length manually, e.g. summarizer('...', max_length=38)\n",
      "Your max_length is set to 150, but your input_length is only 97. Since this is a summarization task, where outputs shorter than the input are typically wanted, you might consider decreasing max_length manually, e.g. summarizer('...', max_length=48)\n",
      "Your max_length is set to 150, but your input_length is only 105. Since this is a summarization task, where outputs shorter than the input are typically wanted, you might consider decreasing max_length manually, e.g. summarizer('...', max_length=52)\n",
      "Your max_length is set to 150, but your input_length is only 70. Since this is a summarization task, where outputs shorter than the input are typically wanted, you might consider decreasing max_length manually, e.g. summarizer('...', max_length=35)\n",
      "Your max_length is set to 150, but your input_length is only 123. Since this is a summarization task, where outputs shorter than the input are typically wanted, you might consider decreasing max_length manually, e.g. summarizer('...', max_length=61)\n",
      "Your max_length is set to 150, but your input_length is only 117. Since this is a summarization task, where outputs shorter than the input are typically wanted, you might consider decreasing max_length manually, e.g. summarizer('...', max_length=58)\n",
      "Your max_length is set to 150, but your input_length is only 71. Since this is a summarization task, where outputs shorter than the input are typically wanted, you might consider decreasing max_length manually, e.g. summarizer('...', max_length=35)\n",
      "Your max_length is set to 150, but your input_length is only 88. Since this is a summarization task, where outputs shorter than the input are typically wanted, you might consider decreasing max_length manually, e.g. summarizer('...', max_length=44)\n",
      "Your max_length is set to 150, but your input_length is only 134. Since this is a summarization task, where outputs shorter than the input are typically wanted, you might consider decreasing max_length manually, e.g. summarizer('...', max_length=67)\n",
      "Your max_length is set to 150, but your input_length is only 97. Since this is a summarization task, where outputs shorter than the input are typically wanted, you might consider decreasing max_length manually, e.g. summarizer('...', max_length=48)\n",
      "Your max_length is set to 150, but your input_length is only 78. Since this is a summarization task, where outputs shorter than the input are typically wanted, you might consider decreasing max_length manually, e.g. summarizer('...', max_length=39)\n",
      "Your max_length is set to 150, but your input_length is only 114. Since this is a summarization task, where outputs shorter than the input are typically wanted, you might consider decreasing max_length manually, e.g. summarizer('...', max_length=57)\n",
      "Your max_length is set to 150, but your input_length is only 74. Since this is a summarization task, where outputs shorter than the input are typically wanted, you might consider decreasing max_length manually, e.g. summarizer('...', max_length=37)\n",
      "Your max_length is set to 150, but your input_length is only 110. Since this is a summarization task, where outputs shorter than the input are typically wanted, you might consider decreasing max_length manually, e.g. summarizer('...', max_length=55)\n",
      "Your max_length is set to 150, but your input_length is only 103. Since this is a summarization task, where outputs shorter than the input are typically wanted, you might consider decreasing max_length manually, e.g. summarizer('...', max_length=51)\n",
      "Your max_length is set to 150, but your input_length is only 107. Since this is a summarization task, where outputs shorter than the input are typically wanted, you might consider decreasing max_length manually, e.g. summarizer('...', max_length=53)\n",
      "Your max_length is set to 150, but your input_length is only 60. Since this is a summarization task, where outputs shorter than the input are typically wanted, you might consider decreasing max_length manually, e.g. summarizer('...', max_length=30)\n",
      "Your max_length is set to 150, but your input_length is only 88. Since this is a summarization task, where outputs shorter than the input are typically wanted, you might consider decreasing max_length manually, e.g. summarizer('...', max_length=44)\n",
      "Your max_length is set to 150, but your input_length is only 86. Since this is a summarization task, where outputs shorter than the input are typically wanted, you might consider decreasing max_length manually, e.g. summarizer('...', max_length=43)\n",
      "Your max_length is set to 150, but your input_length is only 28. Since this is a summarization task, where outputs shorter than the input are typically wanted, you might consider decreasing max_length manually, e.g. summarizer('...', max_length=14)\n",
      "Your max_length is set to 150, but your input_length is only 103. Since this is a summarization task, where outputs shorter than the input are typically wanted, you might consider decreasing max_length manually, e.g. summarizer('...', max_length=51)\n",
      "Your max_length is set to 150, but your input_length is only 111. Since this is a summarization task, where outputs shorter than the input are typically wanted, you might consider decreasing max_length manually, e.g. summarizer('...', max_length=55)\n",
      "Your max_length is set to 150, but your input_length is only 54. Since this is a summarization task, where outputs shorter than the input are typically wanted, you might consider decreasing max_length manually, e.g. summarizer('...', max_length=27)\n",
      "Your max_length is set to 150, but your input_length is only 65. Since this is a summarization task, where outputs shorter than the input are typically wanted, you might consider decreasing max_length manually, e.g. summarizer('...', max_length=32)\n",
      "Your max_length is set to 150, but your input_length is only 104. Since this is a summarization task, where outputs shorter than the input are typically wanted, you might consider decreasing max_length manually, e.g. summarizer('...', max_length=52)\n",
      "Your max_length is set to 150, but your input_length is only 77. Since this is a summarization task, where outputs shorter than the input are typically wanted, you might consider decreasing max_length manually, e.g. summarizer('...', max_length=38)\n",
      "Your max_length is set to 150, but your input_length is only 89. Since this is a summarization task, where outputs shorter than the input are typically wanted, you might consider decreasing max_length manually, e.g. summarizer('...', max_length=44)\n",
      "Your max_length is set to 150, but your input_length is only 75. Since this is a summarization task, where outputs shorter than the input are typically wanted, you might consider decreasing max_length manually, e.g. summarizer('...', max_length=37)\n",
      "Your max_length is set to 150, but your input_length is only 105. Since this is a summarization task, where outputs shorter than the input are typically wanted, you might consider decreasing max_length manually, e.g. summarizer('...', max_length=52)\n",
      "Your max_length is set to 150, but your input_length is only 50. Since this is a summarization task, where outputs shorter than the input are typically wanted, you might consider decreasing max_length manually, e.g. summarizer('...', max_length=25)\n",
      "Your max_length is set to 150, but your input_length is only 95. Since this is a summarization task, where outputs shorter than the input are typically wanted, you might consider decreasing max_length manually, e.g. summarizer('...', max_length=47)\n",
      "Your max_length is set to 150, but your input_length is only 63. Since this is a summarization task, where outputs shorter than the input are typically wanted, you might consider decreasing max_length manually, e.g. summarizer('...', max_length=31)\n",
      "Your max_length is set to 150, but your input_length is only 88. Since this is a summarization task, where outputs shorter than the input are typically wanted, you might consider decreasing max_length manually, e.g. summarizer('...', max_length=44)\n",
      "Your max_length is set to 150, but your input_length is only 49. Since this is a summarization task, where outputs shorter than the input are typically wanted, you might consider decreasing max_length manually, e.g. summarizer('...', max_length=24)\n",
      "Your max_length is set to 150, but your input_length is only 95. Since this is a summarization task, where outputs shorter than the input are typically wanted, you might consider decreasing max_length manually, e.g. summarizer('...', max_length=47)\n",
      "Your max_length is set to 150, but your input_length is only 105. Since this is a summarization task, where outputs shorter than the input are typically wanted, you might consider decreasing max_length manually, e.g. summarizer('...', max_length=52)\n",
      "Your max_length is set to 150, but your input_length is only 129. Since this is a summarization task, where outputs shorter than the input are typically wanted, you might consider decreasing max_length manually, e.g. summarizer('...', max_length=64)\n",
      "Your max_length is set to 150, but your input_length is only 129. Since this is a summarization task, where outputs shorter than the input are typically wanted, you might consider decreasing max_length manually, e.g. summarizer('...', max_length=64)\n",
      "Your max_length is set to 150, but your input_length is only 80. Since this is a summarization task, where outputs shorter than the input are typically wanted, you might consider decreasing max_length manually, e.g. summarizer('...', max_length=40)\n",
      "Your max_length is set to 150, but your input_length is only 75. Since this is a summarization task, where outputs shorter than the input are typically wanted, you might consider decreasing max_length manually, e.g. summarizer('...', max_length=37)\n",
      "Your max_length is set to 150, but your input_length is only 117. Since this is a summarization task, where outputs shorter than the input are typically wanted, you might consider decreasing max_length manually, e.g. summarizer('...', max_length=58)\n",
      "Your max_length is set to 150, but your input_length is only 106. Since this is a summarization task, where outputs shorter than the input are typically wanted, you might consider decreasing max_length manually, e.g. summarizer('...', max_length=53)\n",
      "Your max_length is set to 150, but your input_length is only 67. Since this is a summarization task, where outputs shorter than the input are typically wanted, you might consider decreasing max_length manually, e.g. summarizer('...', max_length=33)\n",
      "Your max_length is set to 150, but your input_length is only 15. Since this is a summarization task, where outputs shorter than the input are typically wanted, you might consider decreasing max_length manually, e.g. summarizer('...', max_length=7)\n",
      "Your max_length is set to 150, but your input_length is only 97. Since this is a summarization task, where outputs shorter than the input are typically wanted, you might consider decreasing max_length manually, e.g. summarizer('...', max_length=48)\n",
      "Your max_length is set to 150, but your input_length is only 148. Since this is a summarization task, where outputs shorter than the input are typically wanted, you might consider decreasing max_length manually, e.g. summarizer('...', max_length=74)\n",
      "Your max_length is set to 150, but your input_length is only 51. Since this is a summarization task, where outputs shorter than the input are typically wanted, you might consider decreasing max_length manually, e.g. summarizer('...', max_length=25)\n"
     ]
    }
   ],
   "source": [
    "# Clean\n",
    "data['Defined Objectives Cleaned'] = data['Defined Objectives'].apply(clean_text)\n",
    "# Apply the function to eachorganizations document and create a new column 'keywords'\n",
    "data['Defined Objectives Cleaned Keywords'] = data['Defined Objectives Cleaned'].apply(keywords_extractor)\n",
    "data['Defined Objectives Cleaned Keyphrases'] = data['Defined Objectives Cleaned'].apply(keyphrases_extractor)\n",
    "# Create a new column 'summarized' with the summarized text\n",
    "data['Defined Objectives Summarized'] = data['Defined Objectives Cleaned'].apply(summarize_text)"
   ]
  },
  {
   "cell_type": "code",
   "execution_count": 9,
   "id": "0bc33654-6728-4fee-8303-4b32a999ea7f",
   "metadata": {},
   "outputs": [],
   "source": [
    "cols = [\"Institution\", \"Defined Objectives\", \"Defined Objectives Cleaned\", \"Defined Objectives Cleaned Keywords\", \"Defined Objectives Cleaned Keyphrases\", \"Defined Objectives Summarized\"]\n",
    "\n",
    "new_df = data[cols]"
   ]
  },
  {
   "cell_type": "code",
   "execution_count": 10,
   "id": "afb734e4-bc52-47ef-ba42-0f6982f032cb",
   "metadata": {},
   "outputs": [],
   "source": [
    "# Save Spatial df sheet\n",
    "with pd.ExcelWriter(file_path, mode='a') as writer:\n",
    "    new_df.to_excel(writer, sheet_name='Defined Objectivesss', index=False)"
   ]
  },
  {
   "cell_type": "code",
   "execution_count": null,
   "id": "6912149b-6fc9-4567-8cff-167c6dea9897",
   "metadata": {},
   "outputs": [],
   "source": [
    "data.head(3)"
   ]
  },
  {
   "cell_type": "markdown",
   "id": "0c498634-8f1b-4543-b6ca-0de76ad84d2d",
   "metadata": {},
   "source": [
    "#### 4. Strategies\n",
    "`Indicate means and methods of achieving objectives, reflecting an IGO’s adaptation and innovation capabilities.`"
   ]
  },
  {
   "cell_type": "code",
   "execution_count": 11,
   "id": "087cf1bc-f11a-4ff8-be27-1a9607766600",
   "metadata": {},
   "outputs": [
    {
     "data": {
      "text/html": [
       "<pre style=\"white-space:pre;overflow-x:auto;line-height:normal;font-family:Menlo,'DejaVu Sans Mono',consolas,'Courier New',monospace\">implements objectives series strategic measues including mediumterm strategy 20222029 approved <span style=\"color: #000000; text-decoration-color: #000000; background-color: #ffff00\">assembly executive </span>\n",
       "<span style=\"color: #000000; text-decoration-color: #000000; background-color: #ffff00\">council</span> meetings providing <span style=\"color: #000000; text-decoration-color: #000000; background-color: #ffff00\">roadmap goals activities secondly</span> guided decisions made annual assembly sets direction \n",
       "organization work strategic focus current focus <span style=\"color: #000000; text-decoration-color: #000000; background-color: #ffff00\">includes ocean decade implementation</span> aims generate science <span style=\"color: #000000; text-decoration-color: #000000; background-color: #ffff00\">needed </span>\n",
       "<span style=\"color: #000000; text-decoration-color: #000000; background-color: #ffff00\">sustainable ocean additionally</span> strategic decisions made biennially assembly meetings annually executive council \n",
       "meetings including develops biennial budgets work plans detail activities outputs indicators resources strategic \n",
       "objective tailored needs member <span style=\"color: #000000; text-decoration-color: #000000; background-color: #ffff00\">states priorities global oceanographic</span> significantly tasked united nations general \n",
       "assembly leading implementation un decade <span style=\"color: #000000; text-decoration-color: #000000; background-color: #ffff00\">ocean science sustainable development</span> level regional subcommissions \n",
       "westpac iocafrica ioccarribe also corresponding implemetation <span style=\"color: #000000; text-decoration-color: #000000; background-color: #ffff00\">plans ocean decade roadmaps</span> regional engagement \n",
       "address specific challenges relevant areas\n",
       "</pre>\n"
      ],
      "text/plain": [
       "implements objectives series strategic measues including mediumterm strategy 20222029 approved \u001b[30;48;2;255;255;0massembly executive \u001b[0m\n",
       "\u001b[30;48;2;255;255;0mcouncil\u001b[0m meetings providing \u001b[30;48;2;255;255;0mroadmap goals activities secondly\u001b[0m guided decisions made annual assembly sets direction \n",
       "organization work strategic focus current focus \u001b[30;48;2;255;255;0mincludes ocean decade implementation\u001b[0m aims generate science \u001b[30;48;2;255;255;0mneeded \u001b[0m\n",
       "\u001b[30;48;2;255;255;0msustainable ocean additionally\u001b[0m strategic decisions made biennially assembly meetings annually executive council \n",
       "meetings including develops biennial budgets work plans detail activities outputs indicators resources strategic \n",
       "objective tailored needs member \u001b[30;48;2;255;255;0mstates priorities global oceanographic\u001b[0m significantly tasked united nations general \n",
       "assembly leading implementation un decade \u001b[30;48;2;255;255;0mocean science sustainable development\u001b[0m level regional subcommissions \n",
       "westpac iocafrica ioccarribe also corresponding implemetation \u001b[30;48;2;255;255;0mplans ocean decade roadmaps\u001b[0m regional engagement \n",
       "address specific challenges relevant areas\n"
      ]
     },
     "metadata": {},
     "output_type": "display_data"
    },
    {
     "data": {
      "text/html": [
       "<pre style=\"white-space:pre;overflow-x:auto;line-height:normal;font-family:Menlo,'DejaVu Sans Mono',consolas,'Courier New',monospace\">executes objectives series strategic measures <span style=\"color: #000000; text-decoration-color: #000000; background-color: #ffff00\">initially strategic framework 202231</span> conference <span style=\"color: #000000; text-decoration-color: #000000; background-color: #ffff00\">framework aligned </span>\n",
       "<span style=\"color: #000000; text-decoration-color: #000000; background-color: #ffff00\">2030 agenda</span> development emphasizes four betters better production better nutrition better environment better life \n",
       "<span style=\"color: #000000; text-decoration-color: #000000; background-color: #ffff00\">additionally develops biennial programme</span> workplan approved <span style=\"color: #000000; text-decoration-color: #000000; background-color: #ffff00\">council provides common framework</span> country subregional \n",
       "regional global levels enhancing national capacity zoonotic diseases amr prevention detection response improving \n",
       "joint coordination collaboration major stakeholders also directorgeneral medium <span style=\"color: #000000; text-decoration-color: #000000; background-color: #ffff00\">term plan 202225 programme</span> <span style=\"color: #000000; text-decoration-color: #000000; background-color: #ffff00\">budget </span>\n",
       "<span style=\"color: #000000; text-decoration-color: #000000; background-color: #ffff00\">202223 sets strategic</span> outcomes achievement members international community support <span style=\"color: #000000; text-decoration-color: #000000; background-color: #ffff00\">accordance strategic framework </span>\n",
       "<span style=\"color: #000000; text-decoration-color: #000000; background-color: #ffff00\">202231</span> mechanisms codex alimentarius <span style=\"color: #000000; text-decoration-color: #000000; background-color: #ffff00\">provide standards ensure food</span> trade\n",
       "</pre>\n"
      ],
      "text/plain": [
       "executes objectives series strategic measures \u001b[30;48;2;255;255;0minitially strategic framework 202231\u001b[0m conference \u001b[30;48;2;255;255;0mframework aligned \u001b[0m\n",
       "\u001b[30;48;2;255;255;0m2030 agenda\u001b[0m development emphasizes four betters better production better nutrition better environment better life \n",
       "\u001b[30;48;2;255;255;0madditionally develops biennial programme\u001b[0m workplan approved \u001b[30;48;2;255;255;0mcouncil provides common framework\u001b[0m country subregional \n",
       "regional global levels enhancing national capacity zoonotic diseases amr prevention detection response improving \n",
       "joint coordination collaboration major stakeholders also directorgeneral medium \u001b[30;48;2;255;255;0mterm plan 202225 programme\u001b[0m \u001b[30;48;2;255;255;0mbudget \u001b[0m\n",
       "\u001b[30;48;2;255;255;0m202223 sets strategic\u001b[0m outcomes achievement members international community support \u001b[30;48;2;255;255;0maccordance strategic framework \u001b[0m\n",
       "\u001b[30;48;2;255;255;0m202231\u001b[0m mechanisms codex alimentarius \u001b[30;48;2;255;255;0mprovide standards ensure food\u001b[0m trade\n"
      ]
     },
     "metadata": {},
     "output_type": "display_data"
    },
    {
     "data": {
      "text/html": [
       "<pre style=\"white-space:pre;overflow-x:auto;line-height:normal;font-family:Menlo,'DejaVu Sans Mono',consolas,'Courier New',monospace\">implements <span style=\"color: #000000; text-decoration-color: #000000; background-color: #ffff00\">objectives mandates various strategies</span> strategic plan adopted assembly every two <span style=\"color: #000000; text-decoration-color: #000000; background-color: #ffff00\">years defines mission </span>\n",
       "<span style=\"color: #000000; text-decoration-color: #000000; background-color: #ffff00\">vision</span> directions indicators outputs <span style=\"color: #000000; text-decoration-color: #000000; background-color: #ffff00\">organization current plan sixyear</span> 2024 2029 aligned un <span style=\"color: #000000; text-decoration-color: #000000; background-color: #ffff00\">sustainable development</span>\n",
       "<span style=\"color: #000000; text-decoration-color: #000000; background-color: #ffff00\">goals detailed</span> a1149 thirdly <span style=\"color: #000000; text-decoration-color: #000000; background-color: #ffff00\">2023 strategy reduction ghg</span> <span style=\"color: #000000; text-decoration-color: #000000; background-color: #ffff00\">ships sets vision</span> reduce ghg emissions international \n",
       "shipping phase soon possible specific targets carbon intensity reduction uptake zero nearzero ghg emission \n",
       "technologies international convention prevention pollution ships periodically updated meet new challenges \n",
       "technologies maritime transport\n",
       "</pre>\n"
      ],
      "text/plain": [
       "implements \u001b[30;48;2;255;255;0mobjectives mandates various strategies\u001b[0m strategic plan adopted assembly every two \u001b[30;48;2;255;255;0myears defines mission \u001b[0m\n",
       "\u001b[30;48;2;255;255;0mvision\u001b[0m directions indicators outputs \u001b[30;48;2;255;255;0morganization current plan sixyear\u001b[0m 2024 2029 aligned un \u001b[30;48;2;255;255;0msustainable development\u001b[0m\n",
       "\u001b[30;48;2;255;255;0mgoals detailed\u001b[0m a1149 thirdly \u001b[30;48;2;255;255;0m2023 strategy reduction ghg\u001b[0m \u001b[30;48;2;255;255;0mships sets vision\u001b[0m reduce ghg emissions international \n",
       "shipping phase soon possible specific targets carbon intensity reduction uptake zero nearzero ghg emission \n",
       "technologies international convention prevention pollution ships periodically updated meet new challenges \n",
       "technologies maritime transport\n"
      ]
     },
     "metadata": {},
     "output_type": "display_data"
    },
    {
     "data": {
      "text/html": [
       "<pre style=\"white-space:pre;overflow-x:auto;line-height:normal;font-family:Menlo,'DejaVu Sans Mono',consolas,'Courier New',monospace\"><span style=\"color: #000000; text-decoration-color: #000000; background-color: #ffff00\">doalos executes objectives multifaceted</span> primarily continuous programme assistance states <span style=\"color: #000000; text-decoration-color: #000000; background-color: #ffff00\">intergovernmental </span>\n",
       "<span style=\"color: #000000; text-decoration-color: #000000; background-color: #ffff00\">organizations field oceans</span> sea includes uniform consistent application united nations convention law sea related \n",
       "agreements assistance tailored based needs beneficiaries aligned 2030 agenda sustainable development sustainable \n",
       "<span style=\"color: #000000; text-decoration-color: #000000; background-color: #ffff00\">development goals additionally doalos</span> several trust funds established general assembly support states particularly \n",
       "developing states implementing convention participating oceanrelated work <span style=\"color: #000000; text-decoration-color: #000000; background-color: #ffff00\">general assembly furthermore doalos</span> \n",
       "advisory services reference collections databases studies guidelines ocean affairs law sea also plays pivotal role \n",
       "regular process global reporting assessment state marine environment including socioeconomic aspects¹ strategies \n",
       "mechanisms collectively <span style=\"color: #000000; text-decoration-color: #000000; background-color: #ffff00\">form operational framework doalos</span> mandate <span style=\"color: #000000; text-decoration-color: #000000; background-color: #ffff00\">contribute global ocean governance</span> development\n",
       "</pre>\n"
      ],
      "text/plain": [
       "\u001b[30;48;2;255;255;0mdoalos executes objectives multifaceted\u001b[0m primarily continuous programme assistance states \u001b[30;48;2;255;255;0mintergovernmental \u001b[0m\n",
       "\u001b[30;48;2;255;255;0morganizations field oceans\u001b[0m sea includes uniform consistent application united nations convention law sea related \n",
       "agreements assistance tailored based needs beneficiaries aligned 2030 agenda sustainable development sustainable \n",
       "\u001b[30;48;2;255;255;0mdevelopment goals additionally doalos\u001b[0m several trust funds established general assembly support states particularly \n",
       "developing states implementing convention participating oceanrelated work \u001b[30;48;2;255;255;0mgeneral assembly furthermore doalos\u001b[0m \n",
       "advisory services reference collections databases studies guidelines ocean affairs law sea also plays pivotal role \n",
       "regular process global reporting assessment state marine environment including socioeconomic aspects¹ strategies \n",
       "mechanisms collectively \u001b[30;48;2;255;255;0mform operational framework doalos\u001b[0m mandate \u001b[30;48;2;255;255;0mcontribute global ocean governance\u001b[0m development\n"
      ]
     },
     "metadata": {},
     "output_type": "display_data"
    },
    {
     "data": {
      "text/html": [
       "<pre style=\"white-space:pre;overflow-x:auto;line-height:normal;font-family:Menlo,'DejaVu Sans Mono',consolas,'Courier New',monospace\"><span style=\"color: #000000; text-decoration-color: #000000; background-color: #ffff00\">unfccc secretariat executes objectives</span> several strategies firstly sixyear strategic plan revised biennially \n",
       "<span style=\"color: #000000; text-decoration-color: #000000; background-color: #ffff00\">conference parties establishes secretariats</span> mission <span style=\"color: #000000; text-decoration-color: #000000; background-color: #ffff00\">strategic goals core functions</span> plan applicable 20202025 aligns \n",
       "<span style=\"color: #000000; text-decoration-color: #000000; background-color: #ffff00\">paris agreement 2030 agenda</span> development detailed decision 18cp25 secondly biennial programme budget workplan \n",
       "<span style=\"color: #000000; text-decoration-color: #000000; background-color: #ffff00\">devised secretariat ratified conference</span> detail activities outputs indicators resources corresponding <span style=\"color: #000000; text-decoration-color: #000000; background-color: #ffff00\">strategic </span>\n",
       "<span style=\"color: #000000; text-decoration-color: #000000; background-color: #ffff00\">objective established paris</span> key aspect <span style=\"color: #000000; text-decoration-color: #000000; background-color: #ffff00\">implementation paris agreement finally</span> <span style=\"color: #000000; text-decoration-color: #000000; background-color: #ffff00\">agreements mechanisms platforms </span>\n",
       "<span style=\"color: #000000; text-decoration-color: #000000; background-color: #ffff00\">initiatives</span> operational <span style=\"color: #000000; text-decoration-color: #000000; background-color: #ffff00\">framework implementing convention kyoto</span> paris agreement addressing adaptation mitigation \n",
       "finance technology transparency capacitybuilding key instruments listed\n",
       "</pre>\n"
      ],
      "text/plain": [
       "\u001b[30;48;2;255;255;0munfccc secretariat executes objectives\u001b[0m several strategies firstly sixyear strategic plan revised biennially \n",
       "\u001b[30;48;2;255;255;0mconference parties establishes secretariats\u001b[0m mission \u001b[30;48;2;255;255;0mstrategic goals core functions\u001b[0m plan applicable 20202025 aligns \n",
       "\u001b[30;48;2;255;255;0mparis agreement 2030 agenda\u001b[0m development detailed decision 18cp25 secondly biennial programme budget workplan \n",
       "\u001b[30;48;2;255;255;0mdevised secretariat ratified conference\u001b[0m detail activities outputs indicators resources corresponding \u001b[30;48;2;255;255;0mstrategic \u001b[0m\n",
       "\u001b[30;48;2;255;255;0mobjective established paris\u001b[0m key aspect \u001b[30;48;2;255;255;0mimplementation paris agreement finally\u001b[0m \u001b[30;48;2;255;255;0magreements mechanisms platforms \u001b[0m\n",
       "\u001b[30;48;2;255;255;0minitiatives\u001b[0m operational \u001b[30;48;2;255;255;0mframework implementing convention kyoto\u001b[0m paris agreement addressing adaptation mitigation \n",
       "finance technology transparency capacitybuilding key instruments listed\n"
      ]
     },
     "metadata": {},
     "output_type": "display_data"
    },
    {
     "data": {
      "text/html": [
       "<pre style=\"white-space:pre;overflow-x:auto;line-height:normal;font-family:Menlo,'DejaVu Sans Mono',consolas,'Courier New',monospace\">fulfills objectives diverse strategies firstly fiveyear <span style=\"color: #000000; text-decoration-color: #000000; background-color: #ffff00\">strategic plan adopted 2018</span> assembly aligns unclos 1994 \n",
       "agreement additionally highlevel action plan 20192023 adopted 2019 outlines necessary actions achieve <span style=\"color: #000000; text-decoration-color: #000000; background-color: #ffff00\">strategic </span>\n",
       "<span style=\"color: #000000; text-decoration-color: #000000; background-color: #ffff00\">plans objectives including</span> <span style=\"color: #000000; text-decoration-color: #000000; background-color: #ffff00\">standards guidelines isa</span> also employs data management strategy initiated august 2016 \n",
       "focusing enhancing data collection storage analysis dissemination supported isa deepdata database detailed isba23a3\n",
       "<span style=\"color: #000000; text-decoration-color: #000000; background-color: #ffff00\">furthermore isa issues 15year</span> mineral resource <span style=\"color: #000000; text-decoration-color: #000000; background-color: #ffff00\">exploration area various contractors</span> polymetallic nodules \n",
       "polymetallic sulphides cobaltrich ferromanganese crusts governed <span style=\"color: #000000; text-decoration-color: #000000; background-color: #ffff00\">isas rules requiring contractors</span> data support \n",
       "training personnel developing states strategies collectively ensure effective management sustainable utilization \n",
       "seabed resources\n",
       "</pre>\n"
      ],
      "text/plain": [
       "fulfills objectives diverse strategies firstly fiveyear \u001b[30;48;2;255;255;0mstrategic plan adopted 2018\u001b[0m assembly aligns unclos 1994 \n",
       "agreement additionally highlevel action plan 20192023 adopted 2019 outlines necessary actions achieve \u001b[30;48;2;255;255;0mstrategic \u001b[0m\n",
       "\u001b[30;48;2;255;255;0mplans objectives including\u001b[0m \u001b[30;48;2;255;255;0mstandards guidelines isa\u001b[0m also employs data management strategy initiated august 2016 \n",
       "focusing enhancing data collection storage analysis dissemination supported isa deepdata database detailed isba23a3\n",
       "\u001b[30;48;2;255;255;0mfurthermore isa issues 15year\u001b[0m mineral resource \u001b[30;48;2;255;255;0mexploration area various contractors\u001b[0m polymetallic nodules \n",
       "polymetallic sulphides cobaltrich ferromanganese crusts governed \u001b[30;48;2;255;255;0misas rules requiring contractors\u001b[0m data support \n",
       "training personnel developing states strategies collectively ensure effective management sustainable utilization \n",
       "seabed resources\n"
      ]
     },
     "metadata": {},
     "output_type": "display_data"
    },
    {
     "data": {
      "text/html": [
       "<pre style=\"white-space:pre;overflow-x:auto;line-height:normal;font-family:Menlo,'DejaVu Sans Mono',consolas,'Courier New',monospace\"><span style=\"color: #000000; text-decoration-color: #000000; background-color: #ffff00\">fulfills objectives diverse strategies</span> fouryear mediumterm strategy period 2022 2025 set adopted un <span style=\"color: #000000; text-decoration-color: #000000; background-color: #ffff00\">environmental </span>\n",
       "<span style=\"color: #000000; text-decoration-color: #000000; background-color: #ffff00\">assembly adopted 2021</span> <span style=\"color: #000000; text-decoration-color: #000000; background-color: #ffff00\">seas conventions action plans</span> legal frameworks operational <span style=\"color: #000000; text-decoration-color: #000000; background-color: #ffff00\">mechanisms addressing specific </span>\n",
       "<span style=\"color: #000000; text-decoration-color: #000000; background-color: #ffff00\">environmental</span> regions furthermore work guided number overarching <span style=\"color: #000000; text-decoration-color: #000000; background-color: #ffff00\">strategies policies guidelines ensuring</span> \n",
       "information preventing responding misconduct fraud enhancing sustainability engaging civil society private sector \n",
       "etc every two years unea also adopts <span style=\"color: #000000; text-decoration-color: #000000; background-color: #ffff00\">resolutions decisions various environmental</span> <span style=\"color: #000000; text-decoration-color: #000000; background-color: #ffff00\">guide implementation objectives </span>\n",
       "<span style=\"color: #000000; text-decoration-color: #000000; background-color: #ffff00\">mandates</span> collectively ensure <span style=\"color: #000000; text-decoration-color: #000000; background-color: #ffff00\">effective coordination promotion environmental</span> within united nations system beyond\n",
       "</pre>\n"
      ],
      "text/plain": [
       "\u001b[30;48;2;255;255;0mfulfills objectives diverse strategies\u001b[0m fouryear mediumterm strategy period 2022 2025 set adopted un \u001b[30;48;2;255;255;0menvironmental \u001b[0m\n",
       "\u001b[30;48;2;255;255;0massembly adopted 2021\u001b[0m \u001b[30;48;2;255;255;0mseas conventions action plans\u001b[0m legal frameworks operational \u001b[30;48;2;255;255;0mmechanisms addressing specific \u001b[0m\n",
       "\u001b[30;48;2;255;255;0menvironmental\u001b[0m regions furthermore work guided number overarching \u001b[30;48;2;255;255;0mstrategies policies guidelines ensuring\u001b[0m \n",
       "information preventing responding misconduct fraud enhancing sustainability engaging civil society private sector \n",
       "etc every two years unea also adopts \u001b[30;48;2;255;255;0mresolutions decisions various environmental\u001b[0m \u001b[30;48;2;255;255;0mguide implementation objectives \u001b[0m\n",
       "\u001b[30;48;2;255;255;0mmandates\u001b[0m collectively ensure \u001b[30;48;2;255;255;0meffective coordination promotion environmental\u001b[0m within united nations system beyond\n"
      ]
     },
     "metadata": {},
     "output_type": "display_data"
    },
    {
     "data": {
      "text/html": [
       "<pre style=\"white-space:pre;overflow-x:auto;line-height:normal;font-family:Menlo,'DejaVu Sans Mono',consolas,'Courier New',monospace\">executes objectives via several strategies <span style=\"color: #000000; text-decoration-color: #000000; background-color: #ffff00\">firstly fouryear strategic plan</span> annually <span style=\"color: #000000; text-decoration-color: #000000; background-color: #ffff00\">executive board establishes </span>\n",
       "<span style=\"color: #000000; text-decoration-color: #000000; background-color: #ffff00\">vision</span> directions change signature solutions enablers plan applicable 20222025 three directions change structural \n",
       "transformation leaving one behind resilience six signature solutions poverty inequality <span style=\"color: #000000; text-decoration-color: #000000; background-color: #ffff00\">governance resilience </span>\n",
       "<span style=\"color: #000000; text-decoration-color: #000000; background-color: #ffff00\">environment energy</span> equality three enablers strategic innovation digitalization development financing secondly \n",
       "annual integrated budget workplan devised ratified executive board detail activities outputs indicators resources \n",
       "corresponding signature solution budget workplan 2024 <span style=\"color: #000000; text-decoration-color: #000000; background-color: #ffff00\">tailored countries needs stakeholders</span> contributions earmarked\n",
       "specific theme programme <span style=\"color: #000000; text-decoration-color: #000000; background-color: #ffff00\">project finally various agreements</span> <span style=\"color: #000000; text-decoration-color: #000000; background-color: #ffff00\">platforms initiatives provide operational</span> implementing \n",
       "<span style=\"color: #000000; text-decoration-color: #000000; background-color: #ffff00\">undaf strategic plan sdgs</span> poverty inequality <span style=\"color: #000000; text-decoration-color: #000000; background-color: #ffff00\">governance resilience environment energy</span> equality\n",
       "</pre>\n"
      ],
      "text/plain": [
       "executes objectives via several strategies \u001b[30;48;2;255;255;0mfirstly fouryear strategic plan\u001b[0m annually \u001b[30;48;2;255;255;0mexecutive board establishes \u001b[0m\n",
       "\u001b[30;48;2;255;255;0mvision\u001b[0m directions change signature solutions enablers plan applicable 20222025 three directions change structural \n",
       "transformation leaving one behind resilience six signature solutions poverty inequality \u001b[30;48;2;255;255;0mgovernance resilience \u001b[0m\n",
       "\u001b[30;48;2;255;255;0menvironment energy\u001b[0m equality three enablers strategic innovation digitalization development financing secondly \n",
       "annual integrated budget workplan devised ratified executive board detail activities outputs indicators resources \n",
       "corresponding signature solution budget workplan 2024 \u001b[30;48;2;255;255;0mtailored countries needs stakeholders\u001b[0m contributions earmarked\n",
       "specific theme programme \u001b[30;48;2;255;255;0mproject finally various agreements\u001b[0m \u001b[30;48;2;255;255;0mplatforms initiatives provide operational\u001b[0m implementing \n",
       "\u001b[30;48;2;255;255;0mundaf strategic plan sdgs\u001b[0m poverty inequality \u001b[30;48;2;255;255;0mgovernance resilience environment energy\u001b[0m equality\n"
      ]
     },
     "metadata": {},
     "output_type": "display_data"
    },
    {
     "data": {
      "text/html": [
       "<pre style=\"white-space:pre;overflow-x:auto;line-height:normal;font-family:Menlo,'DejaVu Sans Mono',consolas,'Courier New',monospace\"><span style=\"color: #000000; text-decoration-color: #000000; background-color: #ffff00\">secretariat implements objectives mandates</span> strategies conference held every four years serving highestlevel \n",
       "decisionmaking body trade development issues third <span style=\"color: #000000; text-decoration-color: #000000; background-color: #ffff00\">technical cooperation strategy lays</span> <span style=\"color: #000000; text-decoration-color: #000000; background-color: #ffff00\">cooperation objectives </span>\n",
       "<span style=\"color: #000000; text-decoration-color: #000000; background-color: #ffff00\">provide basis</span> <span style=\"color: #000000; text-decoration-color: #000000; background-color: #ffff00\">robust strategic secretariatlevel coordination</span> <span style=\"color: #000000; text-decoration-color: #000000; background-color: #ffff00\">technical cooperation</span>\n",
       "</pre>\n"
      ],
      "text/plain": [
       "\u001b[30;48;2;255;255;0msecretariat implements objectives mandates\u001b[0m strategies conference held every four years serving highestlevel \n",
       "decisionmaking body trade development issues third \u001b[30;48;2;255;255;0mtechnical cooperation strategy lays\u001b[0m \u001b[30;48;2;255;255;0mcooperation objectives \u001b[0m\n",
       "\u001b[30;48;2;255;255;0mprovide basis\u001b[0m \u001b[30;48;2;255;255;0mrobust strategic secretariatlevel coordination\u001b[0m \u001b[30;48;2;255;255;0mtechnical cooperation\u001b[0m\n"
      ]
     },
     "metadata": {},
     "output_type": "display_data"
    },
    {
     "data": {
      "text/html": [
       "<pre style=\"white-space:pre;overflow-x:auto;line-height:normal;font-family:Menlo,'DejaVu Sans Mono',consolas,'Courier New',monospace\">executes objectives via several strategies firstly <span style=\"color: #000000; text-decoration-color: #000000; background-color: #ffff00\">fouryear mediumterm programme framework</span> biennially industrial \n",
       "development board defines strategic guidance <span style=\"color: #000000; text-decoration-color: #000000; background-color: #ffff00\">directions priorities organization regional</span> frameworks established \n",
       "mtpf provide operational framework implementing organization mandate country regional levels addition \n",
       "operationalising third <span style=\"color: #000000; text-decoration-color: #000000; background-color: #ffff00\">industrial development decade africa</span> implementation third <span style=\"color: #000000; text-decoration-color: #000000; background-color: #ffff00\">industrial development decade </span>\n",
       "<span style=\"color: #000000; text-decoration-color: #000000; background-color: #ffff00\">africa</span> general assembly resolution 70293 drive africa path towards <span style=\"color: #000000; text-decoration-color: #000000; background-color: #ffff00\">inclusive sustainable industrial development</span> \n",
       "maintains various partnerships platforms initiatives networks provide collaborative framework enhancing impact \n",
       "effectiveness organization interventions addressing crosscutting issues gender youth innovation digitalization\n",
       "</pre>\n"
      ],
      "text/plain": [
       "executes objectives via several strategies firstly \u001b[30;48;2;255;255;0mfouryear mediumterm programme framework\u001b[0m biennially industrial \n",
       "development board defines strategic guidance \u001b[30;48;2;255;255;0mdirections priorities organization regional\u001b[0m frameworks established \n",
       "mtpf provide operational framework implementing organization mandate country regional levels addition \n",
       "operationalising third \u001b[30;48;2;255;255;0mindustrial development decade africa\u001b[0m implementation third \u001b[30;48;2;255;255;0mindustrial development decade \u001b[0m\n",
       "\u001b[30;48;2;255;255;0mafrica\u001b[0m general assembly resolution 70293 drive africa path towards \u001b[30;48;2;255;255;0minclusive sustainable industrial development\u001b[0m \n",
       "maintains various partnerships platforms initiatives networks provide collaborative framework enhancing impact \n",
       "effectiveness organization interventions addressing crosscutting issues gender youth innovation digitalization\n"
      ]
     },
     "metadata": {},
     "output_type": "display_data"
    },
    {
     "data": {
      "text/html": [
       "<pre style=\"white-space:pre;overflow-x:auto;line-height:normal;font-family:Menlo,'DejaVu Sans Mono',consolas,'Courier New',monospace\">implements objectives <span style=\"color: #000000; text-decoration-color: #000000; background-color: #ffff00\">strategic planning operational frameworks</span> <span style=\"color: #000000; text-decoration-color: #000000; background-color: #ffff00\">strategic plan 20222025 approved</span> body aligns \n",
       "<span style=\"color: #000000; text-decoration-color: #000000; background-color: #ffff00\">mission social justice 2030</span> <span style=\"color: #000000; text-decoration-color: #000000; background-color: #ffff00\">sustainable development constitution delivering</span> 120 judgments annually key area \n",
       "engagement constituents also dw4sd resource platform offers online resources <span style=\"color: #000000; text-decoration-color: #000000; background-color: #ffff00\">themes related mandate sdgs</span> good \n",
       "<span style=\"color: #000000; text-decoration-color: #000000; background-color: #ffff00\">practices policy outcomes strategies</span> ensure <span style=\"color: #000000; text-decoration-color: #000000; background-color: #ffff00\">effective fulfilment mandate global</span> standards social justice\n",
       "</pre>\n"
      ],
      "text/plain": [
       "implements objectives \u001b[30;48;2;255;255;0mstrategic planning operational frameworks\u001b[0m \u001b[30;48;2;255;255;0mstrategic plan 20222025 approved\u001b[0m body aligns \n",
       "\u001b[30;48;2;255;255;0mmission social justice 2030\u001b[0m \u001b[30;48;2;255;255;0msustainable development constitution delivering\u001b[0m 120 judgments annually key area \n",
       "engagement constituents also dw4sd resource platform offers online resources \u001b[30;48;2;255;255;0mthemes related mandate sdgs\u001b[0m good \n",
       "\u001b[30;48;2;255;255;0mpractices policy outcomes strategies\u001b[0m ensure \u001b[30;48;2;255;255;0meffective fulfilment mandate global\u001b[0m standards social justice\n"
      ]
     },
     "metadata": {},
     "output_type": "display_data"
    },
    {
     "data": {
      "text/html": [
       "<pre style=\"white-space:pre;overflow-x:auto;line-height:normal;font-family:Menlo,'DejaVu Sans Mono',consolas,'Courier New',monospace\">executes objectives via several strategies <span style=\"color: #000000; text-decoration-color: #000000; background-color: #ffff00\">firstly fouryear strategic plan</span> every four years <span style=\"color: #000000; text-decoration-color: #000000; background-color: #ffff00\">plenipotentiary </span>\n",
       "<span style=\"color: #000000; text-decoration-color: #000000; background-color: #ffff00\">conference establishes vision</span> <span style=\"color: #000000; text-decoration-color: #000000; background-color: #ffff00\">strategic goals core functions</span> also maintains databases registries allocation \n",
       "assignment radio frequencies satellite orbits numbering resources essential coordination management global \n",
       "telecommunication network finally <span style=\"color: #000000; text-decoration-color: #000000; background-color: #ffff00\">various standards regulations resolutions</span> <span style=\"color: #000000; text-decoration-color: #000000; background-color: #ffff00\">initiatives provide technical </span>\n",
       "<span style=\"color: #000000; text-decoration-color: #000000; background-color: #ffff00\">regulatory</span> implementing constitution convention addressing connectivity digital transformation innovation \n",
       "partnership key instruments listed\n",
       "</pre>\n"
      ],
      "text/plain": [
       "executes objectives via several strategies \u001b[30;48;2;255;255;0mfirstly fouryear strategic plan\u001b[0m every four years \u001b[30;48;2;255;255;0mplenipotentiary \u001b[0m\n",
       "\u001b[30;48;2;255;255;0mconference establishes vision\u001b[0m \u001b[30;48;2;255;255;0mstrategic goals core functions\u001b[0m also maintains databases registries allocation \n",
       "assignment radio frequencies satellite orbits numbering resources essential coordination management global \n",
       "telecommunication network finally \u001b[30;48;2;255;255;0mvarious standards regulations resolutions\u001b[0m \u001b[30;48;2;255;255;0minitiatives provide technical \u001b[0m\n",
       "\u001b[30;48;2;255;255;0mregulatory\u001b[0m implementing constitution convention addressing connectivity digital transformation innovation \n",
       "partnership key instruments listed\n"
      ]
     },
     "metadata": {},
     "output_type": "display_data"
    },
    {
     "data": {
      "text/html": [
       "<pre style=\"white-space:pre;overflow-x:auto;line-height:normal;font-family:Menlo,'DejaVu Sans Mono',consolas,'Courier New',monospace\">implements objectives several key strategies firstly fouryear strategic plan revised executive board outlining \n",
       "vision mission goals aligned <span style=\"color: #000000; text-decoration-color: #000000; background-color: #ffff00\">convention rights child sustainable</span> goals specifies expected results indicators \n",
       "resources strategic plan outcome based theory change resultsbased management 20222030 aligns crpd crc undis setting\n",
       "priorities disabilityinclusive services participation <span style=\"color: #000000; text-decoration-color: #000000; background-color: #ffff00\">finally 20212030 child protection</span> aligns crc sdgs <span style=\"color: #000000; text-decoration-color: #000000; background-color: #ffff00\">focusing </span>\n",
       "<span style=\"color: #000000; text-decoration-color: #000000; background-color: #ffff00\">strengthening child protection</span> addressing harmful social norms leveraging <span style=\"color: #000000; text-decoration-color: #000000; background-color: #ffff00\">partnerships enhancing evidence child</span> \n",
       "comprehensive strategies enable deliver results <span style=\"color: #000000; text-decoration-color: #000000; background-color: #ffff00\">children globally including humanitarian</span> contexts\n",
       "</pre>\n"
      ],
      "text/plain": [
       "implements objectives several key strategies firstly fouryear strategic plan revised executive board outlining \n",
       "vision mission goals aligned \u001b[30;48;2;255;255;0mconvention rights child sustainable\u001b[0m goals specifies expected results indicators \n",
       "resources strategic plan outcome based theory change resultsbased management 20222030 aligns crpd crc undis setting\n",
       "priorities disabilityinclusive services participation \u001b[30;48;2;255;255;0mfinally 20212030 child protection\u001b[0m aligns crc sdgs \u001b[30;48;2;255;255;0mfocusing \u001b[0m\n",
       "\u001b[30;48;2;255;255;0mstrengthening child protection\u001b[0m addressing harmful social norms leveraging \u001b[30;48;2;255;255;0mpartnerships enhancing evidence child\u001b[0m \n",
       "comprehensive strategies enable deliver results \u001b[30;48;2;255;255;0mchildren globally including humanitarian\u001b[0m contexts\n"
      ]
     },
     "metadata": {},
     "output_type": "display_data"
    },
    {
     "data": {
      "text/html": [
       "<pre style=\"white-space:pre;overflow-x:auto;line-height:normal;font-family:Menlo,'DejaVu Sans Mono',consolas,'Courier New',monospace\">executes objectives via several strategies firstly fiveyear general programme work <span style=\"color: #000000; text-decoration-color: #000000; background-color: #ffff00\">approved world health assembly</span> \n",
       "strategic direction priorities budget <span style=\"color: #000000; text-decoration-color: #000000; background-color: #ffff00\">organization plan applicable 20192025</span> 2030 agenda sustainable development \n",
       "triple billion <span style=\"color: #000000; text-decoration-color: #000000; background-color: #ffff00\">targets achieving universal health</span> addressing health emergencies promoting healthier populations \n",
       "secondly biennial programme budget proposed directorgeneral <span style=\"color: #000000; text-decoration-color: #000000; background-color: #ffff00\">adopted world health assembly</span> expected results \n",
       "indicators resources strategic priority programme area current budget 20222023 based thirteenth general programme \n",
       "work reflects needs priorities member states partners thirdly <span style=\"color: #000000; text-decoration-color: #000000; background-color: #ffff00\">various global health sector</span> developed consultation \n",
       "member states stakeholders provide comprehensive coherent approach address specific health issues hiv viral \n",
       "hepatitis sexually transmitted infections strategies applicable 20222030 propose common vision goals strategic \n",
       "directions ending epidemics <span style=\"color: #000000; text-decoration-color: #000000; background-color: #ffff00\">advancing universal health coverage</span> health care <span style=\"color: #000000; text-decoration-color: #000000; background-color: #ffff00\">health security finally various</span> \n",
       "decisions recommendations <span style=\"color: #000000; text-decoration-color: #000000; background-color: #ffff00\">adopted world health assembly</span> board provide policy guidance oversight implementation \n",
       "objectives <span style=\"color: #000000; text-decoration-color: #000000; background-color: #ffff00\">mandates include addressing health</span> communicable noncommunicable diseases health systems health promotion\n",
       "<span style=\"color: #000000; text-decoration-color: #000000; background-color: #ffff00\">health governance key instruments</span>\n",
       "</pre>\n"
      ],
      "text/plain": [
       "executes objectives via several strategies firstly fiveyear general programme work \u001b[30;48;2;255;255;0mapproved world health assembly\u001b[0m \n",
       "strategic direction priorities budget \u001b[30;48;2;255;255;0morganization plan applicable 20192025\u001b[0m 2030 agenda sustainable development \n",
       "triple billion \u001b[30;48;2;255;255;0mtargets achieving universal health\u001b[0m addressing health emergencies promoting healthier populations \n",
       "secondly biennial programme budget proposed directorgeneral \u001b[30;48;2;255;255;0madopted world health assembly\u001b[0m expected results \n",
       "indicators resources strategic priority programme area current budget 20222023 based thirteenth general programme \n",
       "work reflects needs priorities member states partners thirdly \u001b[30;48;2;255;255;0mvarious global health sector\u001b[0m developed consultation \n",
       "member states stakeholders provide comprehensive coherent approach address specific health issues hiv viral \n",
       "hepatitis sexually transmitted infections strategies applicable 20222030 propose common vision goals strategic \n",
       "directions ending epidemics \u001b[30;48;2;255;255;0madvancing universal health coverage\u001b[0m health care \u001b[30;48;2;255;255;0mhealth security finally various\u001b[0m \n",
       "decisions recommendations \u001b[30;48;2;255;255;0madopted world health assembly\u001b[0m board provide policy guidance oversight implementation \n",
       "objectives \u001b[30;48;2;255;255;0mmandates include addressing health\u001b[0m communicable noncommunicable diseases health systems health promotion\n",
       "\u001b[30;48;2;255;255;0mhealth governance key instruments\u001b[0m\n"
      ]
     },
     "metadata": {},
     "output_type": "display_data"
    },
    {
     "data": {
      "text/html": [
       "<pre style=\"white-space:pre;overflow-x:auto;line-height:normal;font-family:Menlo,'DejaVu Sans Mono',consolas,'Courier New',monospace\">executes objectives via several strategies firstly fouryear management plan revised biennially high commissioner \n",
       "establishes vision mission priorities results strategies plan applicable 20222023 aligns universal <span style=\"color: #000000; text-decoration-color: #000000; background-color: #ffff00\">declaration </span>\n",
       "<span style=\"color: #000000; text-decoration-color: #000000; background-color: #ffff00\">human rights international</span> rights treaties well <span style=\"color: #000000; text-decoration-color: #000000; background-color: #ffff00\">uns 2030 agenda</span> sustainable development also <span style=\"color: #000000; text-decoration-color: #000000; background-color: #ffff00\">maintains universal </span>\n",
       "<span style=\"color: #000000; text-decoration-color: #000000; background-color: #ffff00\">human rights</span> database recommendations observations <span style=\"color: #000000; text-decoration-color: #000000; background-color: #ffff00\">issued human rights mechanisms</span> aspect <span style=\"color: #000000; text-decoration-color: #000000; background-color: #ffff00\">implementation human </span>\n",
       "<span style=\"color: #000000; text-decoration-color: #000000; background-color: #ffff00\">rights standards</span> various agreements mechanisms platforms <span style=\"color: #000000; text-decoration-color: #000000; background-color: #ffff00\">initiatives provide operational framework</span> mandate \n",
       "addressing civil political economic social cultural rights well right development key instruments listed\n",
       "</pre>\n"
      ],
      "text/plain": [
       "executes objectives via several strategies firstly fouryear management plan revised biennially high commissioner \n",
       "establishes vision mission priorities results strategies plan applicable 20222023 aligns universal \u001b[30;48;2;255;255;0mdeclaration \u001b[0m\n",
       "\u001b[30;48;2;255;255;0mhuman rights international\u001b[0m rights treaties well \u001b[30;48;2;255;255;0muns 2030 agenda\u001b[0m sustainable development also \u001b[30;48;2;255;255;0mmaintains universal \u001b[0m\n",
       "\u001b[30;48;2;255;255;0mhuman rights\u001b[0m database recommendations observations \u001b[30;48;2;255;255;0missued human rights mechanisms\u001b[0m aspect \u001b[30;48;2;255;255;0mimplementation human \u001b[0m\n",
       "\u001b[30;48;2;255;255;0mrights standards\u001b[0m various agreements mechanisms platforms \u001b[30;48;2;255;255;0minitiatives provide operational framework\u001b[0m mandate \n",
       "addressing civil political economic social cultural rights well right development key instruments listed\n"
      ]
     },
     "metadata": {},
     "output_type": "display_data"
    },
    {
     "data": {
      "text/html": [
       "<pre style=\"white-space:pre;overflow-x:auto;line-height:normal;font-family:Menlo,'DejaVu Sans Mono',consolas,'Courier New',monospace\">executes objectives via several strategies firstly <span style=\"color: #000000; text-decoration-color: #000000; background-color: #ffff00\">fouryear strategic framework revised</span> general assembly \n",
       "establishes vision mission strategic objectives expected accomplishments indicators achievement secondly biennial \n",
       "programme plan budget devised secretariat approved general assembly detail activities outputs resources performance\n",
       "information corresponding strategic objective current programme plan budget 20222023 tailored member states needs \n",
       "stakeholders priorities outlined document a766add1 also maintains sendai framework monitor key tool monitoring \n",
       "review sendai <span style=\"color: #000000; text-decoration-color: #000000; background-color: #ffff00\">framework disaster risk reductionrelated</span> <span style=\"color: #000000; text-decoration-color: #000000; background-color: #ffff00\">development goals finally various</span> mechanisms platforms \n",
       "<span style=\"color: #000000; text-decoration-color: #000000; background-color: #ffff00\">initiatives provide operational framework</span> <span style=\"color: #000000; text-decoration-color: #000000; background-color: #ffff00\">guiding disaster risk reduction</span> united nations system beyond <span style=\"color: #000000; text-decoration-color: #000000; background-color: #ffff00\">addressing </span>\n",
       "<span style=\"color: #000000; text-decoration-color: #000000; background-color: #ffff00\">governance resilience preparedness</span> financing key instruments listed revised united <span style=\"color: #000000; text-decoration-color: #000000; background-color: #ffff00\">nations plan action disaster</span> \n",
       "reduction resilience executes commitments implementation sendai framework integrated approach achievement 2030 \n",
       "<span style=\"color: #000000; text-decoration-color: #000000; background-color: #ffff00\">agenda sustainable development</span>\n",
       "</pre>\n"
      ],
      "text/plain": [
       "executes objectives via several strategies firstly \u001b[30;48;2;255;255;0mfouryear strategic framework revised\u001b[0m general assembly \n",
       "establishes vision mission strategic objectives expected accomplishments indicators achievement secondly biennial \n",
       "programme plan budget devised secretariat approved general assembly detail activities outputs resources performance\n",
       "information corresponding strategic objective current programme plan budget 20222023 tailored member states needs \n",
       "stakeholders priorities outlined document a766add1 also maintains sendai framework monitor key tool monitoring \n",
       "review sendai \u001b[30;48;2;255;255;0mframework disaster risk reductionrelated\u001b[0m \u001b[30;48;2;255;255;0mdevelopment goals finally various\u001b[0m mechanisms platforms \n",
       "\u001b[30;48;2;255;255;0minitiatives provide operational framework\u001b[0m \u001b[30;48;2;255;255;0mguiding disaster risk reduction\u001b[0m united nations system beyond \u001b[30;48;2;255;255;0maddressing \u001b[0m\n",
       "\u001b[30;48;2;255;255;0mgovernance resilience preparedness\u001b[0m financing key instruments listed revised united \u001b[30;48;2;255;255;0mnations plan action disaster\u001b[0m \n",
       "reduction resilience executes commitments implementation sendai framework integrated approach achievement 2030 \n",
       "\u001b[30;48;2;255;255;0magenda sustainable development\u001b[0m\n"
      ]
     },
     "metadata": {},
     "output_type": "display_data"
    },
    {
     "data": {
      "text/html": [
       "<pre style=\"white-space:pre;overflow-x:auto;line-height:normal;font-family:Menlo,'DejaVu Sans Mono',consolas,'Courier New',monospace\">un <span style=\"color: #000000; text-decoration-color: #000000; background-color: #ffff00\">global compact implements objectives</span> strategies firstly threeyear strategy endorsed un secretarygeneral un \n",
       "<span style=\"color: #000000; text-decoration-color: #000000; background-color: #ffff00\">global compact</span> board sets sets vision mission strategic goals core functions targets initiative policy requires \n",
       "participating companies report annually progress implementing ten <span style=\"color: #000000; text-decoration-color: #000000; background-color: #ffff00\">principles contributing global goals</span> aspect \n",
       "accountability transparency un <span style=\"color: #000000; text-decoration-color: #000000; background-color: #ffff00\">global compact finally various</span> platforms networks initiatives provide operational \n",
       "framework advancing ten <span style=\"color: #000000; text-decoration-color: #000000; background-color: #ffff00\">principles global goals addressing</span> rights labour environment anticorruption\n",
       "</pre>\n"
      ],
      "text/plain": [
       "un \u001b[30;48;2;255;255;0mglobal compact implements objectives\u001b[0m strategies firstly threeyear strategy endorsed un secretarygeneral un \n",
       "\u001b[30;48;2;255;255;0mglobal compact\u001b[0m board sets sets vision mission strategic goals core functions targets initiative policy requires \n",
       "participating companies report annually progress implementing ten \u001b[30;48;2;255;255;0mprinciples contributing global goals\u001b[0m aspect \n",
       "accountability transparency un \u001b[30;48;2;255;255;0mglobal compact finally various\u001b[0m platforms networks initiatives provide operational \n",
       "framework advancing ten \u001b[30;48;2;255;255;0mprinciples global goals addressing\u001b[0m rights labour environment anticorruption\n"
      ]
     },
     "metadata": {},
     "output_type": "display_data"
    },
    {
     "data": {
      "text/html": [
       "<pre style=\"white-space:pre;overflow-x:auto;line-height:normal;font-family:Menlo,'DejaVu Sans Mono',consolas,'Courier New',monospace\">executes objectives via several strategies firstly sixyear <span style=\"color: #000000; text-decoration-color: #000000; background-color: #ffff00\">medium term strategy prepared</span> consultation process among\n",
       "member states <span style=\"color: #000000; text-decoration-color: #000000; background-color: #ffff00\">secretariat establishes agencys strategic</span> roadmap preparation programme budget identifying priorities\n",
       "among within programmes achievement <span style=\"color: #000000; text-decoration-color: #000000; background-color: #ffff00\">statutory objectives evolving international</span> strategy applicable 20242029 draws \n",
       "upon previous <span style=\"color: #000000; text-decoration-color: #000000; background-color: #ffff00\">medium term strategy 20182023</span> updated deemed necessary board governors adapting new developments \n",
       "evolving needs priorities member states secondly biennial programme budget approved general conference details \n",
       "expected results performance indicators resources corresponding major programme area current programme budget \n",
       "20222023 aligned <span style=\"color: #000000; text-decoration-color: #000000; background-color: #ffff00\">medium term strategy 20182023</span> agencys response covid19 pandemic well <span style=\"color: #000000; text-decoration-color: #000000; background-color: #ffff00\">support implementation 2030 </span>\n",
       "<span style=\"color: #000000; text-decoration-color: #000000; background-color: #ffff00\">agenda</span> development also maintains safeguards system verifies compliance states nonproliferation disarmament \n",
       "obligations well <span style=\"color: #000000; text-decoration-color: #000000; background-color: #ffff00\">technical cooperation programme</span> assists member states peaceful application nuclear science \n",
       "technology finally various legal instruments initiatives platforms networks provide <span style=\"color: #000000; text-decoration-color: #000000; background-color: #ffff00\">operational framework </span>\n",
       "<span style=\"color: #000000; text-decoration-color: #000000; background-color: #ffff00\">implementing agencys</span> <span style=\"color: #000000; text-decoration-color: #000000; background-color: #ffff00\">addressing nuclear safety security</span>\n",
       "</pre>\n"
      ],
      "text/plain": [
       "executes objectives via several strategies firstly sixyear \u001b[30;48;2;255;255;0mmedium term strategy prepared\u001b[0m consultation process among\n",
       "member states \u001b[30;48;2;255;255;0msecretariat establishes agencys strategic\u001b[0m roadmap preparation programme budget identifying priorities\n",
       "among within programmes achievement \u001b[30;48;2;255;255;0mstatutory objectives evolving international\u001b[0m strategy applicable 20242029 draws \n",
       "upon previous \u001b[30;48;2;255;255;0mmedium term strategy 20182023\u001b[0m updated deemed necessary board governors adapting new developments \n",
       "evolving needs priorities member states secondly biennial programme budget approved general conference details \n",
       "expected results performance indicators resources corresponding major programme area current programme budget \n",
       "20222023 aligned \u001b[30;48;2;255;255;0mmedium term strategy 20182023\u001b[0m agencys response covid19 pandemic well \u001b[30;48;2;255;255;0msupport implementation 2030 \u001b[0m\n",
       "\u001b[30;48;2;255;255;0magenda\u001b[0m development also maintains safeguards system verifies compliance states nonproliferation disarmament \n",
       "obligations well \u001b[30;48;2;255;255;0mtechnical cooperation programme\u001b[0m assists member states peaceful application nuclear science \n",
       "technology finally various legal instruments initiatives platforms networks provide \u001b[30;48;2;255;255;0moperational framework \u001b[0m\n",
       "\u001b[30;48;2;255;255;0mimplementing agencys\u001b[0m \u001b[30;48;2;255;255;0maddressing nuclear safety security\u001b[0m\n"
      ]
     },
     "metadata": {},
     "output_type": "display_data"
    },
    {
     "data": {
      "text/html": [
       "<pre style=\"white-space:pre;overflow-x:auto;line-height:normal;font-family:Menlo,'DejaVu Sans Mono',consolas,'Courier New',monospace\"><span style=\"color: #000000; text-decoration-color: #000000; background-color: #ffff00\">secretariat executes objectives</span> via several strategies firstly strategic plan revised every four years <span style=\"color: #000000; text-decoration-color: #000000; background-color: #ffff00\">world </span>\n",
       "<span style=\"color: #000000; text-decoration-color: #000000; background-color: #ffff00\">meteorological congress establishes</span> vision mission strategic goals core functions targets current plan applicable \n",
       "20242027 aligns mandate advance meteorological climatological hydrological related environmental services secondly \n",
       "<span style=\"color: #000000; text-decoration-color: #000000; background-color: #ffff00\">resultsbased budget devised secretariat</span> world meteorological congress detail resources implementation strategic \n",
       "plan including functioning constituent bodies <span style=\"color: #000000; text-decoration-color: #000000; background-color: #ffff00\">secretariat finally various agreements</span> platforms <span style=\"color: #000000; text-decoration-color: #000000; background-color: #ffff00\">initiatives provide </span>\n",
       "<span style=\"color: #000000; text-decoration-color: #000000; background-color: #ffff00\">operational framework</span> <span style=\"color: #000000; text-decoration-color: #000000; background-color: #ffff00\">mandate addressing meteorology</span> hydrology climatology related environmental disciplines \n",
       "regulatory provisions make possible operate 247365 global systems observations data exchange management forecasting\n",
       "provision authoritative scientific assessments standardized service products variety users member state member \n",
       "territory also competency framework helps members design services effective delivery assist staffing decisions \n",
       "guide performance assessment staff members offer recommended learning outcomes use planning training programmes \n",
       "addition resolutions decisions recommendations adopted congress executive council regional associations technical \n",
       "commissions force resolutions decisions guide overall progress towards achieving departmental targets \n",
       "organizational objectives goals\n",
       "</pre>\n"
      ],
      "text/plain": [
       "\u001b[30;48;2;255;255;0msecretariat executes objectives\u001b[0m via several strategies firstly strategic plan revised every four years \u001b[30;48;2;255;255;0mworld \u001b[0m\n",
       "\u001b[30;48;2;255;255;0mmeteorological congress establishes\u001b[0m vision mission strategic goals core functions targets current plan applicable \n",
       "20242027 aligns mandate advance meteorological climatological hydrological related environmental services secondly \n",
       "\u001b[30;48;2;255;255;0mresultsbased budget devised secretariat\u001b[0m world meteorological congress detail resources implementation strategic \n",
       "plan including functioning constituent bodies \u001b[30;48;2;255;255;0msecretariat finally various agreements\u001b[0m platforms \u001b[30;48;2;255;255;0minitiatives provide \u001b[0m\n",
       "\u001b[30;48;2;255;255;0moperational framework\u001b[0m \u001b[30;48;2;255;255;0mmandate addressing meteorology\u001b[0m hydrology climatology related environmental disciplines \n",
       "regulatory provisions make possible operate 247365 global systems observations data exchange management forecasting\n",
       "provision authoritative scientific assessments standardized service products variety users member state member \n",
       "territory also competency framework helps members design services effective delivery assist staffing decisions \n",
       "guide performance assessment staff members offer recommended learning outcomes use planning training programmes \n",
       "addition resolutions decisions recommendations adopted congress executive council regional associations technical \n",
       "commissions force resolutions decisions guide overall progress towards achieving departmental targets \n",
       "organizational objectives goals\n"
      ]
     },
     "metadata": {},
     "output_type": "display_data"
    },
    {
     "data": {
      "text/html": [
       "<pre style=\"white-space:pre;overflow-x:auto;line-height:normal;font-family:Menlo,'DejaVu Sans Mono',consolas,'Courier New',monospace\">executes objectives multiple strategies aligning <span style=\"color: #000000; text-decoration-color: #000000; background-color: #ffff00\">mission foster global development</span> <span style=\"color: #000000; text-decoration-color: #000000; background-color: #ffff00\">plan sustainable development </span>\n",
       "<span style=\"color: #000000; text-decoration-color: #000000; background-color: #ffff00\">goals</span> council minster outlines supports 2030 agenda highlighting key areas like tracking sdg progress <span style=\"color: #000000; text-decoration-color: #000000; background-color: #ffff00\">policy </span>\n",
       "<span style=\"color: #000000; text-decoration-color: #000000; background-color: #ffff00\">analysis advice global</span> internal sustainability practices also biannual strategic orientations secretarygeneral \n",
       "<span style=\"color: #000000; text-decoration-color: #000000; background-color: #ffff00\">present organizations vision mission</span> work programme activities reflecting challenges like covid19 pandemic digital \n",
       "transformation green transition inclusiveness globalization multilateralism current document runing 2023 2024 \n",
       "furthermore result based budget programme work determined biennially member countries detail strategic objectives \n",
       "expected results resource allocation work areas aligned secretarygenerals strategic orientations strategic \n",
       "foresight unit structured future planning using tools like scenarios visioning prepare change develops strategic \n",
       "plans different domains skills energy etc comprehensive strategies enable deliver effective <span style=\"color: #000000; text-decoration-color: #000000; background-color: #ffff00\">policies foster global </span>\n",
       "<span style=\"color: #000000; text-decoration-color: #000000; background-color: #ffff00\">development</span>\n",
       "</pre>\n"
      ],
      "text/plain": [
       "executes objectives multiple strategies aligning \u001b[30;48;2;255;255;0mmission foster global development\u001b[0m \u001b[30;48;2;255;255;0mplan sustainable development \u001b[0m\n",
       "\u001b[30;48;2;255;255;0mgoals\u001b[0m council minster outlines supports 2030 agenda highlighting key areas like tracking sdg progress \u001b[30;48;2;255;255;0mpolicy \u001b[0m\n",
       "\u001b[30;48;2;255;255;0manalysis advice global\u001b[0m internal sustainability practices also biannual strategic orientations secretarygeneral \n",
       "\u001b[30;48;2;255;255;0mpresent organizations vision mission\u001b[0m work programme activities reflecting challenges like covid19 pandemic digital \n",
       "transformation green transition inclusiveness globalization multilateralism current document runing 2023 2024 \n",
       "furthermore result based budget programme work determined biennially member countries detail strategic objectives \n",
       "expected results resource allocation work areas aligned secretarygenerals strategic orientations strategic \n",
       "foresight unit structured future planning using tools like scenarios visioning prepare change develops strategic \n",
       "plans different domains skills energy etc comprehensive strategies enable deliver effective \u001b[30;48;2;255;255;0mpolicies foster global \u001b[0m\n",
       "\u001b[30;48;2;255;255;0mdevelopment\u001b[0m\n"
      ]
     },
     "metadata": {},
     "output_type": "display_data"
    },
    {
     "data": {
      "text/html": [
       "<pre style=\"white-space:pre;overflow-x:auto;line-height:normal;font-family:Menlo,'DejaVu Sans Mono',consolas,'Courier New',monospace\">executes objectives via several strategies firstly strategy adopted <span style=\"color: #000000; text-decoration-color: #000000; background-color: #ffff00\">2013 based principles country</span> evidencebased \n",
       "solutions global regional <span style=\"color: #000000; text-decoration-color: #000000; background-color: #ffff00\">integration strengthening country platforms</span> enhancing financial operational capacity \n",
       "improving business model internal processes fostering culture innovation learning thirdly <span style=\"color: #000000; text-decoration-color: #000000; background-color: #ffff00\">set thematic sector </span>\n",
       "<span style=\"color: #000000; text-decoration-color: #000000; background-color: #ffff00\">strategies</span> <span style=\"color: #000000; text-decoration-color: #000000; background-color: #ffff00\">strategic framework guidance engagement</span> areas development gender climate change fragility conflict human\n",
       "capital infrastructure private <span style=\"color: #000000; text-decoration-color: #000000; background-color: #ffff00\">sector development strategies aligned</span> 2030 agenda sustainable development informed \n",
       "global knowledge <span style=\"color: #000000; text-decoration-color: #000000; background-color: #ffff00\">evidence regional partnership frameworks</span> support individual countries regions based development \n",
       "priorities challenges opportunities frameworks developed consultation governments civil <span style=\"color: #000000; text-decoration-color: #000000; background-color: #ffff00\">society stakeholders </span>\n",
       "<span style=\"color: #000000; text-decoration-color: #000000; background-color: #ffff00\">aligned strategy</span> development strategy also maintains various initiatives platforms funds provide operational \n",
       "financial instruments addressing specific development challenges opportunities engaging partnerships coalitions \n",
       "networks provide collaborative framework enhancing impact effectiveness interventions leveraging comparative \n",
       "advantages resources different actors addressing crosscutting issues governance data innovation\n",
       "</pre>\n"
      ],
      "text/plain": [
       "executes objectives via several strategies firstly strategy adopted \u001b[30;48;2;255;255;0m2013 based principles country\u001b[0m evidencebased \n",
       "solutions global regional \u001b[30;48;2;255;255;0mintegration strengthening country platforms\u001b[0m enhancing financial operational capacity \n",
       "improving business model internal processes fostering culture innovation learning thirdly \u001b[30;48;2;255;255;0mset thematic sector \u001b[0m\n",
       "\u001b[30;48;2;255;255;0mstrategies\u001b[0m \u001b[30;48;2;255;255;0mstrategic framework guidance engagement\u001b[0m areas development gender climate change fragility conflict human\n",
       "capital infrastructure private \u001b[30;48;2;255;255;0msector development strategies aligned\u001b[0m 2030 agenda sustainable development informed \n",
       "global knowledge \u001b[30;48;2;255;255;0mevidence regional partnership frameworks\u001b[0m support individual countries regions based development \n",
       "priorities challenges opportunities frameworks developed consultation governments civil \u001b[30;48;2;255;255;0msociety stakeholders \u001b[0m\n",
       "\u001b[30;48;2;255;255;0maligned strategy\u001b[0m development strategy also maintains various initiatives platforms funds provide operational \n",
       "financial instruments addressing specific development challenges opportunities engaging partnerships coalitions \n",
       "networks provide collaborative framework enhancing impact effectiveness interventions leveraging comparative \n",
       "advantages resources different actors addressing crosscutting issues governance data innovation\n"
      ]
     },
     "metadata": {},
     "output_type": "display_data"
    },
    {
     "data": {
      "text/html": [
       "<pre style=\"white-space:pre;overflow-x:auto;line-height:normal;font-family:Menlo,'DejaVu Sans Mono',consolas,'Courier New',monospace\">implements objectives several <span style=\"color: #000000; text-decoration-color: #000000; background-color: #ffff00\">strategies capacity development strategy</span> every five years ensure relevance \n",
       "effectiveness latest review conducted 2023 reaffirmed two main objectives increasing impact efficiency capacity \n",
       "development proposed several recommendations achieve review also highlighted importance <span style=\"color: #000000; text-decoration-color: #000000; background-color: #ffff00\">integrating capacity </span>\n",
       "<span style=\"color: #000000; text-decoration-color: #000000; background-color: #ffff00\">development surveillance</span> tailoring modernizing delivery enhancing internal external coordination communication \n",
       "improving management processes systems <span style=\"color: #000000; text-decoration-color: #000000; background-color: #ffff00\">capacity development strategy guided</span> priorities set document 184rev1 \n",
       "surveillance strategy also reviewed periodically adapt changing global environment needs membership recent review \n",
       "completed 2019 focused enhancing quality traction evenhandedness surveillance identified four priority areas action\n",
       "strengthening analysis macrofinancial linkages governance corruption external sector assessments policy tradeoffs \n",
       "spillovers surveillance strategy based principles modalities specified <span style=\"color: #000000; text-decoration-color: #000000; background-color: #ffff00\">document 1968rev1 lending strategy</span> help \n",
       "members restore macroeconomic stability foster growth reduce poverty safeguard stability international monetary \n",
       "system <span style=\"color: #000000; text-decoration-color: #000000; background-color: #ffff00\">lending strategy informed</span> regular <span style=\"color: #000000; text-decoration-color: #000000; background-color: #ffff00\">reviews lending policies facilities</span> lessons learned program experience \n",
       "latest review conducted 2019 assessed adequacy <span style=\"color: #000000; text-decoration-color: #000000; background-color: #ffff00\">effectiveness fund lending toolkit</span> modifications enhancements better\n",
       "meet diverse <span style=\"color: #000000; text-decoration-color: #000000; background-color: #ffff00\">needs membership lending strategy</span> rules procedures established document 1969rev1\n",
       "</pre>\n"
      ],
      "text/plain": [
       "implements objectives several \u001b[30;48;2;255;255;0mstrategies capacity development strategy\u001b[0m every five years ensure relevance \n",
       "effectiveness latest review conducted 2023 reaffirmed two main objectives increasing impact efficiency capacity \n",
       "development proposed several recommendations achieve review also highlighted importance \u001b[30;48;2;255;255;0mintegrating capacity \u001b[0m\n",
       "\u001b[30;48;2;255;255;0mdevelopment surveillance\u001b[0m tailoring modernizing delivery enhancing internal external coordination communication \n",
       "improving management processes systems \u001b[30;48;2;255;255;0mcapacity development strategy guided\u001b[0m priorities set document 184rev1 \n",
       "surveillance strategy also reviewed periodically adapt changing global environment needs membership recent review \n",
       "completed 2019 focused enhancing quality traction evenhandedness surveillance identified four priority areas action\n",
       "strengthening analysis macrofinancial linkages governance corruption external sector assessments policy tradeoffs \n",
       "spillovers surveillance strategy based principles modalities specified \u001b[30;48;2;255;255;0mdocument 1968rev1 lending strategy\u001b[0m help \n",
       "members restore macroeconomic stability foster growth reduce poverty safeguard stability international monetary \n",
       "system \u001b[30;48;2;255;255;0mlending strategy informed\u001b[0m regular \u001b[30;48;2;255;255;0mreviews lending policies facilities\u001b[0m lessons learned program experience \n",
       "latest review conducted 2019 assessed adequacy \u001b[30;48;2;255;255;0meffectiveness fund lending toolkit\u001b[0m modifications enhancements better\n",
       "meet diverse \u001b[30;48;2;255;255;0mneeds membership lending strategy\u001b[0m rules procedures established document 1969rev1\n"
      ]
     },
     "metadata": {},
     "output_type": "display_data"
    },
    {
     "data": {
      "text/html": [
       "<pre style=\"white-space:pre;overflow-x:auto;line-height:normal;font-family:Menlo,'DejaVu Sans Mono',consolas,'Courier New',monospace\">executes objectives via several <span style=\"color: #000000; text-decoration-color: #000000; background-color: #ffff00\">strategies firstly sixyear strategic</span> revised annually <span style=\"color: #000000; text-decoration-color: #000000; background-color: #ffff00\">council identifies specific </span>\n",
       "<span style=\"color: #000000; text-decoration-color: #000000; background-color: #ffff00\">strategic</span> targets direct work programme way foster <span style=\"color: #000000; text-decoration-color: #000000; background-color: #ffff00\">vision mission objectives plan</span> 20212026 addresses growing need \n",
       "hydrographic knowledge progress sensors carriers technology data revolution increasing environmental societal \n",
       "economic attention ocean secondly 3yearly budgetary cycle work programme devised secretariat approved assembly \n",
       "details activities outputs <span style=\"color: #000000; text-decoration-color: #000000; background-color: #ffff00\">indicators resources corresponding strategic</span> current budget work programme 20242026 \n",
       "aligned <span style=\"color: #000000; text-decoration-color: #000000; background-color: #ffff00\">strategic plan priorities</span> member states finally various standards <span style=\"color: #000000; text-decoration-color: #000000; background-color: #ffff00\">specifications guidelines mechanisms </span>\n",
       "<span style=\"color: #000000; text-decoration-color: #000000; background-color: #ffff00\">platforms</span> provide operational framework implementing objects addressing hydrographic data products services \n",
       "techniques capacity building cooperation key instruments listed\n",
       "</pre>\n"
      ],
      "text/plain": [
       "executes objectives via several \u001b[30;48;2;255;255;0mstrategies firstly sixyear strategic\u001b[0m revised annually \u001b[30;48;2;255;255;0mcouncil identifies specific \u001b[0m\n",
       "\u001b[30;48;2;255;255;0mstrategic\u001b[0m targets direct work programme way foster \u001b[30;48;2;255;255;0mvision mission objectives plan\u001b[0m 20212026 addresses growing need \n",
       "hydrographic knowledge progress sensors carriers technology data revolution increasing environmental societal \n",
       "economic attention ocean secondly 3yearly budgetary cycle work programme devised secretariat approved assembly \n",
       "details activities outputs \u001b[30;48;2;255;255;0mindicators resources corresponding strategic\u001b[0m current budget work programme 20242026 \n",
       "aligned \u001b[30;48;2;255;255;0mstrategic plan priorities\u001b[0m member states finally various standards \u001b[30;48;2;255;255;0mspecifications guidelines mechanisms \u001b[0m\n",
       "\u001b[30;48;2;255;255;0mplatforms\u001b[0m provide operational framework implementing objects addressing hydrographic data products services \n",
       "techniques capacity building cooperation key instruments listed\n"
      ]
     },
     "metadata": {},
     "output_type": "display_data"
    },
    {
     "data": {
      "text/html": [
       "<pre style=\"white-space:pre;overflow-x:auto;line-height:normal;font-family:Menlo,'DejaVu Sans Mono',consolas,'Courier New',monospace\">executes objectives via several strategies firstly strategic plan defines direction priorities relating science \n",
       "data advice develop capacity needed fulfill commitment plan <span style=\"color: #000000; text-decoration-color: #000000; background-color: #ffff00\">supported science plan advisory</span> science plan highlights\n",
       "seven interrelated scientific priorities network address secondly leading multidisciplinary scientific forum \n",
       "exchange <span style=\"color: #000000; text-decoration-color: #000000; background-color: #ffff00\">information ideas aspects marine</span> promotes encourages <span style=\"color: #000000; text-decoration-color: #000000; background-color: #ffff00\">develops coordinates marine research</span> sharing also \n",
       "publishes disseminates results research provides nonbiased nonpolitical scientific advice member nation governments\n",
       "international regulatory commissions thirdly collection helpful guides policies help understand work data receives \n",
       "outputs data also system committees 100 working groups symposia annual science conference finally committed \n",
       "building foundation science around one key challenge <span style=\"color: #000000; text-decoration-color: #000000; background-color: #ffff00\">integrated ecosystem understanding marine</span> advances \n",
       "coordination oceanic coastal monitoring research advises international <span style=\"color: #000000; text-decoration-color: #000000; background-color: #ffff00\">commissions governments marine policy</span> issues\n",
       "</pre>\n"
      ],
      "text/plain": [
       "executes objectives via several strategies firstly strategic plan defines direction priorities relating science \n",
       "data advice develop capacity needed fulfill commitment plan \u001b[30;48;2;255;255;0msupported science plan advisory\u001b[0m science plan highlights\n",
       "seven interrelated scientific priorities network address secondly leading multidisciplinary scientific forum \n",
       "exchange \u001b[30;48;2;255;255;0minformation ideas aspects marine\u001b[0m promotes encourages \u001b[30;48;2;255;255;0mdevelops coordinates marine research\u001b[0m sharing also \n",
       "publishes disseminates results research provides nonbiased nonpolitical scientific advice member nation governments\n",
       "international regulatory commissions thirdly collection helpful guides policies help understand work data receives \n",
       "outputs data also system committees 100 working groups symposia annual science conference finally committed \n",
       "building foundation science around one key challenge \u001b[30;48;2;255;255;0mintegrated ecosystem understanding marine\u001b[0m advances \n",
       "coordination oceanic coastal monitoring research advises international \u001b[30;48;2;255;255;0mcommissions governments marine policy\u001b[0m issues\n"
      ]
     },
     "metadata": {},
     "output_type": "display_data"
    },
    {
     "data": {
      "text/html": [
       "<pre style=\"white-space:pre;overflow-x:auto;line-height:normal;font-family:Menlo,'DejaVu Sans Mono',consolas,'Courier New',monospace\">secretariat executes defined objectives functions via several strategies firstly rolling work programme 2030 backed\n",
       "decision 71 based requests inputs suggestions relevant bodies multilateral environmental agreements well \n",
       "governments stakeholders rolling work program aims strengthen sciencepolicy <span style=\"color: #000000; text-decoration-color: #000000; background-color: #ffff00\">interface biodiversity ecosystem </span>\n",
       "<span style=\"color: #000000; text-decoration-color: #000000; background-color: #ffff00\">services</span> sustainable use biodiversity longterm human wellbeing sustainable development work programme corresponds \n",
       "2030 <span style=\"color: #000000; text-decoration-color: #000000; background-color: #ffff00\">agenda sustainable development including</span> <span style=\"color: #000000; text-decoration-color: #000000; background-color: #ffff00\">development goals biodiversityrelated conventions</span> ecosystem service \n",
       "processes initially focuses three topics interlinkages <span style=\"color: #000000; text-decoration-color: #000000; background-color: #ffff00\">biodiversity relevant issues reflected</span> agenda determinants \n",
       "transformative change tools solutions conservation sustainable use biodiversity secondly biennial budget work \n",
       "programme approved plenary detail activities outputs indicators resources corresponding deliverable work programme \n",
       "current budget work programme 20222023 based priorities identified plenary available resources outlined decision 81\n",
       "also supports development use policy support tools methodologies online catalogue policy support tools \n",
       "methodologies guide production integration assessments across scales conceptual framework finally various \n",
       "assessments task forces expert groups platforms provide evidence base informing policy decisionmaking addressing \n",
       "state knowledge interactions human societies natural world drivers impacts biodiversity change options pathways \n",
       "achieving conservation <span style=\"color: #000000; text-decoration-color: #000000; background-color: #ffff00\">sustainable use biodiversity key</span> include <span style=\"color: #000000; text-decoration-color: #000000; background-color: #ffff00\">global assessment report biodiversity</span> services \n",
       "assessment report invasive alien species assessment report sustainable use wild species assessment report diverse \n",
       "conceptualization multiple values nature benefits\n",
       "</pre>\n"
      ],
      "text/plain": [
       "secretariat executes defined objectives functions via several strategies firstly rolling work programme 2030 backed\n",
       "decision 71 based requests inputs suggestions relevant bodies multilateral environmental agreements well \n",
       "governments stakeholders rolling work program aims strengthen sciencepolicy \u001b[30;48;2;255;255;0minterface biodiversity ecosystem \u001b[0m\n",
       "\u001b[30;48;2;255;255;0mservices\u001b[0m sustainable use biodiversity longterm human wellbeing sustainable development work programme corresponds \n",
       "2030 \u001b[30;48;2;255;255;0magenda sustainable development including\u001b[0m \u001b[30;48;2;255;255;0mdevelopment goals biodiversityrelated conventions\u001b[0m ecosystem service \n",
       "processes initially focuses three topics interlinkages \u001b[30;48;2;255;255;0mbiodiversity relevant issues reflected\u001b[0m agenda determinants \n",
       "transformative change tools solutions conservation sustainable use biodiversity secondly biennial budget work \n",
       "programme approved plenary detail activities outputs indicators resources corresponding deliverable work programme \n",
       "current budget work programme 20222023 based priorities identified plenary available resources outlined decision 81\n",
       "also supports development use policy support tools methodologies online catalogue policy support tools \n",
       "methodologies guide production integration assessments across scales conceptual framework finally various \n",
       "assessments task forces expert groups platforms provide evidence base informing policy decisionmaking addressing \n",
       "state knowledge interactions human societies natural world drivers impacts biodiversity change options pathways \n",
       "achieving conservation \u001b[30;48;2;255;255;0msustainable use biodiversity key\u001b[0m include \u001b[30;48;2;255;255;0mglobal assessment report biodiversity\u001b[0m services \n",
       "assessment report invasive alien species assessment report sustainable use wild species assessment report diverse \n",
       "conceptualization multiple values nature benefits\n"
      ]
     },
     "metadata": {},
     "output_type": "display_data"
    },
    {
     "data": {
      "text/html": [
       "<pre style=\"white-space:pre;overflow-x:auto;line-height:normal;font-family:Menlo,'DejaVu Sans Mono',consolas,'Courier New',monospace\">executes objectives via several strategies operates three working <span style=\"color: #000000; text-decoration-color: #000000; background-color: #ffff00\">groups task force national</span> gas inventories \n",
       "supported technical support unit impacts adaptation vulnerability <span style=\"color: #000000; text-decoration-color: #000000; background-color: #ffff00\">mitigation climate change tfi</span> refines \n",
       "<span style=\"color: #000000; text-decoration-color: #000000; background-color: #ffff00\">methodologies estimation reporting greenhouse</span> emissions removals also produces reports forms special <span style=\"color: #000000; text-decoration-color: #000000; background-color: #ffff00\">reports </span>\n",
       "<span style=\"color: #000000; text-decoration-color: #000000; background-color: #ffff00\">methodology reports technical</span> synthesis reports like ar6 reports crosscutting topics develops work programme based \n",
       "requests guidance member governments observer organizations work programme reviewed approved plenary main \n",
       "decisionmaking body budget funded voluntary contributions <span style=\"color: #000000; text-decoration-color: #000000; background-color: #ffff00\">member governments organizations budget</span> operational costs\n",
       "secretariat technical support units travel meeting expenses bureau members authors reviewers experts involved <span style=\"color: #000000; text-decoration-color: #000000; background-color: #ffff00\">work </span>\n",
       "<span style=\"color: #000000; text-decoration-color: #000000; background-color: #ffff00\">budget prepared secretariat</span> bureau technical support units submitted plenary approval assessment cycle typically \n",
       "lasts six seven years budget subject annual audit external auditor budget cycle also aligned calendar year addition\n",
       "scholarship programme provides funding young scientists developing countries <span style=\"color: #000000; text-decoration-color: #000000; background-color: #ffff00\">pursue studies climate change</span>\n",
       "</pre>\n"
      ],
      "text/plain": [
       "executes objectives via several strategies operates three working \u001b[30;48;2;255;255;0mgroups task force national\u001b[0m gas inventories \n",
       "supported technical support unit impacts adaptation vulnerability \u001b[30;48;2;255;255;0mmitigation climate change tfi\u001b[0m refines \n",
       "\u001b[30;48;2;255;255;0mmethodologies estimation reporting greenhouse\u001b[0m emissions removals also produces reports forms special \u001b[30;48;2;255;255;0mreports \u001b[0m\n",
       "\u001b[30;48;2;255;255;0mmethodology reports technical\u001b[0m synthesis reports like ar6 reports crosscutting topics develops work programme based \n",
       "requests guidance member governments observer organizations work programme reviewed approved plenary main \n",
       "decisionmaking body budget funded voluntary contributions \u001b[30;48;2;255;255;0mmember governments organizations budget\u001b[0m operational costs\n",
       "secretariat technical support units travel meeting expenses bureau members authors reviewers experts involved \u001b[30;48;2;255;255;0mwork \u001b[0m\n",
       "\u001b[30;48;2;255;255;0mbudget prepared secretariat\u001b[0m bureau technical support units submitted plenary approval assessment cycle typically \n",
       "lasts six seven years budget subject annual audit external auditor budget cycle also aligned calendar year addition\n",
       "scholarship programme provides funding young scientists developing countries \u001b[30;48;2;255;255;0mpursue studies climate change\u001b[0m\n"
      ]
     },
     "metadata": {},
     "output_type": "display_data"
    },
    {
     "data": {
      "text/html": [
       "<pre style=\"white-space:pre;overflow-x:auto;line-height:normal;font-family:Menlo,'DejaVu Sans Mono',consolas,'Courier New',monospace\"><span style=\"color: #000000; text-decoration-color: #000000; background-color: #ffff00\">comprehensive strategy place achieve</span> <span style=\"color: #000000; text-decoration-color: #000000; background-color: #ffff00\">mandates ensuring trade flows</span> predictably freely <span style=\"color: #000000; text-decoration-color: #000000; background-color: #ffff00\">possible operates </span>\n",
       "<span style=\"color: #000000; text-decoration-color: #000000; background-color: #ffff00\">nondiscriminatory trading</span> spells rights obligations members <span style=\"color: #000000; text-decoration-color: #000000; background-color: #ffff00\">international partners wide range</span> <span style=\"color: #000000; text-decoration-color: #000000; background-color: #ffff00\">commitment lowering </span>\n",
       "<span style=\"color: #000000; text-decoration-color: #000000; background-color: #ffff00\">trade barriers</span>\n",
       "</pre>\n"
      ],
      "text/plain": [
       "\u001b[30;48;2;255;255;0mcomprehensive strategy place achieve\u001b[0m \u001b[30;48;2;255;255;0mmandates ensuring trade flows\u001b[0m predictably freely \u001b[30;48;2;255;255;0mpossible operates \u001b[0m\n",
       "\u001b[30;48;2;255;255;0mnondiscriminatory trading\u001b[0m spells rights obligations members \u001b[30;48;2;255;255;0minternational partners wide range\u001b[0m \u001b[30;48;2;255;255;0mcommitment lowering \u001b[0m\n",
       "\u001b[30;48;2;255;255;0mtrade barriers\u001b[0m\n"
      ]
     },
     "metadata": {},
     "output_type": "display_data"
    },
    {
     "data": {
      "text/html": [
       "<pre style=\"white-space:pre;overflow-x:auto;line-height:normal;font-family:Menlo,'DejaVu Sans Mono',consolas,'Courier New',monospace\">executes objectives via several strategies firstly fiveyear strategic plan revised annually council establishes \n",
       "vision mission strategic objectives enablers crosscutting priorities current plan applicable 20242028 aligns global\n",
       "compact safe orderly regular <span style=\"color: #000000; text-decoration-color: #000000; background-color: #ffff00\">migration united nations secretarygeneral</span> agenda internal displacement secondly annual\n",
       "budget work plan devised approved council detail activities outputs indicators resources corresponding strategic \n",
       "objective current budget work plan 2024 tailored member states needs stakeholders priorities thirdly development \n",
       "fund strategic plan applicable 20222027 aimed providing member states accountable effective seed <span style=\"color: #000000; text-decoration-color: #000000; background-color: #ffff00\">funding innovative</span>\n",
       "<span style=\"color: #000000; text-decoration-color: #000000; background-color: #ffff00\">migrationrelated initiatives</span> national regional global development strategies priorities well supporting development\n",
       "strengthening capacities member states <span style=\"color: #000000; text-decoration-color: #000000; background-color: #ffff00\">achieve effective sustainable migration</span> benefits migrants society also \n",
       "maintains migration data portal key aspect implementation global compact safe orderly regular <span style=\"color: #000000; text-decoration-color: #000000; background-color: #ffff00\">migration finally </span>\n",
       "<span style=\"color: #000000; text-decoration-color: #000000; background-color: #ffff00\">various strategies</span> <span style=\"color: #000000; text-decoration-color: #000000; background-color: #ffff00\">platforms initiatives provide operational</span> <span style=\"color: #000000; text-decoration-color: #000000; background-color: #ffff00\">implementing mandate addressing migration</span> climate \n",
       "<span style=\"color: #000000; text-decoration-color: #000000; background-color: #ffff00\">change governance resilience mobility</span>\n",
       "</pre>\n"
      ],
      "text/plain": [
       "executes objectives via several strategies firstly fiveyear strategic plan revised annually council establishes \n",
       "vision mission strategic objectives enablers crosscutting priorities current plan applicable 20242028 aligns global\n",
       "compact safe orderly regular \u001b[30;48;2;255;255;0mmigration united nations secretarygeneral\u001b[0m agenda internal displacement secondly annual\n",
       "budget work plan devised approved council detail activities outputs indicators resources corresponding strategic \n",
       "objective current budget work plan 2024 tailored member states needs stakeholders priorities thirdly development \n",
       "fund strategic plan applicable 20222027 aimed providing member states accountable effective seed \u001b[30;48;2;255;255;0mfunding innovative\u001b[0m\n",
       "\u001b[30;48;2;255;255;0mmigrationrelated initiatives\u001b[0m national regional global development strategies priorities well supporting development\n",
       "strengthening capacities member states \u001b[30;48;2;255;255;0machieve effective sustainable migration\u001b[0m benefits migrants society also \n",
       "maintains migration data portal key aspect implementation global compact safe orderly regular \u001b[30;48;2;255;255;0mmigration finally \u001b[0m\n",
       "\u001b[30;48;2;255;255;0mvarious strategies\u001b[0m \u001b[30;48;2;255;255;0mplatforms initiatives provide operational\u001b[0m \u001b[30;48;2;255;255;0mimplementing mandate addressing migration\u001b[0m climate \n",
       "\u001b[30;48;2;255;255;0mchange governance resilience mobility\u001b[0m\n"
      ]
     },
     "metadata": {},
     "output_type": "display_data"
    },
    {
     "data": {
      "text/html": [
       "<pre style=\"white-space:pre;overflow-x:auto;line-height:normal;font-family:Menlo,'DejaVu Sans Mono',consolas,'Courier New',monospace\">executes objectives via several <span style=\"color: #000000; text-decoration-color: #000000; background-color: #ffff00\">strategies firstly fouryear strategic</span> <span style=\"color: #000000; text-decoration-color: #000000; background-color: #ffff00\">revised needed establishes organizations</span> \n",
       "<span style=\"color: #000000; text-decoration-color: #000000; background-color: #ffff00\">mission strategic goals core</span> targets plan applicable 20222025 aligns <span style=\"color: #000000; text-decoration-color: #000000; background-color: #ffff00\">sustainable development goals underscores</span> \n",
       "expanding capacity resource base <span style=\"color: #000000; text-decoration-color: #000000; background-color: #ffff00\">countries achieve goals plan</span> june 2023 following management reforms budget \n",
       "20222025 <span style=\"color: #000000; text-decoration-color: #000000; background-color: #ffff00\">strategic plan presented document</span> total delivery 85 billion total expenditure 11 billion fouryear period \n",
       "secondly operates accordance strict legislative framework comprised directives instructions <span style=\"color: #000000; text-decoration-color: #000000; background-color: #ffff00\">organizationwide </span>\n",
       "<span style=\"color: #000000; text-decoration-color: #000000; background-color: #ffff00\">policies govern actions</span> external relations explain procedures business processes implementation directives well \n",
       "united nations legislation applicable futhermore flagship publication annual statistical report united nations \n",
       "procurement keeps track combined spending goods services 39 un organizations record number reporting organizations \n",
       "finally advance 2030 agenda aims engage collaborative partnerships focus sharing expertise infrastructure \n",
       "procurement project management human resources financial services works variety partners un family governments \n",
       "nongovernmental organizations academia private sector organization also hosts several entities agreements grouped \n",
       "theme\n",
       "</pre>\n"
      ],
      "text/plain": [
       "executes objectives via several \u001b[30;48;2;255;255;0mstrategies firstly fouryear strategic\u001b[0m \u001b[30;48;2;255;255;0mrevised needed establishes organizations\u001b[0m \n",
       "\u001b[30;48;2;255;255;0mmission strategic goals core\u001b[0m targets plan applicable 20222025 aligns \u001b[30;48;2;255;255;0msustainable development goals underscores\u001b[0m \n",
       "expanding capacity resource base \u001b[30;48;2;255;255;0mcountries achieve goals plan\u001b[0m june 2023 following management reforms budget \n",
       "20222025 \u001b[30;48;2;255;255;0mstrategic plan presented document\u001b[0m total delivery 85 billion total expenditure 11 billion fouryear period \n",
       "secondly operates accordance strict legislative framework comprised directives instructions \u001b[30;48;2;255;255;0morganizationwide \u001b[0m\n",
       "\u001b[30;48;2;255;255;0mpolicies govern actions\u001b[0m external relations explain procedures business processes implementation directives well \n",
       "united nations legislation applicable futhermore flagship publication annual statistical report united nations \n",
       "procurement keeps track combined spending goods services 39 un organizations record number reporting organizations \n",
       "finally advance 2030 agenda aims engage collaborative partnerships focus sharing expertise infrastructure \n",
       "procurement project management human resources financial services works variety partners un family governments \n",
       "nongovernmental organizations academia private sector organization also hosts several entities agreements grouped \n",
       "theme\n"
      ]
     },
     "metadata": {},
     "output_type": "display_data"
    },
    {
     "data": {
      "text/html": [
       "<pre style=\"white-space:pre;overflow-x:auto;line-height:normal;font-family:Menlo,'DejaVu Sans Mono',consolas,'Courier New',monospace\">executes objectives via several strategies firstly fouryear strategic plan revised annually <span style=\"color: #000000; text-decoration-color: #000000; background-color: #ffff00\">executive board </span>\n",
       "<span style=\"color: #000000; text-decoration-color: #000000; background-color: #ffff00\">establishes organization</span> <span style=\"color: #000000; text-decoration-color: #000000; background-color: #ffff00\">mission strategic goals core</span> targets plan applicable 20222025 aligns <span style=\"color: #000000; text-decoration-color: #000000; background-color: #ffff00\">2030 agenda </span>\n",
       "<span style=\"color: #000000; text-decoration-color: #000000; background-color: #ffff00\">sustainable development</span> declaration platform action secondly integrated results resources framework devised \n",
       "approved executive board details specific results un <span style=\"color: #000000; text-decoration-color: #000000; background-color: #ffff00\">women aims achieve respective</span> indicators resources current \n",
       "framework 20222025 based needs priorities women <span style=\"color: #000000; text-decoration-color: #000000; background-color: #ffff00\">girls worldwide outlined annex</span> <span style=\"color: #000000; text-decoration-color: #000000; background-color: #ffff00\">women strategic plan 2022</span> also \n",
       "monitors reports <span style=\"color: #000000; text-decoration-color: #000000; background-color: #ffff00\">progress challenges achieving gender</span> empowerment women girls key aspect <span style=\"color: #000000; text-decoration-color: #000000; background-color: #ffff00\">implementation 2030 agenda</span>\n",
       "<span style=\"color: #000000; text-decoration-color: #000000; background-color: #ffff00\">sustainable</span> thirdly biennial integrated budget work plan devised entity ratified executive board detail activities \n",
       "outputs indicators resources corresponding strategic objective current budget 20242025 tailored needs priorities \n",
       "countries regions operates outlined integrated results resources framework also maintains <span style=\"color: #000000; text-decoration-color: #000000; background-color: #ffff00\">women count programme </span>\n",
       "<span style=\"color: #000000; text-decoration-color: #000000; background-color: #ffff00\">global</span> improve production accessibility use gender data evidencebased advocacy policymaking finally various \n",
       "partnerships platforms <span style=\"color: #000000; text-decoration-color: #000000; background-color: #ffff00\">initiatives provide operational framework</span> strategic <span style=\"color: #000000; text-decoration-color: #000000; background-color: #ffff00\">plan addressing governance participation</span>\n",
       "life women economic empowerment ending violence women girls women peace security humanitarian action disaster risk \n",
       "reduction\n",
       "</pre>\n"
      ],
      "text/plain": [
       "executes objectives via several strategies firstly fouryear strategic plan revised annually \u001b[30;48;2;255;255;0mexecutive board \u001b[0m\n",
       "\u001b[30;48;2;255;255;0mestablishes organization\u001b[0m \u001b[30;48;2;255;255;0mmission strategic goals core\u001b[0m targets plan applicable 20222025 aligns \u001b[30;48;2;255;255;0m2030 agenda \u001b[0m\n",
       "\u001b[30;48;2;255;255;0msustainable development\u001b[0m declaration platform action secondly integrated results resources framework devised \n",
       "approved executive board details specific results un \u001b[30;48;2;255;255;0mwomen aims achieve respective\u001b[0m indicators resources current \n",
       "framework 20222025 based needs priorities women \u001b[30;48;2;255;255;0mgirls worldwide outlined annex\u001b[0m \u001b[30;48;2;255;255;0mwomen strategic plan 2022\u001b[0m also \n",
       "monitors reports \u001b[30;48;2;255;255;0mprogress challenges achieving gender\u001b[0m empowerment women girls key aspect \u001b[30;48;2;255;255;0mimplementation 2030 agenda\u001b[0m\n",
       "\u001b[30;48;2;255;255;0msustainable\u001b[0m thirdly biennial integrated budget work plan devised entity ratified executive board detail activities \n",
       "outputs indicators resources corresponding strategic objective current budget 20242025 tailored needs priorities \n",
       "countries regions operates outlined integrated results resources framework also maintains \u001b[30;48;2;255;255;0mwomen count programme \u001b[0m\n",
       "\u001b[30;48;2;255;255;0mglobal\u001b[0m improve production accessibility use gender data evidencebased advocacy policymaking finally various \n",
       "partnerships platforms \u001b[30;48;2;255;255;0minitiatives provide operational framework\u001b[0m strategic \u001b[30;48;2;255;255;0mplan addressing governance participation\u001b[0m\n",
       "life women economic empowerment ending violence women girls women peace security humanitarian action disaster risk \n",
       "reduction\n"
      ]
     },
     "metadata": {},
     "output_type": "display_data"
    },
    {
     "data": {
      "text/html": [
       "<pre style=\"white-space:pre;overflow-x:auto;line-height:normal;font-family:Menlo,'DejaVu Sans Mono',consolas,'Courier New',monospace\">executes objectives via several strategies firstly fiveyear mediumterm <span style=\"color: #000000; text-decoration-color: #000000; background-color: #ffff00\">strategic plan prepared secretariat</span> \n",
       "assemblies provides highlevel <span style=\"color: #000000; text-decoration-color: #000000; background-color: #ffff00\">strategic guidance corresponding program</span> covered mtsp plan applicable 20222026 \n",
       "outlines vision <span style=\"color: #000000; text-decoration-color: #000000; background-color: #ffff00\">mission strategic pillars foundation</span> biennial program work budget approved assemblies details \n",
       "expected results performance indicators <span style=\"color: #000000; text-decoration-color: #000000; background-color: #ffff00\">resources program strategic goal</span> program work budget 20222023 based <span style=\"color: #000000; text-decoration-color: #000000; background-color: #ffff00\">mtsp </span>\n",
       "<span style=\"color: #000000; text-decoration-color: #000000; background-color: #ffff00\">reflects priorities needs</span> states stakeholders also <span style=\"color: #000000; text-decoration-color: #000000; background-color: #ffff00\">supports implementation development agenda</span> 45 recommendations \n",
       "enhance development dimension <span style=\"color: #000000; text-decoration-color: #000000; background-color: #ffff00\">activities finally various initiatives</span> <span style=\"color: #000000; text-decoration-color: #000000; background-color: #ffff00\">projects provide operational framework</span> \n",
       "<span style=\"color: #000000; text-decoration-color: #000000; background-color: #ffff00\">services advancing goals research</span> research development neglected tropical diseases malaria tuberculosis ip gender \n",
       "action plan aims promote gender equality womens empowerment ip ecosystem green connects providers seekers green \n",
       "technologies fosters innovation diffusion environmentally sound solutions\n",
       "</pre>\n"
      ],
      "text/plain": [
       "executes objectives via several strategies firstly fiveyear mediumterm \u001b[30;48;2;255;255;0mstrategic plan prepared secretariat\u001b[0m \n",
       "assemblies provides highlevel \u001b[30;48;2;255;255;0mstrategic guidance corresponding program\u001b[0m covered mtsp plan applicable 20222026 \n",
       "outlines vision \u001b[30;48;2;255;255;0mmission strategic pillars foundation\u001b[0m biennial program work budget approved assemblies details \n",
       "expected results performance indicators \u001b[30;48;2;255;255;0mresources program strategic goal\u001b[0m program work budget 20222023 based \u001b[30;48;2;255;255;0mmtsp \u001b[0m\n",
       "\u001b[30;48;2;255;255;0mreflects priorities needs\u001b[0m states stakeholders also \u001b[30;48;2;255;255;0msupports implementation development agenda\u001b[0m 45 recommendations \n",
       "enhance development dimension \u001b[30;48;2;255;255;0mactivities finally various initiatives\u001b[0m \u001b[30;48;2;255;255;0mprojects provide operational framework\u001b[0m \n",
       "\u001b[30;48;2;255;255;0mservices advancing goals research\u001b[0m research development neglected tropical diseases malaria tuberculosis ip gender \n",
       "action plan aims promote gender equality womens empowerment ip ecosystem green connects providers seekers green \n",
       "technologies fosters innovation diffusion environmentally sound solutions\n"
      ]
     },
     "metadata": {},
     "output_type": "display_data"
    },
    {
     "data": {
      "text/html": [
       "<pre style=\"white-space:pre;overflow-x:auto;line-height:normal;font-family:Menlo,'DejaVu Sans Mono',consolas,'Courier New',monospace\">executes objectives via several strategies firstly <span style=\"color: #000000; text-decoration-color: #000000; background-color: #ffff00\">fouryear strategic plan revised</span> <span style=\"color: #000000; text-decoration-color: #000000; background-color: #ffff00\">executive board establishes </span>\n",
       "<span style=\"color: #000000; text-decoration-color: #000000; background-color: #ffff00\">vision</span> <span style=\"color: #000000; text-decoration-color: #000000; background-color: #ffff00\">strategic goals core functions</span> plan applicable 20222025 detailed document dpfpa20218 reports <span style=\"color: #000000; text-decoration-color: #000000; background-color: #ffff00\">directly </span>\n",
       "<span style=\"color: #000000; text-decoration-color: #000000; background-color: #ffff00\">executive board evaluation</span> various topics levels population dynamics sexual reproductive health gender equality \n",
       "humanitarian <span style=\"color: #000000; text-decoration-color: #000000; background-color: #ffff00\">action organizational effectiveness evaluation</span> engages various stakeholders staff partners donors \n",
       "governments civil society youth ensure relevance quality use evaluation findings recommendations\n",
       "</pre>\n"
      ],
      "text/plain": [
       "executes objectives via several strategies firstly \u001b[30;48;2;255;255;0mfouryear strategic plan revised\u001b[0m \u001b[30;48;2;255;255;0mexecutive board establishes \u001b[0m\n",
       "\u001b[30;48;2;255;255;0mvision\u001b[0m \u001b[30;48;2;255;255;0mstrategic goals core functions\u001b[0m plan applicable 20222025 detailed document dpfpa20218 reports \u001b[30;48;2;255;255;0mdirectly \u001b[0m\n",
       "\u001b[30;48;2;255;255;0mexecutive board evaluation\u001b[0m various topics levels population dynamics sexual reproductive health gender equality \n",
       "humanitarian \u001b[30;48;2;255;255;0maction organizational effectiveness evaluation\u001b[0m engages various stakeholders staff partners donors \n",
       "governments civil society youth ensure relevance quality use evaluation findings recommendations\n"
      ]
     },
     "metadata": {},
     "output_type": "display_data"
    },
    {
     "data": {
      "text/html": [
       "<pre style=\"white-space:pre;overflow-x:auto;line-height:normal;font-family:Menlo,'DejaVu Sans Mono',consolas,'Courier New',monospace\">executes objectives via several <span style=\"color: #000000; text-decoration-color: #000000; background-color: #ffff00\">strategies programmes initiatives currently</span> fouryear strategic plan refocusing \n",
       "niche thought leader goto agency sets global <span style=\"color: #000000; text-decoration-color: #000000; background-color: #ffff00\">discourse agenda sustainable urban</span> aligning <span style=\"color: #000000; text-decoration-color: #000000; background-color: #ffff00\">work 2030 agenda </span>\n",
       "<span style=\"color: #000000; text-decoration-color: #000000; background-color: #ffff00\">sustainable</span> new <span style=\"color: #000000; text-decoration-color: #000000; background-color: #ffff00\">urban agenda relevant global</span> commitments delivering four domainspecific goals address key \n",
       "challenges opportunities urbanization reduced spatial inequality poverty enhanced shared prosperity strengthened \n",
       "climate action effective <span style=\"color: #000000; text-decoration-color: #000000; background-color: #ffff00\">urban crises prevention response</span> crosscutting themes social inclusion resilience safety \n",
       "throughout <span style=\"color: #000000; text-decoration-color: #000000; background-color: #ffff00\">programmes projects strengthening partnerships</span> stakeholders including national local governments civil \n",
       "society private sector academia media improving organizational effectiveness enhancing governance accountability \n",
       "transparency innovation resource mobilization according document estimated budget strategic plan 20202023 12 \n",
       "billion 500 million expected come regular budget 700 million extrabudgetary sources budget based projected resource\n",
       "requirements implementation four domains change drivers change organizational performance enablers\n",
       "</pre>\n"
      ],
      "text/plain": [
       "executes objectives via several \u001b[30;48;2;255;255;0mstrategies programmes initiatives currently\u001b[0m fouryear strategic plan refocusing \n",
       "niche thought leader goto agency sets global \u001b[30;48;2;255;255;0mdiscourse agenda sustainable urban\u001b[0m aligning \u001b[30;48;2;255;255;0mwork 2030 agenda \u001b[0m\n",
       "\u001b[30;48;2;255;255;0msustainable\u001b[0m new \u001b[30;48;2;255;255;0murban agenda relevant global\u001b[0m commitments delivering four domainspecific goals address key \n",
       "challenges opportunities urbanization reduced spatial inequality poverty enhanced shared prosperity strengthened \n",
       "climate action effective \u001b[30;48;2;255;255;0murban crises prevention response\u001b[0m crosscutting themes social inclusion resilience safety \n",
       "throughout \u001b[30;48;2;255;255;0mprogrammes projects strengthening partnerships\u001b[0m stakeholders including national local governments civil \n",
       "society private sector academia media improving organizational effectiveness enhancing governance accountability \n",
       "transparency innovation resource mobilization according document estimated budget strategic plan 20202023 12 \n",
       "billion 500 million expected come regular budget 700 million extrabudgetary sources budget based projected resource\n",
       "requirements implementation four domains change drivers change organizational performance enablers\n"
      ]
     },
     "metadata": {},
     "output_type": "display_data"
    },
    {
     "data": {
      "text/html": [
       "<pre style=\"white-space:pre;overflow-x:auto;line-height:normal;font-family:Menlo,'DejaVu Sans Mono',consolas,'Courier New',monospace\">executes objectives via several strategies <span style=\"color: #000000; text-decoration-color: #000000; background-color: #ffff00\">firstly fouryear strategic plan</span> <span style=\"color: #000000; text-decoration-color: #000000; background-color: #ffff00\">organization vision mission strategic</span> \n",
       "core functions targets plan applicable 20222025 20222025 provides performance accountability framework enables \n",
       "measure demonstrate response humanitarian needs addition 32 policies effect <span style=\"color: #000000; text-decoration-color: #000000; background-color: #ffff00\">20222025 strategic plan</span> update \n",
       "portfolio policies submitted annually found compendium policies executive board website finally various <span style=\"color: #000000; text-decoration-color: #000000; background-color: #ffff00\">policies </span>\n",
       "<span style=\"color: #000000; text-decoration-color: #000000; background-color: #ffff00\">frameworks agreements initiatives</span> <span style=\"color: #000000; text-decoration-color: #000000; background-color: #ffff00\">operational framework implementing strategic</span> addressing food security nutrition \n",
       "resilience capacity strengthening social protection innovation\n",
       "</pre>\n"
      ],
      "text/plain": [
       "executes objectives via several strategies \u001b[30;48;2;255;255;0mfirstly fouryear strategic plan\u001b[0m \u001b[30;48;2;255;255;0morganization vision mission strategic\u001b[0m \n",
       "core functions targets plan applicable 20222025 20222025 provides performance accountability framework enables \n",
       "measure demonstrate response humanitarian needs addition 32 policies effect \u001b[30;48;2;255;255;0m20222025 strategic plan\u001b[0m update \n",
       "portfolio policies submitted annually found compendium policies executive board website finally various \u001b[30;48;2;255;255;0mpolicies \u001b[0m\n",
       "\u001b[30;48;2;255;255;0mframeworks agreements initiatives\u001b[0m \u001b[30;48;2;255;255;0moperational framework implementing strategic\u001b[0m addressing food security nutrition \n",
       "resilience capacity strengthening social protection innovation\n"
      ]
     },
     "metadata": {},
     "output_type": "display_data"
    },
    {
     "data": {
      "text/html": [
       "<pre style=\"white-space:pre;overflow-x:auto;line-height:normal;font-family:Menlo,'DejaVu Sans Mono',consolas,'Courier New',monospace\"><span style=\"color: #000000; text-decoration-color: #000000; background-color: #ffff00\">united nations executes objectives</span> several strategies firstly <span style=\"color: #000000; text-decoration-color: #000000; background-color: #ffff00\">strategic plan directed</span> towards governments member \n",
       "states aims support strengthen capacity national regional local <span style=\"color: #000000; text-decoration-color: #000000; background-color: #ffff00\">tourism administrations african</span> civil aviation \n",
       "commission promote sustainable <span style=\"color: #000000; text-decoration-color: #000000; background-color: #ffff00\">tourism implementation single african</span> transport market also partnership google lead \n",
       "global tourism recovery innovation education market intelligence <span style=\"color: #000000; text-decoration-color: #000000; background-color: #ffff00\">strategic plans initiatives typically</span> <span style=\"color: #000000; text-decoration-color: #000000; background-color: #ffff00\">global </span>\n",
       "<span style=\"color: #000000; text-decoration-color: #000000; background-color: #ffff00\">agendas 2030 agenda</span> development indicating longterm perspective also works members partners ongoing basis <span style=\"color: #000000; text-decoration-color: #000000; background-color: #ffff00\">achieve </span>\n",
       "<span style=\"color: #000000; text-decoration-color: #000000; background-color: #ffff00\">objectives</span>\n",
       "</pre>\n"
      ],
      "text/plain": [
       "\u001b[30;48;2;255;255;0munited nations executes objectives\u001b[0m several strategies firstly \u001b[30;48;2;255;255;0mstrategic plan directed\u001b[0m towards governments member \n",
       "states aims support strengthen capacity national regional local \u001b[30;48;2;255;255;0mtourism administrations african\u001b[0m civil aviation \n",
       "commission promote sustainable \u001b[30;48;2;255;255;0mtourism implementation single african\u001b[0m transport market also partnership google lead \n",
       "global tourism recovery innovation education market intelligence \u001b[30;48;2;255;255;0mstrategic plans initiatives typically\u001b[0m \u001b[30;48;2;255;255;0mglobal \u001b[0m\n",
       "\u001b[30;48;2;255;255;0magendas 2030 agenda\u001b[0m development indicating longterm perspective also works members partners ongoing basis \u001b[30;48;2;255;255;0machieve \u001b[0m\n",
       "\u001b[30;48;2;255;255;0mobjectives\u001b[0m\n"
      ]
     },
     "metadata": {},
     "output_type": "display_data"
    },
    {
     "data": {
      "text/html": [
       "<pre style=\"white-space:pre;overflow-x:auto;line-height:normal;font-family:Menlo,'DejaVu Sans Mono',consolas,'Courier New',monospace\">pursues objectives mandates several <span style=\"color: #000000; text-decoration-color: #000000; background-color: #ffff00\">strategies firstly fiveyear institutional</span> developed consultation stakeholders \n",
       "defines institute vision mission research programmes expected results current strategy applicable 20212025 focuses \n",
       "overcoming inequalities achieving new ecosocial contract plan aligns <span style=\"color: #000000; text-decoration-color: #000000; background-color: #ffff00\">uns sustainable development goals</span> <span style=\"color: #000000; text-decoration-color: #000000; background-color: #ffff00\">agenda </span>\n",
       "<span style=\"color: #000000; text-decoration-color: #000000; background-color: #ffff00\">sustainable development present</span> sets five <span style=\"color: #000000; text-decoration-color: #000000; background-color: #ffff00\">research programmes transformative social</span> gender justice development \n",
       "alternative economies transformation environmental climate justice translating research policy practice bonn \n",
       "programme engages network partners coproduction process institute committed comprehensive consultation <span style=\"color: #000000; text-decoration-color: #000000; background-color: #ffff00\">stakeholders</span>\n",
       "<span style=\"color: #000000; text-decoration-color: #000000; background-color: #ffff00\">research activities directed</span> conducts communicates research also maintains flagship report key publication \n",
       "<span style=\"color: #000000; text-decoration-color: #000000; background-color: #ffff00\">synthesizes institute research policy</span> social dimensions contemporary development issues receives funding regular \n",
       "budget united nations depends entirely voluntary contributions national governments multilateral donors foundations\n",
       "sources must fully mobilize financial resources necessary cover institutional staff costs required implement \n",
       "strategy 2021 2025 underlying assumption terms delivering results therefore design successfully implement \n",
       "fundraising strategy diversify institute funding sources generate predictable stable increased revenues <span style=\"color: #000000; text-decoration-color: #000000; background-color: #ffff00\">various </span>\n",
       "<span style=\"color: #000000; text-decoration-color: #000000; background-color: #ffff00\">institutional initiatives collaborations</span> mechanisms also provide operational framework implementing institutes \n",
       "objectives instance work programme bonn office aims create new interagency collaborations enhance synergies \n",
       "research learning activities institute also organises regular seminar series provide space open informed insightful\n",
       "conversation around contemporary issues concern <span style=\"color: #000000; text-decoration-color: #000000; background-color: #ffff00\">social development research policy</span>\n",
       "</pre>\n"
      ],
      "text/plain": [
       "pursues objectives mandates several \u001b[30;48;2;255;255;0mstrategies firstly fiveyear institutional\u001b[0m developed consultation stakeholders \n",
       "defines institute vision mission research programmes expected results current strategy applicable 20212025 focuses \n",
       "overcoming inequalities achieving new ecosocial contract plan aligns \u001b[30;48;2;255;255;0muns sustainable development goals\u001b[0m \u001b[30;48;2;255;255;0magenda \u001b[0m\n",
       "\u001b[30;48;2;255;255;0msustainable development present\u001b[0m sets five \u001b[30;48;2;255;255;0mresearch programmes transformative social\u001b[0m gender justice development \n",
       "alternative economies transformation environmental climate justice translating research policy practice bonn \n",
       "programme engages network partners coproduction process institute committed comprehensive consultation \u001b[30;48;2;255;255;0mstakeholders\u001b[0m\n",
       "\u001b[30;48;2;255;255;0mresearch activities directed\u001b[0m conducts communicates research also maintains flagship report key publication \n",
       "\u001b[30;48;2;255;255;0msynthesizes institute research policy\u001b[0m social dimensions contemporary development issues receives funding regular \n",
       "budget united nations depends entirely voluntary contributions national governments multilateral donors foundations\n",
       "sources must fully mobilize financial resources necessary cover institutional staff costs required implement \n",
       "strategy 2021 2025 underlying assumption terms delivering results therefore design successfully implement \n",
       "fundraising strategy diversify institute funding sources generate predictable stable increased revenues \u001b[30;48;2;255;255;0mvarious \u001b[0m\n",
       "\u001b[30;48;2;255;255;0minstitutional initiatives collaborations\u001b[0m mechanisms also provide operational framework implementing institutes \n",
       "objectives instance work programme bonn office aims create new interagency collaborations enhance synergies \n",
       "research learning activities institute also organises regular seminar series provide space open informed insightful\n",
       "conversation around contemporary issues concern \u001b[30;48;2;255;255;0msocial development research policy\u001b[0m\n"
      ]
     },
     "metadata": {},
     "output_type": "display_data"
    },
    {
     "data": {
      "text/html": [
       "<pre style=\"white-space:pre;overflow-x:auto;line-height:normal;font-family:Menlo,'DejaVu Sans Mono',consolas,'Courier New',monospace\"><span style=\"color: #000000; text-decoration-color: #000000; background-color: #ffff00\">secretariats basel stockholm conventions</span> objectives via several strategies firstly laid article <span style=\"color: #000000; text-decoration-color: #000000; background-color: #ffff00\">16 basel convention</span>\n",
       "<span style=\"color: #000000; text-decoration-color: #000000; background-color: #ffff00\">establishing</span> work small intersessional working groups expert working groups project groups composed representatives\n",
       "parties observers carry activities work programmes providing information best practices lessons learned \n",
       "recommendations various aspects environmentally sound <span style=\"color: #000000; text-decoration-color: #000000; background-color: #ffff00\">management hazardous wastes wastes</span> dissemination briefs \n",
       "reports materials <span style=\"color: #000000; text-decoration-color: #000000; background-color: #ffff00\">organizing conducting capacitybuilding activities</span> workshops webinars online courses assist \n",
       "parties <span style=\"color: #000000; text-decoration-color: #000000; background-color: #ffff00\">stakeholders implementing</span> provisions obligations obligations convention strengthening communication \n",
       "outreach potential partners initiatives regional centres multilateral <span style=\"color: #000000; text-decoration-color: #000000; background-color: #ffff00\">environmental agreements relevant </span>\n",
       "<span style=\"color: #000000; text-decoration-color: #000000; background-color: #ffff00\">organizations</span> promote information sharing <span style=\"color: #000000; text-decoration-color: #000000; background-color: #ffff00\">collaboration hazardous chemicals wastes</span>\n",
       "</pre>\n"
      ],
      "text/plain": [
       "\u001b[30;48;2;255;255;0msecretariats basel stockholm conventions\u001b[0m objectives via several strategies firstly laid article \u001b[30;48;2;255;255;0m16 basel convention\u001b[0m\n",
       "\u001b[30;48;2;255;255;0mestablishing\u001b[0m work small intersessional working groups expert working groups project groups composed representatives\n",
       "parties observers carry activities work programmes providing information best practices lessons learned \n",
       "recommendations various aspects environmentally sound \u001b[30;48;2;255;255;0mmanagement hazardous wastes wastes\u001b[0m dissemination briefs \n",
       "reports materials \u001b[30;48;2;255;255;0morganizing conducting capacitybuilding activities\u001b[0m workshops webinars online courses assist \n",
       "parties \u001b[30;48;2;255;255;0mstakeholders implementing\u001b[0m provisions obligations obligations convention strengthening communication \n",
       "outreach potential partners initiatives regional centres multilateral \u001b[30;48;2;255;255;0menvironmental agreements relevant \u001b[0m\n",
       "\u001b[30;48;2;255;255;0morganizations\u001b[0m promote information sharing \u001b[30;48;2;255;255;0mcollaboration hazardous chemicals wastes\u001b[0m\n"
      ]
     },
     "metadata": {},
     "output_type": "display_data"
    },
    {
     "data": {
      "text/html": [
       "<pre style=\"white-space:pre;overflow-x:auto;line-height:normal;font-family:Menlo,'DejaVu Sans Mono',consolas,'Courier New',monospace\">secretariat executes objectives via several strategies <span style=\"color: #000000; text-decoration-color: #000000; background-color: #ffff00\">firstly post2020 global biodiversity</span> adopted conference \n",
       "parties fifteenth meeting provide vision <span style=\"color: #000000; text-decoration-color: #000000; background-color: #ffff00\">mission goals targets biodiversity</span> sustainable use next decade aligning \n",
       "2030 agenda sustainable development paris agreement funded assessed contributions parties based united nations \n",
       "scales <span style=\"color: #000000; text-decoration-color: #000000; background-color: #ffff00\">assessment promotes integration biodiversity</span> policies plans\n",
       "</pre>\n"
      ],
      "text/plain": [
       "secretariat executes objectives via several strategies \u001b[30;48;2;255;255;0mfirstly post2020 global biodiversity\u001b[0m adopted conference \n",
       "parties fifteenth meeting provide vision \u001b[30;48;2;255;255;0mmission goals targets biodiversity\u001b[0m sustainable use next decade aligning \n",
       "2030 agenda sustainable development paris agreement funded assessed contributions parties based united nations \n",
       "scales \u001b[30;48;2;255;255;0massessment promotes integration biodiversity\u001b[0m policies plans\n"
      ]
     },
     "metadata": {},
     "output_type": "display_data"
    },
    {
     "data": {
      "text/html": [
       "<pre style=\"white-space:pre;overflow-x:auto;line-height:normal;font-family:Menlo,'DejaVu Sans Mono',consolas,'Courier New',monospace\"><span style=\"color: #000000; text-decoration-color: #000000; background-color: #ffff00\">secretariat executes objectives</span> via several strategies firstly tenyear strategic vision adopted conference parties \n",
       "outlines convention direction 20212030 timeframe <span style=\"color: #000000; text-decoration-color: #000000; background-color: #ffff00\">fulfilment mandate finances administrative</span> <span style=\"color: #000000; text-decoration-color: #000000; background-color: #ffff00\">secretariat conference </span>\n",
       "<span style=\"color: #000000; text-decoration-color: #000000; background-color: #ffff00\">parties subsidiary</span> standing <span style=\"color: #000000; text-decoration-color: #000000; background-color: #ffff00\">committee permanent committees trust</span> replenished contributions parties convention based\n",
       "united nations scale assessment adjusted take account fact members united nations parties convention external funds\n",
       "known external trust fund <span style=\"color: #000000; text-decoration-color: #000000; background-color: #ffff00\">funds voluntary programmesprojects activities</span> external trust fund consists extrabudgetary\n",
       "contributions parties entities purely voluntary basis offer funding external trust <span style=\"color: #000000; text-decoration-color: #000000; background-color: #ffff00\">fund negotiated vetted </span>\n",
       "<span style=\"color: #000000; text-decoration-color: #000000; background-color: #ffff00\">secretariat</span>\n",
       "</pre>\n"
      ],
      "text/plain": [
       "\u001b[30;48;2;255;255;0msecretariat executes objectives\u001b[0m via several strategies firstly tenyear strategic vision adopted conference parties \n",
       "outlines convention direction 20212030 timeframe \u001b[30;48;2;255;255;0mfulfilment mandate finances administrative\u001b[0m \u001b[30;48;2;255;255;0msecretariat conference \u001b[0m\n",
       "\u001b[30;48;2;255;255;0mparties subsidiary\u001b[0m standing \u001b[30;48;2;255;255;0mcommittee permanent committees trust\u001b[0m replenished contributions parties convention based\n",
       "united nations scale assessment adjusted take account fact members united nations parties convention external funds\n",
       "known external trust fund \u001b[30;48;2;255;255;0mfunds voluntary programmesprojects activities\u001b[0m external trust fund consists extrabudgetary\n",
       "contributions parties entities purely voluntary basis offer funding external trust \u001b[30;48;2;255;255;0mfund negotiated vetted \u001b[0m\n",
       "\u001b[30;48;2;255;255;0msecretariat\u001b[0m\n"
      ]
     },
     "metadata": {},
     "output_type": "display_data"
    },
    {
     "data": {
      "text/html": [
       "<pre style=\"white-space:pre;overflow-x:auto;line-height:normal;font-family:Menlo,'DejaVu Sans Mono',consolas,'Courier New',monospace\"><span style=\"color: #000000; text-decoration-color: #000000; background-color: #ffff00\">secretariat executes objectives</span> via several <span style=\"color: #000000; text-decoration-color: #000000; background-color: #ffff00\">strategies firstly secretariat strategic</span> plan proposed 20242032 aligns \n",
       "kunmingmontreal <span style=\"color: #000000; text-decoration-color: #000000; background-color: #ffff00\">global biodiversity framework 2030</span> sustainable development stated draft resolution cop14crp142 \n",
       "includes periodic meetings executive director director law division meas focal points network coordinated law \n",
       "division scientific council standing committee also accepting <span style=\"color: #000000; text-decoration-color: #000000; background-color: #ffff00\">inputs environmental treaties organizations</span> supports \n",
       "implementation instruments memoranda understanding action plans concerted actions <span style=\"color: #000000; text-decoration-color: #000000; background-color: #ffff00\">provide cooperative frameworks </span>\n",
       "<span style=\"color: #000000; text-decoration-color: #000000; background-color: #ffff00\">conservation</span> migratory species listed finally various <span style=\"color: #000000; text-decoration-color: #000000; background-color: #ffff00\">partnerships mechanisms platforms initiatives</span> operational \n",
       "framework implementing convention instruments addressing <span style=\"color: #000000; text-decoration-color: #000000; background-color: #ffff00\">threats habitats knowledge governance</span> key examples listed\n",
       "</pre>\n"
      ],
      "text/plain": [
       "\u001b[30;48;2;255;255;0msecretariat executes objectives\u001b[0m via several \u001b[30;48;2;255;255;0mstrategies firstly secretariat strategic\u001b[0m plan proposed 20242032 aligns \n",
       "kunmingmontreal \u001b[30;48;2;255;255;0mglobal biodiversity framework 2030\u001b[0m sustainable development stated draft resolution cop14crp142 \n",
       "includes periodic meetings executive director director law division meas focal points network coordinated law \n",
       "division scientific council standing committee also accepting \u001b[30;48;2;255;255;0minputs environmental treaties organizations\u001b[0m supports \n",
       "implementation instruments memoranda understanding action plans concerted actions \u001b[30;48;2;255;255;0mprovide cooperative frameworks \u001b[0m\n",
       "\u001b[30;48;2;255;255;0mconservation\u001b[0m migratory species listed finally various \u001b[30;48;2;255;255;0mpartnerships mechanisms platforms initiatives\u001b[0m operational \n",
       "framework implementing convention instruments addressing \u001b[30;48;2;255;255;0mthreats habitats knowledge governance\u001b[0m key examples listed\n"
      ]
     },
     "metadata": {},
     "output_type": "display_data"
    },
    {
     "data": {
      "text/html": [
       "<pre style=\"white-space:pre;overflow-x:auto;line-height:normal;font-family:Menlo,'DejaVu Sans Mono',consolas,'Courier New',monospace\">executes objectives via several strategies firstly <span style=\"color: #000000; text-decoration-color: #000000; background-color: #ffff00\">tenyear strategic framework contributions</span> investment income loan\n",
       "repayments recipient countries borrowing member states resources feed work <span style=\"color: #000000; text-decoration-color: #000000; background-color: #ffff00\">program supplemented cofinancing </span>\n",
       "<span style=\"color: #000000; text-decoration-color: #000000; background-color: #ffff00\">beneficiary</span> donors contributions voluntary multiyear nature every three years organizes replenishment conference \n",
       "corresponding work program also receives <span style=\"color: #000000; text-decoration-color: #000000; background-color: #ffff00\">supplementary funds various sources</span> <span style=\"color: #000000; text-decoration-color: #000000; background-color: #ffff00\">financing bilateral grants finally</span> \n",
       "<span style=\"color: #000000; text-decoration-color: #000000; background-color: #ffff00\">agreements mechanisms platforms initiatives</span> operational framework implementing <span style=\"color: #000000; text-decoration-color: #000000; background-color: #ffff00\">strategic framework addressing rural</span>\n",
       "food security nutrition gender equality <span style=\"color: #000000; text-decoration-color: #000000; background-color: #ffff00\">resilience innovation partnerships financing</span>\n",
       "</pre>\n"
      ],
      "text/plain": [
       "executes objectives via several strategies firstly \u001b[30;48;2;255;255;0mtenyear strategic framework contributions\u001b[0m investment income loan\n",
       "repayments recipient countries borrowing member states resources feed work \u001b[30;48;2;255;255;0mprogram supplemented cofinancing \u001b[0m\n",
       "\u001b[30;48;2;255;255;0mbeneficiary\u001b[0m donors contributions voluntary multiyear nature every three years organizes replenishment conference \n",
       "corresponding work program also receives \u001b[30;48;2;255;255;0msupplementary funds various sources\u001b[0m \u001b[30;48;2;255;255;0mfinancing bilateral grants finally\u001b[0m \n",
       "\u001b[30;48;2;255;255;0magreements mechanisms platforms initiatives\u001b[0m operational framework implementing \u001b[30;48;2;255;255;0mstrategic framework addressing rural\u001b[0m\n",
       "food security nutrition gender equality \u001b[30;48;2;255;255;0mresilience innovation partnerships financing\u001b[0m\n"
      ]
     },
     "metadata": {},
     "output_type": "display_data"
    },
    {
     "data": {
      "text/html": [
       "<pre style=\"white-space:pre;overflow-x:auto;line-height:normal;font-family:Menlo,'DejaVu Sans Mono',consolas,'Courier New',monospace\">executes objectives via several <span style=\"color: #000000; text-decoration-color: #000000; background-color: #ffff00\">strategies firstly fouryear strategic</span> revised annually joint advisory group \n",
       "establishes vision mission strategic goals core services impact areas plan applicable 20222025 <span style=\"color: #000000; text-decoration-color: #000000; background-color: #ffff00\">aligns 2030 agenda </span>\n",
       "<span style=\"color: #000000; text-decoration-color: #000000; background-color: #ffff00\">sustainable</span> mandates funded equal parts un extra budgetary resources consist pledges donor governments governmental\n",
       "organizations international organizations civil society including ngos business sector variety foundations \n",
       "commitments often extend multiyear periods addition various agreements mechanisms platforms <span style=\"color: #000000; text-decoration-color: #000000; background-color: #ffff00\">initiatives provide </span>\n",
       "<span style=\"color: #000000; text-decoration-color: #000000; background-color: #ffff00\">operational framework</span> vision mission principles addressing trade competitiveness inclusiveness <span style=\"color: #000000; text-decoration-color: #000000; background-color: #ffff00\">sustainability </span>\n",
       "<span style=\"color: #000000; text-decoration-color: #000000; background-color: #ffff00\">digitalization finally annual</span> offers comprehensive review organization activities detailed information results \n",
       "effectiveness work latest report 2022 showcases delivered beyond call <span style=\"color: #000000; text-decoration-color: #000000; background-color: #ffff00\">duty set sustainable development</span> back track \n",
       "help small enterprises continue finding new pathways prosperity trade despite challenges posed four cs covid \n",
       "climate conflict costofliving report also presents results first <span style=\"color: #000000; text-decoration-color: #000000; background-color: #ffff00\">year strategic plan 2022</span> pushes value proposition \n",
       "laying bold roadmap creating trade sustainable inclusive transformative\n",
       "</pre>\n"
      ],
      "text/plain": [
       "executes objectives via several \u001b[30;48;2;255;255;0mstrategies firstly fouryear strategic\u001b[0m revised annually joint advisory group \n",
       "establishes vision mission strategic goals core services impact areas plan applicable 20222025 \u001b[30;48;2;255;255;0maligns 2030 agenda \u001b[0m\n",
       "\u001b[30;48;2;255;255;0msustainable\u001b[0m mandates funded equal parts un extra budgetary resources consist pledges donor governments governmental\n",
       "organizations international organizations civil society including ngos business sector variety foundations \n",
       "commitments often extend multiyear periods addition various agreements mechanisms platforms \u001b[30;48;2;255;255;0minitiatives provide \u001b[0m\n",
       "\u001b[30;48;2;255;255;0moperational framework\u001b[0m vision mission principles addressing trade competitiveness inclusiveness \u001b[30;48;2;255;255;0msustainability \u001b[0m\n",
       "\u001b[30;48;2;255;255;0mdigitalization finally annual\u001b[0m offers comprehensive review organization activities detailed information results \n",
       "effectiveness work latest report 2022 showcases delivered beyond call \u001b[30;48;2;255;255;0mduty set sustainable development\u001b[0m back track \n",
       "help small enterprises continue finding new pathways prosperity trade despite challenges posed four cs covid \n",
       "climate conflict costofliving report also presents results first \u001b[30;48;2;255;255;0myear strategic plan 2022\u001b[0m pushes value proposition \n",
       "laying bold roadmap creating trade sustainable inclusive transformative\n"
      ]
     },
     "metadata": {},
     "output_type": "display_data"
    },
    {
     "data": {
      "text/html": [
       "<pre style=\"white-space:pre;overflow-x:auto;line-height:normal;font-family:Menlo,'DejaVu Sans Mono',consolas,'Courier New',monospace\"><span style=\"color: #000000; text-decoration-color: #000000; background-color: #ffff00\">secretariat executes objectives</span> via several strategies firstly 12year strategic framework comprehensive global \n",
       "<span style=\"color: #000000; text-decoration-color: #000000; background-color: #ffff00\">commitment achieve land degradation</span> aims restore productivity vast expanses degraded land improve livelihoods 13 \n",
       "billion people reduce impacts drought vulnerable <span style=\"color: #000000; text-decoration-color: #000000; background-color: #ffff00\">populations secondly secretariat prepares</span> programme budget \n",
       "programme budget triennium 2022 2024 detailed decision 10cop15 provides overview human financial resources \n",
       "requirements well <span style=\"color: #000000; text-decoration-color: #000000; background-color: #ffff00\">programme priorities thirdly secretariat</span> countries <span style=\"color: #000000; text-decoration-color: #000000; background-color: #ffff00\">want achieve nationalregional land</span> neutrality \n",
       "identify land soil critical climate change adaptation mitigation <span style=\"color: #000000; text-decoration-color: #000000; background-color: #ffff00\">implement land management practices</span> programmes \n",
       "projects transform communities provide science research needed take informed <span style=\"color: #000000; text-decoration-color: #000000; background-color: #ffff00\">decisions finally secretariat granted</span> \n",
       "mandates play leading role regards operational objectives advocacy awareness raising education policy framework \n",
       "science technology knowledge well support role operational objectives capacity building financing technology \n",
       "transfer secretariat also collaborates various partners levels global local advance implementation convention\n",
       "</pre>\n"
      ],
      "text/plain": [
       "\u001b[30;48;2;255;255;0msecretariat executes objectives\u001b[0m via several strategies firstly 12year strategic framework comprehensive global \n",
       "\u001b[30;48;2;255;255;0mcommitment achieve land degradation\u001b[0m aims restore productivity vast expanses degraded land improve livelihoods 13 \n",
       "billion people reduce impacts drought vulnerable \u001b[30;48;2;255;255;0mpopulations secondly secretariat prepares\u001b[0m programme budget \n",
       "programme budget triennium 2022 2024 detailed decision 10cop15 provides overview human financial resources \n",
       "requirements well \u001b[30;48;2;255;255;0mprogramme priorities thirdly secretariat\u001b[0m countries \u001b[30;48;2;255;255;0mwant achieve nationalregional land\u001b[0m neutrality \n",
       "identify land soil critical climate change adaptation mitigation \u001b[30;48;2;255;255;0mimplement land management practices\u001b[0m programmes \n",
       "projects transform communities provide science research needed take informed \u001b[30;48;2;255;255;0mdecisions finally secretariat granted\u001b[0m \n",
       "mandates play leading role regards operational objectives advocacy awareness raising education policy framework \n",
       "science technology knowledge well support role operational objectives capacity building financing technology \n",
       "transfer secretariat also collaborates various partners levels global local advance implementation convention\n"
      ]
     },
     "metadata": {},
     "output_type": "display_data"
    },
    {
     "data": {
      "text/html": [
       "<pre style=\"white-space:pre;overflow-x:auto;line-height:normal;font-family:Menlo,'DejaVu Sans Mono',consolas,'Courier New',monospace\">implements objectives mandates variety strategies strategic plan guides <span style=\"color: #000000; text-decoration-color: #000000; background-color: #ffff00\">development implementation institute </span>\n",
       "<span style=\"color: #000000; text-decoration-color: #000000; background-color: #ffff00\">research</span> <span style=\"color: #000000; text-decoration-color: #000000; background-color: #ffff00\">development teaching capacitybuilding initiatives</span> strategic plan spans 2020 2024 council responsible \n",
       "considering approving budget work programme work program budget estimate biennium 20222023 designed support vision \n",
       "promoting <span style=\"color: #000000; text-decoration-color: #000000; background-color: #ffff00\">sustainable human development mission</span> <span style=\"color: #000000; text-decoration-color: #000000; background-color: #ffff00\">research capacity building efforts</span> pressing global problems concern\n",
       "united nations peoples member states budget usd 1248 million 109 increase previous biennium funded various sources \n",
       "including project fundraising institutional fundraising income endowment fund cumulative surplus carried forward \n",
       "income established sdg universities platform ias 2020 <span style=\"color: #000000; text-decoration-color: #000000; background-color: #ffff00\">provides opportunities japanese universities</span> collaborate \n",
       "different stakeholders promote research educational activities <span style=\"color: #000000; text-decoration-color: #000000; background-color: #ffff00\">advancing sustainable development goals</span> devises \n",
       "principles policies govern university operations council holds two regular sessions per year finally 13 institutes \n",
       "located 12 countries around world contributing mission specific programmes work global system coordinated \n",
       "headquarters tokyo\n",
       "</pre>\n"
      ],
      "text/plain": [
       "implements objectives mandates variety strategies strategic plan guides \u001b[30;48;2;255;255;0mdevelopment implementation institute \u001b[0m\n",
       "\u001b[30;48;2;255;255;0mresearch\u001b[0m \u001b[30;48;2;255;255;0mdevelopment teaching capacitybuilding initiatives\u001b[0m strategic plan spans 2020 2024 council responsible \n",
       "considering approving budget work programme work program budget estimate biennium 20222023 designed support vision \n",
       "promoting \u001b[30;48;2;255;255;0msustainable human development mission\u001b[0m \u001b[30;48;2;255;255;0mresearch capacity building efforts\u001b[0m pressing global problems concern\n",
       "united nations peoples member states budget usd 1248 million 109 increase previous biennium funded various sources \n",
       "including project fundraising institutional fundraising income endowment fund cumulative surplus carried forward \n",
       "income established sdg universities platform ias 2020 \u001b[30;48;2;255;255;0mprovides opportunities japanese universities\u001b[0m collaborate \n",
       "different stakeholders promote research educational activities \u001b[30;48;2;255;255;0madvancing sustainable development goals\u001b[0m devises \n",
       "principles policies govern university operations council holds two regular sessions per year finally 13 institutes \n",
       "located 12 countries around world contributing mission specific programmes work global system coordinated \n",
       "headquarters tokyo\n"
      ]
     },
     "metadata": {},
     "output_type": "display_data"
    },
    {
     "data": {
      "text/html": [
       "<pre style=\"white-space:pre;overflow-x:auto;line-height:normal;font-family:Menlo,'DejaVu Sans Mono',consolas,'Courier New',monospace\"><span style=\"color: #000000; text-decoration-color: #000000; background-color: #ffff00\">secretariat executes defined objectives</span> certain strategies including fourth strategic plan spans 20162024 address \n",
       "drivers wetland loss degradation effectively conserve manage site network <span style=\"color: #000000; text-decoration-color: #000000; background-color: #ffff00\">wisely use wetlands secretariat</span> workplan \n",
       "structured around <span style=\"color: #000000; text-decoration-color: #000000; background-color: #ffff00\">seven core functions secretariat</span> principal activities corresponding annual triennial indicators \n",
       "together indicative lead responsibilities principal funding source recent workplan applicable <span style=\"color: #000000; text-decoration-color: #000000; background-color: #ffff00\">20232025 secretariats</span>\n",
       "<span style=\"color: #000000; text-decoration-color: #000000; background-color: #ffff00\">core funding</span> contributions contracting parties <span style=\"color: #000000; text-decoration-color: #000000; background-color: #ffff00\">convention secretariat</span> also prepares prepares annual core budget \n",
       "approved conference contracting parties core budget 2022 presented annex resolution excop32 <span style=\"color: #000000; text-decoration-color: #000000; background-color: #ffff00\">finally secretariat </span>\n",
       "<span style=\"color: #000000; text-decoration-color: #000000; background-color: #ffff00\">develops cooperation</span> intergovernmental institutions national international ngos also organizes advisory missions \n",
       "request contracting parties contributes followup ram reports strategies mechanisms provide operational framework \n",
       "implementing conventions mission <span style=\"color: #000000; text-decoration-color: #000000; background-color: #ffff00\">conservation wise use wetlands</span> national actions international cooperation\n",
       "</pre>\n"
      ],
      "text/plain": [
       "\u001b[30;48;2;255;255;0msecretariat executes defined objectives\u001b[0m certain strategies including fourth strategic plan spans 20162024 address \n",
       "drivers wetland loss degradation effectively conserve manage site network \u001b[30;48;2;255;255;0mwisely use wetlands secretariat\u001b[0m workplan \n",
       "structured around \u001b[30;48;2;255;255;0mseven core functions secretariat\u001b[0m principal activities corresponding annual triennial indicators \n",
       "together indicative lead responsibilities principal funding source recent workplan applicable \u001b[30;48;2;255;255;0m20232025 secretariats\u001b[0m\n",
       "\u001b[30;48;2;255;255;0mcore funding\u001b[0m contributions contracting parties \u001b[30;48;2;255;255;0mconvention secretariat\u001b[0m also prepares prepares annual core budget \n",
       "approved conference contracting parties core budget 2022 presented annex resolution excop32 \u001b[30;48;2;255;255;0mfinally secretariat \u001b[0m\n",
       "\u001b[30;48;2;255;255;0mdevelops cooperation\u001b[0m intergovernmental institutions national international ngos also organizes advisory missions \n",
       "request contracting parties contributes followup ram reports strategies mechanisms provide operational framework \n",
       "implementing conventions mission \u001b[30;48;2;255;255;0mconservation wise use wetlands\u001b[0m national actions international cooperation\n"
      ]
     },
     "metadata": {},
     "output_type": "display_data"
    },
    {
     "data": {
      "text/html": [
       "<pre style=\"white-space:pre;overflow-x:auto;line-height:normal;font-family:Menlo,'DejaVu Sans Mono',consolas,'Courier New',monospace\"><span style=\"color: #000000; text-decoration-color: #000000; background-color: #ffff00\">convention secretariat executes objectives</span> <span style=\"color: #000000; text-decoration-color: #000000; background-color: #ffff00\">strategies firstly secreatariat develops</span> work budget biennium <span style=\"color: #000000; text-decoration-color: #000000; background-color: #ffff00\">approved </span>\n",
       "<span style=\"color: #000000; text-decoration-color: #000000; background-color: #ffff00\">conference parties programme</span> budget applicable 20242025 specific international programme support capacitybuilding \n",
       "technical assistance gef pledged 265 million fouryear cycle starting july <span style=\"color: #000000; text-decoration-color: #000000; background-color: #ffff00\">2022 finally various partnerships</span> \n",
       "platforms <span style=\"color: #000000; text-decoration-color: #000000; background-color: #ffff00\">provide framework cooperation</span> information exchange among parties scientific communities <span style=\"color: #000000; text-decoration-color: #000000; background-color: #ffff00\">civil society </span>\n",
       "<span style=\"color: #000000; text-decoration-color: #000000; background-color: #ffff00\">relevant stakeholders</span> mercury supply trade mercuryadded products mercury waste health environmental impacts mercury\n",
       "mercuryfree technologies alternatives\n",
       "</pre>\n"
      ],
      "text/plain": [
       "\u001b[30;48;2;255;255;0mconvention secretariat executes objectives\u001b[0m \u001b[30;48;2;255;255;0mstrategies firstly secreatariat develops\u001b[0m work budget biennium \u001b[30;48;2;255;255;0mapproved \u001b[0m\n",
       "\u001b[30;48;2;255;255;0mconference parties programme\u001b[0m budget applicable 20242025 specific international programme support capacitybuilding \n",
       "technical assistance gef pledged 265 million fouryear cycle starting july \u001b[30;48;2;255;255;0m2022 finally various partnerships\u001b[0m \n",
       "platforms \u001b[30;48;2;255;255;0mprovide framework cooperation\u001b[0m information exchange among parties scientific communities \u001b[30;48;2;255;255;0mcivil society \u001b[0m\n",
       "\u001b[30;48;2;255;255;0mrelevant stakeholders\u001b[0m mercury supply trade mercuryadded products mercury waste health environmental impacts mercury\n",
       "mercuryfree technologies alternatives\n"
      ]
     },
     "metadata": {},
     "output_type": "display_data"
    },
    {
     "data": {
      "text/html": [
       "<pre style=\"white-space:pre;overflow-x:auto;line-height:normal;font-family:Menlo,'DejaVu Sans Mono',consolas,'Courier New',monospace\">executes objectives certain strategies firstly vision strategy 20242030 presented director member states february \n",
       "2024 establishes <span style=\"color: #000000; text-decoration-color: #000000; background-color: #ffff00\">offices vision mission strategic</span> core functions <span style=\"color: #000000; text-decoration-color: #000000; background-color: #ffff00\">strategy aligned space2030 agenda</span> <span style=\"color: #000000; text-decoration-color: #000000; background-color: #ffff00\">agenda </span>\n",
       "<span style=\"color: #000000; text-decoration-color: #000000; background-color: #ffff00\">sustainable development reflects</span> expectations feedback member states <span style=\"color: #000000; text-decoration-color: #000000; background-color: #ffff00\">stakeholders secondly annual programme</span> budget \n",
       "prepared approved general assembly proposed budget 2024 supports proposed <span style=\"color: #000000; text-decoration-color: #000000; background-color: #ffff00\">2024 programme plan aims</span> economic \n",
       "opportunities space offers use space sector catalyst sustainable development tap potential space solve everyday \n",
       "problems enhance quality life <span style=\"color: #000000; text-decoration-color: #000000; background-color: #ffff00\">space innovation enable</span> access space ensure countries use space applications data \n",
       "<span style=\"color: #000000; text-decoration-color: #000000; background-color: #ffff00\">achieving sustainable development goals</span> partnerships cooperation peaceful uses <span style=\"color: #000000; text-decoration-color: #000000; background-color: #ffff00\">outer space global governance</span> <span style=\"color: #000000; text-decoration-color: #000000; background-color: #ffff00\">space </span>\n",
       "<span style=\"color: #000000; text-decoration-color: #000000; background-color: #ffff00\">activities budget mainly</span> regular budget united nations also relies voluntary contributions member states entities \n",
       "activities\n",
       "</pre>\n"
      ],
      "text/plain": [
       "executes objectives certain strategies firstly vision strategy 20242030 presented director member states february \n",
       "2024 establishes \u001b[30;48;2;255;255;0moffices vision mission strategic\u001b[0m core functions \u001b[30;48;2;255;255;0mstrategy aligned space2030 agenda\u001b[0m \u001b[30;48;2;255;255;0magenda \u001b[0m\n",
       "\u001b[30;48;2;255;255;0msustainable development reflects\u001b[0m expectations feedback member states \u001b[30;48;2;255;255;0mstakeholders secondly annual programme\u001b[0m budget \n",
       "prepared approved general assembly proposed budget 2024 supports proposed \u001b[30;48;2;255;255;0m2024 programme plan aims\u001b[0m economic \n",
       "opportunities space offers use space sector catalyst sustainable development tap potential space solve everyday \n",
       "problems enhance quality life \u001b[30;48;2;255;255;0mspace innovation enable\u001b[0m access space ensure countries use space applications data \n",
       "\u001b[30;48;2;255;255;0machieving sustainable development goals\u001b[0m partnerships cooperation peaceful uses \u001b[30;48;2;255;255;0mouter space global governance\u001b[0m \u001b[30;48;2;255;255;0mspace \u001b[0m\n",
       "\u001b[30;48;2;255;255;0mactivities budget mainly\u001b[0m regular budget united nations also relies voluntary contributions member states entities \n",
       "activities\n"
      ]
     },
     "metadata": {},
     "output_type": "display_data"
    },
    {
     "data": {
      "text/html": [
       "<pre style=\"white-space:pre;overflow-x:auto;line-height:normal;font-family:Menlo,'DejaVu Sans Mono',consolas,'Courier New',monospace\">executes <span style=\"color: #000000; text-decoration-color: #000000; background-color: #ffff00\">objectives mandates strategic plans</span> programs supported annual biennial integrated <span style=\"color: #000000; text-decoration-color: #000000; background-color: #ffff00\">budgets recent fiveyear </span>\n",
       "<span style=\"color: #000000; text-decoration-color: #000000; background-color: #ffff00\">strategic</span> applicable 20212025 guides vision mission values expected <span style=\"color: #000000; text-decoration-color: #000000; background-color: #ffff00\">accomplishments aligned 2030 agenda</span> development\n",
       "<span style=\"color: #000000; text-decoration-color: #000000; background-color: #ffff00\">united nations reform agenda</span> focuses five thematic areas world drug problem organized crime corruption economic \n",
       "crime terrorism criminal prevention criminal justice addition <span style=\"color: #000000; text-decoration-color: #000000; background-color: #ffff00\">proposed annual programme plan</span> applicable 2024 \n",
       "specifies activities outputs indicators resources strategic objective based results lessons learned 2022 budget \n",
       "perfomance evaluation well priorities needs member states international conventions protocols drug control crime \n",
       "prevention terrorism also provide legal frameworks jurisdiction mandate serves guardian secretariat supporting \n",
       "implementation member states addition work programmes budgets influenced resolutions decisions adopted governing \n",
       "bodies commission narcotic drugs commission crime prevention criminal justice economic social council also provide \n",
       "guidance direction cooperation <span style=\"color: #000000; text-decoration-color: #000000; background-color: #ffff00\">coordination organisations stakeholders funded</span> voluntary contributions various \n",
       "sources faces challenges securing predictable adequate funding address growing demands member states <span style=\"color: #000000; text-decoration-color: #000000; background-color: #ffff00\">support 2030 </span>\n",
       "<span style=\"color: #000000; text-decoration-color: #000000; background-color: #ffff00\">agenda aims</span> funding sources expanding partnership base exploring new donors engaging private sector foundations \n",
       "also seeks increase availability nonearmarked resources enhance programme resultsbased management research <span style=\"color: #000000; text-decoration-color: #000000; background-color: #ffff00\">policy </span>\n",
       "<span style=\"color: #000000; text-decoration-color: #000000; background-color: #ffff00\">guidance strategic</span> direction\n",
       "</pre>\n"
      ],
      "text/plain": [
       "executes \u001b[30;48;2;255;255;0mobjectives mandates strategic plans\u001b[0m programs supported annual biennial integrated \u001b[30;48;2;255;255;0mbudgets recent fiveyear \u001b[0m\n",
       "\u001b[30;48;2;255;255;0mstrategic\u001b[0m applicable 20212025 guides vision mission values expected \u001b[30;48;2;255;255;0maccomplishments aligned 2030 agenda\u001b[0m development\n",
       "\u001b[30;48;2;255;255;0munited nations reform agenda\u001b[0m focuses five thematic areas world drug problem organized crime corruption economic \n",
       "crime terrorism criminal prevention criminal justice addition \u001b[30;48;2;255;255;0mproposed annual programme plan\u001b[0m applicable 2024 \n",
       "specifies activities outputs indicators resources strategic objective based results lessons learned 2022 budget \n",
       "perfomance evaluation well priorities needs member states international conventions protocols drug control crime \n",
       "prevention terrorism also provide legal frameworks jurisdiction mandate serves guardian secretariat supporting \n",
       "implementation member states addition work programmes budgets influenced resolutions decisions adopted governing \n",
       "bodies commission narcotic drugs commission crime prevention criminal justice economic social council also provide \n",
       "guidance direction cooperation \u001b[30;48;2;255;255;0mcoordination organisations stakeholders funded\u001b[0m voluntary contributions various \n",
       "sources faces challenges securing predictable adequate funding address growing demands member states \u001b[30;48;2;255;255;0msupport 2030 \u001b[0m\n",
       "\u001b[30;48;2;255;255;0magenda aims\u001b[0m funding sources expanding partnership base exploring new donors engaging private sector foundations \n",
       "also seeks increase availability nonearmarked resources enhance programme resultsbased management research \u001b[30;48;2;255;255;0mpolicy \u001b[0m\n",
       "\u001b[30;48;2;255;255;0mguidance strategic\u001b[0m direction\n"
      ]
     },
     "metadata": {},
     "output_type": "display_data"
    },
    {
     "data": {
      "text/html": [
       "<pre style=\"white-space:pre;overflow-x:auto;line-height:normal;font-family:Menlo,'DejaVu Sans Mono',consolas,'Courier New',monospace\"><span style=\"color: #000000; text-decoration-color: #000000; background-color: #ffff00\">collaborative research development policy</span> advisory services capacity building technical assistance monitoring \n",
       "<span style=\"color: #000000; text-decoration-color: #000000; background-color: #ffff00\">reporting mechanisms stakeholder engagement</span> regulatory frameworks guidelines public awareness education <span style=\"color: #000000; text-decoration-color: #000000; background-color: #ffff00\">campaigns </span>\n",
       "<span style=\"color: #000000; text-decoration-color: #000000; background-color: #ffff00\">sustainable resource management</span> innovation technology practices financial mechanisms incentives\n",
       "</pre>\n"
      ],
      "text/plain": [
       "\u001b[30;48;2;255;255;0mcollaborative research development policy\u001b[0m advisory services capacity building technical assistance monitoring \n",
       "\u001b[30;48;2;255;255;0mreporting mechanisms stakeholder engagement\u001b[0m regulatory frameworks guidelines public awareness education \u001b[30;48;2;255;255;0mcampaigns \u001b[0m\n",
       "\u001b[30;48;2;255;255;0msustainable resource management\u001b[0m innovation technology practices financial mechanisms incentives\n"
      ]
     },
     "metadata": {},
     "output_type": "display_data"
    },
    {
     "name": "stderr",
     "output_type": "stream",
     "text": [
      "Your max_length is set to 150, but your input_length is only 143. Since this is a summarization task, where outputs shorter than the input are typically wanted, you might consider decreasing max_length manually, e.g. summarizer('...', max_length=71)\n",
      "Your max_length is set to 150, but your input_length is only 115. Since this is a summarization task, where outputs shorter than the input are typically wanted, you might consider decreasing max_length manually, e.g. summarizer('...', max_length=57)\n",
      "Your max_length is set to 150, but your input_length is only 89. Since this is a summarization task, where outputs shorter than the input are typically wanted, you might consider decreasing max_length manually, e.g. summarizer('...', max_length=44)\n",
      "Your max_length is set to 150, but your input_length is only 118. Since this is a summarization task, where outputs shorter than the input are typically wanted, you might consider decreasing max_length manually, e.g. summarizer('...', max_length=59)\n",
      "Your max_length is set to 150, but your input_length is only 114. Since this is a summarization task, where outputs shorter than the input are typically wanted, you might consider decreasing max_length manually, e.g. summarizer('...', max_length=57)\n",
      "Your max_length is set to 150, but your input_length is only 134. Since this is a summarization task, where outputs shorter than the input are typically wanted, you might consider decreasing max_length manually, e.g. summarizer('...', max_length=67)\n",
      "Your max_length is set to 150, but your input_length is only 96. Since this is a summarization task, where outputs shorter than the input are typically wanted, you might consider decreasing max_length manually, e.g. summarizer('...', max_length=48)\n",
      "Your max_length is set to 150, but your input_length is only 121. Since this is a summarization task, where outputs shorter than the input are typically wanted, you might consider decreasing max_length manually, e.g. summarizer('...', max_length=60)\n",
      "Your max_length is set to 150, but your input_length is only 44. Since this is a summarization task, where outputs shorter than the input are typically wanted, you might consider decreasing max_length manually, e.g. summarizer('...', max_length=22)\n",
      "Your max_length is set to 150, but your input_length is only 104. Since this is a summarization task, where outputs shorter than the input are typically wanted, you might consider decreasing max_length manually, e.g. summarizer('...', max_length=52)\n",
      "Your max_length is set to 150, but your input_length is only 70. Since this is a summarization task, where outputs shorter than the input are typically wanted, you might consider decreasing max_length manually, e.g. summarizer('...', max_length=35)\n",
      "Your max_length is set to 150, but your input_length is only 74. Since this is a summarization task, where outputs shorter than the input are typically wanted, you might consider decreasing max_length manually, e.g. summarizer('...', max_length=37)\n",
      "Your max_length is set to 150, but your input_length is only 99. Since this is a summarization task, where outputs shorter than the input are typically wanted, you might consider decreasing max_length manually, e.g. summarizer('...', max_length=49)\n",
      "Your max_length is set to 150, but your input_length is only 89. Since this is a summarization task, where outputs shorter than the input are typically wanted, you might consider decreasing max_length manually, e.g. summarizer('...', max_length=44)\n",
      "Your max_length is set to 150, but your input_length is only 138. Since this is a summarization task, where outputs shorter than the input are typically wanted, you might consider decreasing max_length manually, e.g. summarizer('...', max_length=69)\n",
      "Your max_length is set to 150, but your input_length is only 73. Since this is a summarization task, where outputs shorter than the input are typically wanted, you might consider decreasing max_length manually, e.g. summarizer('...', max_length=36)\n",
      "Your max_length is set to 150, but your input_length is only 144. Since this is a summarization task, where outputs shorter than the input are typically wanted, you might consider decreasing max_length manually, e.g. summarizer('...', max_length=72)\n",
      "Your max_length is set to 150, but your input_length is only 143. Since this is a summarization task, where outputs shorter than the input are typically wanted, you might consider decreasing max_length manually, e.g. summarizer('...', max_length=71)\n",
      "Your max_length is set to 150, but your input_length is only 114. Since this is a summarization task, where outputs shorter than the input are typically wanted, you might consider decreasing max_length manually, e.g. summarizer('...', max_length=57)\n",
      "Your max_length is set to 150, but your input_length is only 133. Since this is a summarization task, where outputs shorter than the input are typically wanted, you might consider decreasing max_length manually, e.g. summarizer('...', max_length=66)\n",
      "Your max_length is set to 150, but your input_length is only 35. Since this is a summarization task, where outputs shorter than the input are typically wanted, you might consider decreasing max_length manually, e.g. summarizer('...', max_length=17)\n",
      "Your max_length is set to 150, but your input_length is only 136. Since this is a summarization task, where outputs shorter than the input are typically wanted, you might consider decreasing max_length manually, e.g. summarizer('...', max_length=68)\n",
      "Your max_length is set to 150, but your input_length is only 77. Since this is a summarization task, where outputs shorter than the input are typically wanted, you might consider decreasing max_length manually, e.g. summarizer('...', max_length=38)\n",
      "Your max_length is set to 150, but your input_length is only 145. Since this is a summarization task, where outputs shorter than the input are typically wanted, you might consider decreasing max_length manually, e.g. summarizer('...', max_length=72)\n",
      "Your max_length is set to 150, but your input_length is only 89. Since this is a summarization task, where outputs shorter than the input are typically wanted, you might consider decreasing max_length manually, e.g. summarizer('...', max_length=44)\n",
      "Your max_length is set to 150, but your input_length is only 78. Since this is a summarization task, where outputs shorter than the input are typically wanted, you might consider decreasing max_length manually, e.g. summarizer('...', max_length=39)\n",
      "Your max_length is set to 150, but your input_length is only 107. Since this is a summarization task, where outputs shorter than the input are typically wanted, you might consider decreasing max_length manually, e.g. summarizer('...', max_length=53)\n",
      "Your max_length is set to 150, but your input_length is only 57. Since this is a summarization task, where outputs shorter than the input are typically wanted, you might consider decreasing max_length manually, e.g. summarizer('...', max_length=28)\n",
      "Your max_length is set to 150, but your input_length is only 99. Since this is a summarization task, where outputs shorter than the input are typically wanted, you might consider decreasing max_length manually, e.g. summarizer('...', max_length=49)\n",
      "Your max_length is set to 150, but your input_length is only 109. Since this is a summarization task, where outputs shorter than the input are typically wanted, you might consider decreasing max_length manually, e.g. summarizer('...', max_length=54)\n",
      "Your max_length is set to 150, but your input_length is only 86. Since this is a summarization task, where outputs shorter than the input are typically wanted, you might consider decreasing max_length manually, e.g. summarizer('...', max_length=43)\n",
      "Your max_length is set to 150, but your input_length is only 144. Since this is a summarization task, where outputs shorter than the input are typically wanted, you might consider decreasing max_length manually, e.g. summarizer('...', max_length=72)\n",
      "Your max_length is set to 150, but your input_length is only 86. Since this is a summarization task, where outputs shorter than the input are typically wanted, you might consider decreasing max_length manually, e.g. summarizer('...', max_length=43)\n",
      "Your max_length is set to 150, but your input_length is only 126. Since this is a summarization task, where outputs shorter than the input are typically wanted, you might consider decreasing max_length manually, e.g. summarizer('...', max_length=63)\n",
      "Your max_length is set to 150, but your input_length is only 37. Since this is a summarization task, where outputs shorter than the input are typically wanted, you might consider decreasing max_length manually, e.g. summarizer('...', max_length=18)\n"
     ]
    }
   ],
   "source": [
    "# Clean\n",
    "data['Strategies Cleaned'] = data['Strategies'].apply(clean_text)\n",
    "# Apply the function to eachorganizations document and create a new column 'keywords'\n",
    "data['Strategies Keywords'] = data['Strategies Cleaned'].apply(keywords_extractor)\n",
    "data['Strategies Keyphrases'] = data['Strategies Cleaned'].apply(keyphrases_extractor)\n",
    "# Create a new column 'summarized' with the summarized text\n",
    "data['Strategies Summarized'] = data['Strategies Cleaned'].apply(summarize_text)"
   ]
  },
  {
   "cell_type": "markdown",
   "id": "1a0767fd-b5c6-4a76-9dfe-a616dcf2f76e",
   "metadata": {},
   "source": [
    "#### 5. Inter-institutional Relationship\n",
    "`Indicates an IGO’s role in the institutional environment and its influence on other actors and institutions.`"
   ]
  },
  {
   "cell_type": "code",
   "execution_count": 91,
   "id": "e056db71-11b8-4e48-96d1-e6ef3824684b",
   "metadata": {},
   "outputs": [],
   "source": [
    "import re\n",
    "\n",
    "def remove_coordination_and_links(text):\n",
    "    # Regex to match and remove sentences starting with \"Horizontal coordination within\" or \"Vertical coordination within\"\n",
    "    coordination_pattern = r'\\bHorizontal coordination within[^\\n]*'\n",
    "    \n",
    "    # Regex to match and remove URLs (links)\n",
    "    url_pattern = r'https?://\\S+'\n",
    "    \n",
    "    # Remove sentences starting with the specified phrases\n",
    "    text_without_coordination = re.sub(coordination_pattern, '', text)\n",
    "    \n",
    "    # Remove URLs (links)\n",
    "    cleaned_text = re.sub(url_pattern, '', text_without_coordination)\n",
    "    \n",
    "    return cleaned_text"
   ]
  },
  {
   "cell_type": "code",
   "execution_count": 95,
   "id": "76fc66db-edb4-4158-9484-476ceaab89f9",
   "metadata": {},
   "outputs": [],
   "source": [
    "# Function to remove URLs from text\n",
    "def remove_urls(text):\n",
    "    url_pattern = r'https?://\\S+'\n",
    "    return re.sub(url_pattern, '', text)\n"
   ]
  },
  {
   "cell_type": "code",
   "execution_count": 31,
   "id": "ab934c75-0e22-4d14-a0e6-06b93fd5b1eb",
   "metadata": {},
   "outputs": [],
   "source": [
    "import spacy\n",
    "\n",
    "# Load the spaCy model for English\n",
    "nlp = spacy.load(\"en_core_web_sm\")\n",
    "\n",
    "def extract_orgs(text):\n",
    "    \n",
    "    # Process the text using spaCy NLP model\n",
    "    doc = nlp(text)\n",
    "\n",
    "    # Extract named entities of type ORG (organizations) and store them in a set\n",
    "    organizations_set = {ent.text for ent in doc.ents if ent.label_ == \"ORG\"}\n",
    "\n",
    "    return organizations_set"
   ]
  },
  {
   "cell_type": "code",
   "execution_count": 32,
   "id": "aa3103b2-6a9e-41a1-9046-961704f2d77c",
   "metadata": {},
   "outputs": [],
   "source": [
    "# Clean urls \n",
    "data['Inter-institutional Relationship Cleaned'] = data['Inter-institutional Relationship'].apply(remove_urls)\n",
    "data['Inter-institutional Relationship Summary'] = data['Inter-institutional Relationship Cleaned'].apply(extract_orgs)"
   ]
  },
  {
   "cell_type": "code",
   "execution_count": 42,
   "id": "49742260-74ca-4e0f-a377-f0aec649cc57",
   "metadata": {},
   "outputs": [],
   "source": [
    "new_df = data[['Institution', 'Inter-institutional Relationship', 'Inter-institutional Relationship Cleaned', 'Inter-institutional Relationship Summary']]"
   ]
  },
  {
   "cell_type": "markdown",
   "id": "d0fa6efc-dc66-44c2-a79e-8157b4dd40b3",
   "metadata": {},
   "source": [
    "#### 5. Vertical Coordination\n",
    "`Indicates an IGO’s interactions and collaborations across different levels of governance.`"
   ]
  },
  {
   "cell_type": "code",
   "execution_count": 69,
   "id": "a99cb13b-ae57-4c6a-88e1-00ac705d2ad4",
   "metadata": {},
   "outputs": [],
   "source": [
    "from transformers import pipeline\n",
    "\n",
    "# Use the summarization pipeline\n",
    "summarizer = pipeline(\"summarization\", model=\"facebook/bart-large-cnn\")\n",
    "\n",
    "def vert_summ(doc):\n",
    "    # Summarize the text\n",
    "    summary = summarizer(doc, max_length=150, min_length=30, do_sample=False)\n",
    "    return summary\n"
   ]
  },
  {
   "cell_type": "code",
   "execution_count": 70,
   "id": "a399efda-a83a-412e-b397-ceffaa3c98b7",
   "metadata": {},
   "outputs": [
    {
     "name": "stderr",
     "output_type": "stream",
     "text": [
      "Your max_length is set to 150, but your input_length is only 67. Since this is a summarization task, where outputs shorter than the input are typically wanted, you might consider decreasing max_length manually, e.g. summarizer('...', max_length=33)\n"
     ]
    }
   ],
   "source": [
    "data[\"Practical Vertical Coordination Cleaned\"] = data[\"Practical Vertical Coordination\"].apply(remove_urls)\n",
    "data[\"Practical Vertical Coordination Summary\"] = data[\"Practical Vertical Coordination Cleaned\"].apply(vert_summ)"
   ]
  },
  {
   "cell_type": "code",
   "execution_count": 71,
   "id": "7244a53a-5b96-4d45-8e5e-130011c964cf",
   "metadata": {},
   "outputs": [
    {
     "data": {
      "text/plain": [
       "[{'summary_text': \"The UNDP operates through the Executive Board of 36 members, which oversees and supports the activities of UNDP, UNFPA, UNOPS, and UN Women. There is also the UN Development Group (UNDG), which unites the 40 UN funds, programmes, specialized agencies, departments, and offices that play a role in development. The UNDP also has country offices and technical experts that support the UNDP's work.\"}]"
      ]
     },
     "execution_count": 71,
     "metadata": {},
     "output_type": "execute_result"
    }
   ],
   "source": [
    "data[\"Practical Vertical Coordination Summary\"][7]"
   ]
  },
  {
   "cell_type": "markdown",
   "id": "1eb09cc2-fba8-45c6-bad1-12136876fc8f",
   "metadata": {},
   "source": [
    "#### Horizontal Coordination\n",
    "`Indicates an IGO’s interaction with actors and institutions at the same governance level.`"
   ]
  },
  {
   "cell_type": "code",
   "execution_count": 101,
   "id": "b6b9d99c-8d1c-4de8-ba89-30d93b413c19",
   "metadata": {},
   "outputs": [
    {
     "name": "stderr",
     "output_type": "stream",
     "text": [
      "Your max_length is set to 150, but your input_length is only 126. Since this is a summarization task, where outputs shorter than the input are typically wanted, you might consider decreasing max_length manually, e.g. summarizer('...', max_length=63)\n",
      "Your max_length is set to 150, but your input_length is only 78. Since this is a summarization task, where outputs shorter than the input are typically wanted, you might consider decreasing max_length manually, e.g. summarizer('...', max_length=39)\n"
     ]
    }
   ],
   "source": [
    "data['Practical Horizontal Coordination Cleaned'] = data['Practical Horizontal Coordination'].apply(remove_urls)\n",
    "data[\"Practical Horizontal Coordination Summary\"] = data[\"Practical Horizontal Coordination Cleaned\"].apply(vert_summ)"
   ]
  },
  {
   "cell_type": "code",
   "execution_count": 104,
   "id": "9d668bb2-1ea5-44c2-bb52-2956b2342c86",
   "metadata": {},
   "outputs": [
    {
     "data": {
      "text/plain": [
       "[{'summary_text': 'Horizontal coordination within the OECD involves collaboration with different sectors and stakeholders within the economic and social domains. This coordination is guided by Article 2 of the Convention on the Organisation for Economic Co-operation and Development. The OECD works with the education sector to improve learning outcomes and skills development.'}]"
      ]
     },
     "execution_count": 104,
     "metadata": {},
     "output_type": "execute_result"
    }
   ],
   "source": [
    "data['Practical Horizontal Coordination Summary'][19]"
   ]
  },
  {
   "cell_type": "code",
   "execution_count": 105,
   "id": "4629948d-8b73-4cfa-a0a6-1063621037e6",
   "metadata": {},
   "outputs": [],
   "source": [
    "new_df = data[[\"Institution\", \"Practical Horizontal Coordination\", \"Practical Horizontal Coordination Cleaned\", \"Practical Horizontal Coordination Summary\"]]"
   ]
  },
  {
   "cell_type": "code",
   "execution_count": 106,
   "id": "83825a61-3329-4540-9933-e77a84a6f94a",
   "metadata": {},
   "outputs": [
    {
     "name": "stderr",
     "output_type": "stream",
     "text": [
      "/home/milo/anaconda3/lib/python3.12/site-packages/openpyxl/workbook/child.py:99: UserWarning: Title is more than 31 characters. Some applications may not be able to read the file\n",
      "  warnings.warn(\"Title is more than 31 characters. Some applications may not be able to read the file\")\n"
     ]
    }
   ],
   "source": [
    "# Save Spatial df sheet\n",
    "with pd.ExcelWriter(file_path, mode='a') as writer:\n",
    "    new_df.to_excel(writer, sheet_name='Horizontal Coordination', index=False)"
   ]
  },
  {
   "cell_type": "code",
   "execution_count": null,
   "id": "8990054e-0fbe-4ae5-b1c3-11e1ba02c5a3",
   "metadata": {},
   "outputs": [],
   "source": []
  }
 ],
 "metadata": {
  "kernelspec": {
   "display_name": ".env",
   "language": "python",
   "name": ".env"
  },
  "language_info": {
   "codemirror_mode": {
    "name": "ipython",
    "version": 3
   },
   "file_extension": ".py",
   "mimetype": "text/x-python",
   "name": "python",
   "nbconvert_exporter": "python",
   "pygments_lexer": "ipython3",
   "version": "3.12.2"
  }
 },
 "nbformat": 4,
 "nbformat_minor": 5
}
