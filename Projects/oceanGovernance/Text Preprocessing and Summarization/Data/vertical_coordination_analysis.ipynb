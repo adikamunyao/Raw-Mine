{
 "cells": [
  {
   "cell_type": "code",
   "execution_count": null,
   "id": "81bb05fe-69af-4b43-a471-ce938c1a1d17",
   "metadata": {},
   "outputs": [],
   "source": [
    "import pandas as pd\n",
    "import re\n",
    "from collections import Counter"
   ]
  },
  {
   "cell_type": "code",
   "execution_count": null,
   "id": "22422aae-fe63-4e0c-ab6e-444d2c2ea4f3",
   "metadata": {},
   "outputs": [],
   "source": [
    "# read excell shet to df\n",
    "import pandas as pd\n",
    "\n",
    "path = \"./Ocean Governance and ocean economy governance matrix_IGOs.xlsx\"\n",
    "data = pd.read_excel(path, sheet_name=\"Sheet1\")\n",
    "\n",
    "# backup\n",
    "df = data.copy(deep=True)"
   ]
  },
  {
   "cell_type": "code",
   "execution_count": null,
   "id": "c824f601-45d9-49a9-b38b-19583867ff1a",
   "metadata": {},
   "outputs": [],
   "source": [
    "df.head()"
   ]
  },
  {
   "cell_type": "code",
   "execution_count": null,
   "id": "9e1b387a-3303-4583-a2ca-fc5acca96bd7",
   "metadata": {},
   "outputs": [],
   "source": [
    "df = df[[\"Institutions\", \"Vertical\"]]"
   ]
  },
  {
   "cell_type": "code",
   "execution_count": null,
   "id": "4f7b30de-5f9b-40bd-8fc6-2e903813f609",
   "metadata": {},
   "outputs": [],
   "source": [
    "df.head()"
   ]
  },
  {
   "cell_type": "code",
   "execution_count": null,
   "id": "730a525a-e171-4172-869d-42bb4b88d35d",
   "metadata": {},
   "outputs": [],
   "source": [
    "# Step 1: Cleaning the Data\n",
    "def clean_text(text):\n",
    "    # Remove URLs\n",
    "    text = re.sub(r'http[s]?://(?:[a-zA-Z]|[0-9]|[$-_@.&+]|[!*\\\\(\\\\),]|(?:%[0-9a-fA-F][0-9a-fA-F]))+', '', text)\n",
    "    # Correct typos and standardize terms\n",
    "    text = text.replace(\"United Nations\", \"UN\").replace(\"member states\", \"Member States\").replace(\"OCean Decasde\", \"Ocean Decade\")\n",
    "    # Simplify verbose phrases\n",
    "    text = re.sub(r'which are responsible for implementing', 'tasked with implementing', text)\n",
    "    text = re.sub(r'including the UN', 'including UN', text)\n",
    "    return text.strip()\n",
    "\n",
    "df[\"Cleaned Practical Vertical Coordination\"] = df[\"Vertical\"].apply(clean_text)\n",
    "\n",
    "# Step 2: Summarizing the Data\n",
    "def summarize_text(text):\n",
    "    summary = \"\"\n",
    "    # Extract collaboration entities\n",
    "    if \"collaboration\" in text.lower():\n",
    "        summary += \"Coordinates with \"\n",
    "        if \"UN\" in text: summary += \"UN agencies, \"\n",
    "        if \"Member States\" in text: summary += \"Member States, \"\n",
    "        if \"national governments\" in text or \"governments\" in text: summary += \"governments, \"\n",
    "        summary = summary.rstrip(\", \")\n",
    "    # Extract governance structures\n",
    "    if any(x in text for x in [\"Assembly\", \"Council\", \"Secretariat\", \"Conference\", \"COP\"]):\n",
    "        summary += \" through its \"\n",
    "        if \"Assembly\" in text: summary += \"Assembly, \"\n",
    "        if \"Council\" in text: summary += \"Council, \"\n",
    "        if \"Secretariat\" in text: summary += \"Secretariat, \"\n",
    "        if \"Conference\" in text: summary += \"Conference, \"\n",
    "        if \"COP\" in text: summary += \"COP, \"\n",
    "        summary = summary.rstrip(\", \")\n",
    "    # Add regional or technical elements\n",
    "    if \"regional\" in text.lower(): summary += \" using regional structures\"\n",
    "    if any(x in text.lower() for x in [\"technical\", \"assistance\", \"training\"]): summary += \" with technical support\"\n",
    "    return summary.strip()\n",
    "\n",
    "df[\"Summarized Vertical Coordination\"] = df[\"Cleaned Practical Vertical Coordination\"].apply(summarize_text)\n",
    "\n",
    "# Step 3: Assigning Themes\n",
    "def assign_themes(summary):\n",
    "    themes = []\n",
    "    # Theme assignment rules\n",
    "    if any(x in summary.lower() for x in [\"assembly\", \"council\", \"secretariat\", \"conference\", \"cop\"]):\n",
    "        themes.append(\"Multi-Level Governance Structures\")\n",
    "    if any(x in summary.lower() for x in [\"un agencies\", \"member states\", \"governments\"]):\n",
    "        themes.append(\"Collaboration with External Entities\")\n",
    "    if \"regional\" in summary.lower():\n",
    "        themes.append(\"Regional and Local Implementation\")\n",
    "    if \"technical\" in summary.lower():\n",
    "        themes.append(\"Technical and Capacity-Building Support\")\n",
    "    if any(x in summary.lower() for x in [\"director\", \"secretary\", \"leadership\"]):\n",
    "        themes.append(\"Strategic Leadership and Oversight\")\n",
    "    return \", \".join(themes)\n",
    "\n",
    "# Frequency analysis for theme validation\n",
    "def validate_themes(df):\n",
    "    all_themes = df[\"Summarized Vertical Coordination\"].apply(assign_themes).str.split(\", \").explode()\n",
    "    theme_counts = Counter(all_themes)\n",
    "    print(\"Theme Frequency Counts:\", theme_counts)\n",
    "\n",
    "df[\"Themes\"] = df[\"Summarized Vertical Coordination\"].apply(assign_themes)\n",
    "validate_themes(df)\n"
   ]
  },
  {
   "cell_type": "code",
   "execution_count": null,
   "id": "97e5f088-83a8-4bf0-b021-9961d3e2b30b",
   "metadata": {},
   "outputs": [],
   "source": [
    "df.head()"
   ]
  },
  {
   "cell_type": "code",
   "execution_count": null,
   "id": "6e069923-3b88-4d78-83b3-491735d163c1",
   "metadata": {},
   "outputs": [],
   "source": [
    "# # Step 4: Output Table\n",
    "# print(\"\\nFinal Table:\")\n",
    "# print(df[[\"Institutions\", \"Cleaned Practical Vertical Coordination\", \"Summarized Vertical Coordination\", \"Themes\"]].to_string(index=False))\n",
    "\n",
    "# Save to CSV\n",
    "df.to_csv(\"vertical_coordination_analysis.csv\", index=False)\n",
    "print(\"\\nData saved to 'vertical_coordination_analysis.csv'\")"
   ]
  }
 ],
 "metadata": {
  "kernelspec": {
   "display_name": "Python 3 (ipykernel)",
   "language": "python",
   "name": "python3"
  },
  "language_info": {
   "codemirror_mode": {
    "name": "ipython",
    "version": 3
   },
   "file_extension": ".py",
   "mimetype": "text/x-python",
   "name": "python",
   "nbconvert_exporter": "python",
   "pygments_lexer": "ipython3",
   "version": "3.12.2"
  }
 },
 "nbformat": 4,
 "nbformat_minor": 5
}
