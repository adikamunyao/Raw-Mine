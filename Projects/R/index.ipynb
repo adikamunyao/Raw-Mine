{
 "cells": [
  {
   "cell_type": "code",
   "execution_count": 8,
   "id": "afdf05fa-b243-42b1-9005-a79f0615042e",
   "metadata": {},
   "outputs": [
    {
     "ename": "ERROR",
     "evalue": "Error in parse(text = x, srcfile = src): <text>:1:10: unexpected symbol\n1: function WordCloud\n             ^\n",
     "output_type": "error",
     "traceback": [
      "Error in parse(text = x, srcfile = src): <text>:1:10: unexpected symbol\n1: function WordCloud\n             ^\nTraceback:\n"
     ]
    }
   ],
   "source": [
    "function WordCloud(text, {\n",
    "  size = group => group.length, // Given a grouping of words, returns the size factor for that word\n",
    "  word = d => d, // Given an item of the data array, returns the word\n",
    "  marginTop = 0, // top margin, in pixels\n",
    "  marginRight = 0, // right margin, in pixels\n",
    "  marginBottom = 0, // bottom margin, in pixels\n",
    "  marginLeft = 0, // left margin, in pixels\n",
    "  width = 640, // outer width, in pixels\n",
    "  height = 400, // outer height, in pixels\n",
    "  maxWords = 250, // maximum number of words to extract from the text\n",
    "  fontFamily = \"sans-serif\", // font family\n",
    "  fontScale = 15, // base font size\n",
    "  fill = null, // text color, can be a constant or a function of the word\n",
    "  padding = 0, // amount of padding between the words (in pixels)\n",
    "  rotate = 0, // a constant or function to rotate the words\n",
    "  invalidation // when this promise resolves, stop the simulation\n",
    "} = {}) {\n",
    "  const words = typeof text === \"string\" ? text.split(/\\W+/g) : Array.from(text);\n",
    "  \n",
    "  const data = d3.rollups(words, size, w => w)\n",
    "    .sort(([, a], [, b]) => d3.descending(a, b))\n",
    "    .slice(0, maxWords)\n",
    "    .map(([key, size]) => ({text: word(key), size}));\n",
    "  \n",
    "  const svg = d3.create(\"svg\")\n",
    "      .attr(\"viewBox\", [0, 0, width, height])\n",
    "      .attr(\"width\", width)\n",
    "      .attr(\"font-family\", fontFamily)\n",
    "      .attr(\"text-anchor\", \"middle\")\n",
    "      .attr(\"style\", \"max-width: 100%; height: auto; height: intrinsic;\");\n",
    "\n",
    "  const g = svg.append(\"g\").attr(\"transform\", `translate(${marginLeft},${marginTop})`);\n",
    "\n",
    "  const cloud = d3Cloud()\n",
    "      .size([width - marginLeft - marginRight, height - marginTop - marginBottom])\n",
    "      .words(data)\n",
    "      .padding(padding)\n",
    "      .rotate(rotate)\n",
    "      .font(fontFamily)\n",
    "      .fontSize(d => Math.sqrt(d.size) * fontScale)\n",
    "      .on(\"word\", ({size, x, y, rotate, text}) => {\n",
    "        g.append(\"text\")\n",
    "            .datum(text)\n",
    "            .attr(\"font-size\", size)\n",
    "            .attr(\"fill\", fill)\n",
    "            .attr(\"transform\", `translate(${x},${y}) rotate(${rotate})`)\n",
    "            .text(text);\n",
    "      });\n",
    "\n",
    "  cloud.start();\n",
    "  invalidation && invalidation.then(() => cloud.stop());\n",
    "  return svg.node();\n",
    "}"
   ]
  },
  {
   "cell_type": "code",
   "execution_count": 10,
   "id": "1c1be845-b7f8-4ad1-be64-2411d8ad3df0",
   "metadata": {},
   "outputs": [
    {
     "ename": "ERROR",
     "evalue": "Error in parse(text = x, srcfile = src): <text>:3:3: unexpected numeric constant\n2:   0: \"happy\"\n3:   1\n     ^\n",
     "output_type": "error",
     "traceback": [
      "Error in parse(text = x, srcfile = src): <text>:3:3: unexpected numeric constant\n2:   0: \"happy\"\n3:   1\n     ^\nTraceback:\n"
     ]
    }
   ],
   "source": [
    "words = Array(811) [\n",
    "  0: \"happy\"\n",
    "  1: \"join\"\n",
    "  2: \"today\"\n",
    "  3: \"go\"\n",
    "  4: \"history\"\n",
    "  5: \"greatest\"\n",
    "  6: \"demonstration\"\n",
    "  7: \"freedom\"\n",
    "  8: \"history\"\n",
    "  9: \"nation\"\n",
    "  10: \"five\"\n",
    "  11: \"score\"\n",
    "  12: \"years\"\n",
    "  13: \"ago\"\n",
    "  14: \"great\"\n",
    "  15: \"american\"\n",
    "  16: \"symbolic\"\n",
    "  17: \"shadow\"\n",
    "  18: \"stand\"\n",
    "  19: \"today\"\n",
    "]"
   ]
  },
  {
   "cell_type": "code",
   "execution_count": null,
   "id": "99b6faa8-7deb-4dc3-b1a4-3bf2af727021",
   "metadata": {},
   "outputs": [],
   "source": []
  },
  {
   "cell_type": "code",
   "execution_count": null,
   "id": "5d11350f-a878-4786-b4b6-9764d6e6a35a",
   "metadata": {},
   "outputs": [],
   "source": []
  },
  {
   "cell_type": "code",
   "execution_count": null,
   "id": "15374579-ea32-4a16-8b1a-e7440abb6815",
   "metadata": {},
   "outputs": [],
   "source": []
  },
  {
   "cell_type": "code",
   "execution_count": null,
   "id": "4ac43c8a-1da5-4902-ad1e-c46c270a10d4",
   "metadata": {},
   "outputs": [],
   "source": []
  },
  {
   "cell_type": "code",
   "execution_count": null,
   "id": "1f8702d9-c7f9-40dc-bd6d-d01e9e0d80b6",
   "metadata": {},
   "outputs": [],
   "source": []
  }
 ],
 "metadata": {
  "kernelspec": {
   "display_name": "R",
   "language": "R",
   "name": "ir"
  },
  "language_info": {
   "codemirror_mode": "r",
   "file_extension": ".r",
   "mimetype": "text/x-r-source",
   "name": "R",
   "pygments_lexer": "r",
   "version": "4.3.1"
  }
 },
 "nbformat": 4,
 "nbformat_minor": 5
}
